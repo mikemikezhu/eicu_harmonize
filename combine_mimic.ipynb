{
 "cells": [
  {
   "cell_type": "code",
   "execution_count": 1,
   "id": "initial_id",
   "metadata": {
    "collapsed": true,
    "ExecuteTime": {
     "end_time": "2024-04-26T01:23:13.901947Z",
     "start_time": "2024-04-26T01:23:13.306659Z"
    }
   },
   "outputs": [
    {
     "data": {
      "text/plain": "   patientunitstayid  hospitalid  death  acetamin  biotene  compazine  \\\n0                 23        -1.0    0.0       1.0      0.0        0.0   \n1                 34        -1.0    0.0       1.0      0.0        0.0   \n2                 36        -1.0    0.0       1.0      0.0        0.0   \n3                 85        -1.0    0.0       1.0      0.0        0.0   \n4                107        -1.0    0.0       1.0      0.0        0.0   \n\n   ferrous  imdur  lidocaine  milk of magnesia  ...     paco2        ph  \\\n0      0.0    0.0        0.0               0.0  ...  0.000000  0.000000   \n1      0.0    0.0        0.0               0.0  ...  0.000000  0.000000   \n2      1.0    0.0        0.0               0.0  ...  0.849421 -0.639203   \n3      0.0    0.0        0.0               0.0  ...  0.000000  0.000000   \n4      0.0    0.0        1.0               0.0  ...  0.000000  0.000000   \n\n   albu_lab     bands       bun       hct       inr  lactate  platelets  wbc  \n0  1.217771  0.000000 -0.613170  1.290127 -0.968423      0.0  -0.231737  0.0  \n1  0.000000  0.000000  0.279098  0.410239  2.114901      0.0   0.821912  0.0  \n2  0.000000  0.000000 -0.459952  1.678035 -0.610936      0.0  -0.197503  0.0  \n3  0.424926  1.112835 -0.667247 -0.753484 -0.432193      0.0  -1.627727  0.0  \n4 -0.235778  0.000000  2.361057 -0.371884 -0.968423      0.0  -0.732569  0.0  \n\n[5 rows x 271 columns]",
      "text/html": "<div>\n<style scoped>\n    .dataframe tbody tr th:only-of-type {\n        vertical-align: middle;\n    }\n\n    .dataframe tbody tr th {\n        vertical-align: top;\n    }\n\n    .dataframe thead th {\n        text-align: right;\n    }\n</style>\n<table border=\"1\" class=\"dataframe\">\n  <thead>\n    <tr style=\"text-align: right;\">\n      <th></th>\n      <th>patientunitstayid</th>\n      <th>hospitalid</th>\n      <th>death</th>\n      <th>acetamin</th>\n      <th>biotene</th>\n      <th>compazine</th>\n      <th>ferrous</th>\n      <th>imdur</th>\n      <th>lidocaine</th>\n      <th>milk of magnesia</th>\n      <th>...</th>\n      <th>paco2</th>\n      <th>ph</th>\n      <th>albu_lab</th>\n      <th>bands</th>\n      <th>bun</th>\n      <th>hct</th>\n      <th>inr</th>\n      <th>lactate</th>\n      <th>platelets</th>\n      <th>wbc</th>\n    </tr>\n  </thead>\n  <tbody>\n    <tr>\n      <th>0</th>\n      <td>23</td>\n      <td>-1.0</td>\n      <td>0.0</td>\n      <td>1.0</td>\n      <td>0.0</td>\n      <td>0.0</td>\n      <td>0.0</td>\n      <td>0.0</td>\n      <td>0.0</td>\n      <td>0.0</td>\n      <td>...</td>\n      <td>0.000000</td>\n      <td>0.000000</td>\n      <td>1.217771</td>\n      <td>0.000000</td>\n      <td>-0.613170</td>\n      <td>1.290127</td>\n      <td>-0.968423</td>\n      <td>0.0</td>\n      <td>-0.231737</td>\n      <td>0.0</td>\n    </tr>\n    <tr>\n      <th>1</th>\n      <td>34</td>\n      <td>-1.0</td>\n      <td>0.0</td>\n      <td>1.0</td>\n      <td>0.0</td>\n      <td>0.0</td>\n      <td>0.0</td>\n      <td>0.0</td>\n      <td>0.0</td>\n      <td>0.0</td>\n      <td>...</td>\n      <td>0.000000</td>\n      <td>0.000000</td>\n      <td>0.000000</td>\n      <td>0.000000</td>\n      <td>0.279098</td>\n      <td>0.410239</td>\n      <td>2.114901</td>\n      <td>0.0</td>\n      <td>0.821912</td>\n      <td>0.0</td>\n    </tr>\n    <tr>\n      <th>2</th>\n      <td>36</td>\n      <td>-1.0</td>\n      <td>0.0</td>\n      <td>1.0</td>\n      <td>0.0</td>\n      <td>0.0</td>\n      <td>1.0</td>\n      <td>0.0</td>\n      <td>0.0</td>\n      <td>0.0</td>\n      <td>...</td>\n      <td>0.849421</td>\n      <td>-0.639203</td>\n      <td>0.000000</td>\n      <td>0.000000</td>\n      <td>-0.459952</td>\n      <td>1.678035</td>\n      <td>-0.610936</td>\n      <td>0.0</td>\n      <td>-0.197503</td>\n      <td>0.0</td>\n    </tr>\n    <tr>\n      <th>3</th>\n      <td>85</td>\n      <td>-1.0</td>\n      <td>0.0</td>\n      <td>1.0</td>\n      <td>0.0</td>\n      <td>0.0</td>\n      <td>0.0</td>\n      <td>0.0</td>\n      <td>0.0</td>\n      <td>0.0</td>\n      <td>...</td>\n      <td>0.000000</td>\n      <td>0.000000</td>\n      <td>0.424926</td>\n      <td>1.112835</td>\n      <td>-0.667247</td>\n      <td>-0.753484</td>\n      <td>-0.432193</td>\n      <td>0.0</td>\n      <td>-1.627727</td>\n      <td>0.0</td>\n    </tr>\n    <tr>\n      <th>4</th>\n      <td>107</td>\n      <td>-1.0</td>\n      <td>0.0</td>\n      <td>1.0</td>\n      <td>0.0</td>\n      <td>0.0</td>\n      <td>0.0</td>\n      <td>0.0</td>\n      <td>1.0</td>\n      <td>0.0</td>\n      <td>...</td>\n      <td>0.000000</td>\n      <td>0.000000</td>\n      <td>-0.235778</td>\n      <td>0.000000</td>\n      <td>2.361057</td>\n      <td>-0.371884</td>\n      <td>-0.968423</td>\n      <td>0.0</td>\n      <td>-0.732569</td>\n      <td>0.0</td>\n    </tr>\n  </tbody>\n</table>\n<p>5 rows × 271 columns</p>\n</div>"
     },
     "execution_count": 1,
     "metadata": {},
     "output_type": "execute_result"
    }
   ],
   "source": [
    "import pandas as pd\n",
    "\n",
    "mimic_drug_lab_1 = pd.read_csv('mimic_drug_lab_1.csv')\n",
    "mimic_drug_lab_2 = pd.read_csv('mimic_drug_lab_2.csv')\n",
    "mimic_drug_lab_3 = pd.read_csv('mimic_drug_lab_3.csv')\n",
    "mimic_drug_lab_4 = pd.read_csv('mimic_drug_lab_4.csv')\n",
    "mimic_drug_lab_5 = pd.read_csv('mimic_drug_lab_5.csv')\n",
    "mimic_drug_lab_6 = pd.read_csv('mimic_drug_lab_6.csv')\n",
    "mimic_drug_lab_7 = pd.read_csv('mimic_drug_lab_7.csv')\n",
    "\n",
    "mimic_drug_lab = pd.concat([mimic_drug_lab_1, mimic_drug_lab_2, mimic_drug_lab_3, mimic_drug_lab_4, mimic_drug_lab_5, mimic_drug_lab_6, mimic_drug_lab_7])\n",
    "mimic_drug_lab.head()"
   ]
  },
  {
   "cell_type": "code",
   "outputs": [],
   "source": [
    "mimic_drug_lab.to_csv('mimic_drug_lab.csv', index=False)"
   ],
   "metadata": {
    "collapsed": false,
    "ExecuteTime": {
     "end_time": "2024-04-26T01:23:14.910920Z",
     "start_time": "2024-04-26T01:23:13.900644Z"
    }
   },
   "id": "e6e73887345757d5",
   "execution_count": 2
  },
  {
   "cell_type": "code",
   "outputs": [
    {
     "data": {
      "text/plain": "   Unnamed: 0  patientunitstayid  hospitalid  time_window  death  ventilator  \\\n0         0.0                 23        -1.0           -1    0.0         0.0   \n1         0.0                 23        -1.0            0    0.0         0.0   \n2         0.0                 23        -1.0            1    0.0         0.0   \n3         0.0                 23        -1.0            2    0.0         0.0   \n4         0.0                 23        -1.0            3    0.0         0.0   \n\n   sepsis  acetamin  biotene  compazine  ...  paco2   ph  albu_lab  bands  \\\n0     0.0       1.0      0.0        0.0  ...    0.0  0.0  1.217771    0.0   \n1     0.0       1.0      0.0        0.0  ...    0.0  0.0  0.000000    0.0   \n2     0.0       1.0      0.0        0.0  ...    0.0  0.0  0.000000    0.0   \n3     0.0       1.0      0.0        0.0  ...    0.0  0.0  0.000000    0.0   \n4     0.0       1.0      0.0        0.0  ...    0.0  0.0  0.000000    0.0   \n\n        bun       hct       inr  lactate  platelets  wbc  \n0 -0.640209  1.469889 -0.968423      0.0  -0.136642  0.0  \n1  0.000000  0.000000  0.000000      0.0   0.000000  0.0  \n2 -0.586132  1.110365 -0.968423      0.0  -0.326832  0.0  \n3  0.000000  0.000000  0.000000      0.0   0.000000  0.0  \n4 -0.532055  0.864375 -1.147167      0.0  -0.380085  0.0  \n\n[5 rows x 275 columns]",
      "text/html": "<div>\n<style scoped>\n    .dataframe tbody tr th:only-of-type {\n        vertical-align: middle;\n    }\n\n    .dataframe tbody tr th {\n        vertical-align: top;\n    }\n\n    .dataframe thead th {\n        text-align: right;\n    }\n</style>\n<table border=\"1\" class=\"dataframe\">\n  <thead>\n    <tr style=\"text-align: right;\">\n      <th></th>\n      <th>Unnamed: 0</th>\n      <th>patientunitstayid</th>\n      <th>hospitalid</th>\n      <th>time_window</th>\n      <th>death</th>\n      <th>ventilator</th>\n      <th>sepsis</th>\n      <th>acetamin</th>\n      <th>biotene</th>\n      <th>compazine</th>\n      <th>...</th>\n      <th>paco2</th>\n      <th>ph</th>\n      <th>albu_lab</th>\n      <th>bands</th>\n      <th>bun</th>\n      <th>hct</th>\n      <th>inr</th>\n      <th>lactate</th>\n      <th>platelets</th>\n      <th>wbc</th>\n    </tr>\n  </thead>\n  <tbody>\n    <tr>\n      <th>0</th>\n      <td>0.0</td>\n      <td>23</td>\n      <td>-1.0</td>\n      <td>-1</td>\n      <td>0.0</td>\n      <td>0.0</td>\n      <td>0.0</td>\n      <td>1.0</td>\n      <td>0.0</td>\n      <td>0.0</td>\n      <td>...</td>\n      <td>0.0</td>\n      <td>0.0</td>\n      <td>1.217771</td>\n      <td>0.0</td>\n      <td>-0.640209</td>\n      <td>1.469889</td>\n      <td>-0.968423</td>\n      <td>0.0</td>\n      <td>-0.136642</td>\n      <td>0.0</td>\n    </tr>\n    <tr>\n      <th>1</th>\n      <td>0.0</td>\n      <td>23</td>\n      <td>-1.0</td>\n      <td>0</td>\n      <td>0.0</td>\n      <td>0.0</td>\n      <td>0.0</td>\n      <td>1.0</td>\n      <td>0.0</td>\n      <td>0.0</td>\n      <td>...</td>\n      <td>0.0</td>\n      <td>0.0</td>\n      <td>0.000000</td>\n      <td>0.0</td>\n      <td>0.000000</td>\n      <td>0.000000</td>\n      <td>0.000000</td>\n      <td>0.0</td>\n      <td>0.000000</td>\n      <td>0.0</td>\n    </tr>\n    <tr>\n      <th>2</th>\n      <td>0.0</td>\n      <td>23</td>\n      <td>-1.0</td>\n      <td>1</td>\n      <td>0.0</td>\n      <td>0.0</td>\n      <td>0.0</td>\n      <td>1.0</td>\n      <td>0.0</td>\n      <td>0.0</td>\n      <td>...</td>\n      <td>0.0</td>\n      <td>0.0</td>\n      <td>0.000000</td>\n      <td>0.0</td>\n      <td>-0.586132</td>\n      <td>1.110365</td>\n      <td>-0.968423</td>\n      <td>0.0</td>\n      <td>-0.326832</td>\n      <td>0.0</td>\n    </tr>\n    <tr>\n      <th>3</th>\n      <td>0.0</td>\n      <td>23</td>\n      <td>-1.0</td>\n      <td>2</td>\n      <td>0.0</td>\n      <td>0.0</td>\n      <td>0.0</td>\n      <td>1.0</td>\n      <td>0.0</td>\n      <td>0.0</td>\n      <td>...</td>\n      <td>0.0</td>\n      <td>0.0</td>\n      <td>0.000000</td>\n      <td>0.0</td>\n      <td>0.000000</td>\n      <td>0.000000</td>\n      <td>0.000000</td>\n      <td>0.0</td>\n      <td>0.000000</td>\n      <td>0.0</td>\n    </tr>\n    <tr>\n      <th>4</th>\n      <td>0.0</td>\n      <td>23</td>\n      <td>-1.0</td>\n      <td>3</td>\n      <td>0.0</td>\n      <td>0.0</td>\n      <td>0.0</td>\n      <td>1.0</td>\n      <td>0.0</td>\n      <td>0.0</td>\n      <td>...</td>\n      <td>0.0</td>\n      <td>0.0</td>\n      <td>0.000000</td>\n      <td>0.0</td>\n      <td>-0.532055</td>\n      <td>0.864375</td>\n      <td>-1.147167</td>\n      <td>0.0</td>\n      <td>-0.380085</td>\n      <td>0.0</td>\n    </tr>\n  </tbody>\n</table>\n<p>5 rows × 275 columns</p>\n</div>"
     },
     "execution_count": 3,
     "metadata": {},
     "output_type": "execute_result"
    }
   ],
   "source": [
    "mimic_lab_time_1 = pd.read_csv('mimic_lab_time_1.csv')\n",
    "mimic_lab_time_2 = pd.read_csv('mimic_lab_time_2.csv')\n",
    "mimic_lab_time_3 = pd.read_csv('mimic_lab_time_3.csv')\n",
    "mimic_lab_time_4 = pd.read_csv('mimic_lab_time_4.csv')\n",
    "mimic_lab_time_5 = pd.read_csv('mimic_lab_time_5.csv')\n",
    "mimic_lab_time_6 = pd.read_csv('mimic_lab_time_6.csv')\n",
    "mimic_lab_time_7 = pd.read_csv('mimic_lab_time_7.csv')\n",
    "\n",
    "mimic_lab_time = pd.concat([mimic_lab_time_1, mimic_lab_time_2, mimic_lab_time_3, mimic_lab_time_4, mimic_lab_time_5, mimic_lab_time_6, mimic_lab_time_7])\n",
    "mimic_lab_time.head()"
   ],
   "metadata": {
    "collapsed": false,
    "ExecuteTime": {
     "end_time": "2024-04-26T01:23:15.999483Z",
     "start_time": "2024-04-26T01:23:14.911700Z"
    }
   },
   "id": "4fd3a319f6fb70d6",
   "execution_count": 3
  },
  {
   "cell_type": "code",
   "outputs": [],
   "source": [
    "mimic_lab_time_death = mimic_lab_time[mimic_lab_time['death'] == 1]\n",
    "death_time_window = pd.Series(mimic_lab_time_death['time_window'].values, index=mimic_lab_time_death['patientunitstayid']).to_dict() # key: patientunitstayid, value: time window\n",
    "\n",
    "mimic_lab_time_cp = mimic_lab_time.copy()\n",
    "for patientunitstayid, time_window in death_time_window.items():\n",
    "    mimic_lab_time_cp.loc[(mimic_lab_time_cp['patientunitstayid'] == patientunitstayid) & (mimic_lab_time_cp['time_window'] > time_window), mimic_lab_time_cp.columns[7:-31]] = 0   \n",
    "    \n",
    "mimic_lab_time_cp.to_csv('mimic_lab_time.csv', index=False)"
   ],
   "metadata": {
    "collapsed": false,
    "ExecuteTime": {
     "end_time": "2024-04-26T01:23:26.718923Z",
     "start_time": "2024-04-26T01:23:16.016100Z"
    }
   },
   "id": "836bf20bbcdec286",
   "execution_count": 4
  },
  {
   "cell_type": "code",
   "outputs": [
    {
     "data": {
      "text/plain": "     Unnamed: 0  patientunitstayid  hospitalid  time_window  death  \\\n490         0.0               1535        -1.0           -1    0.0   \n491         0.0               1535        -1.0            0    0.0   \n492         0.0               1535        -1.0            1    0.0   \n493         0.0               1535        -1.0            2    0.0   \n494         0.0               1535        -1.0            3    1.0   \n495         0.0               1535        -1.0            4    0.0   \n496         0.0               1535        -1.0            5    0.0   \n\n     ventilator  sepsis  acetamin  biotene  compazine  ...     paco2  \\\n490         0.0     0.0       1.0      0.0        0.0  ...  0.000000   \n491         0.0     0.0       1.0      0.0        0.0  ...  0.000000   \n492         0.0     0.0       1.0      0.0        0.0  ...  0.000000   \n493         1.0     0.0       1.0      0.0        0.0  ... -1.323534   \n494         0.0     0.0       1.0      0.0        0.0  ... -1.489993   \n495         0.0     0.0       0.0      0.0        0.0  ...  0.000000   \n496         0.0     0.0       0.0      0.0        0.0  ...  0.000000   \n\n           ph  albu_lab     bands       bun       hct       inr   lactate  \\\n490  0.000000  0.000000  0.000000  0.000000  0.000000  0.000000  0.000000   \n491  0.000000  0.000000  0.000000  2.361057  0.202093  0.461524  0.000000   \n492  0.000000  0.000000  0.000000  0.000000  0.000000  0.000000  0.000000   \n493 -2.561358 -0.632201  1.480913  0.711713  0.517465  1.593566  2.250105   \n494 -1.957252  0.000000  0.000000  0.000000  0.504851  2.338330  2.250105   \n495  0.000000  0.000000  0.000000  0.000000  0.000000  0.000000  0.000000   \n496  0.000000  0.000000  0.000000  0.000000  0.000000  0.000000  0.000000   \n\n     platelets  wbc  \n490   0.000000  0.0  \n491  -0.090997  0.0  \n492   0.000000  0.0  \n493  -0.689460  0.0  \n494  -0.661565  0.0  \n495   0.000000  0.0  \n496   0.000000  0.0  \n\n[7 rows x 275 columns]",
      "text/html": "<div>\n<style scoped>\n    .dataframe tbody tr th:only-of-type {\n        vertical-align: middle;\n    }\n\n    .dataframe tbody tr th {\n        vertical-align: top;\n    }\n\n    .dataframe thead th {\n        text-align: right;\n    }\n</style>\n<table border=\"1\" class=\"dataframe\">\n  <thead>\n    <tr style=\"text-align: right;\">\n      <th></th>\n      <th>Unnamed: 0</th>\n      <th>patientunitstayid</th>\n      <th>hospitalid</th>\n      <th>time_window</th>\n      <th>death</th>\n      <th>ventilator</th>\n      <th>sepsis</th>\n      <th>acetamin</th>\n      <th>biotene</th>\n      <th>compazine</th>\n      <th>...</th>\n      <th>paco2</th>\n      <th>ph</th>\n      <th>albu_lab</th>\n      <th>bands</th>\n      <th>bun</th>\n      <th>hct</th>\n      <th>inr</th>\n      <th>lactate</th>\n      <th>platelets</th>\n      <th>wbc</th>\n    </tr>\n  </thead>\n  <tbody>\n    <tr>\n      <th>490</th>\n      <td>0.0</td>\n      <td>1535</td>\n      <td>-1.0</td>\n      <td>-1</td>\n      <td>0.0</td>\n      <td>0.0</td>\n      <td>0.0</td>\n      <td>1.0</td>\n      <td>0.0</td>\n      <td>0.0</td>\n      <td>...</td>\n      <td>0.000000</td>\n      <td>0.000000</td>\n      <td>0.000000</td>\n      <td>0.000000</td>\n      <td>0.000000</td>\n      <td>0.000000</td>\n      <td>0.000000</td>\n      <td>0.000000</td>\n      <td>0.000000</td>\n      <td>0.0</td>\n    </tr>\n    <tr>\n      <th>491</th>\n      <td>0.0</td>\n      <td>1535</td>\n      <td>-1.0</td>\n      <td>0</td>\n      <td>0.0</td>\n      <td>0.0</td>\n      <td>0.0</td>\n      <td>1.0</td>\n      <td>0.0</td>\n      <td>0.0</td>\n      <td>...</td>\n      <td>0.000000</td>\n      <td>0.000000</td>\n      <td>0.000000</td>\n      <td>0.000000</td>\n      <td>2.361057</td>\n      <td>0.202093</td>\n      <td>0.461524</td>\n      <td>0.000000</td>\n      <td>-0.090997</td>\n      <td>0.0</td>\n    </tr>\n    <tr>\n      <th>492</th>\n      <td>0.0</td>\n      <td>1535</td>\n      <td>-1.0</td>\n      <td>1</td>\n      <td>0.0</td>\n      <td>0.0</td>\n      <td>0.0</td>\n      <td>1.0</td>\n      <td>0.0</td>\n      <td>0.0</td>\n      <td>...</td>\n      <td>0.000000</td>\n      <td>0.000000</td>\n      <td>0.000000</td>\n      <td>0.000000</td>\n      <td>0.000000</td>\n      <td>0.000000</td>\n      <td>0.000000</td>\n      <td>0.000000</td>\n      <td>0.000000</td>\n      <td>0.0</td>\n    </tr>\n    <tr>\n      <th>493</th>\n      <td>0.0</td>\n      <td>1535</td>\n      <td>-1.0</td>\n      <td>2</td>\n      <td>0.0</td>\n      <td>1.0</td>\n      <td>0.0</td>\n      <td>1.0</td>\n      <td>0.0</td>\n      <td>0.0</td>\n      <td>...</td>\n      <td>-1.323534</td>\n      <td>-2.561358</td>\n      <td>-0.632201</td>\n      <td>1.480913</td>\n      <td>0.711713</td>\n      <td>0.517465</td>\n      <td>1.593566</td>\n      <td>2.250105</td>\n      <td>-0.689460</td>\n      <td>0.0</td>\n    </tr>\n    <tr>\n      <th>494</th>\n      <td>0.0</td>\n      <td>1535</td>\n      <td>-1.0</td>\n      <td>3</td>\n      <td>1.0</td>\n      <td>0.0</td>\n      <td>0.0</td>\n      <td>1.0</td>\n      <td>0.0</td>\n      <td>0.0</td>\n      <td>...</td>\n      <td>-1.489993</td>\n      <td>-1.957252</td>\n      <td>0.000000</td>\n      <td>0.000000</td>\n      <td>0.000000</td>\n      <td>0.504851</td>\n      <td>2.338330</td>\n      <td>2.250105</td>\n      <td>-0.661565</td>\n      <td>0.0</td>\n    </tr>\n    <tr>\n      <th>495</th>\n      <td>0.0</td>\n      <td>1535</td>\n      <td>-1.0</td>\n      <td>4</td>\n      <td>0.0</td>\n      <td>0.0</td>\n      <td>0.0</td>\n      <td>0.0</td>\n      <td>0.0</td>\n      <td>0.0</td>\n      <td>...</td>\n      <td>0.000000</td>\n      <td>0.000000</td>\n      <td>0.000000</td>\n      <td>0.000000</td>\n      <td>0.000000</td>\n      <td>0.000000</td>\n      <td>0.000000</td>\n      <td>0.000000</td>\n      <td>0.000000</td>\n      <td>0.0</td>\n    </tr>\n    <tr>\n      <th>496</th>\n      <td>0.0</td>\n      <td>1535</td>\n      <td>-1.0</td>\n      <td>5</td>\n      <td>0.0</td>\n      <td>0.0</td>\n      <td>0.0</td>\n      <td>0.0</td>\n      <td>0.0</td>\n      <td>0.0</td>\n      <td>...</td>\n      <td>0.000000</td>\n      <td>0.000000</td>\n      <td>0.000000</td>\n      <td>0.000000</td>\n      <td>0.000000</td>\n      <td>0.000000</td>\n      <td>0.000000</td>\n      <td>0.000000</td>\n      <td>0.000000</td>\n      <td>0.0</td>\n    </tr>\n  </tbody>\n</table>\n<p>7 rows × 275 columns</p>\n</div>"
     },
     "execution_count": 8,
     "metadata": {},
     "output_type": "execute_result"
    }
   ],
   "source": [
    "check_mimic = pd.read_csv('mimic_lab_time.csv')\n"
   ],
   "metadata": {
    "collapsed": false,
    "ExecuteTime": {
     "end_time": "2024-04-26T01:25:03.841021Z",
     "start_time": "2024-04-26T01:25:02.632845Z"
    }
   },
   "id": "f96740bbe03ba63f",
   "execution_count": 8
  },
  {
   "cell_type": "code",
   "outputs": [
    {
     "name": "stderr",
     "output_type": "stream",
     "text": [
      "/var/folders/wd/d0j10lq906x4lfc0bphzybd80000gn/T/ipykernel_69334/4128343302.py:1: DtypeWarning: Columns (11) have mixed types. Specify dtype option on import or set low_memory=False.\n",
      "  eicu_medication = pd.read_csv('data/eicu/medication.csv')\n"
     ]
    },
    {
     "data": {
      "text/plain": "     medicationid  patientunitstayid  drugorderoffset  drugstartoffset  \\\n8         7636934             141178                8               35   \n25        7573839             141194            12031            13422   \n66       11370536             141229              330              664   \n84        8843758             141244             7887             9900   \n170       6947095             141288                8              217   \n\n    drugivadmixture drugordercancelled  \\\n8                No                 No   \n25               No                 No   \n66               No                 No   \n84               No                 No   \n170              No                 No   \n\n                                              drugname  drughiclseqno  \\\n8                ENOXAPARIN SODIUM 40 MG/0.4ML SC SOLN            NaN   \n25    VANCOMYCIN 1.25 GM IN NS 250 ML IVPB (REPACKAGE)        10093.0   \n66                        WARFARIN SODIUM 3 MG PO TABS         2812.0   \n84                      WARFARIN - PHYSICIAN MONITORED            NaN   \n170  3 ML  -  IPRATROPIUM-ALBUTEROL 0.5-2.5 (3) MG/...            NaN   \n\n      dosage    routeadmin      frequency loadingdose prn  drugstopoffset  gtc  \n8       40 3            SC           Q24H         NaN  No              10    0  \n25   1,250 3            IV          Daily         NaN  No           12622   19  \n66       3 3            PO      Q Evening         NaN  No             604    0  \n84    1 5001            PO      Q Evening         NaN  No            8416    0  \n170      3 1  NEBULIZATION  4x Daily Resp         NaN  No              18    0  ",
      "text/html": "<div>\n<style scoped>\n    .dataframe tbody tr th:only-of-type {\n        vertical-align: middle;\n    }\n\n    .dataframe tbody tr th {\n        vertical-align: top;\n    }\n\n    .dataframe thead th {\n        text-align: right;\n    }\n</style>\n<table border=\"1\" class=\"dataframe\">\n  <thead>\n    <tr style=\"text-align: right;\">\n      <th></th>\n      <th>medicationid</th>\n      <th>patientunitstayid</th>\n      <th>drugorderoffset</th>\n      <th>drugstartoffset</th>\n      <th>drugivadmixture</th>\n      <th>drugordercancelled</th>\n      <th>drugname</th>\n      <th>drughiclseqno</th>\n      <th>dosage</th>\n      <th>routeadmin</th>\n      <th>frequency</th>\n      <th>loadingdose</th>\n      <th>prn</th>\n      <th>drugstopoffset</th>\n      <th>gtc</th>\n    </tr>\n  </thead>\n  <tbody>\n    <tr>\n      <th>8</th>\n      <td>7636934</td>\n      <td>141178</td>\n      <td>8</td>\n      <td>35</td>\n      <td>No</td>\n      <td>No</td>\n      <td>ENOXAPARIN SODIUM 40 MG/0.4ML SC SOLN</td>\n      <td>NaN</td>\n      <td>40 3</td>\n      <td>SC</td>\n      <td>Q24H</td>\n      <td>NaN</td>\n      <td>No</td>\n      <td>10</td>\n      <td>0</td>\n    </tr>\n    <tr>\n      <th>25</th>\n      <td>7573839</td>\n      <td>141194</td>\n      <td>12031</td>\n      <td>13422</td>\n      <td>No</td>\n      <td>No</td>\n      <td>VANCOMYCIN 1.25 GM IN NS 250 ML IVPB (REPACKAGE)</td>\n      <td>10093.0</td>\n      <td>1,250 3</td>\n      <td>IV</td>\n      <td>Daily</td>\n      <td>NaN</td>\n      <td>No</td>\n      <td>12622</td>\n      <td>19</td>\n    </tr>\n    <tr>\n      <th>66</th>\n      <td>11370536</td>\n      <td>141229</td>\n      <td>330</td>\n      <td>664</td>\n      <td>No</td>\n      <td>No</td>\n      <td>WARFARIN SODIUM 3 MG PO TABS</td>\n      <td>2812.0</td>\n      <td>3 3</td>\n      <td>PO</td>\n      <td>Q Evening</td>\n      <td>NaN</td>\n      <td>No</td>\n      <td>604</td>\n      <td>0</td>\n    </tr>\n    <tr>\n      <th>84</th>\n      <td>8843758</td>\n      <td>141244</td>\n      <td>7887</td>\n      <td>9900</td>\n      <td>No</td>\n      <td>No</td>\n      <td>WARFARIN - PHYSICIAN MONITORED</td>\n      <td>NaN</td>\n      <td>1 5001</td>\n      <td>PO</td>\n      <td>Q Evening</td>\n      <td>NaN</td>\n      <td>No</td>\n      <td>8416</td>\n      <td>0</td>\n    </tr>\n    <tr>\n      <th>170</th>\n      <td>6947095</td>\n      <td>141288</td>\n      <td>8</td>\n      <td>217</td>\n      <td>No</td>\n      <td>No</td>\n      <td>3 ML  -  IPRATROPIUM-ALBUTEROL 0.5-2.5 (3) MG/...</td>\n      <td>NaN</td>\n      <td>3 1</td>\n      <td>NEBULIZATION</td>\n      <td>4x Daily Resp</td>\n      <td>NaN</td>\n      <td>No</td>\n      <td>18</td>\n      <td>0</td>\n    </tr>\n  </tbody>\n</table>\n</div>"
     },
     "execution_count": 16,
     "metadata": {},
     "output_type": "execute_result"
    }
   ],
   "source": [
    "eicu_medication = pd.read_csv('data/eicu/medication.csv')\n",
    "eicu_medication[(eicu_medication['drugstartoffset'] >= 0) & (eicu_medication['drugstopoffset'] < eicu_medication['drugstartoffset'])].head()"
   ],
   "metadata": {
    "collapsed": false,
    "ExecuteTime": {
     "end_time": "2024-04-26T01:54:15.836745Z",
     "start_time": "2024-04-26T01:54:08.798981Z"
    }
   },
   "id": "6f35e6affe68a478",
   "execution_count": 16
  },
  {
   "cell_type": "code",
   "outputs": [
    {
     "data": {
      "text/plain": "7301853"
     },
     "execution_count": 14,
     "metadata": {},
     "output_type": "execute_result"
    }
   ],
   "source": [
    "len(eicu_medication)"
   ],
   "metadata": {
    "collapsed": false,
    "ExecuteTime": {
     "end_time": "2024-04-26T01:51:34.983252Z",
     "start_time": "2024-04-26T01:51:34.969156Z"
    }
   },
   "id": "a9696c5fdd85237f",
   "execution_count": 14
  }
 ],
 "metadata": {
  "kernelspec": {
   "display_name": "Python 3",
   "language": "python",
   "name": "python3"
  },
  "language_info": {
   "codemirror_mode": {
    "name": "ipython",
    "version": 2
   },
   "file_extension": ".py",
   "mimetype": "text/x-python",
   "name": "python",
   "nbconvert_exporter": "python",
   "pygments_lexer": "ipython2",
   "version": "2.7.6"
  }
 },
 "nbformat": 4,
 "nbformat_minor": 5
}
