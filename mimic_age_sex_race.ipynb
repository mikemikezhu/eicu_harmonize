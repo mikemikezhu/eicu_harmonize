{
 "cells": [
  {
   "cell_type": "code",
   "execution_count": 1,
   "id": "initial_id",
   "metadata": {
    "collapsed": true,
    "ExecuteTime": {
     "end_time": "2024-04-16T20:12:01.217975Z",
     "start_time": "2024-04-16T20:12:00.610165Z"
    }
   },
   "outputs": [
    {
     "data": {
      "text/plain": "   ROW_ID  SUBJECT_ID  HADM_ID            ADMITTIME            DISCHTIME  \\\n0      90          87   190659  2191-02-25 20:30:00  2191-04-25 15:18:00   \n1      91          88   123010  2111-08-29 03:03:00  2111-09-03 14:24:00   \n2      92          89   188646  2185-06-17 05:22:00  2185-06-21 11:15:00   \n3      93          91   121205  2177-04-23 00:08:00  2177-05-10 15:16:00   \n4      94          92   142807  2122-12-13 19:30:00  2123-03-04 13:47:00   \n\n             DEATHTIME ADMISSION_TYPE         ADMISSION_LOCATION  \\\n0                  NaN        NEWBORN  PHYS REFERRAL/NORMAL DELI   \n1                  NaN      EMERGENCY       EMERGENCY ROOM ADMIT   \n2                  NaN        NEWBORN  PHYS REFERRAL/NORMAL DELI   \n3  2177-05-10 15:16:00      EMERGENCY       EMERGENCY ROOM ADMIT   \n4                  NaN        NEWBORN  PHYS REFERRAL/NORMAL DELI   \n\n    DISCHARGE_LOCATION INSURANCE LANGUAGE      RELIGION MARITAL_STATUS  \\\n0  SHORT TERM HOSPITAL   Private      NaN  UNOBTAINABLE            NaN   \n1                 HOME   Private      NaN           NaN            NaN   \n2  SHORT TERM HOSPITAL  Medicaid      NaN  UNOBTAINABLE            NaN   \n3         DEAD/EXPIRED  Medicare      NaN        JEWISH        MARRIED   \n4  SHORT TERM HOSPITAL  Medicaid      NaN  UNOBTAINABLE            NaN   \n\n                ETHNICITY            EDREGTIME            EDOUTTIME  \\\n0   UNKNOWN/NOT SPECIFIED                  NaN                  NaN   \n1  BLACK/AFRICAN AMERICAN  2111-08-29 01:44:00  2111-08-29 02:28:00   \n2   UNKNOWN/NOT SPECIFIED                  NaN                  NaN   \n3                   WHITE  2177-04-22 21:02:00  2177-04-23 04:03:00   \n4                   WHITE                  NaN                  NaN   \n\n                             DIAGNOSIS  HOSPITAL_EXPIRE_FLAG  \\\n0                              NEWBORN                     0   \n1  S/P MOTOR VEHICLE ACCIDENT-STABBING                     0   \n2                              NEWBORN                     0   \n3                                FEVER                     1   \n4                              NEWBORN                     0   \n\n   HAS_IOEVENTS_DATA  HAS_CHARTEVENTS_DATA  \n0                  1                     1  \n1                  1                     1  \n2                  1                     1  \n3                  1                     1  \n4                  1                     1  ",
      "text/html": "<div>\n<style scoped>\n    .dataframe tbody tr th:only-of-type {\n        vertical-align: middle;\n    }\n\n    .dataframe tbody tr th {\n        vertical-align: top;\n    }\n\n    .dataframe thead th {\n        text-align: right;\n    }\n</style>\n<table border=\"1\" class=\"dataframe\">\n  <thead>\n    <tr style=\"text-align: right;\">\n      <th></th>\n      <th>ROW_ID</th>\n      <th>SUBJECT_ID</th>\n      <th>HADM_ID</th>\n      <th>ADMITTIME</th>\n      <th>DISCHTIME</th>\n      <th>DEATHTIME</th>\n      <th>ADMISSION_TYPE</th>\n      <th>ADMISSION_LOCATION</th>\n      <th>DISCHARGE_LOCATION</th>\n      <th>INSURANCE</th>\n      <th>LANGUAGE</th>\n      <th>RELIGION</th>\n      <th>MARITAL_STATUS</th>\n      <th>ETHNICITY</th>\n      <th>EDREGTIME</th>\n      <th>EDOUTTIME</th>\n      <th>DIAGNOSIS</th>\n      <th>HOSPITAL_EXPIRE_FLAG</th>\n      <th>HAS_IOEVENTS_DATA</th>\n      <th>HAS_CHARTEVENTS_DATA</th>\n    </tr>\n  </thead>\n  <tbody>\n    <tr>\n      <th>0</th>\n      <td>90</td>\n      <td>87</td>\n      <td>190659</td>\n      <td>2191-02-25 20:30:00</td>\n      <td>2191-04-25 15:18:00</td>\n      <td>NaN</td>\n      <td>NEWBORN</td>\n      <td>PHYS REFERRAL/NORMAL DELI</td>\n      <td>SHORT TERM HOSPITAL</td>\n      <td>Private</td>\n      <td>NaN</td>\n      <td>UNOBTAINABLE</td>\n      <td>NaN</td>\n      <td>UNKNOWN/NOT SPECIFIED</td>\n      <td>NaN</td>\n      <td>NaN</td>\n      <td>NEWBORN</td>\n      <td>0</td>\n      <td>1</td>\n      <td>1</td>\n    </tr>\n    <tr>\n      <th>1</th>\n      <td>91</td>\n      <td>88</td>\n      <td>123010</td>\n      <td>2111-08-29 03:03:00</td>\n      <td>2111-09-03 14:24:00</td>\n      <td>NaN</td>\n      <td>EMERGENCY</td>\n      <td>EMERGENCY ROOM ADMIT</td>\n      <td>HOME</td>\n      <td>Private</td>\n      <td>NaN</td>\n      <td>NaN</td>\n      <td>NaN</td>\n      <td>BLACK/AFRICAN AMERICAN</td>\n      <td>2111-08-29 01:44:00</td>\n      <td>2111-08-29 02:28:00</td>\n      <td>S/P MOTOR VEHICLE ACCIDENT-STABBING</td>\n      <td>0</td>\n      <td>1</td>\n      <td>1</td>\n    </tr>\n    <tr>\n      <th>2</th>\n      <td>92</td>\n      <td>89</td>\n      <td>188646</td>\n      <td>2185-06-17 05:22:00</td>\n      <td>2185-06-21 11:15:00</td>\n      <td>NaN</td>\n      <td>NEWBORN</td>\n      <td>PHYS REFERRAL/NORMAL DELI</td>\n      <td>SHORT TERM HOSPITAL</td>\n      <td>Medicaid</td>\n      <td>NaN</td>\n      <td>UNOBTAINABLE</td>\n      <td>NaN</td>\n      <td>UNKNOWN/NOT SPECIFIED</td>\n      <td>NaN</td>\n      <td>NaN</td>\n      <td>NEWBORN</td>\n      <td>0</td>\n      <td>1</td>\n      <td>1</td>\n    </tr>\n    <tr>\n      <th>3</th>\n      <td>93</td>\n      <td>91</td>\n      <td>121205</td>\n      <td>2177-04-23 00:08:00</td>\n      <td>2177-05-10 15:16:00</td>\n      <td>2177-05-10 15:16:00</td>\n      <td>EMERGENCY</td>\n      <td>EMERGENCY ROOM ADMIT</td>\n      <td>DEAD/EXPIRED</td>\n      <td>Medicare</td>\n      <td>NaN</td>\n      <td>JEWISH</td>\n      <td>MARRIED</td>\n      <td>WHITE</td>\n      <td>2177-04-22 21:02:00</td>\n      <td>2177-04-23 04:03:00</td>\n      <td>FEVER</td>\n      <td>1</td>\n      <td>1</td>\n      <td>1</td>\n    </tr>\n    <tr>\n      <th>4</th>\n      <td>94</td>\n      <td>92</td>\n      <td>142807</td>\n      <td>2122-12-13 19:30:00</td>\n      <td>2123-03-04 13:47:00</td>\n      <td>NaN</td>\n      <td>NEWBORN</td>\n      <td>PHYS REFERRAL/NORMAL DELI</td>\n      <td>SHORT TERM HOSPITAL</td>\n      <td>Medicaid</td>\n      <td>NaN</td>\n      <td>UNOBTAINABLE</td>\n      <td>NaN</td>\n      <td>WHITE</td>\n      <td>NaN</td>\n      <td>NaN</td>\n      <td>NEWBORN</td>\n      <td>0</td>\n      <td>1</td>\n      <td>1</td>\n    </tr>\n  </tbody>\n</table>\n</div>"
     },
     "execution_count": 1,
     "metadata": {},
     "output_type": "execute_result"
    }
   ],
   "source": [
    "import pandas as pd\n",
    "\n",
    "mimic_admissions = pd.read_csv('data/mimic/ADMISSIONS.csv')\n",
    "mimic_admissions.head()"
   ]
  },
  {
   "cell_type": "code",
   "outputs": [
    {
     "data": {
      "text/plain": "array(['UNKNOWN/NOT SPECIFIED', 'BLACK/AFRICAN AMERICAN', 'WHITE',\n       'ASIAN', 'PATIENT DECLINED TO ANSWER', 'HISPANIC OR LATINO',\n       'HISPANIC/LATINO - GUATEMALAN', 'MULTI RACE ETHNICITY', 'OTHER',\n       'ASIAN - VIETNAMESE', 'AMERICAN INDIAN/ALASKA NATIVE',\n       'WHITE - RUSSIAN', 'HISPANIC/LATINO - PUERTO RICAN',\n       'ASIAN - CHINESE', 'ASIAN - ASIAN INDIAN',\n       'HISPANIC/LATINO - SALVADORAN', 'HISPANIC/LATINO - DOMINICAN',\n       'BLACK/AFRICAN', 'UNABLE TO OBTAIN', 'BLACK/CAPE VERDEAN',\n       'BLACK/HAITIAN', 'WHITE - OTHER EUROPEAN', 'PORTUGUESE',\n       'WHITE - EASTERN EUROPEAN', 'SOUTH AMERICAN', 'ASIAN - FILIPINO',\n       'ASIAN - CAMBODIAN', 'CARIBBEAN ISLAND', 'ASIAN - KOREAN',\n       'HISPANIC/LATINO - COLOMBIAN',\n       'HISPANIC/LATINO - CENTRAL AMERICAN (OTHER)', 'WHITE - BRAZILIAN',\n       'NATIVE HAWAIIAN OR OTHER PACIFIC ISLANDER', 'ASIAN - JAPANESE',\n       'ASIAN - THAI', 'HISPANIC/LATINO - CUBAN', 'MIDDLE EASTERN',\n       'HISPANIC/LATINO - HONDURAN', 'ASIAN - OTHER',\n       'HISPANIC/LATINO - MEXICAN',\n       'AMERICAN INDIAN/ALASKA NATIVE FEDERALLY RECOGNIZED TRIBE'],\n      dtype=object)"
     },
     "execution_count": 2,
     "metadata": {},
     "output_type": "execute_result"
    }
   ],
   "source": [
    "mimic_admissions['ETHNICITY'].unique()"
   ],
   "metadata": {
    "collapsed": false,
    "ExecuteTime": {
     "end_time": "2024-04-16T20:12:25.062389Z",
     "start_time": "2024-04-16T20:12:25.053053Z"
    }
   },
   "id": "14e3c801d665fcca",
   "execution_count": 2
  },
  {
   "cell_type": "code",
   "outputs": [
    {
     "data": {
      "text/plain": "   patientunitstayid  hospitalid  death  acetamin  biotene  compazine  \\\n0           534765.0       148.0    0.0       1.0      0.0        0.0   \n1           534851.0       148.0    0.0       1.0      0.0        0.0   \n2           535077.0       148.0    0.0       1.0      0.0        0.0   \n3           535557.0       148.0    0.0       0.0      0.0        0.0   \n4           535558.0       148.0    0.0       0.0      0.0        0.0   \n\n   ferrous  imdur  lidocaine  milk of magnesia  ...     paco2        ph  \\\n0      0.0    0.0        0.0               0.0  ...  0.680191 -1.088819   \n1      0.0    0.0        0.0               1.0  ...  0.575741  0.322756   \n2      0.0    0.0        0.0               0.0  ...  0.000000  0.000000   \n3      0.0    0.0        0.0               0.0  ... -0.634934  0.231277   \n4      0.0    0.0        0.0               0.0  ...  0.000000  0.000000   \n\n   albu_lab     bands       bun       hct       inr   lactate  platelets  \\\n0 -0.668347 -0.552916 -0.408329 -0.438321 -0.678909 -0.315213   2.444322   \n1 -0.599267  0.000000  0.410532  1.184512 -0.077720  0.183829  -0.225811   \n2  1.542241  0.000000 -0.572101  1.576018 -1.108329  0.000000   0.455925   \n3 -0.628873  0.000000 -1.021063  0.025345 -0.593025 -1.013871   0.007431   \n4  0.022462  0.000000 -0.490215 -0.051421  0.000000  0.000000   0.081917   \n\n        wbc  \n0  2.432230  \n1 -0.409076  \n2 -0.581276  \n3 -0.353042  \n4 -1.011777  \n\n[5 rows x 271 columns]",
      "text/html": "<div>\n<style scoped>\n    .dataframe tbody tr th:only-of-type {\n        vertical-align: middle;\n    }\n\n    .dataframe tbody tr th {\n        vertical-align: top;\n    }\n\n    .dataframe thead th {\n        text-align: right;\n    }\n</style>\n<table border=\"1\" class=\"dataframe\">\n  <thead>\n    <tr style=\"text-align: right;\">\n      <th></th>\n      <th>patientunitstayid</th>\n      <th>hospitalid</th>\n      <th>death</th>\n      <th>acetamin</th>\n      <th>biotene</th>\n      <th>compazine</th>\n      <th>ferrous</th>\n      <th>imdur</th>\n      <th>lidocaine</th>\n      <th>milk of magnesia</th>\n      <th>...</th>\n      <th>paco2</th>\n      <th>ph</th>\n      <th>albu_lab</th>\n      <th>bands</th>\n      <th>bun</th>\n      <th>hct</th>\n      <th>inr</th>\n      <th>lactate</th>\n      <th>platelets</th>\n      <th>wbc</th>\n    </tr>\n  </thead>\n  <tbody>\n    <tr>\n      <th>0</th>\n      <td>534765.0</td>\n      <td>148.0</td>\n      <td>0.0</td>\n      <td>1.0</td>\n      <td>0.0</td>\n      <td>0.0</td>\n      <td>0.0</td>\n      <td>0.0</td>\n      <td>0.0</td>\n      <td>0.0</td>\n      <td>...</td>\n      <td>0.680191</td>\n      <td>-1.088819</td>\n      <td>-0.668347</td>\n      <td>-0.552916</td>\n      <td>-0.408329</td>\n      <td>-0.438321</td>\n      <td>-0.678909</td>\n      <td>-0.315213</td>\n      <td>2.444322</td>\n      <td>2.432230</td>\n    </tr>\n    <tr>\n      <th>1</th>\n      <td>534851.0</td>\n      <td>148.0</td>\n      <td>0.0</td>\n      <td>1.0</td>\n      <td>0.0</td>\n      <td>0.0</td>\n      <td>0.0</td>\n      <td>0.0</td>\n      <td>0.0</td>\n      <td>1.0</td>\n      <td>...</td>\n      <td>0.575741</td>\n      <td>0.322756</td>\n      <td>-0.599267</td>\n      <td>0.000000</td>\n      <td>0.410532</td>\n      <td>1.184512</td>\n      <td>-0.077720</td>\n      <td>0.183829</td>\n      <td>-0.225811</td>\n      <td>-0.409076</td>\n    </tr>\n    <tr>\n      <th>2</th>\n      <td>535077.0</td>\n      <td>148.0</td>\n      <td>0.0</td>\n      <td>1.0</td>\n      <td>0.0</td>\n      <td>0.0</td>\n      <td>0.0</td>\n      <td>0.0</td>\n      <td>0.0</td>\n      <td>0.0</td>\n      <td>...</td>\n      <td>0.000000</td>\n      <td>0.000000</td>\n      <td>1.542241</td>\n      <td>0.000000</td>\n      <td>-0.572101</td>\n      <td>1.576018</td>\n      <td>-1.108329</td>\n      <td>0.000000</td>\n      <td>0.455925</td>\n      <td>-0.581276</td>\n    </tr>\n    <tr>\n      <th>3</th>\n      <td>535557.0</td>\n      <td>148.0</td>\n      <td>0.0</td>\n      <td>0.0</td>\n      <td>0.0</td>\n      <td>0.0</td>\n      <td>0.0</td>\n      <td>0.0</td>\n      <td>0.0</td>\n      <td>0.0</td>\n      <td>...</td>\n      <td>-0.634934</td>\n      <td>0.231277</td>\n      <td>-0.628873</td>\n      <td>0.000000</td>\n      <td>-1.021063</td>\n      <td>0.025345</td>\n      <td>-0.593025</td>\n      <td>-1.013871</td>\n      <td>0.007431</td>\n      <td>-0.353042</td>\n    </tr>\n    <tr>\n      <th>4</th>\n      <td>535558.0</td>\n      <td>148.0</td>\n      <td>0.0</td>\n      <td>0.0</td>\n      <td>0.0</td>\n      <td>0.0</td>\n      <td>0.0</td>\n      <td>0.0</td>\n      <td>0.0</td>\n      <td>0.0</td>\n      <td>...</td>\n      <td>0.000000</td>\n      <td>0.000000</td>\n      <td>0.022462</td>\n      <td>0.000000</td>\n      <td>-0.490215</td>\n      <td>-0.051421</td>\n      <td>0.000000</td>\n      <td>0.000000</td>\n      <td>0.081917</td>\n      <td>-1.011777</td>\n    </tr>\n  </tbody>\n</table>\n<p>5 rows × 271 columns</p>\n</div>"
     },
     "execution_count": 3,
     "metadata": {},
     "output_type": "execute_result"
    }
   ],
   "source": [
    "eicu_drug_lab = pd.read_csv('eicu_drug_lab.csv')\n",
    "eicu_drug_lab.head()"
   ],
   "metadata": {
    "collapsed": false,
    "ExecuteTime": {
     "end_time": "2024-04-16T20:13:27.341505Z",
     "start_time": "2024-04-16T20:13:26.985488Z"
    }
   },
   "id": "45f47a5acd448e2c",
   "execution_count": 3
  },
  {
   "cell_type": "code",
   "outputs": [
    {
     "data": {
      "text/plain": "      ROW_ID  ITEMID         LABEL ABBREVIATION DBSOURCE      LINKSTO  \\\n1236     688     763  Daily Weight          NaN  carevue  chartevents   \n\n     CATEGORY UNITNAME PARAM_TYPE  CONCEPTID  \n1236      NaN      NaN        NaN        NaN  ",
      "text/html": "<div>\n<style scoped>\n    .dataframe tbody tr th:only-of-type {\n        vertical-align: middle;\n    }\n\n    .dataframe tbody tr th {\n        vertical-align: top;\n    }\n\n    .dataframe thead th {\n        text-align: right;\n    }\n</style>\n<table border=\"1\" class=\"dataframe\">\n  <thead>\n    <tr style=\"text-align: right;\">\n      <th></th>\n      <th>ROW_ID</th>\n      <th>ITEMID</th>\n      <th>LABEL</th>\n      <th>ABBREVIATION</th>\n      <th>DBSOURCE</th>\n      <th>LINKSTO</th>\n      <th>CATEGORY</th>\n      <th>UNITNAME</th>\n      <th>PARAM_TYPE</th>\n      <th>CONCEPTID</th>\n    </tr>\n  </thead>\n  <tbody>\n    <tr>\n      <th>1236</th>\n      <td>688</td>\n      <td>763</td>\n      <td>Daily Weight</td>\n      <td>NaN</td>\n      <td>carevue</td>\n      <td>chartevents</td>\n      <td>NaN</td>\n      <td>NaN</td>\n      <td>NaN</td>\n      <td>NaN</td>\n    </tr>\n  </tbody>\n</table>\n</div>"
     },
     "execution_count": 14,
     "metadata": {},
     "output_type": "execute_result"
    }
   ],
   "source": [
    "mimic_items = pd.read_csv('data/mimic/D_ITEMS.csv')\n",
    "mimic_items[mimic_items['ITEMID'] == 763]"
   ],
   "metadata": {
    "collapsed": false,
    "ExecuteTime": {
     "end_time": "2024-04-16T20:28:24.985163Z",
     "start_time": "2024-04-16T20:28:24.956678Z"
    }
   },
   "id": "ddb9b5250cbce9b",
   "execution_count": 14
  },
  {
   "cell_type": "code",
   "outputs": [
    {
     "data": {
      "text/plain": "   ROW_ID  SUBJECT_ID  HADM_ID  ICUSTAY_ID    DBSOURCE FIRST_CAREUNIT  \\\n0     132         109   139061      257358  metavision           MICU   \n1     133         109   172335      262652  metavision           MICU   \n2     134         109   126055      236124  metavision           MICU   \n3     135         109   125288      257134  metavision           SICU   \n4     136         109   161950      237552  metavision           MICU   \n\n  LAST_CAREUNIT  FIRST_WARDID  LAST_WARDID               INTIME  \\\n0          MICU            52           52  2141-09-11 10:13:28   \n1          MICU            23           23  2141-09-20 20:44:36   \n2          SICU            23           57  2141-10-13 23:11:01   \n3          MICU            57           50  2141-11-18 14:01:37   \n4          MICU            23           23  2141-11-24 16:12:07   \n\n               OUTTIME      LOS  \n0  2141-09-12 16:53:07   1.2775  \n1  2141-09-22 21:44:50   2.0418  \n2  2141-10-25 20:49:04  11.9014  \n3  2141-11-19 21:35:18   1.3151  \n4  2141-11-26 21:51:50   2.2359  ",
      "text/html": "<div>\n<style scoped>\n    .dataframe tbody tr th:only-of-type {\n        vertical-align: middle;\n    }\n\n    .dataframe tbody tr th {\n        vertical-align: top;\n    }\n\n    .dataframe thead th {\n        text-align: right;\n    }\n</style>\n<table border=\"1\" class=\"dataframe\">\n  <thead>\n    <tr style=\"text-align: right;\">\n      <th></th>\n      <th>ROW_ID</th>\n      <th>SUBJECT_ID</th>\n      <th>HADM_ID</th>\n      <th>ICUSTAY_ID</th>\n      <th>DBSOURCE</th>\n      <th>FIRST_CAREUNIT</th>\n      <th>LAST_CAREUNIT</th>\n      <th>FIRST_WARDID</th>\n      <th>LAST_WARDID</th>\n      <th>INTIME</th>\n      <th>OUTTIME</th>\n      <th>LOS</th>\n    </tr>\n  </thead>\n  <tbody>\n    <tr>\n      <th>0</th>\n      <td>132</td>\n      <td>109</td>\n      <td>139061</td>\n      <td>257358</td>\n      <td>metavision</td>\n      <td>MICU</td>\n      <td>MICU</td>\n      <td>52</td>\n      <td>52</td>\n      <td>2141-09-11 10:13:28</td>\n      <td>2141-09-12 16:53:07</td>\n      <td>1.2775</td>\n    </tr>\n    <tr>\n      <th>1</th>\n      <td>133</td>\n      <td>109</td>\n      <td>172335</td>\n      <td>262652</td>\n      <td>metavision</td>\n      <td>MICU</td>\n      <td>MICU</td>\n      <td>23</td>\n      <td>23</td>\n      <td>2141-09-20 20:44:36</td>\n      <td>2141-09-22 21:44:50</td>\n      <td>2.0418</td>\n    </tr>\n    <tr>\n      <th>2</th>\n      <td>134</td>\n      <td>109</td>\n      <td>126055</td>\n      <td>236124</td>\n      <td>metavision</td>\n      <td>MICU</td>\n      <td>SICU</td>\n      <td>23</td>\n      <td>57</td>\n      <td>2141-10-13 23:11:01</td>\n      <td>2141-10-25 20:49:04</td>\n      <td>11.9014</td>\n    </tr>\n    <tr>\n      <th>3</th>\n      <td>135</td>\n      <td>109</td>\n      <td>125288</td>\n      <td>257134</td>\n      <td>metavision</td>\n      <td>SICU</td>\n      <td>MICU</td>\n      <td>57</td>\n      <td>50</td>\n      <td>2141-11-18 14:01:37</td>\n      <td>2141-11-19 21:35:18</td>\n      <td>1.3151</td>\n    </tr>\n    <tr>\n      <th>4</th>\n      <td>136</td>\n      <td>109</td>\n      <td>161950</td>\n      <td>237552</td>\n      <td>metavision</td>\n      <td>MICU</td>\n      <td>MICU</td>\n      <td>23</td>\n      <td>23</td>\n      <td>2141-11-24 16:12:07</td>\n      <td>2141-11-26 21:51:50</td>\n      <td>2.2359</td>\n    </tr>\n  </tbody>\n</table>\n</div>"
     },
     "execution_count": 10,
     "metadata": {},
     "output_type": "execute_result"
    }
   ],
   "source": [
    "mimic_icu_stays = pd.read_csv('data/mimic/ICUSTAYS.csv')\n",
    "mimic_icu_stays.head()"
   ],
   "metadata": {
    "collapsed": false,
    "ExecuteTime": {
     "end_time": "2024-04-16T20:23:32.142664Z",
     "start_time": "2024-04-16T20:23:32.053454Z"
    }
   },
   "id": "cb92cb5f419c5d7b",
   "execution_count": 10
  }
 ],
 "metadata": {
  "kernelspec": {
   "display_name": "Python 3",
   "language": "python",
   "name": "python3"
  },
  "language_info": {
   "codemirror_mode": {
    "name": "ipython",
    "version": 2
   },
   "file_extension": ".py",
   "mimetype": "text/x-python",
   "name": "python",
   "nbconvert_exporter": "python",
   "pygments_lexer": "ipython2",
   "version": "2.7.6"
  }
 },
 "nbformat": 4,
 "nbformat_minor": 5
}
