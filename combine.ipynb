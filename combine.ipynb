{
 "cells": [
  {
   "cell_type": "code",
   "execution_count": 1,
   "id": "initial_id",
   "metadata": {
    "collapsed": true,
    "ExecuteTime": {
     "end_time": "2024-04-16T04:05:38.505035Z",
     "start_time": "2024-04-16T04:05:21.286084Z"
    }
   },
   "outputs": [],
   "source": [
    "import pandas as pd\n",
    "\n",
    "lab_time_148_281 = pd.read_csv('eicu_lab_time_148_281.csv')\n",
    "lab_time_167_420 = pd.read_csv('eicu_lab_time_167_420.csv')\n",
    "lab_time_199_458 = pd.read_csv('eicu_lab_time_199_458.csv')\n",
    "lab_time_252_165 = pd.read_csv('eicu_lab_time_252_165.csv')\n",
    "lab_time_449_283 = pd.read_csv('eicu_lab_time_449_283.csv')\n",
    "\n",
    "# combine all the lab time data\n",
    "lab_time = pd.concat([lab_time_148_281, lab_time_167_420, lab_time_199_458, lab_time_252_165, lab_time_449_283])\n",
    "\n",
    "nan_columns = lab_time.columns[lab_time.isnull().any()].tolist()\n",
    "lab_time[nan_columns] = lab_time[nan_columns].fillna(0.0)\n",
    "\n",
    "# export csv\n",
    "lab_time.to_csv('eicu_lab_time.csv', index=False)"
   ]
  },
  {
   "cell_type": "code",
   "outputs": [
    {
     "data": {
      "text/plain": "   Unnamed: 0  patientunitstayid  hospitalid  time_window  death  ventilator  \\\n0         0.0           534765.0       148.0         -1.0    0.0         0.0   \n1         1.0           534765.0       148.0          0.0    0.0         1.0   \n2         2.0           534765.0       148.0          1.0    0.0         0.0   \n3         3.0           534765.0       148.0          2.0    0.0         0.0   \n4         4.0           534765.0       148.0          3.0    0.0         0.0   \n\n   sepsis  acetamin  biotene  compazine  ...     paco2        ph  albu_lab  \\\n0     0.0       1.0      0.0        0.0  ...  0.598123 -0.851227 -0.668347   \n1     1.0       0.0      0.0        0.0  ...  0.844327 -1.564003  0.000000   \n2     0.0       0.0      0.0        0.0  ...  0.000000  0.000000  0.000000   \n3     0.0       0.0      0.0        0.0  ...  0.000000  0.000000  0.000000   \n4     0.0       0.0      0.0        0.0  ...  0.000000  0.000000  0.000000   \n\n     bands       bun       hct       inr   lactate  platelets      wbc  \n0 -0.90115 -0.435625 -0.240777 -0.764793 -0.355136   2.444322  2.43223  \n1 -0.37880 -0.326443 -0.734638 -0.593025 -0.235366   2.444322  2.43223  \n2  0.00000  0.000000  0.000000  0.000000  0.000000   0.000000  0.00000  \n3  0.00000  0.000000  0.000000  0.000000  0.000000   0.000000  0.00000  \n4  0.00000  0.000000  0.000000  0.000000  0.000000   0.000000  0.00000  \n\n[5 rows x 275 columns]",
      "text/html": "<div>\n<style scoped>\n    .dataframe tbody tr th:only-of-type {\n        vertical-align: middle;\n    }\n\n    .dataframe tbody tr th {\n        vertical-align: top;\n    }\n\n    .dataframe thead th {\n        text-align: right;\n    }\n</style>\n<table border=\"1\" class=\"dataframe\">\n  <thead>\n    <tr style=\"text-align: right;\">\n      <th></th>\n      <th>Unnamed: 0</th>\n      <th>patientunitstayid</th>\n      <th>hospitalid</th>\n      <th>time_window</th>\n      <th>death</th>\n      <th>ventilator</th>\n      <th>sepsis</th>\n      <th>acetamin</th>\n      <th>biotene</th>\n      <th>compazine</th>\n      <th>...</th>\n      <th>paco2</th>\n      <th>ph</th>\n      <th>albu_lab</th>\n      <th>bands</th>\n      <th>bun</th>\n      <th>hct</th>\n      <th>inr</th>\n      <th>lactate</th>\n      <th>platelets</th>\n      <th>wbc</th>\n    </tr>\n  </thead>\n  <tbody>\n    <tr>\n      <th>0</th>\n      <td>0.0</td>\n      <td>534765.0</td>\n      <td>148.0</td>\n      <td>-1.0</td>\n      <td>0.0</td>\n      <td>0.0</td>\n      <td>0.0</td>\n      <td>1.0</td>\n      <td>0.0</td>\n      <td>0.0</td>\n      <td>...</td>\n      <td>0.598123</td>\n      <td>-0.851227</td>\n      <td>-0.668347</td>\n      <td>-0.90115</td>\n      <td>-0.435625</td>\n      <td>-0.240777</td>\n      <td>-0.764793</td>\n      <td>-0.355136</td>\n      <td>2.444322</td>\n      <td>2.43223</td>\n    </tr>\n    <tr>\n      <th>1</th>\n      <td>1.0</td>\n      <td>534765.0</td>\n      <td>148.0</td>\n      <td>0.0</td>\n      <td>0.0</td>\n      <td>1.0</td>\n      <td>1.0</td>\n      <td>0.0</td>\n      <td>0.0</td>\n      <td>0.0</td>\n      <td>...</td>\n      <td>0.844327</td>\n      <td>-1.564003</td>\n      <td>0.000000</td>\n      <td>-0.37880</td>\n      <td>-0.326443</td>\n      <td>-0.734638</td>\n      <td>-0.593025</td>\n      <td>-0.235366</td>\n      <td>2.444322</td>\n      <td>2.43223</td>\n    </tr>\n    <tr>\n      <th>2</th>\n      <td>2.0</td>\n      <td>534765.0</td>\n      <td>148.0</td>\n      <td>1.0</td>\n      <td>0.0</td>\n      <td>0.0</td>\n      <td>0.0</td>\n      <td>0.0</td>\n      <td>0.0</td>\n      <td>0.0</td>\n      <td>...</td>\n      <td>0.000000</td>\n      <td>0.000000</td>\n      <td>0.000000</td>\n      <td>0.00000</td>\n      <td>0.000000</td>\n      <td>0.000000</td>\n      <td>0.000000</td>\n      <td>0.000000</td>\n      <td>0.000000</td>\n      <td>0.00000</td>\n    </tr>\n    <tr>\n      <th>3</th>\n      <td>3.0</td>\n      <td>534765.0</td>\n      <td>148.0</td>\n      <td>2.0</td>\n      <td>0.0</td>\n      <td>0.0</td>\n      <td>0.0</td>\n      <td>0.0</td>\n      <td>0.0</td>\n      <td>0.0</td>\n      <td>...</td>\n      <td>0.000000</td>\n      <td>0.000000</td>\n      <td>0.000000</td>\n      <td>0.00000</td>\n      <td>0.000000</td>\n      <td>0.000000</td>\n      <td>0.000000</td>\n      <td>0.000000</td>\n      <td>0.000000</td>\n      <td>0.00000</td>\n    </tr>\n    <tr>\n      <th>4</th>\n      <td>4.0</td>\n      <td>534765.0</td>\n      <td>148.0</td>\n      <td>3.0</td>\n      <td>0.0</td>\n      <td>0.0</td>\n      <td>0.0</td>\n      <td>0.0</td>\n      <td>0.0</td>\n      <td>0.0</td>\n      <td>...</td>\n      <td>0.000000</td>\n      <td>0.000000</td>\n      <td>0.000000</td>\n      <td>0.00000</td>\n      <td>0.000000</td>\n      <td>0.000000</td>\n      <td>0.000000</td>\n      <td>0.000000</td>\n      <td>0.000000</td>\n      <td>0.00000</td>\n    </tr>\n  </tbody>\n</table>\n<p>5 rows × 275 columns</p>\n</div>"
     },
     "execution_count": 2,
     "metadata": {},
     "output_type": "execute_result"
    }
   ],
   "source": [
    "lab_time.head()"
   ],
   "metadata": {
    "collapsed": false,
    "ExecuteTime": {
     "end_time": "2024-04-16T04:05:38.521090Z",
     "start_time": "2024-04-16T04:05:38.507494Z"
    }
   },
   "id": "999bb422c34b670a",
   "execution_count": 2
  },
  {
   "cell_type": "code",
   "outputs": [
    {
     "data": {
      "text/plain": "Index(['o2sat', 'pao2', 'paco2', 'ph', 'albu_lab', 'bands', 'bun', 'hct',\n       'inr', 'lactate', 'platelets', 'wbc'],\n      dtype='object')"
     },
     "execution_count": 3,
     "metadata": {},
     "output_type": "execute_result"
    }
   ],
   "source": [
    "lab_time.columns[-12:]"
   ],
   "metadata": {
    "collapsed": false,
    "ExecuteTime": {
     "end_time": "2024-04-16T04:05:38.521725Z",
     "start_time": "2024-04-16T04:05:38.518443Z"
    }
   },
   "id": "55ee104d453f5d12",
   "execution_count": 3
  },
  {
   "cell_type": "code",
   "outputs": [],
   "source": [
    "lab_time_1 = pd.read_csv('mimic_data_1.csv')\n",
    "lab_time_2 = pd.read_csv('mimic_data_2.csv')\n",
    "lab_time_3 = pd.read_csv('mimic_data_3.csv')\n",
    "lab_time_4 = pd.read_csv('mimic_data_4.csv')\n",
    "lab_time_5 = pd.read_csv('mimic_data_5.csv')\n",
    "\n",
    "lab_time_mimic = pd.concat([lab_time_1, lab_time_2, lab_time_3, lab_time_4, lab_time_5])\n",
    "lab_time_mimic.head()\n",
    "\n",
    "nan_columns = lab_time_mimic.columns[lab_time_mimic.isnull().any()].tolist()\n",
    "lab_time_mimic[nan_columns] = lab_time_mimic[nan_columns].fillna(0.0)\n",
    "\n",
    "# set death column from integer to float\n",
    "lab_time_mimic['death'] = lab_time_mimic['death'].astype(float)\n",
    "\n",
    "lab_time_mimic.to_csv('mimic_drug_lab.csv', index=False)"
   ],
   "metadata": {
    "collapsed": false,
    "ExecuteTime": {
     "end_time": "2024-04-16T04:05:41.582281Z",
     "start_time": "2024-04-16T04:05:38.944123Z"
    }
   },
   "id": "1ecf6dcf5885b461",
   "execution_count": 8
  },
  {
   "cell_type": "code",
   "outputs": [
    {
     "data": {
      "text/plain": "   patientunitstayid  hospitalid  death  acetamin  biotene  compazine  \\\n0                  2        -1.0    0.0       0.0      0.0        0.0   \n1                  4        -1.0    0.0       1.0      0.0        0.0   \n2                  6        -1.0    0.0       1.0      0.0        0.0   \n3                  8        -1.0    0.0       0.0      0.0        0.0   \n4                  9        -1.0    1.0       0.0      0.0        0.0   \n\n   ferrous  imdur  lidocaine  milk of magnesia  ...     paco2        ph  \\\n0      0.0    0.0        1.0               0.0  ...  0.000000  0.000000   \n1      0.0    0.0        0.0               0.0  ... -1.579970  0.197653   \n2      0.0    0.0        0.0               0.0  ... -0.532633 -0.488569   \n3      0.0    0.0        1.0               0.0  ...  0.000000  0.000000   \n4      0.0    0.0        0.0               0.0  ... -0.504097  0.463654   \n\n   albu_lab     bands       bun       hct       inr   lactate  platelets  \\\n0  0.000000 -0.543518  0.000000 -0.053358  0.000000  0.000000  -0.612116   \n1  0.782483 -0.009804 -0.599396 -0.119215 -0.993958  0.215618   0.333442   \n2  0.896858  1.076027  0.481041  0.052686 -0.273877  0.258150   0.749749   \n3  0.000000 -0.727557  0.000000  2.557923  0.000000  0.000000   0.220914   \n4 -0.301849  0.000000 -0.277121  1.277512 -0.744994 -0.204394   0.306499   \n\n        wbc  \n0  0.000000  \n1  0.015142  \n2  0.000000  \n3  0.000000  \n4  0.000000  \n\n[5 rows x 252 columns]",
      "text/html": "<div>\n<style scoped>\n    .dataframe tbody tr th:only-of-type {\n        vertical-align: middle;\n    }\n\n    .dataframe tbody tr th {\n        vertical-align: top;\n    }\n\n    .dataframe thead th {\n        text-align: right;\n    }\n</style>\n<table border=\"1\" class=\"dataframe\">\n  <thead>\n    <tr style=\"text-align: right;\">\n      <th></th>\n      <th>patientunitstayid</th>\n      <th>hospitalid</th>\n      <th>death</th>\n      <th>acetamin</th>\n      <th>biotene</th>\n      <th>compazine</th>\n      <th>ferrous</th>\n      <th>imdur</th>\n      <th>lidocaine</th>\n      <th>milk of magnesia</th>\n      <th>...</th>\n      <th>paco2</th>\n      <th>ph</th>\n      <th>albu_lab</th>\n      <th>bands</th>\n      <th>bun</th>\n      <th>hct</th>\n      <th>inr</th>\n      <th>lactate</th>\n      <th>platelets</th>\n      <th>wbc</th>\n    </tr>\n  </thead>\n  <tbody>\n    <tr>\n      <th>0</th>\n      <td>2</td>\n      <td>-1.0</td>\n      <td>0.0</td>\n      <td>0.0</td>\n      <td>0.0</td>\n      <td>0.0</td>\n      <td>0.0</td>\n      <td>0.0</td>\n      <td>1.0</td>\n      <td>0.0</td>\n      <td>...</td>\n      <td>0.000000</td>\n      <td>0.000000</td>\n      <td>0.000000</td>\n      <td>-0.543518</td>\n      <td>0.000000</td>\n      <td>-0.053358</td>\n      <td>0.000000</td>\n      <td>0.000000</td>\n      <td>-0.612116</td>\n      <td>0.000000</td>\n    </tr>\n    <tr>\n      <th>1</th>\n      <td>4</td>\n      <td>-1.0</td>\n      <td>0.0</td>\n      <td>1.0</td>\n      <td>0.0</td>\n      <td>0.0</td>\n      <td>0.0</td>\n      <td>0.0</td>\n      <td>0.0</td>\n      <td>0.0</td>\n      <td>...</td>\n      <td>-1.579970</td>\n      <td>0.197653</td>\n      <td>0.782483</td>\n      <td>-0.009804</td>\n      <td>-0.599396</td>\n      <td>-0.119215</td>\n      <td>-0.993958</td>\n      <td>0.215618</td>\n      <td>0.333442</td>\n      <td>0.015142</td>\n    </tr>\n    <tr>\n      <th>2</th>\n      <td>6</td>\n      <td>-1.0</td>\n      <td>0.0</td>\n      <td>1.0</td>\n      <td>0.0</td>\n      <td>0.0</td>\n      <td>0.0</td>\n      <td>0.0</td>\n      <td>0.0</td>\n      <td>0.0</td>\n      <td>...</td>\n      <td>-0.532633</td>\n      <td>-0.488569</td>\n      <td>0.896858</td>\n      <td>1.076027</td>\n      <td>0.481041</td>\n      <td>0.052686</td>\n      <td>-0.273877</td>\n      <td>0.258150</td>\n      <td>0.749749</td>\n      <td>0.000000</td>\n    </tr>\n    <tr>\n      <th>3</th>\n      <td>8</td>\n      <td>-1.0</td>\n      <td>0.0</td>\n      <td>0.0</td>\n      <td>0.0</td>\n      <td>0.0</td>\n      <td>0.0</td>\n      <td>0.0</td>\n      <td>1.0</td>\n      <td>0.0</td>\n      <td>...</td>\n      <td>0.000000</td>\n      <td>0.000000</td>\n      <td>0.000000</td>\n      <td>-0.727557</td>\n      <td>0.000000</td>\n      <td>2.557923</td>\n      <td>0.000000</td>\n      <td>0.000000</td>\n      <td>0.220914</td>\n      <td>0.000000</td>\n    </tr>\n    <tr>\n      <th>4</th>\n      <td>9</td>\n      <td>-1.0</td>\n      <td>1.0</td>\n      <td>0.0</td>\n      <td>0.0</td>\n      <td>0.0</td>\n      <td>0.0</td>\n      <td>0.0</td>\n      <td>0.0</td>\n      <td>0.0</td>\n      <td>...</td>\n      <td>-0.504097</td>\n      <td>0.463654</td>\n      <td>-0.301849</td>\n      <td>0.000000</td>\n      <td>-0.277121</td>\n      <td>1.277512</td>\n      <td>-0.744994</td>\n      <td>-0.204394</td>\n      <td>0.306499</td>\n      <td>0.000000</td>\n    </tr>\n  </tbody>\n</table>\n<p>5 rows × 252 columns</p>\n</div>"
     },
     "execution_count": 9,
     "metadata": {},
     "output_type": "execute_result"
    }
   ],
   "source": [
    "lab_time_mimic.head()"
   ],
   "metadata": {
    "collapsed": false,
    "ExecuteTime": {
     "end_time": "2024-04-16T04:05:41.594411Z",
     "start_time": "2024-04-16T04:05:41.589042Z"
    }
   },
   "id": "73d8e9c2dbc6f76",
   "execution_count": 9
  },
  {
   "cell_type": "code",
   "outputs": [],
   "source": [
    "eicu_drug_lab_148_281 = pd.read_csv('eicu_drug_lab_148_281.csv')\n",
    "eicu_drug_lab_167_420 = pd.read_csv('eicu_drug_lab_167_420.csv')\n",
    "eicu_drug_lab_199_458 = pd.read_csv('eicu_drug_lab_199_458.csv')\n",
    "eicu_drug_lab_252_165 = pd.read_csv('eicu_drug_lab_252_165.csv')\n",
    "eicu_drug_lab_449_283 = pd.read_csv('eicu_drug_lab_449_283.csv')\n",
    "\n",
    "# combine all the lab time data\n",
    "eicu_drug_lab = pd.concat([eicu_drug_lab_148_281, eicu_drug_lab_167_420, eicu_drug_lab_199_458, eicu_drug_lab_252_165, eicu_drug_lab_449_283])\n",
    "eicu_drug_lab.head()\n",
    "\n",
    "nan_columns = eicu_drug_lab.columns[eicu_drug_lab.isnull().any()].tolist()\n",
    "eicu_drug_lab[nan_columns] = eicu_drug_lab[nan_columns].fillna(0.0)\n",
    "\n",
    "eicu_drug_lab.to_csv('eicu_drug_lab.csv', index=False)"
   ],
   "metadata": {
    "collapsed": false,
    "ExecuteTime": {
     "end_time": "2024-04-16T04:05:44.097360Z",
     "start_time": "2024-04-16T04:05:41.592199Z"
    }
   },
   "id": "fe0c218c928ccd37",
   "execution_count": 10
  },
  {
   "cell_type": "code",
   "outputs": [
    {
     "data": {
      "text/plain": "   patientunitstayid  hospitalid  death  acetamin  biotene  compazine  \\\n0           534765.0       148.0    0.0       1.0      0.0        0.0   \n1           534851.0       148.0    0.0       1.0      0.0        0.0   \n2           535077.0       148.0    0.0       1.0      0.0        0.0   \n3           535557.0       148.0    0.0       0.0      0.0        0.0   \n4           535558.0       148.0    0.0       0.0      0.0        0.0   \n\n   ferrous  imdur  lidocaine  milk of magnesia  ...     paco2        ph  \\\n0      0.0    0.0        0.0               0.0  ...  0.680191 -1.088819   \n1      0.0    0.0        0.0               1.0  ...  0.575741  0.322756   \n2      0.0    0.0        0.0               0.0  ...  0.000000  0.000000   \n3      0.0    0.0        0.0               0.0  ... -0.634934  0.231277   \n4      0.0    0.0        0.0               0.0  ...  0.000000  0.000000   \n\n   albu_lab     bands       bun       hct       inr   lactate  platelets  \\\n0 -0.668347 -0.552916 -0.408329 -0.438321 -0.678909 -0.315213   2.444322   \n1 -0.599267  0.000000  0.410532  1.184512 -0.077720  0.183829  -0.225811   \n2  1.542241  0.000000 -0.572101  1.576018 -1.108329  0.000000   0.455925   \n3 -0.628873  0.000000 -1.021063  0.025345 -0.593025 -1.013871   0.007431   \n4  0.022462  0.000000 -0.490215 -0.051421  0.000000  0.000000   0.081917   \n\n        wbc  \n0  2.432230  \n1 -0.409076  \n2 -0.581276  \n3 -0.353042  \n4 -1.011777  \n\n[5 rows x 271 columns]",
      "text/html": "<div>\n<style scoped>\n    .dataframe tbody tr th:only-of-type {\n        vertical-align: middle;\n    }\n\n    .dataframe tbody tr th {\n        vertical-align: top;\n    }\n\n    .dataframe thead th {\n        text-align: right;\n    }\n</style>\n<table border=\"1\" class=\"dataframe\">\n  <thead>\n    <tr style=\"text-align: right;\">\n      <th></th>\n      <th>patientunitstayid</th>\n      <th>hospitalid</th>\n      <th>death</th>\n      <th>acetamin</th>\n      <th>biotene</th>\n      <th>compazine</th>\n      <th>ferrous</th>\n      <th>imdur</th>\n      <th>lidocaine</th>\n      <th>milk of magnesia</th>\n      <th>...</th>\n      <th>paco2</th>\n      <th>ph</th>\n      <th>albu_lab</th>\n      <th>bands</th>\n      <th>bun</th>\n      <th>hct</th>\n      <th>inr</th>\n      <th>lactate</th>\n      <th>platelets</th>\n      <th>wbc</th>\n    </tr>\n  </thead>\n  <tbody>\n    <tr>\n      <th>0</th>\n      <td>534765.0</td>\n      <td>148.0</td>\n      <td>0.0</td>\n      <td>1.0</td>\n      <td>0.0</td>\n      <td>0.0</td>\n      <td>0.0</td>\n      <td>0.0</td>\n      <td>0.0</td>\n      <td>0.0</td>\n      <td>...</td>\n      <td>0.680191</td>\n      <td>-1.088819</td>\n      <td>-0.668347</td>\n      <td>-0.552916</td>\n      <td>-0.408329</td>\n      <td>-0.438321</td>\n      <td>-0.678909</td>\n      <td>-0.315213</td>\n      <td>2.444322</td>\n      <td>2.432230</td>\n    </tr>\n    <tr>\n      <th>1</th>\n      <td>534851.0</td>\n      <td>148.0</td>\n      <td>0.0</td>\n      <td>1.0</td>\n      <td>0.0</td>\n      <td>0.0</td>\n      <td>0.0</td>\n      <td>0.0</td>\n      <td>0.0</td>\n      <td>1.0</td>\n      <td>...</td>\n      <td>0.575741</td>\n      <td>0.322756</td>\n      <td>-0.599267</td>\n      <td>0.000000</td>\n      <td>0.410532</td>\n      <td>1.184512</td>\n      <td>-0.077720</td>\n      <td>0.183829</td>\n      <td>-0.225811</td>\n      <td>-0.409076</td>\n    </tr>\n    <tr>\n      <th>2</th>\n      <td>535077.0</td>\n      <td>148.0</td>\n      <td>0.0</td>\n      <td>1.0</td>\n      <td>0.0</td>\n      <td>0.0</td>\n      <td>0.0</td>\n      <td>0.0</td>\n      <td>0.0</td>\n      <td>0.0</td>\n      <td>...</td>\n      <td>0.000000</td>\n      <td>0.000000</td>\n      <td>1.542241</td>\n      <td>0.000000</td>\n      <td>-0.572101</td>\n      <td>1.576018</td>\n      <td>-1.108329</td>\n      <td>0.000000</td>\n      <td>0.455925</td>\n      <td>-0.581276</td>\n    </tr>\n    <tr>\n      <th>3</th>\n      <td>535557.0</td>\n      <td>148.0</td>\n      <td>0.0</td>\n      <td>0.0</td>\n      <td>0.0</td>\n      <td>0.0</td>\n      <td>0.0</td>\n      <td>0.0</td>\n      <td>0.0</td>\n      <td>0.0</td>\n      <td>...</td>\n      <td>-0.634934</td>\n      <td>0.231277</td>\n      <td>-0.628873</td>\n      <td>0.000000</td>\n      <td>-1.021063</td>\n      <td>0.025345</td>\n      <td>-0.593025</td>\n      <td>-1.013871</td>\n      <td>0.007431</td>\n      <td>-0.353042</td>\n    </tr>\n    <tr>\n      <th>4</th>\n      <td>535558.0</td>\n      <td>148.0</td>\n      <td>0.0</td>\n      <td>0.0</td>\n      <td>0.0</td>\n      <td>0.0</td>\n      <td>0.0</td>\n      <td>0.0</td>\n      <td>0.0</td>\n      <td>0.0</td>\n      <td>...</td>\n      <td>0.000000</td>\n      <td>0.000000</td>\n      <td>0.022462</td>\n      <td>0.000000</td>\n      <td>-0.490215</td>\n      <td>-0.051421</td>\n      <td>0.000000</td>\n      <td>0.000000</td>\n      <td>0.081917</td>\n      <td>-1.011777</td>\n    </tr>\n  </tbody>\n</table>\n<p>5 rows × 271 columns</p>\n</div>"
     },
     "execution_count": 11,
     "metadata": {},
     "output_type": "execute_result"
    }
   ],
   "source": [
    "pd.read_csv('eicu_drug_lab.csv').head()"
   ],
   "metadata": {
    "collapsed": false,
    "ExecuteTime": {
     "end_time": "2024-04-16T04:05:44.404182Z",
     "start_time": "2024-04-16T04:05:44.097948Z"
    }
   },
   "id": "61ec17089838fd82",
   "execution_count": 11
  },
  {
   "cell_type": "code",
   "outputs": [
    {
     "data": {
      "text/plain": "      patientunitstayid  hospitalid  death  acetamin  biotene  compazine  \\\n0              534765.0       148.0    0.0       1.0      0.0        0.0   \n1              534851.0       148.0    0.0       1.0      0.0        0.0   \n2              535077.0       148.0    0.0       1.0      0.0        0.0   \n3              535557.0       148.0    0.0       0.0      0.0        0.0   \n4              535558.0       148.0    0.0       0.0      0.0        0.0   \n...                 ...         ...    ...       ...      ...        ...   \n4202          3247220.0       449.0    0.0       1.0      0.0        0.0   \n4203          3247294.0       449.0    0.0       1.0      0.0        0.0   \n4204          3247337.0       449.0    0.0       1.0      0.0        0.0   \n4205          3247410.0       449.0    0.0       1.0      0.0        0.0   \n4206          3247417.0       449.0    0.0       1.0      0.0        0.0   \n\n      ferrous  imdur  lidocaine  milk of magnesia  ...     paco2        ph  \\\n0         0.0    0.0        0.0               0.0  ...  0.680191 -1.088819   \n1         0.0    0.0        0.0               1.0  ...  0.575741  0.322756   \n2         0.0    0.0        0.0               0.0  ...  0.000000  0.000000   \n3         0.0    0.0        0.0               0.0  ... -0.634934  0.231277   \n4         0.0    0.0        0.0               0.0  ...  0.000000  0.000000   \n...       ...    ...        ...               ...  ...       ...       ...   \n4202      0.0    0.0        1.0               0.0  ...  0.396683 -0.306163   \n4203      0.0    0.0        1.0               0.0  ...  0.000000  0.000000   \n4204      0.0    0.0        1.0               0.0  ... -1.602796  1.790236   \n4205      0.0    0.0        1.0               0.0  ...  0.000000  0.000000   \n4206      0.0    0.0        1.0               0.0  ...  0.871186 -0.040620   \n\n      albu_lab     bands       bun       hct       inr   lactate  platelets  \\\n0    -0.668347 -0.552916 -0.408329 -0.438321 -0.678909 -0.315213   2.444322   \n1    -0.599267  0.000000  0.410532  1.184512 -0.077720  0.183829  -0.225811   \n2     1.542241  0.000000 -0.572101  1.576018 -1.108329  0.000000   0.455925   \n3    -0.628873  0.000000 -1.021063  0.025345 -0.593025 -1.013871   0.007431   \n4     0.022462  0.000000 -0.490215 -0.051421  0.000000  0.000000   0.081917   \n...        ...       ...       ...       ...       ...       ...        ...   \n4202  0.000000  0.000000 -0.248456  0.694306 -0.764793 -0.534791  -0.349579   \n4203  0.000000  0.000000 -0.699480  1.586254 -0.936561  0.000000   0.080339   \n4204  0.000000  0.000000 -0.926941  0.255643  0.000000 -0.564734   0.062980   \n4205  0.000000  0.000000 -0.574583 -0.767903  0.000000  0.000000   0.723675   \n4206 -0.668347  0.000000  0.509478  0.081640 -0.936561 -0.415021   0.747241   \n\n           wbc  \n0     2.432230  \n1    -0.409076  \n2    -0.581276  \n3    -0.353042  \n4    -1.011777  \n...        ...  \n4202 -0.068775  \n4203 -0.080620  \n4204  0.805893  \n4205 -0.316598  \n4206  0.113265  \n\n[34755 rows x 252 columns]",
      "text/html": "<div>\n<style scoped>\n    .dataframe tbody tr th:only-of-type {\n        vertical-align: middle;\n    }\n\n    .dataframe tbody tr th {\n        vertical-align: top;\n    }\n\n    .dataframe thead th {\n        text-align: right;\n    }\n</style>\n<table border=\"1\" class=\"dataframe\">\n  <thead>\n    <tr style=\"text-align: right;\">\n      <th></th>\n      <th>patientunitstayid</th>\n      <th>hospitalid</th>\n      <th>death</th>\n      <th>acetamin</th>\n      <th>biotene</th>\n      <th>compazine</th>\n      <th>ferrous</th>\n      <th>imdur</th>\n      <th>lidocaine</th>\n      <th>milk of magnesia</th>\n      <th>...</th>\n      <th>paco2</th>\n      <th>ph</th>\n      <th>albu_lab</th>\n      <th>bands</th>\n      <th>bun</th>\n      <th>hct</th>\n      <th>inr</th>\n      <th>lactate</th>\n      <th>platelets</th>\n      <th>wbc</th>\n    </tr>\n  </thead>\n  <tbody>\n    <tr>\n      <th>0</th>\n      <td>534765.0</td>\n      <td>148.0</td>\n      <td>0.0</td>\n      <td>1.0</td>\n      <td>0.0</td>\n      <td>0.0</td>\n      <td>0.0</td>\n      <td>0.0</td>\n      <td>0.0</td>\n      <td>0.0</td>\n      <td>...</td>\n      <td>0.680191</td>\n      <td>-1.088819</td>\n      <td>-0.668347</td>\n      <td>-0.552916</td>\n      <td>-0.408329</td>\n      <td>-0.438321</td>\n      <td>-0.678909</td>\n      <td>-0.315213</td>\n      <td>2.444322</td>\n      <td>2.432230</td>\n    </tr>\n    <tr>\n      <th>1</th>\n      <td>534851.0</td>\n      <td>148.0</td>\n      <td>0.0</td>\n      <td>1.0</td>\n      <td>0.0</td>\n      <td>0.0</td>\n      <td>0.0</td>\n      <td>0.0</td>\n      <td>0.0</td>\n      <td>1.0</td>\n      <td>...</td>\n      <td>0.575741</td>\n      <td>0.322756</td>\n      <td>-0.599267</td>\n      <td>0.000000</td>\n      <td>0.410532</td>\n      <td>1.184512</td>\n      <td>-0.077720</td>\n      <td>0.183829</td>\n      <td>-0.225811</td>\n      <td>-0.409076</td>\n    </tr>\n    <tr>\n      <th>2</th>\n      <td>535077.0</td>\n      <td>148.0</td>\n      <td>0.0</td>\n      <td>1.0</td>\n      <td>0.0</td>\n      <td>0.0</td>\n      <td>0.0</td>\n      <td>0.0</td>\n      <td>0.0</td>\n      <td>0.0</td>\n      <td>...</td>\n      <td>0.000000</td>\n      <td>0.000000</td>\n      <td>1.542241</td>\n      <td>0.000000</td>\n      <td>-0.572101</td>\n      <td>1.576018</td>\n      <td>-1.108329</td>\n      <td>0.000000</td>\n      <td>0.455925</td>\n      <td>-0.581276</td>\n    </tr>\n    <tr>\n      <th>3</th>\n      <td>535557.0</td>\n      <td>148.0</td>\n      <td>0.0</td>\n      <td>0.0</td>\n      <td>0.0</td>\n      <td>0.0</td>\n      <td>0.0</td>\n      <td>0.0</td>\n      <td>0.0</td>\n      <td>0.0</td>\n      <td>...</td>\n      <td>-0.634934</td>\n      <td>0.231277</td>\n      <td>-0.628873</td>\n      <td>0.000000</td>\n      <td>-1.021063</td>\n      <td>0.025345</td>\n      <td>-0.593025</td>\n      <td>-1.013871</td>\n      <td>0.007431</td>\n      <td>-0.353042</td>\n    </tr>\n    <tr>\n      <th>4</th>\n      <td>535558.0</td>\n      <td>148.0</td>\n      <td>0.0</td>\n      <td>0.0</td>\n      <td>0.0</td>\n      <td>0.0</td>\n      <td>0.0</td>\n      <td>0.0</td>\n      <td>0.0</td>\n      <td>0.0</td>\n      <td>...</td>\n      <td>0.000000</td>\n      <td>0.000000</td>\n      <td>0.022462</td>\n      <td>0.000000</td>\n      <td>-0.490215</td>\n      <td>-0.051421</td>\n      <td>0.000000</td>\n      <td>0.000000</td>\n      <td>0.081917</td>\n      <td>-1.011777</td>\n    </tr>\n    <tr>\n      <th>...</th>\n      <td>...</td>\n      <td>...</td>\n      <td>...</td>\n      <td>...</td>\n      <td>...</td>\n      <td>...</td>\n      <td>...</td>\n      <td>...</td>\n      <td>...</td>\n      <td>...</td>\n      <td>...</td>\n      <td>...</td>\n      <td>...</td>\n      <td>...</td>\n      <td>...</td>\n      <td>...</td>\n      <td>...</td>\n      <td>...</td>\n      <td>...</td>\n      <td>...</td>\n      <td>...</td>\n    </tr>\n    <tr>\n      <th>4202</th>\n      <td>3247220.0</td>\n      <td>449.0</td>\n      <td>0.0</td>\n      <td>1.0</td>\n      <td>0.0</td>\n      <td>0.0</td>\n      <td>0.0</td>\n      <td>0.0</td>\n      <td>1.0</td>\n      <td>0.0</td>\n      <td>...</td>\n      <td>0.396683</td>\n      <td>-0.306163</td>\n      <td>0.000000</td>\n      <td>0.000000</td>\n      <td>-0.248456</td>\n      <td>0.694306</td>\n      <td>-0.764793</td>\n      <td>-0.534791</td>\n      <td>-0.349579</td>\n      <td>-0.068775</td>\n    </tr>\n    <tr>\n      <th>4203</th>\n      <td>3247294.0</td>\n      <td>449.0</td>\n      <td>0.0</td>\n      <td>1.0</td>\n      <td>0.0</td>\n      <td>0.0</td>\n      <td>0.0</td>\n      <td>0.0</td>\n      <td>1.0</td>\n      <td>0.0</td>\n      <td>...</td>\n      <td>0.000000</td>\n      <td>0.000000</td>\n      <td>0.000000</td>\n      <td>0.000000</td>\n      <td>-0.699480</td>\n      <td>1.586254</td>\n      <td>-0.936561</td>\n      <td>0.000000</td>\n      <td>0.080339</td>\n      <td>-0.080620</td>\n    </tr>\n    <tr>\n      <th>4204</th>\n      <td>3247337.0</td>\n      <td>449.0</td>\n      <td>0.0</td>\n      <td>1.0</td>\n      <td>0.0</td>\n      <td>0.0</td>\n      <td>0.0</td>\n      <td>0.0</td>\n      <td>1.0</td>\n      <td>0.0</td>\n      <td>...</td>\n      <td>-1.602796</td>\n      <td>1.790236</td>\n      <td>0.000000</td>\n      <td>0.000000</td>\n      <td>-0.926941</td>\n      <td>0.255643</td>\n      <td>0.000000</td>\n      <td>-0.564734</td>\n      <td>0.062980</td>\n      <td>0.805893</td>\n    </tr>\n    <tr>\n      <th>4205</th>\n      <td>3247410.0</td>\n      <td>449.0</td>\n      <td>0.0</td>\n      <td>1.0</td>\n      <td>0.0</td>\n      <td>0.0</td>\n      <td>0.0</td>\n      <td>0.0</td>\n      <td>1.0</td>\n      <td>0.0</td>\n      <td>...</td>\n      <td>0.000000</td>\n      <td>0.000000</td>\n      <td>0.000000</td>\n      <td>0.000000</td>\n      <td>-0.574583</td>\n      <td>-0.767903</td>\n      <td>0.000000</td>\n      <td>0.000000</td>\n      <td>0.723675</td>\n      <td>-0.316598</td>\n    </tr>\n    <tr>\n      <th>4206</th>\n      <td>3247417.0</td>\n      <td>449.0</td>\n      <td>0.0</td>\n      <td>1.0</td>\n      <td>0.0</td>\n      <td>0.0</td>\n      <td>0.0</td>\n      <td>0.0</td>\n      <td>1.0</td>\n      <td>0.0</td>\n      <td>...</td>\n      <td>0.871186</td>\n      <td>-0.040620</td>\n      <td>-0.668347</td>\n      <td>0.000000</td>\n      <td>0.509478</td>\n      <td>0.081640</td>\n      <td>-0.936561</td>\n      <td>-0.415021</td>\n      <td>0.747241</td>\n      <td>0.113265</td>\n    </tr>\n  </tbody>\n</table>\n<p>34755 rows × 252 columns</p>\n</div>"
     },
     "execution_count": 36,
     "metadata": {},
     "output_type": "execute_result"
    }
   ],
   "source": [
    "# select the first 240 columns and last 12 columns of eicu_drug_lab\n",
    "first_240_columns = eicu_drug_lab.iloc[:, :240]\n",
    "last_12_columns = eicu_drug_lab.iloc[:, -12:]\n",
    "selected_eicu_drug_lab = pd.concat([first_240_columns, last_12_columns], axis=1)\n",
    "selected_eicu_drug_lab"
   ],
   "metadata": {
    "collapsed": false,
    "ExecuteTime": {
     "end_time": "2024-04-16T04:16:45.306638Z",
     "start_time": "2024-04-16T04:16:45.267680Z"
    }
   },
   "id": "a746fe7c52fd985",
   "execution_count": 36
  },
  {
   "cell_type": "code",
   "outputs": [],
   "source": [
    "# Combine mimic and eicu data\n",
    "combined_data = pd.concat([lab_time_mimic, selected_eicu_drug_lab])\n",
    "combined_data.to_csv('eicu_mimic_dataset.csv', index=False)"
   ],
   "metadata": {
    "collapsed": false,
    "ExecuteTime": {
     "end_time": "2024-04-16T04:18:23.492110Z",
     "start_time": "2024-04-16T04:18:19.366200Z"
    }
   },
   "id": "d116b1c87a253cab",
   "execution_count": 40
  },
  {
   "cell_type": "code",
   "outputs": [
    {
     "data": {
      "text/plain": "[]"
     },
     "execution_count": 41,
     "metadata": {},
     "output_type": "execute_result"
    }
   ],
   "source": [
    "nan_columns = combined_data.columns[combined_data.isnull().any()].tolist()\n",
    "nan_columns"
   ],
   "metadata": {
    "collapsed": false,
    "ExecuteTime": {
     "end_time": "2024-04-16T04:18:40.255784Z",
     "start_time": "2024-04-16T04:18:40.245255Z"
    }
   },
   "id": "ecdea4e2e28b234e",
   "execution_count": 41
  },
  {
   "cell_type": "code",
   "outputs": [],
   "source": [],
   "metadata": {
    "collapsed": false
   },
   "id": "1b7f2b5dd857f243"
  }
 ],
 "metadata": {
  "kernelspec": {
   "display_name": "Python 3",
   "language": "python",
   "name": "python3"
  },
  "language_info": {
   "codemirror_mode": {
    "name": "ipython",
    "version": 2
   },
   "file_extension": ".py",
   "mimetype": "text/x-python",
   "name": "python",
   "nbconvert_exporter": "python",
   "pygments_lexer": "ipython2",
   "version": "2.7.6"
  }
 },
 "nbformat": 4,
 "nbformat_minor": 5
}
