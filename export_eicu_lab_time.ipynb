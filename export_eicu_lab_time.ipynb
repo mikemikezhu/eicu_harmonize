{
 "cells": [
  {
   "cell_type": "code",
   "outputs": [
    {
     "data": {
      "text/plain": "   Unnamed: 0  patientunitstayid  hospitalid  time_window  death  ventilator  \\\n0           0           534765.0       148.0         -1.0    0.0         0.0   \n1           1           534765.0       148.0          0.0    0.0         1.0   \n2           2           534765.0       148.0          1.0    0.0         0.0   \n3           3           534765.0       148.0          2.0    0.0         0.0   \n4           4           534765.0       148.0          3.0    0.0         0.0   \n\n   sepsis  acetamin  biotene  compazine  ...  sex_is_male  sex_is_female  \\\n0     0.0       1.0      0.0        0.0  ...          0.0            1.0   \n1     1.0       0.0      0.0        0.0  ...          0.0            1.0   \n2     0.0       0.0      0.0        0.0  ...          0.0            1.0   \n3     0.0       0.0      0.0        0.0  ...          0.0            1.0   \n4     0.0       0.0      0.0        0.0  ...          0.0            1.0   \n\n   < 30  30 - 39  40 - 49  50 - 59  60 - 69  70 - 79  80 - 89  > 89  \n0   0.0      0.0      0.0      0.0      0.0      0.0      1.0   0.0  \n1   0.0      0.0      0.0      0.0      0.0      0.0      1.0   0.0  \n2   0.0      0.0      0.0      0.0      0.0      0.0      1.0   0.0  \n3   0.0      0.0      0.0      0.0      0.0      0.0      1.0   0.0  \n4   0.0      0.0      0.0      0.0      0.0      0.0      1.0   0.0  \n\n[5 rows x 263 columns]",
      "text/html": "<div>\n<style scoped>\n    .dataframe tbody tr th:only-of-type {\n        vertical-align: middle;\n    }\n\n    .dataframe tbody tr th {\n        vertical-align: top;\n    }\n\n    .dataframe thead th {\n        text-align: right;\n    }\n</style>\n<table border=\"1\" class=\"dataframe\">\n  <thead>\n    <tr style=\"text-align: right;\">\n      <th></th>\n      <th>Unnamed: 0</th>\n      <th>patientunitstayid</th>\n      <th>hospitalid</th>\n      <th>time_window</th>\n      <th>death</th>\n      <th>ventilator</th>\n      <th>sepsis</th>\n      <th>acetamin</th>\n      <th>biotene</th>\n      <th>compazine</th>\n      <th>...</th>\n      <th>sex_is_male</th>\n      <th>sex_is_female</th>\n      <th>&lt; 30</th>\n      <th>30 - 39</th>\n      <th>40 - 49</th>\n      <th>50 - 59</th>\n      <th>60 - 69</th>\n      <th>70 - 79</th>\n      <th>80 - 89</th>\n      <th>&gt; 89</th>\n    </tr>\n  </thead>\n  <tbody>\n    <tr>\n      <th>0</th>\n      <td>0</td>\n      <td>534765.0</td>\n      <td>148.0</td>\n      <td>-1.0</td>\n      <td>0.0</td>\n      <td>0.0</td>\n      <td>0.0</td>\n      <td>1.0</td>\n      <td>0.0</td>\n      <td>0.0</td>\n      <td>...</td>\n      <td>0.0</td>\n      <td>1.0</td>\n      <td>0.0</td>\n      <td>0.0</td>\n      <td>0.0</td>\n      <td>0.0</td>\n      <td>0.0</td>\n      <td>0.0</td>\n      <td>1.0</td>\n      <td>0.0</td>\n    </tr>\n    <tr>\n      <th>1</th>\n      <td>1</td>\n      <td>534765.0</td>\n      <td>148.0</td>\n      <td>0.0</td>\n      <td>0.0</td>\n      <td>1.0</td>\n      <td>1.0</td>\n      <td>0.0</td>\n      <td>0.0</td>\n      <td>0.0</td>\n      <td>...</td>\n      <td>0.0</td>\n      <td>1.0</td>\n      <td>0.0</td>\n      <td>0.0</td>\n      <td>0.0</td>\n      <td>0.0</td>\n      <td>0.0</td>\n      <td>0.0</td>\n      <td>1.0</td>\n      <td>0.0</td>\n    </tr>\n    <tr>\n      <th>2</th>\n      <td>2</td>\n      <td>534765.0</td>\n      <td>148.0</td>\n      <td>1.0</td>\n      <td>0.0</td>\n      <td>0.0</td>\n      <td>0.0</td>\n      <td>0.0</td>\n      <td>0.0</td>\n      <td>0.0</td>\n      <td>...</td>\n      <td>0.0</td>\n      <td>1.0</td>\n      <td>0.0</td>\n      <td>0.0</td>\n      <td>0.0</td>\n      <td>0.0</td>\n      <td>0.0</td>\n      <td>0.0</td>\n      <td>1.0</td>\n      <td>0.0</td>\n    </tr>\n    <tr>\n      <th>3</th>\n      <td>3</td>\n      <td>534765.0</td>\n      <td>148.0</td>\n      <td>2.0</td>\n      <td>0.0</td>\n      <td>0.0</td>\n      <td>0.0</td>\n      <td>0.0</td>\n      <td>0.0</td>\n      <td>0.0</td>\n      <td>...</td>\n      <td>0.0</td>\n      <td>1.0</td>\n      <td>0.0</td>\n      <td>0.0</td>\n      <td>0.0</td>\n      <td>0.0</td>\n      <td>0.0</td>\n      <td>0.0</td>\n      <td>1.0</td>\n      <td>0.0</td>\n    </tr>\n    <tr>\n      <th>4</th>\n      <td>4</td>\n      <td>534765.0</td>\n      <td>148.0</td>\n      <td>3.0</td>\n      <td>0.0</td>\n      <td>0.0</td>\n      <td>0.0</td>\n      <td>0.0</td>\n      <td>0.0</td>\n      <td>0.0</td>\n      <td>...</td>\n      <td>0.0</td>\n      <td>1.0</td>\n      <td>0.0</td>\n      <td>0.0</td>\n      <td>0.0</td>\n      <td>0.0</td>\n      <td>0.0</td>\n      <td>0.0</td>\n      <td>1.0</td>\n      <td>0.0</td>\n    </tr>\n  </tbody>\n</table>\n<p>5 rows × 263 columns</p>\n</div>"
     },
     "execution_count": 2,
     "metadata": {},
     "output_type": "execute_result"
    }
   ],
   "source": [
    "import pandas as pd\n",
    "\n",
    "eicu_time = pd.read_csv(\"eicu_time_dataset.csv\")\n",
    "eicu_time.head()"
   ],
   "metadata": {
    "collapsed": false,
    "ExecuteTime": {
     "end_time": "2024-04-10T20:18:28.325455Z",
     "start_time": "2024-04-10T20:18:25.811221Z"
    }
   },
   "id": "b24426f8ebc5eaf7",
   "execution_count": 2
  },
  {
   "cell_type": "code",
   "outputs": [
    {
     "data": {
      "text/plain": "   patientunitstayid  hospitalid  death  acetamin  biotene  compazine  \\\n0           141168.0        59.0    1.0       0.0      0.0        0.0   \n1           141178.0        60.0    0.0       1.0      0.0        0.0   \n2           141179.0        60.0    0.0       0.0      0.0        0.0   \n3           141194.0        73.0    0.0       1.0      0.0        0.0   \n4           141196.0        67.0    0.0       1.0      0.0        0.0   \n\n   ferrous  imdur  lidocaine  milk of magnesia  ...  sex_is_male  \\\n0      0.0    0.0        0.0               0.0  ...          0.0   \n1      0.0    0.0        0.0               0.0  ...          0.0   \n2      0.0    0.0        0.0               0.0  ...          0.0   \n3      0.0    0.0        0.0               0.0  ...          1.0   \n4      0.0    0.0        0.0               0.0  ...          1.0   \n\n   sex_is_female  < 30  30 - 39  40 - 49  50 - 59  60 - 69  70 - 79  80 - 89  \\\n0            1.0   0.0      0.0      0.0      0.0      0.0      1.0      0.0   \n1            1.0   0.0      0.0      0.0      1.0      0.0      0.0      0.0   \n2            1.0   0.0      0.0      0.0      1.0      0.0      0.0      0.0   \n3            0.0   0.0      0.0      0.0      0.0      1.0      0.0      0.0   \n4            0.0   0.0      0.0      0.0      0.0      0.0      1.0      0.0   \n\n   > 89  \n0   0.0  \n1   0.0  \n2   0.0  \n3   0.0  \n4   0.0  \n\n[5 rows x 259 columns]",
      "text/html": "<div>\n<style scoped>\n    .dataframe tbody tr th:only-of-type {\n        vertical-align: middle;\n    }\n\n    .dataframe tbody tr th {\n        vertical-align: top;\n    }\n\n    .dataframe thead th {\n        text-align: right;\n    }\n</style>\n<table border=\"1\" class=\"dataframe\">\n  <thead>\n    <tr style=\"text-align: right;\">\n      <th></th>\n      <th>patientunitstayid</th>\n      <th>hospitalid</th>\n      <th>death</th>\n      <th>acetamin</th>\n      <th>biotene</th>\n      <th>compazine</th>\n      <th>ferrous</th>\n      <th>imdur</th>\n      <th>lidocaine</th>\n      <th>milk of magnesia</th>\n      <th>...</th>\n      <th>sex_is_male</th>\n      <th>sex_is_female</th>\n      <th>&lt; 30</th>\n      <th>30 - 39</th>\n      <th>40 - 49</th>\n      <th>50 - 59</th>\n      <th>60 - 69</th>\n      <th>70 - 79</th>\n      <th>80 - 89</th>\n      <th>&gt; 89</th>\n    </tr>\n  </thead>\n  <tbody>\n    <tr>\n      <th>0</th>\n      <td>141168.0</td>\n      <td>59.0</td>\n      <td>1.0</td>\n      <td>0.0</td>\n      <td>0.0</td>\n      <td>0.0</td>\n      <td>0.0</td>\n      <td>0.0</td>\n      <td>0.0</td>\n      <td>0.0</td>\n      <td>...</td>\n      <td>0.0</td>\n      <td>1.0</td>\n      <td>0.0</td>\n      <td>0.0</td>\n      <td>0.0</td>\n      <td>0.0</td>\n      <td>0.0</td>\n      <td>1.0</td>\n      <td>0.0</td>\n      <td>0.0</td>\n    </tr>\n    <tr>\n      <th>1</th>\n      <td>141178.0</td>\n      <td>60.0</td>\n      <td>0.0</td>\n      <td>1.0</td>\n      <td>0.0</td>\n      <td>0.0</td>\n      <td>0.0</td>\n      <td>0.0</td>\n      <td>0.0</td>\n      <td>0.0</td>\n      <td>...</td>\n      <td>0.0</td>\n      <td>1.0</td>\n      <td>0.0</td>\n      <td>0.0</td>\n      <td>0.0</td>\n      <td>1.0</td>\n      <td>0.0</td>\n      <td>0.0</td>\n      <td>0.0</td>\n      <td>0.0</td>\n    </tr>\n    <tr>\n      <th>2</th>\n      <td>141179.0</td>\n      <td>60.0</td>\n      <td>0.0</td>\n      <td>0.0</td>\n      <td>0.0</td>\n      <td>0.0</td>\n      <td>0.0</td>\n      <td>0.0</td>\n      <td>0.0</td>\n      <td>0.0</td>\n      <td>...</td>\n      <td>0.0</td>\n      <td>1.0</td>\n      <td>0.0</td>\n      <td>0.0</td>\n      <td>0.0</td>\n      <td>1.0</td>\n      <td>0.0</td>\n      <td>0.0</td>\n      <td>0.0</td>\n      <td>0.0</td>\n    </tr>\n    <tr>\n      <th>3</th>\n      <td>141194.0</td>\n      <td>73.0</td>\n      <td>0.0</td>\n      <td>1.0</td>\n      <td>0.0</td>\n      <td>0.0</td>\n      <td>0.0</td>\n      <td>0.0</td>\n      <td>0.0</td>\n      <td>0.0</td>\n      <td>...</td>\n      <td>1.0</td>\n      <td>0.0</td>\n      <td>0.0</td>\n      <td>0.0</td>\n      <td>0.0</td>\n      <td>0.0</td>\n      <td>1.0</td>\n      <td>0.0</td>\n      <td>0.0</td>\n      <td>0.0</td>\n    </tr>\n    <tr>\n      <th>4</th>\n      <td>141196.0</td>\n      <td>67.0</td>\n      <td>0.0</td>\n      <td>1.0</td>\n      <td>0.0</td>\n      <td>0.0</td>\n      <td>0.0</td>\n      <td>0.0</td>\n      <td>0.0</td>\n      <td>0.0</td>\n      <td>...</td>\n      <td>1.0</td>\n      <td>0.0</td>\n      <td>0.0</td>\n      <td>0.0</td>\n      <td>0.0</td>\n      <td>0.0</td>\n      <td>0.0</td>\n      <td>1.0</td>\n      <td>0.0</td>\n      <td>0.0</td>\n    </tr>\n  </tbody>\n</table>\n<p>5 rows × 259 columns</p>\n</div>"
     },
     "execution_count": 3,
     "metadata": {},
     "output_type": "execute_result"
    }
   ],
   "source": [
    "eicu = pd.read_csv(\"eicu_dataset.csv\")\n",
    "eicu.head()"
   ],
   "metadata": {
    "collapsed": false,
    "ExecuteTime": {
     "end_time": "2024-04-10T20:18:30.347534Z",
     "start_time": "2024-04-10T20:18:28.325926Z"
    }
   },
   "id": "c38a2f29efee6497",
   "execution_count": 3
  },
  {
   "cell_type": "code",
   "outputs": [],
   "source": [
    "lab = pd.read_csv(\"data/eicu/lab.csv\")"
   ],
   "metadata": {
    "collapsed": false,
    "ExecuteTime": {
     "end_time": "2024-04-10T20:18:53.753381Z",
     "start_time": "2024-04-10T20:18:30.339479Z"
    }
   },
   "id": "a647af13557be6a0",
   "execution_count": 4
  },
  {
   "cell_type": "code",
   "outputs": [
    {
     "data": {
      "text/plain": "      labid  patientunitstayid  labresultoffset  labtypeid     labname  \\\n0  52307161             141168             2026          3  fibrinogen   \n1  50363251             141168             1133          3    PT - INR   \n2  49149139             141168             2026          1   magnesium   \n3  50363250             141168             1133          3          PT   \n4  66695374             141168             2141          7          pH   \n\n   labresult labresulttext labmeasurenamesystem labmeasurenameinterface  \\\n0      177.0           177                mg/dL                   mg/dL   \n1        2.5           2.5                ratio                     NaN   \n2        2.0           2.0                mg/dL                   mg/dL   \n3       26.6          26.6                  sec                     sec   \n4        7.2          7.20                  NaN                   Units   \n\n   labresultrevisedoffset  \n0                    2219  \n1                    1208  \n2                    2090  \n3                    1208  \n4                    2155  ",
      "text/html": "<div>\n<style scoped>\n    .dataframe tbody tr th:only-of-type {\n        vertical-align: middle;\n    }\n\n    .dataframe tbody tr th {\n        vertical-align: top;\n    }\n\n    .dataframe thead th {\n        text-align: right;\n    }\n</style>\n<table border=\"1\" class=\"dataframe\">\n  <thead>\n    <tr style=\"text-align: right;\">\n      <th></th>\n      <th>labid</th>\n      <th>patientunitstayid</th>\n      <th>labresultoffset</th>\n      <th>labtypeid</th>\n      <th>labname</th>\n      <th>labresult</th>\n      <th>labresulttext</th>\n      <th>labmeasurenamesystem</th>\n      <th>labmeasurenameinterface</th>\n      <th>labresultrevisedoffset</th>\n    </tr>\n  </thead>\n  <tbody>\n    <tr>\n      <th>0</th>\n      <td>52307161</td>\n      <td>141168</td>\n      <td>2026</td>\n      <td>3</td>\n      <td>fibrinogen</td>\n      <td>177.0</td>\n      <td>177</td>\n      <td>mg/dL</td>\n      <td>mg/dL</td>\n      <td>2219</td>\n    </tr>\n    <tr>\n      <th>1</th>\n      <td>50363251</td>\n      <td>141168</td>\n      <td>1133</td>\n      <td>3</td>\n      <td>PT - INR</td>\n      <td>2.5</td>\n      <td>2.5</td>\n      <td>ratio</td>\n      <td>NaN</td>\n      <td>1208</td>\n    </tr>\n    <tr>\n      <th>2</th>\n      <td>49149139</td>\n      <td>141168</td>\n      <td>2026</td>\n      <td>1</td>\n      <td>magnesium</td>\n      <td>2.0</td>\n      <td>2.0</td>\n      <td>mg/dL</td>\n      <td>mg/dL</td>\n      <td>2090</td>\n    </tr>\n    <tr>\n      <th>3</th>\n      <td>50363250</td>\n      <td>141168</td>\n      <td>1133</td>\n      <td>3</td>\n      <td>PT</td>\n      <td>26.6</td>\n      <td>26.6</td>\n      <td>sec</td>\n      <td>sec</td>\n      <td>1208</td>\n    </tr>\n    <tr>\n      <th>4</th>\n      <td>66695374</td>\n      <td>141168</td>\n      <td>2141</td>\n      <td>7</td>\n      <td>pH</td>\n      <td>7.2</td>\n      <td>7.20</td>\n      <td>NaN</td>\n      <td>Units</td>\n      <td>2155</td>\n    </tr>\n  </tbody>\n</table>\n</div>"
     },
     "execution_count": 5,
     "metadata": {},
     "output_type": "execute_result"
    }
   ],
   "source": [
    "lab.head()"
   ],
   "metadata": {
    "collapsed": false,
    "ExecuteTime": {
     "end_time": "2024-04-10T20:18:53.769501Z",
     "start_time": "2024-04-10T20:18:53.752796Z"
    }
   },
   "id": "59e29690dddd57f9",
   "execution_count": 5
  },
  {
   "cell_type": "code",
   "outputs": [],
   "source": [
    "# key: lab_name, value: lab_name in eicu\n",
    "lab_name_mapping = {\n",
    "    \"o2sat\": \"O2 Sat (%)\",\n",
    "    \"pao2\": \"paO2\",\n",
    "    \"paco2\": \"paCO2\",\n",
    "    \"ph\": \"pH\",\n",
    "    \"albu_lab\": \"albumin\",\n",
    "    \"bands\": \"-bands\",\n",
    "    \"bun\": \"BUN\",\n",
    "    \"hct\": \"Hct\",\n",
    "    \"inr\": \"PT - INR\",\n",
    "    \"lactate\": \"lactate\",\n",
    "    \"platelets\": \"platelets x 1000\",\n",
    "    \"wbc\": \"WBC x 1000\"\n",
    "}"
   ],
   "metadata": {
    "collapsed": false,
    "ExecuteTime": {
     "end_time": "2024-04-10T20:19:17.421471Z",
     "start_time": "2024-04-10T20:19:17.419269Z"
    }
   },
   "id": "1e14225dcbcac7c2",
   "execution_count": 6
  },
  {
   "cell_type": "code",
   "outputs": [
    {
     "name": "stdout",
     "output_type": "stream",
     "text": [
      "O2 Sat (%) True\n",
      "\n",
      "paO2 True\n",
      "\n",
      "paCO2 True\n",
      "\n",
      "pH True\n",
      "\n",
      "albumin True\n",
      "\n",
      "-bands True\n",
      "\n",
      "BUN True\n",
      "\n",
      "Hct True\n",
      "\n",
      "PT - INR True\n",
      "\n",
      "lactate True\n",
      "\n",
      "platelets x 1000 True\n",
      "\n",
      "WBC x 1000 True\n"
     ]
    }
   ],
   "source": [
    "lab_name_mapping_values = list(lab_name_mapping.values())\n",
    "unique_lab_names = lab['labname'].unique()\n",
    "for value in lab_name_mapping_values:\n",
    "    print(value, value in unique_lab_names)\n",
    "    print()"
   ],
   "metadata": {
    "collapsed": false,
    "ExecuteTime": {
     "end_time": "2024-04-10T20:19:21.773070Z",
     "start_time": "2024-04-10T20:19:20.647095Z"
    }
   },
   "id": "2370e0e67b5f82fd",
   "execution_count": 7
  },
  {
   "cell_type": "code",
   "outputs": [
    {
     "name": "stdout",
     "output_type": "stream",
     "text": [
      "-2.459458249051266e-15\n",
      "-3.0263268761054807e-16\n",
      "7.814527147778113e-17\n",
      "1.985863469352039e-15\n",
      "-1.9047329633462753e-15\n",
      "1.122645695297145e-16\n",
      "-2.7706974796293714e-16\n",
      "1.1688769880382853e-15\n",
      "-1.135523138431387e-15\n",
      "-1.1321342501920443e-17\n",
      "-7.205067530853485e-17\n",
      "1.2528123367261733e-15\n"
     ]
    }
   ],
   "source": [
    "selected_lab = lab[lab['labname'].isin(lab_name_mapping_values)].copy()\n",
    "\n",
    "for value in lab_name_mapping_values:\n",
    "\n",
    "    lab_values = selected_lab[selected_lab['labname'] == value]['labresult']\n",
    "    \n",
    "    # Filter out outliers using IQR\n",
    "    Q1 = lab_values.quantile(0.25)\n",
    "    Q3 = lab_values.quantile(0.75)\n",
    "    IQR = Q3 - Q1\n",
    "\n",
    "    lower_bound = Q1 - 1.5 * IQR\n",
    "    upper_bound = Q3 + 1.5 * IQR\n",
    "    \n",
    "    lab_values_adjusted = lab_values.clip(lower_bound, upper_bound)\n",
    "    \n",
    "    mean_value = lab_values_adjusted.mean()\n",
    "    std = lab_values_adjusted.std()\n",
    "    \n",
    "    # Normalize lab values using standard normal distribution\n",
    "    lab_values_normalized = (lab_values_adjusted - mean_value) / std\n",
    "    \n",
    "    selected_lab.loc[selected_lab['labname'] == value, 'labresult'] = lab_values_normalized"
   ],
   "metadata": {
    "collapsed": false,
    "ExecuteTime": {
     "end_time": "2024-04-10T21:20:26.241202Z",
     "start_time": "2024-04-10T21:20:17.537780Z"
    }
   },
   "id": "4ee315d335f3eb95",
   "execution_count": 41
  },
  {
   "cell_type": "code",
   "outputs": [
    {
     "data": {
      "text/plain": "Index(['Unnamed: 0', 'patientunitstayid', 'hospitalid', 'time_window', 'death',\n       'ventilator', 'sepsis', 'acetamin', 'biotene', 'compazine',\n       ...\n       'sex_is_male', 'sex_is_female', '< 30', '30 - 39', '40 - 49', '50 - 59',\n       '60 - 69', '70 - 79', '80 - 89', '> 89'],\n      dtype='object', length=263)"
     },
     "execution_count": 9,
     "metadata": {},
     "output_type": "execute_result"
    }
   ],
   "source": [
    "eicu_time.columns"
   ],
   "metadata": {
    "collapsed": false,
    "ExecuteTime": {
     "end_time": "2024-04-09T04:00:00.667243Z",
     "start_time": "2024-04-09T04:00:00.649185Z"
    }
   },
   "id": "bea310550c6100b1",
   "execution_count": 9
  },
  {
   "cell_type": "code",
   "outputs": [],
   "source": [
    "eicu_columns = list(eicu_time.columns) + list(lab_name_mapping.keys())"
   ],
   "metadata": {
    "collapsed": false,
    "ExecuteTime": {
     "end_time": "2024-04-09T04:17:00.207970Z",
     "start_time": "2024-04-09T04:17:00.203432Z"
    }
   },
   "id": "bf1379f0eda47347",
   "execution_count": 20
  },
  {
   "cell_type": "code",
   "outputs": [
    {
     "data": {
      "text/plain": "              labid  patientunitstayid  labresultoffset  labtypeid  \\\n0          52307161             141168             2026          3   \n1          50363251             141168             1133          3   \n2          49149139             141168             2026          1   \n3          50363250             141168             1133          3   \n4          66695374             141168             2141          7   \n...             ...                ...              ...        ...   \n39132526  824772675            3353263               -7          3   \n39132527  826470517            3353263             1733          3   \n39132528  824772678            3353263               -7          3   \n39132529  826470516            3353263             1733          3   \n39132530  826470521            3353263             1733          3   \n\n             labname  labresult labresulttext labmeasurenamesystem  \\\n0         fibrinogen     177.00           177                mg/dL   \n1           PT - INR       2.50           2.5                ratio   \n2          magnesium       2.00           2.0                mg/dL   \n3                 PT      26.60          26.6                  sec   \n4                 pH       7.20          7.20                  NaN   \n...              ...        ...           ...                  ...   \n39132526  WBC x 1000       6.40           6.4                K/mcL   \n39132527         RBC       4.67          4.67                M/mcL   \n39132528      -monos      10.00            10                    %   \n39132529  WBC x 1000       6.60           6.6                K/mcL   \n39132530         MCH      28.00            28                   pg   \n\n         labmeasurenameinterface  labresultrevisedoffset  \n0                          mg/dL                    2219  \n1                            NaN                    1208  \n2                          mg/dL                    2090  \n3                            sec                    1208  \n4                          Units                    2155  \n...                          ...                     ...  \n39132526                    K/uL                       6  \n39132527                    M/uL                    1774  \n39132528                       %                       6  \n39132529                    K/uL                    1774  \n39132530                      pg                    1774  \n\n[39132531 rows x 10 columns]",
      "text/html": "<div>\n<style scoped>\n    .dataframe tbody tr th:only-of-type {\n        vertical-align: middle;\n    }\n\n    .dataframe tbody tr th {\n        vertical-align: top;\n    }\n\n    .dataframe thead th {\n        text-align: right;\n    }\n</style>\n<table border=\"1\" class=\"dataframe\">\n  <thead>\n    <tr style=\"text-align: right;\">\n      <th></th>\n      <th>labid</th>\n      <th>patientunitstayid</th>\n      <th>labresultoffset</th>\n      <th>labtypeid</th>\n      <th>labname</th>\n      <th>labresult</th>\n      <th>labresulttext</th>\n      <th>labmeasurenamesystem</th>\n      <th>labmeasurenameinterface</th>\n      <th>labresultrevisedoffset</th>\n    </tr>\n  </thead>\n  <tbody>\n    <tr>\n      <th>0</th>\n      <td>52307161</td>\n      <td>141168</td>\n      <td>2026</td>\n      <td>3</td>\n      <td>fibrinogen</td>\n      <td>177.00</td>\n      <td>177</td>\n      <td>mg/dL</td>\n      <td>mg/dL</td>\n      <td>2219</td>\n    </tr>\n    <tr>\n      <th>1</th>\n      <td>50363251</td>\n      <td>141168</td>\n      <td>1133</td>\n      <td>3</td>\n      <td>PT - INR</td>\n      <td>2.50</td>\n      <td>2.5</td>\n      <td>ratio</td>\n      <td>NaN</td>\n      <td>1208</td>\n    </tr>\n    <tr>\n      <th>2</th>\n      <td>49149139</td>\n      <td>141168</td>\n      <td>2026</td>\n      <td>1</td>\n      <td>magnesium</td>\n      <td>2.00</td>\n      <td>2.0</td>\n      <td>mg/dL</td>\n      <td>mg/dL</td>\n      <td>2090</td>\n    </tr>\n    <tr>\n      <th>3</th>\n      <td>50363250</td>\n      <td>141168</td>\n      <td>1133</td>\n      <td>3</td>\n      <td>PT</td>\n      <td>26.60</td>\n      <td>26.6</td>\n      <td>sec</td>\n      <td>sec</td>\n      <td>1208</td>\n    </tr>\n    <tr>\n      <th>4</th>\n      <td>66695374</td>\n      <td>141168</td>\n      <td>2141</td>\n      <td>7</td>\n      <td>pH</td>\n      <td>7.20</td>\n      <td>7.20</td>\n      <td>NaN</td>\n      <td>Units</td>\n      <td>2155</td>\n    </tr>\n    <tr>\n      <th>...</th>\n      <td>...</td>\n      <td>...</td>\n      <td>...</td>\n      <td>...</td>\n      <td>...</td>\n      <td>...</td>\n      <td>...</td>\n      <td>...</td>\n      <td>...</td>\n      <td>...</td>\n    </tr>\n    <tr>\n      <th>39132526</th>\n      <td>824772675</td>\n      <td>3353263</td>\n      <td>-7</td>\n      <td>3</td>\n      <td>WBC x 1000</td>\n      <td>6.40</td>\n      <td>6.4</td>\n      <td>K/mcL</td>\n      <td>K/uL</td>\n      <td>6</td>\n    </tr>\n    <tr>\n      <th>39132527</th>\n      <td>826470517</td>\n      <td>3353263</td>\n      <td>1733</td>\n      <td>3</td>\n      <td>RBC</td>\n      <td>4.67</td>\n      <td>4.67</td>\n      <td>M/mcL</td>\n      <td>M/uL</td>\n      <td>1774</td>\n    </tr>\n    <tr>\n      <th>39132528</th>\n      <td>824772678</td>\n      <td>3353263</td>\n      <td>-7</td>\n      <td>3</td>\n      <td>-monos</td>\n      <td>10.00</td>\n      <td>10</td>\n      <td>%</td>\n      <td>%</td>\n      <td>6</td>\n    </tr>\n    <tr>\n      <th>39132529</th>\n      <td>826470516</td>\n      <td>3353263</td>\n      <td>1733</td>\n      <td>3</td>\n      <td>WBC x 1000</td>\n      <td>6.60</td>\n      <td>6.6</td>\n      <td>K/mcL</td>\n      <td>K/uL</td>\n      <td>1774</td>\n    </tr>\n    <tr>\n      <th>39132530</th>\n      <td>826470521</td>\n      <td>3353263</td>\n      <td>1733</td>\n      <td>3</td>\n      <td>MCH</td>\n      <td>28.00</td>\n      <td>28</td>\n      <td>pg</td>\n      <td>pg</td>\n      <td>1774</td>\n    </tr>\n  </tbody>\n</table>\n<p>39132531 rows × 10 columns</p>\n</div>"
     },
     "execution_count": 25,
     "metadata": {},
     "output_type": "execute_result"
    }
   ],
   "source": [
    "lab"
   ],
   "metadata": {
    "collapsed": false,
    "ExecuteTime": {
     "end_time": "2024-04-09T04:33:18.917344Z",
     "start_time": "2024-04-09T04:33:18.910783Z"
    }
   },
   "id": "4c40b7b4d113429",
   "execution_count": 25
  },
  {
   "cell_type": "code",
   "outputs": [
    {
     "name": "stderr",
     "output_type": "stream",
     "text": [
      "  0%|          | 0/243285 [00:00<?, ?it/s]/var/folders/wd/d0j10lq906x4lfc0bphzybd80000gn/T/ipykernel_11036/1577728718.py:36: FutureWarning: The behavior of DataFrame concatenation with empty or all-NA entries is deprecated. In a future version, this will no longer exclude empty or all-NA columns when determining the result dtypes. To retain the old behavior, exclude the relevant entries before the concat operation.\n",
      "  eicu_lab_time = pd.concat([eicu_lab_time, eicu_row], ignore_index=True)\n",
      "  0%|          | 10/243285 [00:00<5:38:21, 11.98it/s]\n"
     ]
    },
    {
     "data": {
      "text/plain": "   Unnamed: 0  patientunitstayid  hospitalid  time_window  death  ventilator  \\\n0         0.0           534765.0       148.0         -1.0    0.0         0.0   \n1         1.0           534765.0       148.0          0.0    0.0         1.0   \n2         2.0           534765.0       148.0          1.0    0.0         0.0   \n3         3.0           534765.0       148.0          2.0    0.0         0.0   \n4         4.0           534765.0       148.0          3.0    0.0         0.0   \n\n   sepsis  acetamin  biotene  compazine  ...     paco2        ph   albumin  \\\n0     0.0       1.0      0.0        0.0  ...  0.222917  0.000980  0.014295   \n1     1.0       0.0      0.0        0.0  ...  0.216667  0.000974  0.000000   \n2     0.0       0.0      0.0        0.0  ...  0.000000  0.000000  0.000000   \n3     0.0       0.0      0.0        0.0  ...  0.000000  0.000000  0.000000   \n4     0.0       0.0      0.0        0.0  ...  0.000000  0.000000  0.000000   \n\n   bands       bun       hct       inr   lactate  platelets       wbc  \n0   0.01  0.000675  0.298051  0.040441  0.043584   0.175507  0.034730  \n1   0.05  0.000747  0.265625  0.044118  0.048426   0.170116  0.037116  \n2   0.00  0.000000  0.000000  0.000000  0.000000   0.000000  0.000000  \n3   0.00  0.000000  0.000000  0.000000  0.000000   0.000000  0.000000  \n4   0.00  0.000000  0.000000  0.000000  0.000000   0.000000  0.000000  \n\n[5 rows x 275 columns]",
      "text/html": "<div>\n<style scoped>\n    .dataframe tbody tr th:only-of-type {\n        vertical-align: middle;\n    }\n\n    .dataframe tbody tr th {\n        vertical-align: top;\n    }\n\n    .dataframe thead th {\n        text-align: right;\n    }\n</style>\n<table border=\"1\" class=\"dataframe\">\n  <thead>\n    <tr style=\"text-align: right;\">\n      <th></th>\n      <th>Unnamed: 0</th>\n      <th>patientunitstayid</th>\n      <th>hospitalid</th>\n      <th>time_window</th>\n      <th>death</th>\n      <th>ventilator</th>\n      <th>sepsis</th>\n      <th>acetamin</th>\n      <th>biotene</th>\n      <th>compazine</th>\n      <th>...</th>\n      <th>paco2</th>\n      <th>ph</th>\n      <th>albumin</th>\n      <th>bands</th>\n      <th>bun</th>\n      <th>hct</th>\n      <th>inr</th>\n      <th>lactate</th>\n      <th>platelets</th>\n      <th>wbc</th>\n    </tr>\n  </thead>\n  <tbody>\n    <tr>\n      <th>0</th>\n      <td>0.0</td>\n      <td>534765.0</td>\n      <td>148.0</td>\n      <td>-1.0</td>\n      <td>0.0</td>\n      <td>0.0</td>\n      <td>0.0</td>\n      <td>1.0</td>\n      <td>0.0</td>\n      <td>0.0</td>\n      <td>...</td>\n      <td>0.222917</td>\n      <td>0.000980</td>\n      <td>0.014295</td>\n      <td>0.01</td>\n      <td>0.000675</td>\n      <td>0.298051</td>\n      <td>0.040441</td>\n      <td>0.043584</td>\n      <td>0.175507</td>\n      <td>0.034730</td>\n    </tr>\n    <tr>\n      <th>1</th>\n      <td>1.0</td>\n      <td>534765.0</td>\n      <td>148.0</td>\n      <td>0.0</td>\n      <td>0.0</td>\n      <td>1.0</td>\n      <td>1.0</td>\n      <td>0.0</td>\n      <td>0.0</td>\n      <td>0.0</td>\n      <td>...</td>\n      <td>0.216667</td>\n      <td>0.000974</td>\n      <td>0.000000</td>\n      <td>0.05</td>\n      <td>0.000747</td>\n      <td>0.265625</td>\n      <td>0.044118</td>\n      <td>0.048426</td>\n      <td>0.170116</td>\n      <td>0.037116</td>\n    </tr>\n    <tr>\n      <th>2</th>\n      <td>2.0</td>\n      <td>534765.0</td>\n      <td>148.0</td>\n      <td>1.0</td>\n      <td>0.0</td>\n      <td>0.0</td>\n      <td>0.0</td>\n      <td>0.0</td>\n      <td>0.0</td>\n      <td>0.0</td>\n      <td>...</td>\n      <td>0.000000</td>\n      <td>0.000000</td>\n      <td>0.000000</td>\n      <td>0.00</td>\n      <td>0.000000</td>\n      <td>0.000000</td>\n      <td>0.000000</td>\n      <td>0.000000</td>\n      <td>0.000000</td>\n      <td>0.000000</td>\n    </tr>\n    <tr>\n      <th>3</th>\n      <td>3.0</td>\n      <td>534765.0</td>\n      <td>148.0</td>\n      <td>2.0</td>\n      <td>0.0</td>\n      <td>0.0</td>\n      <td>0.0</td>\n      <td>0.0</td>\n      <td>0.0</td>\n      <td>0.0</td>\n      <td>...</td>\n      <td>0.000000</td>\n      <td>0.000000</td>\n      <td>0.000000</td>\n      <td>0.00</td>\n      <td>0.000000</td>\n      <td>0.000000</td>\n      <td>0.000000</td>\n      <td>0.000000</td>\n      <td>0.000000</td>\n      <td>0.000000</td>\n    </tr>\n    <tr>\n      <th>4</th>\n      <td>4.0</td>\n      <td>534765.0</td>\n      <td>148.0</td>\n      <td>3.0</td>\n      <td>0.0</td>\n      <td>0.0</td>\n      <td>0.0</td>\n      <td>0.0</td>\n      <td>0.0</td>\n      <td>0.0</td>\n      <td>...</td>\n      <td>0.000000</td>\n      <td>0.000000</td>\n      <td>0.000000</td>\n      <td>0.00</td>\n      <td>0.000000</td>\n      <td>0.000000</td>\n      <td>0.000000</td>\n      <td>0.000000</td>\n      <td>0.000000</td>\n      <td>0.000000</td>\n    </tr>\n  </tbody>\n</table>\n<p>5 rows × 275 columns</p>\n</div>"
     },
     "execution_count": 47,
     "metadata": {},
     "output_type": "execute_result"
    }
   ],
   "source": [
    "from tqdm import tqdm\n",
    "\n",
    "eicu_lab_time = pd.DataFrame(columns=eicu_columns)\n",
    "\n",
    "bin_time = 12 * 60\n",
    "\n",
    "for index, row in tqdm(eicu_time.iterrows(), total=eicu_time.shape[0]):\n",
    "    \n",
    "    eicu_row = pd.DataFrame(0.0, index=[0], columns=eicu_columns)\n",
    "    \n",
    "    # copy row values to eicu_row\n",
    "    for column in eicu_time.columns:\n",
    "        eicu_row[column] = row[column]\n",
    "    \n",
    "    # get patient lab data\n",
    "    patient_id = row['patientunitstayid']\n",
    "    lab_patient = selected_lab[selected_lab['patientunitstayid'] == patient_id]\n",
    "    \n",
    "    time_window = row['time_window']\n",
    "    if time_window == -1:\n",
    "        time_window_start = float('-inf')\n",
    "        time_window_end = 0\n",
    "    else:\n",
    "        time_window_start = time_window * bin_time\n",
    "        time_window_end = (time_window + 1) * bin_time\n",
    "    \n",
    "    lab_time_patient = lab_patient[(lab_patient['labresultoffset'] >= time_window_start) & (lab_patient['labresultoffset'] < time_window_end)]\n",
    "    \n",
    "    for lab_name, eicu_lab_name in lab_name_mapping.items():\n",
    "        lab_value = lab_time_patient[lab_time_patient['labname'] == eicu_lab_name]['labresult']\n",
    "        \n",
    "        # average lab values\n",
    "        if lab_value.shape[0] > 0:\n",
    "            eicu_row[lab_name] = lab_value.mean()   \n",
    "            \n",
    "    eicu_lab_time = pd.concat([eicu_lab_time, eicu_row], ignore_index=True)\n",
    "\n",
    "    if index == 10:\n",
    "        break\n",
    "\n",
    "eicu_lab_time.head()"
   ],
   "metadata": {
    "collapsed": false,
    "ExecuteTime": {
     "end_time": "2024-04-09T20:12:06.415993Z",
     "start_time": "2024-04-09T20:12:05.565500Z"
    }
   },
   "id": "8636485d475fb1d2",
   "execution_count": 47
  },
  {
   "cell_type": "code",
   "outputs": [
    {
     "data": {
      "text/plain": "    Unnamed: 0  patientunitstayid  hospitalid  time_window  death  ventilator  \\\n0          0.0           534765.0       148.0         -1.0    0.0         0.0   \n1          1.0           534765.0       148.0          0.0    0.0         1.0   \n2          2.0           534765.0       148.0          1.0    0.0         0.0   \n3          3.0           534765.0       148.0          2.0    0.0         0.0   \n4          4.0           534765.0       148.0          3.0    0.0         0.0   \n5          5.0           534765.0       148.0          4.0    0.0         0.0   \n6          6.0           534765.0       148.0          5.0    0.0         0.0   \n7          7.0           534851.0       148.0         -1.0    0.0         0.0   \n8          8.0           534851.0       148.0          0.0    0.0         0.0   \n9          9.0           534851.0       148.0          1.0    0.0         0.0   \n10        10.0           534851.0       148.0          2.0    0.0         0.0   \n\n    sepsis  acetamin  biotene  compazine  ...     paco2        ph  albu_lab  \\\n0      0.0       1.0      0.0        0.0  ...  0.222917  0.000980  0.014295   \n1      1.0       0.0      0.0        0.0  ...  0.216667  0.000974  0.000000   \n2      0.0       0.0      0.0        0.0  ...  0.000000  0.000000  0.000000   \n3      0.0       0.0      0.0        0.0  ...  0.000000  0.000000  0.000000   \n4      0.0       0.0      0.0        0.0  ...  0.000000  0.000000  0.000000   \n5      0.0       0.0      0.0        0.0  ...  0.000000  0.000000  0.000000   \n6      0.0       0.0      0.0        0.0  ...  0.000000  0.000000  0.000000   \n7      0.0       0.0      0.0        0.0  ...  0.204167  0.000999  0.014295   \n8      1.0       1.0      0.0        0.0  ...  0.000000  0.000000  0.014945   \n9      0.0       1.0      0.0        0.0  ...  0.000000  0.000000  0.000000   \n10     0.0       0.0      0.0        0.0  ...  0.000000  0.000000  0.000000   \n\n    bands       bun       hct       inr   lactate  platelets       wbc  \n0    0.01  0.000675  0.298051  0.040441  0.043584   0.175507  0.034730  \n1    0.05  0.000747  0.265625  0.044118  0.048426   0.170116  0.037116  \n2    0.00  0.000000  0.000000  0.000000  0.000000   0.000000  0.000000  \n3    0.00  0.000000  0.000000  0.000000  0.000000   0.000000  0.000000  \n4    0.00  0.000000  0.000000  0.000000  0.000000   0.000000  0.000000  \n5    0.00  0.000000  0.000000  0.000000  0.000000   0.000000  0.000000  \n6    0.00  0.000000  0.000000  0.000000  0.000000   0.000000  0.000000  \n7    0.00  0.001138  0.415323  0.055147  0.111380   0.065977  0.008248  \n8    0.00  0.001315  0.367944  0.055147  0.042373   0.055304  0.008722  \n9    0.00  0.000000  0.000000  0.000000  0.000000   0.000000  0.000000  \n10   0.00  0.000000  0.000000  0.000000  0.000000   0.000000  0.000000  \n\n[11 rows x 275 columns]",
      "text/html": "<div>\n<style scoped>\n    .dataframe tbody tr th:only-of-type {\n        vertical-align: middle;\n    }\n\n    .dataframe tbody tr th {\n        vertical-align: top;\n    }\n\n    .dataframe thead th {\n        text-align: right;\n    }\n</style>\n<table border=\"1\" class=\"dataframe\">\n  <thead>\n    <tr style=\"text-align: right;\">\n      <th></th>\n      <th>Unnamed: 0</th>\n      <th>patientunitstayid</th>\n      <th>hospitalid</th>\n      <th>time_window</th>\n      <th>death</th>\n      <th>ventilator</th>\n      <th>sepsis</th>\n      <th>acetamin</th>\n      <th>biotene</th>\n      <th>compazine</th>\n      <th>...</th>\n      <th>paco2</th>\n      <th>ph</th>\n      <th>albu_lab</th>\n      <th>bands</th>\n      <th>bun</th>\n      <th>hct</th>\n      <th>inr</th>\n      <th>lactate</th>\n      <th>platelets</th>\n      <th>wbc</th>\n    </tr>\n  </thead>\n  <tbody>\n    <tr>\n      <th>0</th>\n      <td>0.0</td>\n      <td>534765.0</td>\n      <td>148.0</td>\n      <td>-1.0</td>\n      <td>0.0</td>\n      <td>0.0</td>\n      <td>0.0</td>\n      <td>1.0</td>\n      <td>0.0</td>\n      <td>0.0</td>\n      <td>...</td>\n      <td>0.222917</td>\n      <td>0.000980</td>\n      <td>0.014295</td>\n      <td>0.01</td>\n      <td>0.000675</td>\n      <td>0.298051</td>\n      <td>0.040441</td>\n      <td>0.043584</td>\n      <td>0.175507</td>\n      <td>0.034730</td>\n    </tr>\n    <tr>\n      <th>1</th>\n      <td>1.0</td>\n      <td>534765.0</td>\n      <td>148.0</td>\n      <td>0.0</td>\n      <td>0.0</td>\n      <td>1.0</td>\n      <td>1.0</td>\n      <td>0.0</td>\n      <td>0.0</td>\n      <td>0.0</td>\n      <td>...</td>\n      <td>0.216667</td>\n      <td>0.000974</td>\n      <td>0.000000</td>\n      <td>0.05</td>\n      <td>0.000747</td>\n      <td>0.265625</td>\n      <td>0.044118</td>\n      <td>0.048426</td>\n      <td>0.170116</td>\n      <td>0.037116</td>\n    </tr>\n    <tr>\n      <th>2</th>\n      <td>2.0</td>\n      <td>534765.0</td>\n      <td>148.0</td>\n      <td>1.0</td>\n      <td>0.0</td>\n      <td>0.0</td>\n      <td>0.0</td>\n      <td>0.0</td>\n      <td>0.0</td>\n      <td>0.0</td>\n      <td>...</td>\n      <td>0.000000</td>\n      <td>0.000000</td>\n      <td>0.000000</td>\n      <td>0.00</td>\n      <td>0.000000</td>\n      <td>0.000000</td>\n      <td>0.000000</td>\n      <td>0.000000</td>\n      <td>0.000000</td>\n      <td>0.000000</td>\n    </tr>\n    <tr>\n      <th>3</th>\n      <td>3.0</td>\n      <td>534765.0</td>\n      <td>148.0</td>\n      <td>2.0</td>\n      <td>0.0</td>\n      <td>0.0</td>\n      <td>0.0</td>\n      <td>0.0</td>\n      <td>0.0</td>\n      <td>0.0</td>\n      <td>...</td>\n      <td>0.000000</td>\n      <td>0.000000</td>\n      <td>0.000000</td>\n      <td>0.00</td>\n      <td>0.000000</td>\n      <td>0.000000</td>\n      <td>0.000000</td>\n      <td>0.000000</td>\n      <td>0.000000</td>\n      <td>0.000000</td>\n    </tr>\n    <tr>\n      <th>4</th>\n      <td>4.0</td>\n      <td>534765.0</td>\n      <td>148.0</td>\n      <td>3.0</td>\n      <td>0.0</td>\n      <td>0.0</td>\n      <td>0.0</td>\n      <td>0.0</td>\n      <td>0.0</td>\n      <td>0.0</td>\n      <td>...</td>\n      <td>0.000000</td>\n      <td>0.000000</td>\n      <td>0.000000</td>\n      <td>0.00</td>\n      <td>0.000000</td>\n      <td>0.000000</td>\n      <td>0.000000</td>\n      <td>0.000000</td>\n      <td>0.000000</td>\n      <td>0.000000</td>\n    </tr>\n    <tr>\n      <th>5</th>\n      <td>5.0</td>\n      <td>534765.0</td>\n      <td>148.0</td>\n      <td>4.0</td>\n      <td>0.0</td>\n      <td>0.0</td>\n      <td>0.0</td>\n      <td>0.0</td>\n      <td>0.0</td>\n      <td>0.0</td>\n      <td>...</td>\n      <td>0.000000</td>\n      <td>0.000000</td>\n      <td>0.000000</td>\n      <td>0.00</td>\n      <td>0.000000</td>\n      <td>0.000000</td>\n      <td>0.000000</td>\n      <td>0.000000</td>\n      <td>0.000000</td>\n      <td>0.000000</td>\n    </tr>\n    <tr>\n      <th>6</th>\n      <td>6.0</td>\n      <td>534765.0</td>\n      <td>148.0</td>\n      <td>5.0</td>\n      <td>0.0</td>\n      <td>0.0</td>\n      <td>0.0</td>\n      <td>0.0</td>\n      <td>0.0</td>\n      <td>0.0</td>\n      <td>...</td>\n      <td>0.000000</td>\n      <td>0.000000</td>\n      <td>0.000000</td>\n      <td>0.00</td>\n      <td>0.000000</td>\n      <td>0.000000</td>\n      <td>0.000000</td>\n      <td>0.000000</td>\n      <td>0.000000</td>\n      <td>0.000000</td>\n    </tr>\n    <tr>\n      <th>7</th>\n      <td>7.0</td>\n      <td>534851.0</td>\n      <td>148.0</td>\n      <td>-1.0</td>\n      <td>0.0</td>\n      <td>0.0</td>\n      <td>0.0</td>\n      <td>0.0</td>\n      <td>0.0</td>\n      <td>0.0</td>\n      <td>...</td>\n      <td>0.204167</td>\n      <td>0.000999</td>\n      <td>0.014295</td>\n      <td>0.00</td>\n      <td>0.001138</td>\n      <td>0.415323</td>\n      <td>0.055147</td>\n      <td>0.111380</td>\n      <td>0.065977</td>\n      <td>0.008248</td>\n    </tr>\n    <tr>\n      <th>8</th>\n      <td>8.0</td>\n      <td>534851.0</td>\n      <td>148.0</td>\n      <td>0.0</td>\n      <td>0.0</td>\n      <td>0.0</td>\n      <td>1.0</td>\n      <td>1.0</td>\n      <td>0.0</td>\n      <td>0.0</td>\n      <td>...</td>\n      <td>0.000000</td>\n      <td>0.000000</td>\n      <td>0.014945</td>\n      <td>0.00</td>\n      <td>0.001315</td>\n      <td>0.367944</td>\n      <td>0.055147</td>\n      <td>0.042373</td>\n      <td>0.055304</td>\n      <td>0.008722</td>\n    </tr>\n    <tr>\n      <th>9</th>\n      <td>9.0</td>\n      <td>534851.0</td>\n      <td>148.0</td>\n      <td>1.0</td>\n      <td>0.0</td>\n      <td>0.0</td>\n      <td>0.0</td>\n      <td>1.0</td>\n      <td>0.0</td>\n      <td>0.0</td>\n      <td>...</td>\n      <td>0.000000</td>\n      <td>0.000000</td>\n      <td>0.000000</td>\n      <td>0.00</td>\n      <td>0.000000</td>\n      <td>0.000000</td>\n      <td>0.000000</td>\n      <td>0.000000</td>\n      <td>0.000000</td>\n      <td>0.000000</td>\n    </tr>\n    <tr>\n      <th>10</th>\n      <td>10.0</td>\n      <td>534851.0</td>\n      <td>148.0</td>\n      <td>2.0</td>\n      <td>0.0</td>\n      <td>0.0</td>\n      <td>0.0</td>\n      <td>0.0</td>\n      <td>0.0</td>\n      <td>0.0</td>\n      <td>...</td>\n      <td>0.000000</td>\n      <td>0.000000</td>\n      <td>0.000000</td>\n      <td>0.00</td>\n      <td>0.000000</td>\n      <td>0.000000</td>\n      <td>0.000000</td>\n      <td>0.000000</td>\n      <td>0.000000</td>\n      <td>0.000000</td>\n    </tr>\n  </tbody>\n</table>\n<p>11 rows × 275 columns</p>\n</div>"
     },
     "execution_count": 49,
     "metadata": {},
     "output_type": "execute_result"
    }
   ],
   "source": [
    "eicu_time_dataset = pd.read_csv(\"eicu_lab_time.csv\")\n",
    "eicu_time_dataset.head(20)"
   ],
   "metadata": {
    "collapsed": false,
    "ExecuteTime": {
     "end_time": "2024-04-09T20:18:14.740033Z",
     "start_time": "2024-04-09T20:18:14.712036Z"
    }
   },
   "id": "8b7da7bea46795aa",
   "execution_count": 49
  },
  {
   "cell_type": "code",
   "outputs": [
    {
     "data": {
      "text/plain": "             labid  patientunitstayid  labresultoffset  labtypeid  \\\n5150409  172202064             534765               33          3   \n5150506  173515014             534765              403          3   \n\n                  labname  labresult labresulttext labmeasurenamesystem  \\\n5150409  platelets x 1000   0.182083           563                K/mcL   \n5150506  platelets x 1000   0.158150           489                K/mcL   \n\n        labmeasurenameinterface  labresultrevisedoffset  \n5150409                   K/MM3                      47  \n5150506                   K/MM3                     419  ",
      "text/html": "<div>\n<style scoped>\n    .dataframe tbody tr th:only-of-type {\n        vertical-align: middle;\n    }\n\n    .dataframe tbody tr th {\n        vertical-align: top;\n    }\n\n    .dataframe thead th {\n        text-align: right;\n    }\n</style>\n<table border=\"1\" class=\"dataframe\">\n  <thead>\n    <tr style=\"text-align: right;\">\n      <th></th>\n      <th>labid</th>\n      <th>patientunitstayid</th>\n      <th>labresultoffset</th>\n      <th>labtypeid</th>\n      <th>labname</th>\n      <th>labresult</th>\n      <th>labresulttext</th>\n      <th>labmeasurenamesystem</th>\n      <th>labmeasurenameinterface</th>\n      <th>labresultrevisedoffset</th>\n    </tr>\n  </thead>\n  <tbody>\n    <tr>\n      <th>5150409</th>\n      <td>172202064</td>\n      <td>534765</td>\n      <td>33</td>\n      <td>3</td>\n      <td>platelets x 1000</td>\n      <td>0.182083</td>\n      <td>563</td>\n      <td>K/mcL</td>\n      <td>K/MM3</td>\n      <td>47</td>\n    </tr>\n    <tr>\n      <th>5150506</th>\n      <td>173515014</td>\n      <td>534765</td>\n      <td>403</td>\n      <td>3</td>\n      <td>platelets x 1000</td>\n      <td>0.158150</td>\n      <td>489</td>\n      <td>K/mcL</td>\n      <td>K/MM3</td>\n      <td>419</td>\n    </tr>\n  </tbody>\n</table>\n</div>"
     },
     "execution_count": 55,
     "metadata": {},
     "output_type": "execute_result"
    }
   ],
   "source": [
    "selected_lab[(selected_lab['patientunitstayid'] == 534765.0) & (selected_lab['labresultoffset'] >= 0) & (selected_lab['labresultoffset'] < 720) & (selected_lab['labname'] == 'platelets x 1000')]"
   ],
   "metadata": {
    "collapsed": false,
    "ExecuteTime": {
     "end_time": "2024-04-09T20:20:57.737111Z",
     "start_time": "2024-04-09T20:20:57.496552Z"
    }
   },
   "id": "8bc85e411dd267db",
   "execution_count": 55
  },
  {
   "cell_type": "code",
   "outputs": [
    {
     "data": {
      "text/plain": "array([148., 281.])"
     },
     "execution_count": 58,
     "metadata": {},
     "output_type": "execute_result"
    }
   ],
   "source": [],
   "metadata": {
    "collapsed": false,
    "ExecuteTime": {
     "end_time": "2024-04-09T20:33:36.797967Z",
     "start_time": "2024-04-09T20:33:36.734362Z"
    }
   },
   "id": "cba34fcb8d4c0e80",
   "execution_count": 58
  }
 ],
 "metadata": {
  "kernelspec": {
   "display_name": "Python 3",
   "language": "python",
   "name": "python3"
  },
  "language_info": {
   "codemirror_mode": {
    "name": "ipython",
    "version": 2
   },
   "file_extension": ".py",
   "mimetype": "text/x-python",
   "name": "python",
   "nbconvert_exporter": "python",
   "pygments_lexer": "ipython2",
   "version": "2.7.6"
  }
 },
 "nbformat": 4,
 "nbformat_minor": 5
}
