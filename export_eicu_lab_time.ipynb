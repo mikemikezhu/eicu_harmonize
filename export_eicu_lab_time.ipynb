{
 "cells": [
  {
   "cell_type": "code",
   "outputs": [
    {
     "name": "stderr",
     "output_type": "stream",
     "text": [
      "/var/folders/wd/d0j10lq906x4lfc0bphzybd80000gn/T/ipykernel_74048/284468011.py:133: DtypeWarning: Columns (11) have mixed types. Specify dtype option on import or set low_memory=False.\n",
      "  medication_imputed = pd.read_csv(\"output/medication_imputed.csv\")\n",
      "Warning : `load_model` does not return WordVectorModel or SupervisedModel any more, but a `FastText` object which is very similar.\n"
     ]
    }
   ],
   "source": [
    "import pandas as pd\n",
    "import fasttext\n",
    "import numpy as np\n",
    "from tqdm import tqdm\n",
    "import re\n",
    "\n",
    "unique_drugs = ['acetamin', 'biotene', 'compazine', 'ferrous', 'imdur', 'lidocaine', 'milk of magnesia', 'nystatin', 'prochlorperazine', 'tamsulosin',\n",
    "                'advair diskus', 'bisacodyl', 'coreg', 'flagyl', 'influenza vac', 'lipitor', 'mineral', 'omeprazole', 'promethazine', 'thiamine',\n",
    "                'albumin', 'bumetanide', 'cozaar', 'flomax', 'infuvite', 'lisinopril', 'mineral oil', 'ondansetron', 'propofol', 'ticagrelor',\n",
    "                'albuterol', 'bumex', 'decadron', 'flumazenil', 'insulin', 'lispro', 'mono-sod', 'optiray', 'pulmicort respule', 'tiotropium',\n",
    "                'allopurinol', 'buminate', 'definity', 'fluticasone-salmeterol', 'insulin detemir', 'loratadine', 'morphine', 'oxycodone', 'quetiapine', 'toradol',\n",
    "                'alprazolam', 'calcium carbonate', 'deltasone', 'folic acid', 'iohexol', 'lorazepam', 'motrin', 'pantoprazole', 'refresh p.m. op oint', 'tramadol',\n",
    "                'alteplase', 'calcium chloride', 'dexamethasone', 'furosemide', 'iopamidol', 'losartan', 'mupirocin', 'parenteral nutrition', 'reglan', 'trandate',\n",
    "                'alum hydroxide', 'calcium gluconate', 'dexmedetomidine', 'gabapentin', 'ipratropium', 'maalox', 'nafcillin', 'percocet', 'restoril', 'transde rm-scop',\n",
    "                'ambien', 'cardizem', 'dextrose', 'glargine', 'isosorbide', 'magnesium chloride', 'naloxone', 'phenergan', 'ringers solution', 'trazodone',\n",
    "                'aminocaproic acid', 'carvedilol', 'diazepam', 'glucagen', 'kayciel', 'magnesium hydroxide', 'narcan', 'phenylephrine', 'rocuronium', 'ultram',\n",
    "                'amiodarone', 'catapres', 'digoxin', 'glucagon', 'kayexalate', 'magnesium oxide', 'neostigmine', 'phytonadione', 'roxicodone', 'valium',\n",
    "                'amlodipine', 'cefazolin', 'diltiazem', 'glucose', 'keppra', 'magnesium sulf', 'neostigmine methylsulfate', 'piperacillin', 'sennosides', 'vancomycin',\n",
    "                'anticoagulant', 'cefepime', 'diphenhydramine', 'glycopyrrolate', 'ketorolac', 'magox', 'neurontin', 'plasmalyte', 'seroquel', 'vasopressin',\n",
    "                'apresoline', 'ceftriaxone', 'diprivan', 'guaifenesin', 'klonopin', 'medrol', 'nexterone', 'plavix', 'sertraline', 'ventolin',\n",
    "                'ascorbic acid', 'cephulac', 'docusate', 'haldol', 'labetalol', 'meperidine', 'nicardipine', 'pneumococcal', 'simethicone', 'vitamin',\n",
    "                'aspart', 'cetirizine', 'dopamine', 'haloperidol', 'lactated ringer', 'meropenem', 'nicoderm', 'pnu-immune-23', 'simvastatin', 'warfarin',\n",
    "                'aspirin', 'chlorhexidine', 'ecotrin', 'heparin', 'lactulose', 'merrem', 'nicotine', 'polyethylene glycol', 'sodium bicarbonate', 'xanax',\n",
    "                'atenolol', 'ciprofloxacin', 'enoxaparin', 'humulin', 'lanoxin', 'metformin', 'nitro-bid', 'potassium chloride', 'sodium chloride', 'zestril',\n",
    "                'atorvastatin', 'cisatracurium', 'ephedrine', 'hydralazine', 'lantus', 'methylprednisolone', 'nitroglycerin', 'potassium phosphate', 'sodium phosphate', 'zocor',\n",
    "                'atropine', 'citalopram', 'epinephrine', 'hydrochlorothiazide', 'levaquin', 'metoclopramide', 'nitroprusside', 'pravastatin', 'polystyrene sulfonate', 'zolpidem',\n",
    "                'atrovent', 'clindamycin', 'etomidate', 'hydrocodone', 'levemir', 'metoprolol', 'norco', 'precedex', 'spironolactone', 'zosyn',\n",
    "                'azithromycin', 'clonazepam', 'famotidine', 'hydrocortisone', 'levetiracetam', 'metronidazole', 'norepinephrine', 'prednisone', 'sublimaze',\n",
    "                'bacitracin', 'clonidine', 'fat emulsion', 'hydromorphone', 'levofloxacin', 'midazolam', 'normodyne', 'prilocaine', 'succinylcholine',\n",
    "                'bayer chewable', 'clopidogrel', 'fentanyl', 'ibuprofen', 'levothyroxine', 'midodrine', 'norvasc', 'prinivil', 'tacrolimus']\n",
    "\n",
    "\n",
    "def cosine_similarity(vec1, vec2):\n",
    "    return np.dot(vec1, vec2) / (np.linalg.norm(vec1) * np.linalg.norm(vec2))\n",
    "\n",
    "\n",
    "def calculate_similarity(model, drug1, drug2):\n",
    "    drug1_vector = model.get_word_vector(drug1)\n",
    "    drug2_vector = model.get_word_vector(drug2)\n",
    "    return cosine_similarity(drug1_vector, drug2_vector)\n",
    "\n",
    "\n",
    "def get_age_group(age):\n",
    "\n",
    "    if pd.isna(age):\n",
    "        # 60 - 69 has the most patients\n",
    "        return \"60 - 69\"\n",
    "\n",
    "    if age == \"> 89\":\n",
    "        return age\n",
    "\n",
    "    age = int(age)\n",
    "\n",
    "    if age < 30:\n",
    "        return \"< 30\"\n",
    "    elif age < 40:\n",
    "        return \"30 - 39\"\n",
    "    elif age < 50:\n",
    "        return \"40 - 49\"\n",
    "    elif age < 60:\n",
    "        return \"50 - 59\"\n",
    "    elif age < 70:\n",
    "        return \"60 - 69\"\n",
    "    elif age < 80:\n",
    "        return \"70 - 79\"\n",
    "    elif age < 90:\n",
    "        return \"80 - 89\"\n",
    "    else:\n",
    "        return \"> 89\"\n",
    "\n",
    "\n",
    "def get_bmi(weight_kg, height_cm):\n",
    "\n",
    "    if pd.isna(weight_kg) or pd.isna(height_cm) or weight_kg == 0 or height_cm == 0:\n",
    "        return \"bmi_normal\"\n",
    "\n",
    "    height_m = height_cm / 100.0\n",
    "    bmi = weight_kg / (height_m ** 2)\n",
    "\n",
    "    if bmi < 18.5:\n",
    "        return \"bmi_underweight\"\n",
    "    elif bmi < 24.9:\n",
    "        return \"bmi_normal\"\n",
    "    elif bmi < 29.9:\n",
    "        return \"bmi_overweight\"\n",
    "    else:\n",
    "        return \"bmi_obesity\"\n",
    "\n",
    "\n",
    "def get_race(race):\n",
    "\n",
    "    if pd.isna(race) or race == \"Caucasian\":\n",
    "        return \"race_caucasion\"\n",
    "    elif race == \"African American\":\n",
    "        return \"race_african\"\n",
    "    elif race == \"Hispanic\":\n",
    "        return \"race_hispanic\"\n",
    "    elif race == \"Asian\":\n",
    "        return \"race_asian\"\n",
    "    elif race == \"Native American\":\n",
    "        return \"race_native\"\n",
    "    else:\n",
    "        return \"race_caucasion\"\n",
    "\n",
    "\n",
    "def harmonize_drug(drug, unique_drugs, pretrained):\n",
    "\n",
    "    if pd.isna(drug):\n",
    "        return None\n",
    "\n",
    "    drug = drug.lower()\n",
    "\n",
    "    # Direct mapping: check whether drug names contain unique_drug\n",
    "    for unique_drug in unique_drugs:\n",
    "        if unique_drug in drug:\n",
    "            return unique_drug\n",
    "\n",
    "    # Check cosine similarity between word embeddings\n",
    "    converted = re.sub(r'[^a-zA-Z\\s]', '', drug)\n",
    "    best_similarity = float('-inf')\n",
    "    best_drug = None\n",
    "    for drug_name in converted.split():\n",
    "        for unique_drug in unique_drugs:\n",
    "            similarity = calculate_similarity(\n",
    "                pretrained, drug_name, unique_drug)\n",
    "            if similarity > best_similarity:\n",
    "                best_similarity = similarity\n",
    "                best_drug = unique_drug\n",
    "\n",
    "    return best_drug\n",
    "\n",
    "patient = pd.read_csv(\"data/eicu/patient.csv\")\n",
    "medication_imputed = pd.read_csv(\"output/medication_imputed.csv\")\n",
    "diagnosis = pd.read_csv(\"data/eicu/diagnosis.csv\")\n",
    "treatment = pd.read_csv(\"data/eicu/treatment.csv\")\n",
    "patient_medication = patient.merge(medication_imputed, on='patientunitstayid', how='inner')\n",
    "patient_medication = patient_medication[patient_medication[\"hospitalid\"].isin([148,281])]\n",
    "ventilator_treatments = treatment[treatment['treatmentstring'].str.contains('ventilation', case=False, na=False)]\n",
    "\n",
    "sepsis_diagnosis = diagnosis[diagnosis['diagnosisstring'].str.contains('sepsis', case=False, na=False)]\n",
    "\n",
    "mortaility_patient = patient[patient[\"unitdischargestatus\"] == 'Expired']\n",
    "\n",
    "observation_time = 72 * 60\n",
    "bin_time = 12 * 60\n",
    "bin = observation_time // bin_time\n",
    "\n",
    "pretrained = fasttext.load_model(\"data/pretrained/BioWordVec_PubMed_MIMICIII_d200.bin\")\n",
    "\n",
    "unique_drug_names = patient_medication['drugname'].unique()\n",
    "harmonized_drug_dict = {drug: harmonize_drug(drug, unique_drugs, pretrained) for drug in unique_drug_names}"
   ],
   "metadata": {
    "collapsed": false,
    "ExecuteTime": {
     "end_time": "2024-04-26T02:19:42.297754Z",
     "start_time": "2024-04-26T02:18:11.593838Z"
    }
   },
   "id": "45abdc57e7407db",
   "execution_count": 1
  },
  {
   "cell_type": "code",
   "outputs": [
    {
     "data": {
      "text/plain": "   Unnamed: 0  patientunitstayid  hospitalid  time_window  death  ventilator  \\\n0           0           534765.0       148.0         -1.0    0.0         0.0   \n1           1           534765.0       148.0          0.0    0.0         1.0   \n2           2           534765.0       148.0          1.0    0.0         0.0   \n3           3           534765.0       148.0          2.0    0.0         0.0   \n4           4           534765.0       148.0          3.0    0.0         0.0   \n\n   sepsis  acetamin  biotene  compazine  ...  sex_is_male  sex_is_female  \\\n0     0.0       1.0      0.0        0.0  ...          0.0            1.0   \n1     1.0       0.0      0.0        0.0  ...          0.0            1.0   \n2     0.0       0.0      0.0        0.0  ...          0.0            1.0   \n3     0.0       0.0      0.0        0.0  ...          0.0            1.0   \n4     0.0       0.0      0.0        0.0  ...          0.0            1.0   \n\n   < 30  30 - 39  40 - 49  50 - 59  60 - 69  70 - 79  80 - 89  > 89  \n0   0.0      0.0      0.0      0.0      0.0      0.0      1.0   0.0  \n1   0.0      0.0      0.0      0.0      0.0      0.0      1.0   0.0  \n2   0.0      0.0      0.0      0.0      0.0      0.0      1.0   0.0  \n3   0.0      0.0      0.0      0.0      0.0      0.0      1.0   0.0  \n4   0.0      0.0      0.0      0.0      0.0      0.0      1.0   0.0  \n\n[5 rows x 263 columns]",
      "text/html": "<div>\n<style scoped>\n    .dataframe tbody tr th:only-of-type {\n        vertical-align: middle;\n    }\n\n    .dataframe tbody tr th {\n        vertical-align: top;\n    }\n\n    .dataframe thead th {\n        text-align: right;\n    }\n</style>\n<table border=\"1\" class=\"dataframe\">\n  <thead>\n    <tr style=\"text-align: right;\">\n      <th></th>\n      <th>Unnamed: 0</th>\n      <th>patientunitstayid</th>\n      <th>hospitalid</th>\n      <th>time_window</th>\n      <th>death</th>\n      <th>ventilator</th>\n      <th>sepsis</th>\n      <th>acetamin</th>\n      <th>biotene</th>\n      <th>compazine</th>\n      <th>...</th>\n      <th>sex_is_male</th>\n      <th>sex_is_female</th>\n      <th>&lt; 30</th>\n      <th>30 - 39</th>\n      <th>40 - 49</th>\n      <th>50 - 59</th>\n      <th>60 - 69</th>\n      <th>70 - 79</th>\n      <th>80 - 89</th>\n      <th>&gt; 89</th>\n    </tr>\n  </thead>\n  <tbody>\n    <tr>\n      <th>0</th>\n      <td>0</td>\n      <td>534765.0</td>\n      <td>148.0</td>\n      <td>-1.0</td>\n      <td>0.0</td>\n      <td>0.0</td>\n      <td>0.0</td>\n      <td>1.0</td>\n      <td>0.0</td>\n      <td>0.0</td>\n      <td>...</td>\n      <td>0.0</td>\n      <td>1.0</td>\n      <td>0.0</td>\n      <td>0.0</td>\n      <td>0.0</td>\n      <td>0.0</td>\n      <td>0.0</td>\n      <td>0.0</td>\n      <td>1.0</td>\n      <td>0.0</td>\n    </tr>\n    <tr>\n      <th>1</th>\n      <td>1</td>\n      <td>534765.0</td>\n      <td>148.0</td>\n      <td>0.0</td>\n      <td>0.0</td>\n      <td>1.0</td>\n      <td>1.0</td>\n      <td>0.0</td>\n      <td>0.0</td>\n      <td>0.0</td>\n      <td>...</td>\n      <td>0.0</td>\n      <td>1.0</td>\n      <td>0.0</td>\n      <td>0.0</td>\n      <td>0.0</td>\n      <td>0.0</td>\n      <td>0.0</td>\n      <td>0.0</td>\n      <td>1.0</td>\n      <td>0.0</td>\n    </tr>\n    <tr>\n      <th>2</th>\n      <td>2</td>\n      <td>534765.0</td>\n      <td>148.0</td>\n      <td>1.0</td>\n      <td>0.0</td>\n      <td>0.0</td>\n      <td>0.0</td>\n      <td>0.0</td>\n      <td>0.0</td>\n      <td>0.0</td>\n      <td>...</td>\n      <td>0.0</td>\n      <td>1.0</td>\n      <td>0.0</td>\n      <td>0.0</td>\n      <td>0.0</td>\n      <td>0.0</td>\n      <td>0.0</td>\n      <td>0.0</td>\n      <td>1.0</td>\n      <td>0.0</td>\n    </tr>\n    <tr>\n      <th>3</th>\n      <td>3</td>\n      <td>534765.0</td>\n      <td>148.0</td>\n      <td>2.0</td>\n      <td>0.0</td>\n      <td>0.0</td>\n      <td>0.0</td>\n      <td>0.0</td>\n      <td>0.0</td>\n      <td>0.0</td>\n      <td>...</td>\n      <td>0.0</td>\n      <td>1.0</td>\n      <td>0.0</td>\n      <td>0.0</td>\n      <td>0.0</td>\n      <td>0.0</td>\n      <td>0.0</td>\n      <td>0.0</td>\n      <td>1.0</td>\n      <td>0.0</td>\n    </tr>\n    <tr>\n      <th>4</th>\n      <td>4</td>\n      <td>534765.0</td>\n      <td>148.0</td>\n      <td>3.0</td>\n      <td>0.0</td>\n      <td>0.0</td>\n      <td>0.0</td>\n      <td>0.0</td>\n      <td>0.0</td>\n      <td>0.0</td>\n      <td>...</td>\n      <td>0.0</td>\n      <td>1.0</td>\n      <td>0.0</td>\n      <td>0.0</td>\n      <td>0.0</td>\n      <td>0.0</td>\n      <td>0.0</td>\n      <td>0.0</td>\n      <td>1.0</td>\n      <td>0.0</td>\n    </tr>\n  </tbody>\n</table>\n<p>5 rows × 263 columns</p>\n</div>"
     },
     "execution_count": 2,
     "metadata": {},
     "output_type": "execute_result"
    }
   ],
   "source": [
    "import pandas as pd\n",
    "\n",
    "eicu_time = pd.read_csv(\"eicu_time_dataset.csv\")\n",
    "eicu_time.head()"
   ],
   "metadata": {
    "collapsed": false,
    "ExecuteTime": {
     "end_time": "2024-04-26T02:19:44.518945Z",
     "start_time": "2024-04-26T02:19:42.269814Z"
    }
   },
   "id": "b24426f8ebc5eaf7",
   "execution_count": 2
  },
  {
   "cell_type": "code",
   "outputs": [
    {
     "data": {
      "text/plain": "   patientunitstayid  hospitalid  death  acetamin  biotene  compazine  \\\n0           141168.0        59.0    1.0       0.0      0.0        0.0   \n1           141178.0        60.0    0.0       1.0      0.0        0.0   \n2           141179.0        60.0    0.0       0.0      0.0        0.0   \n3           141194.0        73.0    0.0       1.0      0.0        0.0   \n4           141196.0        67.0    0.0       1.0      0.0        0.0   \n\n   ferrous  imdur  lidocaine  milk of magnesia  ...  sex_is_male  \\\n0      0.0    0.0        0.0               0.0  ...          0.0   \n1      0.0    0.0        0.0               0.0  ...          0.0   \n2      0.0    0.0        0.0               0.0  ...          0.0   \n3      0.0    0.0        0.0               0.0  ...          1.0   \n4      0.0    0.0        0.0               0.0  ...          1.0   \n\n   sex_is_female  < 30  30 - 39  40 - 49  50 - 59  60 - 69  70 - 79  80 - 89  \\\n0            1.0   0.0      0.0      0.0      0.0      0.0      1.0      0.0   \n1            1.0   0.0      0.0      0.0      1.0      0.0      0.0      0.0   \n2            1.0   0.0      0.0      0.0      1.0      0.0      0.0      0.0   \n3            0.0   0.0      0.0      0.0      0.0      1.0      0.0      0.0   \n4            0.0   0.0      0.0      0.0      0.0      0.0      1.0      0.0   \n\n   > 89  \n0   0.0  \n1   0.0  \n2   0.0  \n3   0.0  \n4   0.0  \n\n[5 rows x 259 columns]",
      "text/html": "<div>\n<style scoped>\n    .dataframe tbody tr th:only-of-type {\n        vertical-align: middle;\n    }\n\n    .dataframe tbody tr th {\n        vertical-align: top;\n    }\n\n    .dataframe thead th {\n        text-align: right;\n    }\n</style>\n<table border=\"1\" class=\"dataframe\">\n  <thead>\n    <tr style=\"text-align: right;\">\n      <th></th>\n      <th>patientunitstayid</th>\n      <th>hospitalid</th>\n      <th>death</th>\n      <th>acetamin</th>\n      <th>biotene</th>\n      <th>compazine</th>\n      <th>ferrous</th>\n      <th>imdur</th>\n      <th>lidocaine</th>\n      <th>milk of magnesia</th>\n      <th>...</th>\n      <th>sex_is_male</th>\n      <th>sex_is_female</th>\n      <th>&lt; 30</th>\n      <th>30 - 39</th>\n      <th>40 - 49</th>\n      <th>50 - 59</th>\n      <th>60 - 69</th>\n      <th>70 - 79</th>\n      <th>80 - 89</th>\n      <th>&gt; 89</th>\n    </tr>\n  </thead>\n  <tbody>\n    <tr>\n      <th>0</th>\n      <td>141168.0</td>\n      <td>59.0</td>\n      <td>1.0</td>\n      <td>0.0</td>\n      <td>0.0</td>\n      <td>0.0</td>\n      <td>0.0</td>\n      <td>0.0</td>\n      <td>0.0</td>\n      <td>0.0</td>\n      <td>...</td>\n      <td>0.0</td>\n      <td>1.0</td>\n      <td>0.0</td>\n      <td>0.0</td>\n      <td>0.0</td>\n      <td>0.0</td>\n      <td>0.0</td>\n      <td>1.0</td>\n      <td>0.0</td>\n      <td>0.0</td>\n    </tr>\n    <tr>\n      <th>1</th>\n      <td>141178.0</td>\n      <td>60.0</td>\n      <td>0.0</td>\n      <td>1.0</td>\n      <td>0.0</td>\n      <td>0.0</td>\n      <td>0.0</td>\n      <td>0.0</td>\n      <td>0.0</td>\n      <td>0.0</td>\n      <td>...</td>\n      <td>0.0</td>\n      <td>1.0</td>\n      <td>0.0</td>\n      <td>0.0</td>\n      <td>0.0</td>\n      <td>1.0</td>\n      <td>0.0</td>\n      <td>0.0</td>\n      <td>0.0</td>\n      <td>0.0</td>\n    </tr>\n    <tr>\n      <th>2</th>\n      <td>141179.0</td>\n      <td>60.0</td>\n      <td>0.0</td>\n      <td>0.0</td>\n      <td>0.0</td>\n      <td>0.0</td>\n      <td>0.0</td>\n      <td>0.0</td>\n      <td>0.0</td>\n      <td>0.0</td>\n      <td>...</td>\n      <td>0.0</td>\n      <td>1.0</td>\n      <td>0.0</td>\n      <td>0.0</td>\n      <td>0.0</td>\n      <td>1.0</td>\n      <td>0.0</td>\n      <td>0.0</td>\n      <td>0.0</td>\n      <td>0.0</td>\n    </tr>\n    <tr>\n      <th>3</th>\n      <td>141194.0</td>\n      <td>73.0</td>\n      <td>0.0</td>\n      <td>1.0</td>\n      <td>0.0</td>\n      <td>0.0</td>\n      <td>0.0</td>\n      <td>0.0</td>\n      <td>0.0</td>\n      <td>0.0</td>\n      <td>...</td>\n      <td>1.0</td>\n      <td>0.0</td>\n      <td>0.0</td>\n      <td>0.0</td>\n      <td>0.0</td>\n      <td>0.0</td>\n      <td>1.0</td>\n      <td>0.0</td>\n      <td>0.0</td>\n      <td>0.0</td>\n    </tr>\n    <tr>\n      <th>4</th>\n      <td>141196.0</td>\n      <td>67.0</td>\n      <td>0.0</td>\n      <td>1.0</td>\n      <td>0.0</td>\n      <td>0.0</td>\n      <td>0.0</td>\n      <td>0.0</td>\n      <td>0.0</td>\n      <td>0.0</td>\n      <td>...</td>\n      <td>1.0</td>\n      <td>0.0</td>\n      <td>0.0</td>\n      <td>0.0</td>\n      <td>0.0</td>\n      <td>0.0</td>\n      <td>0.0</td>\n      <td>1.0</td>\n      <td>0.0</td>\n      <td>0.0</td>\n    </tr>\n  </tbody>\n</table>\n<p>5 rows × 259 columns</p>\n</div>"
     },
     "execution_count": 3,
     "metadata": {},
     "output_type": "execute_result"
    }
   ],
   "source": [
    "eicu = pd.read_csv(\"eicu_dataset.csv\")\n",
    "eicu.head()"
   ],
   "metadata": {
    "collapsed": false,
    "ExecuteTime": {
     "end_time": "2024-04-26T02:19:46.509278Z",
     "start_time": "2024-04-26T02:19:44.472328Z"
    }
   },
   "id": "c38a2f29efee6497",
   "execution_count": 3
  },
  {
   "cell_type": "code",
   "outputs": [],
   "source": [
    "lab = pd.read_csv(\"data/eicu/lab.csv\")"
   ],
   "metadata": {
    "collapsed": false,
    "ExecuteTime": {
     "end_time": "2024-04-26T02:20:09.025190Z",
     "start_time": "2024-04-26T02:19:46.068925Z"
    }
   },
   "id": "a647af13557be6a0",
   "execution_count": 4
  },
  {
   "cell_type": "code",
   "outputs": [
    {
     "data": {
      "text/plain": "      labid  patientunitstayid  labresultoffset  labtypeid     labname  \\\n0  52307161             141168             2026          3  fibrinogen   \n1  50363251             141168             1133          3    PT - INR   \n2  49149139             141168             2026          1   magnesium   \n3  50363250             141168             1133          3          PT   \n4  66695374             141168             2141          7          pH   \n\n   labresult labresulttext labmeasurenamesystem labmeasurenameinterface  \\\n0      177.0           177                mg/dL                   mg/dL   \n1        2.5           2.5                ratio                     NaN   \n2        2.0           2.0                mg/dL                   mg/dL   \n3       26.6          26.6                  sec                     sec   \n4        7.2          7.20                  NaN                   Units   \n\n   labresultrevisedoffset  \n0                    2219  \n1                    1208  \n2                    2090  \n3                    1208  \n4                    2155  ",
      "text/html": "<div>\n<style scoped>\n    .dataframe tbody tr th:only-of-type {\n        vertical-align: middle;\n    }\n\n    .dataframe tbody tr th {\n        vertical-align: top;\n    }\n\n    .dataframe thead th {\n        text-align: right;\n    }\n</style>\n<table border=\"1\" class=\"dataframe\">\n  <thead>\n    <tr style=\"text-align: right;\">\n      <th></th>\n      <th>labid</th>\n      <th>patientunitstayid</th>\n      <th>labresultoffset</th>\n      <th>labtypeid</th>\n      <th>labname</th>\n      <th>labresult</th>\n      <th>labresulttext</th>\n      <th>labmeasurenamesystem</th>\n      <th>labmeasurenameinterface</th>\n      <th>labresultrevisedoffset</th>\n    </tr>\n  </thead>\n  <tbody>\n    <tr>\n      <th>0</th>\n      <td>52307161</td>\n      <td>141168</td>\n      <td>2026</td>\n      <td>3</td>\n      <td>fibrinogen</td>\n      <td>177.0</td>\n      <td>177</td>\n      <td>mg/dL</td>\n      <td>mg/dL</td>\n      <td>2219</td>\n    </tr>\n    <tr>\n      <th>1</th>\n      <td>50363251</td>\n      <td>141168</td>\n      <td>1133</td>\n      <td>3</td>\n      <td>PT - INR</td>\n      <td>2.5</td>\n      <td>2.5</td>\n      <td>ratio</td>\n      <td>NaN</td>\n      <td>1208</td>\n    </tr>\n    <tr>\n      <th>2</th>\n      <td>49149139</td>\n      <td>141168</td>\n      <td>2026</td>\n      <td>1</td>\n      <td>magnesium</td>\n      <td>2.0</td>\n      <td>2.0</td>\n      <td>mg/dL</td>\n      <td>mg/dL</td>\n      <td>2090</td>\n    </tr>\n    <tr>\n      <th>3</th>\n      <td>50363250</td>\n      <td>141168</td>\n      <td>1133</td>\n      <td>3</td>\n      <td>PT</td>\n      <td>26.6</td>\n      <td>26.6</td>\n      <td>sec</td>\n      <td>sec</td>\n      <td>1208</td>\n    </tr>\n    <tr>\n      <th>4</th>\n      <td>66695374</td>\n      <td>141168</td>\n      <td>2141</td>\n      <td>7</td>\n      <td>pH</td>\n      <td>7.2</td>\n      <td>7.20</td>\n      <td>NaN</td>\n      <td>Units</td>\n      <td>2155</td>\n    </tr>\n  </tbody>\n</table>\n</div>"
     },
     "execution_count": 5,
     "metadata": {},
     "output_type": "execute_result"
    }
   ],
   "source": [
    "lab.head()"
   ],
   "metadata": {
    "collapsed": false,
    "ExecuteTime": {
     "end_time": "2024-04-26T02:20:09.102158Z",
     "start_time": "2024-04-26T02:20:09.021780Z"
    }
   },
   "id": "59e29690dddd57f9",
   "execution_count": 5
  },
  {
   "cell_type": "code",
   "outputs": [],
   "source": [
    "# key: lab_name, value: lab_name in eicu\n",
    "lab_name_mapping = {\n",
    "    \"o2sat\": \"O2 Sat (%)\",\n",
    "    \"pao2\": \"paO2\",\n",
    "    \"paco2\": \"paCO2\",\n",
    "    \"ph\": \"pH\",\n",
    "    \"albu_lab\": \"albumin\",\n",
    "    \"bands\": \"-bands\",\n",
    "    \"bun\": \"BUN\",\n",
    "    \"hct\": \"Hct\",\n",
    "    \"inr\": \"PT - INR\",\n",
    "    \"lactate\": \"lactate\",\n",
    "    \"platelets\": \"platelets x 1000\",\n",
    "    \"wbc\": \"WBC x 1000\"\n",
    "}"
   ],
   "metadata": {
    "collapsed": false,
    "ExecuteTime": {
     "end_time": "2024-04-26T02:20:09.103069Z",
     "start_time": "2024-04-26T02:20:09.026963Z"
    }
   },
   "id": "1e14225dcbcac7c2",
   "execution_count": 6
  },
  {
   "cell_type": "code",
   "outputs": [
    {
     "name": "stdout",
     "output_type": "stream",
     "text": [
      "O2 Sat (%) True\n",
      "\n",
      "paO2 True\n",
      "\n",
      "paCO2 True\n",
      "\n",
      "pH True\n",
      "\n",
      "albumin True\n",
      "\n",
      "-bands True\n",
      "\n",
      "BUN True\n",
      "\n",
      "Hct True\n",
      "\n",
      "PT - INR True\n",
      "\n",
      "lactate True\n",
      "\n",
      "platelets x 1000 True\n",
      "\n",
      "WBC x 1000 True\n"
     ]
    }
   ],
   "source": [
    "lab_name_mapping_values = list(lab_name_mapping.values())\n",
    "unique_lab_names = lab['labname'].unique()\n",
    "for value in lab_name_mapping_values:\n",
    "    print(value, value in unique_lab_names)\n",
    "    print()"
   ],
   "metadata": {
    "collapsed": false,
    "ExecuteTime": {
     "end_time": "2024-04-26T02:20:10.367776Z",
     "start_time": "2024-04-26T02:20:09.204845Z"
    }
   },
   "id": "2370e0e67b5f82fd",
   "execution_count": 7
  },
  {
   "cell_type": "code",
   "outputs": [],
   "source": [
    "selected_lab = lab[lab['labname'].isin(lab_name_mapping_values)].copy()\n",
    "\n",
    "for value in lab_name_mapping_values:\n",
    "\n",
    "    lab_values = selected_lab[selected_lab['labname'] == value]['labresult']\n",
    "    \n",
    "    # Filter out outliers using IQR\n",
    "    Q1 = lab_values.quantile(0.25)\n",
    "    Q3 = lab_values.quantile(0.75)\n",
    "    IQR = Q3 - Q1\n",
    "\n",
    "    lower_bound = Q1 - 1.5 * IQR\n",
    "    upper_bound = Q3 + 1.5 * IQR\n",
    "    \n",
    "    lab_values_adjusted = lab_values.clip(lower_bound, upper_bound)\n",
    "    \n",
    "    mean_value = lab_values_adjusted.mean()\n",
    "    std = lab_values_adjusted.std()\n",
    "    \n",
    "    # Normalize lab values using standard normal distribution\n",
    "    lab_values_normalized = (lab_values_adjusted - mean_value) / std\n",
    "    \n",
    "    selected_lab.loc[selected_lab['labname'] == value, 'labresult'] = lab_values_normalized"
   ],
   "metadata": {
    "collapsed": false,
    "ExecuteTime": {
     "end_time": "2024-04-26T02:20:20.124146Z",
     "start_time": "2024-04-26T02:20:12.055552Z"
    }
   },
   "id": "4ee315d335f3eb95",
   "execution_count": 8
  },
  {
   "cell_type": "code",
   "outputs": [],
   "source": [
    "eicu_columns = list(eicu_time.columns) + list(lab_name_mapping.keys())"
   ],
   "metadata": {
    "collapsed": false,
    "ExecuteTime": {
     "end_time": "2024-04-26T02:20:20.127110Z",
     "start_time": "2024-04-26T02:20:20.123469Z"
    }
   },
   "id": "bf1379f0eda47347",
   "execution_count": 9
  },
  {
   "cell_type": "code",
   "outputs": [
    {
     "name": "stderr",
     "output_type": "stream",
     "text": [
      "  0%|          | 0/5412 [00:00<?, ?it/s]/var/folders/wd/d0j10lq906x4lfc0bphzybd80000gn/T/ipykernel_74048/1467963580.py:55: FutureWarning: The behavior of DataFrame concatenation with empty or all-NA entries is deprecated. In a future version, this will no longer exclude empty or all-NA columns when determining the result dtypes. To retain the old behavior, exclude the relevant entries before the concat operation.\n",
      "  eicu_lab_time = pd.concat([eicu_lab_time, pre_eicu_row], ignore_index=True)\n",
      "  0%|          | 0/5412 [00:00<?, ?it/s]\n"
     ]
    },
    {
     "data": {
      "text/plain": "   Unnamed: 0  patientunitstayid  hospitalid  time_window  death  ventilator  \\\n0         0.0           534765.0       148.0         -1.0    0.0         0.0   \n1         0.0           534765.0       148.0          0.0    0.0         1.0   \n2         0.0           534765.0       148.0          1.0    0.0         0.0   \n3         0.0           534765.0       148.0          2.0    0.0         0.0   \n4         0.0           534765.0       148.0          3.0    0.0         0.0   \n\n   sepsis  acetamin  biotene  compazine  ...     paco2        ph  albu_lab  \\\n0     0.0       1.0      0.0        0.0  ...  0.598123 -0.851227 -0.668347   \n1     1.0       1.0      0.0        0.0  ...  0.844327 -1.564003       NaN   \n2     0.0       1.0      0.0        0.0  ...       NaN       NaN       NaN   \n3     0.0       1.0      0.0        0.0  ...       NaN       NaN       NaN   \n4     0.0       0.0      0.0        0.0  ...       NaN       NaN       NaN   \n\n     bands       bun       hct       inr   lactate  platelets      wbc  \n0 -0.90115 -0.435625 -0.240777 -0.764793 -0.355136   2.444322  2.43223  \n1 -0.37880 -0.326443 -0.734638 -0.593025 -0.235366   2.444322  2.43223  \n2      NaN       NaN       NaN       NaN       NaN        NaN      NaN  \n3      NaN       NaN       NaN       NaN       NaN        NaN      NaN  \n4      NaN       NaN       NaN       NaN       NaN        NaN      NaN  \n\n[5 rows x 275 columns]",
      "text/html": "<div>\n<style scoped>\n    .dataframe tbody tr th:only-of-type {\n        vertical-align: middle;\n    }\n\n    .dataframe tbody tr th {\n        vertical-align: top;\n    }\n\n    .dataframe thead th {\n        text-align: right;\n    }\n</style>\n<table border=\"1\" class=\"dataframe\">\n  <thead>\n    <tr style=\"text-align: right;\">\n      <th></th>\n      <th>Unnamed: 0</th>\n      <th>patientunitstayid</th>\n      <th>hospitalid</th>\n      <th>time_window</th>\n      <th>death</th>\n      <th>ventilator</th>\n      <th>sepsis</th>\n      <th>acetamin</th>\n      <th>biotene</th>\n      <th>compazine</th>\n      <th>...</th>\n      <th>paco2</th>\n      <th>ph</th>\n      <th>albu_lab</th>\n      <th>bands</th>\n      <th>bun</th>\n      <th>hct</th>\n      <th>inr</th>\n      <th>lactate</th>\n      <th>platelets</th>\n      <th>wbc</th>\n    </tr>\n  </thead>\n  <tbody>\n    <tr>\n      <th>0</th>\n      <td>0.0</td>\n      <td>534765.0</td>\n      <td>148.0</td>\n      <td>-1.0</td>\n      <td>0.0</td>\n      <td>0.0</td>\n      <td>0.0</td>\n      <td>1.0</td>\n      <td>0.0</td>\n      <td>0.0</td>\n      <td>...</td>\n      <td>0.598123</td>\n      <td>-0.851227</td>\n      <td>-0.668347</td>\n      <td>-0.90115</td>\n      <td>-0.435625</td>\n      <td>-0.240777</td>\n      <td>-0.764793</td>\n      <td>-0.355136</td>\n      <td>2.444322</td>\n      <td>2.43223</td>\n    </tr>\n    <tr>\n      <th>1</th>\n      <td>0.0</td>\n      <td>534765.0</td>\n      <td>148.0</td>\n      <td>0.0</td>\n      <td>0.0</td>\n      <td>1.0</td>\n      <td>1.0</td>\n      <td>1.0</td>\n      <td>0.0</td>\n      <td>0.0</td>\n      <td>...</td>\n      <td>0.844327</td>\n      <td>-1.564003</td>\n      <td>NaN</td>\n      <td>-0.37880</td>\n      <td>-0.326443</td>\n      <td>-0.734638</td>\n      <td>-0.593025</td>\n      <td>-0.235366</td>\n      <td>2.444322</td>\n      <td>2.43223</td>\n    </tr>\n    <tr>\n      <th>2</th>\n      <td>0.0</td>\n      <td>534765.0</td>\n      <td>148.0</td>\n      <td>1.0</td>\n      <td>0.0</td>\n      <td>0.0</td>\n      <td>0.0</td>\n      <td>1.0</td>\n      <td>0.0</td>\n      <td>0.0</td>\n      <td>...</td>\n      <td>NaN</td>\n      <td>NaN</td>\n      <td>NaN</td>\n      <td>NaN</td>\n      <td>NaN</td>\n      <td>NaN</td>\n      <td>NaN</td>\n      <td>NaN</td>\n      <td>NaN</td>\n      <td>NaN</td>\n    </tr>\n    <tr>\n      <th>3</th>\n      <td>0.0</td>\n      <td>534765.0</td>\n      <td>148.0</td>\n      <td>2.0</td>\n      <td>0.0</td>\n      <td>0.0</td>\n      <td>0.0</td>\n      <td>1.0</td>\n      <td>0.0</td>\n      <td>0.0</td>\n      <td>...</td>\n      <td>NaN</td>\n      <td>NaN</td>\n      <td>NaN</td>\n      <td>NaN</td>\n      <td>NaN</td>\n      <td>NaN</td>\n      <td>NaN</td>\n      <td>NaN</td>\n      <td>NaN</td>\n      <td>NaN</td>\n    </tr>\n    <tr>\n      <th>4</th>\n      <td>0.0</td>\n      <td>534765.0</td>\n      <td>148.0</td>\n      <td>3.0</td>\n      <td>0.0</td>\n      <td>0.0</td>\n      <td>0.0</td>\n      <td>0.0</td>\n      <td>0.0</td>\n      <td>0.0</td>\n      <td>...</td>\n      <td>NaN</td>\n      <td>NaN</td>\n      <td>NaN</td>\n      <td>NaN</td>\n      <td>NaN</td>\n      <td>NaN</td>\n      <td>NaN</td>\n      <td>NaN</td>\n      <td>NaN</td>\n      <td>NaN</td>\n    </tr>\n  </tbody>\n</table>\n<p>5 rows × 275 columns</p>\n</div>"
     },
     "execution_count": 18,
     "metadata": {},
     "output_type": "execute_result"
    }
   ],
   "source": [
    "from tqdm import tqdm\n",
    "\n",
    "eicu_lab_time = pd.DataFrame(columns=eicu_columns)\n",
    "\n",
    "bin_time = 12 * 60\n",
    "\n",
    "patient = patient[patient[\"hospitalid\"].isin([148,281])]\n",
    "for index, row in tqdm(patient.iterrows(), total=patient.shape[0]):\n",
    "    \n",
    "    pre_eicu_row = pd.DataFrame(0.0, index=[0], columns=eicu_columns)\n",
    "\n",
    "    patientunitstayid = row['patientunitstayid']\n",
    "\n",
    "    pre_eicu_row['patientunitstayid'] = float(patientunitstayid)\n",
    "    pre_eicu_row['hospitalid'] = float(row['hospitalid'])\n",
    "    pre_eicu_row['time_window'] = -1.0\n",
    "\n",
    "    # BMI\n",
    "    bmi = get_bmi(row['admissionweight'], row['admissionheight'])\n",
    "    pre_eicu_row[bmi] = 1.0\n",
    "\n",
    "    # Race\n",
    "    race = get_race(row['ethnicity'])\n",
    "    pre_eicu_row[race] = 1.0\n",
    "\n",
    "    # Sex\n",
    "    sex = \"sex_is_female\" if row['gender'] == 'Female' else \"sex_is_male\"\n",
    "    pre_eicu_row[sex] = 1.0\n",
    "\n",
    "    # Age\n",
    "    age_group = get_age_group(row['age'])\n",
    "    pre_eicu_row[age_group] = 1.0\n",
    "\n",
    "    # Drug\n",
    "    time_window_drug = patient_medication[(patient_medication[\"patientunitstayid\"] == patientunitstayid) & (\n",
    "            patient_medication[\"drugstartoffset\"] < 0)]\n",
    "\n",
    "    for drug in time_window_drug[\"drugname\"]:\n",
    "\n",
    "        converted_drug = harmonized_drug_dict.get(drug)\n",
    "        if converted_drug is not None:\n",
    "            pre_eicu_row[converted_drug] = 1.0\n",
    "            \n",
    "    # Lab\n",
    "    time_window_lab = selected_lab[(selected_lab[\"patientunitstayid\"] == patientunitstayid) & (\n",
    "            selected_lab[\"labresultoffset\"] < 0)]\n",
    "    \n",
    "    for lab_name, eicu_lab_name in lab_name_mapping.items():\n",
    "        lab_value = time_window_lab[time_window_lab['labname'] == eicu_lab_name]['labresult']\n",
    "\n",
    "        # average lab values\n",
    "        if lab_value.shape[0] > 0:\n",
    "            pre_eicu_row[lab_name] = lab_value.mean() \n",
    "\n",
    "    eicu_lab_time = pd.concat([eicu_lab_time, pre_eicu_row], ignore_index=True)\n",
    "\n",
    "    for cur_bin in range(bin):\n",
    "\n",
    "        eicu_row = pd.DataFrame(0.0, index=[0], columns=eicu_time.columns)\n",
    "    \n",
    "        patientunitstayid = row['patientunitstayid']\n",
    "        \n",
    "        eicu_row['patientunitstayid'] = float(patientunitstayid)\n",
    "        eicu_row['hospitalid'] = float(row['hospitalid'])\n",
    "        eicu_row['time_window'] = float(cur_bin)\n",
    "        \n",
    "        # BMI\n",
    "        bmi = get_bmi(row['admissionweight'], row['admissionheight'])\n",
    "        eicu_row[bmi] = 1.0\n",
    "\n",
    "        # Race\n",
    "        race = get_race(row['ethnicity'])\n",
    "        eicu_row[race] = 1.0\n",
    "\n",
    "        # Sex\n",
    "        sex = \"sex_is_female\" if row['gender'] == 'Female' else \"sex_is_male\"\n",
    "        eicu_row[sex] = 1.0\n",
    "\n",
    "        # Age\n",
    "        age_group = get_age_group(row['age'])\n",
    "        eicu_row[age_group] = 1.0\n",
    "\n",
    "        time_window_start = cur_bin * bin_time\n",
    "        time_window_end = (cur_bin + 1) * bin_time\n",
    "\n",
    "        # Label\n",
    "        eicu_row[\"ventilator\"] = float(len(ventilator_treatments[\n",
    "                                               (ventilator_treatments[\"treatmentoffset\"] >= time_window_start) & (\n",
    "                                                           ventilator_treatments[\n",
    "                                                               \"treatmentoffset\"] < time_window_end) & (\n",
    "                                                           ventilator_treatments[\n",
    "                                                               \"patientunitstayid\"] == patientunitstayid)]) > 0)\n",
    "\n",
    "        eicu_row[\"sepsis\"] = float(len(sepsis_diagnosis[(sepsis_diagnosis[\"diagnosisoffset\"] >= time_window_start) & (\n",
    "                    sepsis_diagnosis[\"diagnosisoffset\"] < time_window_end) & (sepsis_diagnosis[\n",
    "                                                                                  \"patientunitstayid\"] == patientunitstayid)]) > 0)\n",
    "\n",
    "        eicu_row[\"death\"] = float(len(mortaility_patient[(mortaility_patient[\"unitdischargeoffset\"] >= time_window_start) & (\n",
    "                    mortaility_patient[\"unitdischargeoffset\"] < time_window_end) & (mortaility_patient[\"patientunitstayid\"] == patientunitstayid)]) > 0)\n",
    "        \n",
    "        # Drug\n",
    "        consistant_medication = patient_medication[(patient_medication[\"patientunitstayid\"] == patientunitstayid) & (patient_medication[\"drugstartoffset\"] <= patient_medication[\"drugstopoffset\"])]\n",
    "        \n",
    "        consistant_drug = consistant_medication[(consistant_medication[\"patientunitstayid\"] == patientunitstayid) & (consistant_medication[\"drugstopoffset\"] >= time_window_start) & (consistant_medication[\"drugstartoffset\"] <= time_window_end)]\n",
    "        consistant_drug_names = consistant_drug[\"drugname\"]\n",
    "        \n",
    "        inconsistant_medication = patient_medication[(patient_medication[\"patientunitstayid\"] == patientunitstayid) & (patient_medication[\"drugstartoffset\"] > patient_medication[\"drugstopoffset\"])]\n",
    "        \n",
    "        inconsistant_drug = inconsistant_medication[(inconsistant_medication[\"patientunitstayid\"] == patientunitstayid) & (inconsistant_medication[\"drugstartoffset\"] >= time_window_start) & (inconsistant_medication[\"drugstartoffset\"] < time_window_end)]\n",
    "        inconsistant_drug_names = inconsistant_drug[\"drugname\"]\n",
    "        \n",
    "        drug_names = pd.concat([consistant_drug_names, inconsistant_drug_names])\n",
    "\n",
    "        for drug in drug_names:\n",
    "            \n",
    "            converted_drug = harmonized_drug_dict.get(drug)\n",
    "            if converted_drug is not None:\n",
    "                eicu_row[converted_drug] = 1.0\n",
    "                \n",
    "        # Lab\n",
    "        lab_time_patient = selected_lab[(selected_lab[\"patientunitstayid\"] == patientunitstayid) & (selected_lab['labresultoffset'] >= time_window_start) & (selected_lab['labresultoffset'] < time_window_end)]\n",
    "\n",
    "        for lab_name, eicu_lab_name in lab_name_mapping.items():\n",
    "            lab_value = lab_time_patient[lab_time_patient['labname'] == eicu_lab_name]['labresult']\n",
    "\n",
    "            # average lab values\n",
    "            if lab_value.shape[0] > 0:\n",
    "                eicu_row[lab_name] = lab_value.mean()   \n",
    "        \n",
    "        eicu_lab_time = pd.concat([eicu_lab_time, eicu_row], ignore_index=True)\n",
    "\n",
    "eicu_lab_time.head()"
   ],
   "metadata": {
    "collapsed": false,
    "ExecuteTime": {
     "end_time": "2024-04-26T02:24:38.116963Z",
     "start_time": "2024-04-26T02:24:37.930971Z"
    }
   },
   "id": "8636485d475fb1d2",
   "execution_count": 18
  },
  {
   "cell_type": "markdown",
   "source": [],
   "metadata": {
    "collapsed": false
   },
   "id": "771e5bea45efa85b"
  }
 ],
 "metadata": {
  "kernelspec": {
   "display_name": "Python 3",
   "language": "python",
   "name": "python3"
  },
  "language_info": {
   "codemirror_mode": {
    "name": "ipython",
    "version": 2
   },
   "file_extension": ".py",
   "mimetype": "text/x-python",
   "name": "python",
   "nbconvert_exporter": "python",
   "pygments_lexer": "ipython2",
   "version": "2.7.6"
  }
 },
 "nbformat": 4,
 "nbformat_minor": 5
}
