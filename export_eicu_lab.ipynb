{
 "cells": [
  {
   "cell_type": "code",
   "outputs": [
    {
     "data": {
      "text/plain": "   patientunitstayid  hospitalid  death  acetamin  biotene  compazine  \\\n0           141168.0        59.0    1.0       0.0      0.0        0.0   \n1           141178.0        60.0    0.0       1.0      0.0        0.0   \n2           141179.0        60.0    0.0       0.0      0.0        0.0   \n3           141194.0        73.0    0.0       1.0      0.0        0.0   \n4           141196.0        67.0    0.0       1.0      0.0        0.0   \n\n   ferrous  imdur  lidocaine  milk of magnesia  ...  sex_is_male  \\\n0      0.0    0.0        0.0               0.0  ...          0.0   \n1      0.0    0.0        0.0               0.0  ...          0.0   \n2      0.0    0.0        0.0               0.0  ...          0.0   \n3      0.0    0.0        0.0               0.0  ...          1.0   \n4      0.0    0.0        0.0               0.0  ...          1.0   \n\n   sex_is_female  < 30  30 - 39  40 - 49  50 - 59  60 - 69  70 - 79  80 - 89  \\\n0            1.0   0.0      0.0      0.0      0.0      0.0      1.0      0.0   \n1            1.0   0.0      0.0      0.0      1.0      0.0      0.0      0.0   \n2            1.0   0.0      0.0      0.0      1.0      0.0      0.0      0.0   \n3            0.0   0.0      0.0      0.0      0.0      1.0      0.0      0.0   \n4            0.0   0.0      0.0      0.0      0.0      0.0      1.0      0.0   \n\n   > 89  \n0   0.0  \n1   0.0  \n2   0.0  \n3   0.0  \n4   0.0  \n\n[5 rows x 259 columns]",
      "text/html": "<div>\n<style scoped>\n    .dataframe tbody tr th:only-of-type {\n        vertical-align: middle;\n    }\n\n    .dataframe tbody tr th {\n        vertical-align: top;\n    }\n\n    .dataframe thead th {\n        text-align: right;\n    }\n</style>\n<table border=\"1\" class=\"dataframe\">\n  <thead>\n    <tr style=\"text-align: right;\">\n      <th></th>\n      <th>patientunitstayid</th>\n      <th>hospitalid</th>\n      <th>death</th>\n      <th>acetamin</th>\n      <th>biotene</th>\n      <th>compazine</th>\n      <th>ferrous</th>\n      <th>imdur</th>\n      <th>lidocaine</th>\n      <th>milk of magnesia</th>\n      <th>...</th>\n      <th>sex_is_male</th>\n      <th>sex_is_female</th>\n      <th>&lt; 30</th>\n      <th>30 - 39</th>\n      <th>40 - 49</th>\n      <th>50 - 59</th>\n      <th>60 - 69</th>\n      <th>70 - 79</th>\n      <th>80 - 89</th>\n      <th>&gt; 89</th>\n    </tr>\n  </thead>\n  <tbody>\n    <tr>\n      <th>0</th>\n      <td>141168.0</td>\n      <td>59.0</td>\n      <td>1.0</td>\n      <td>0.0</td>\n      <td>0.0</td>\n      <td>0.0</td>\n      <td>0.0</td>\n      <td>0.0</td>\n      <td>0.0</td>\n      <td>0.0</td>\n      <td>...</td>\n      <td>0.0</td>\n      <td>1.0</td>\n      <td>0.0</td>\n      <td>0.0</td>\n      <td>0.0</td>\n      <td>0.0</td>\n      <td>0.0</td>\n      <td>1.0</td>\n      <td>0.0</td>\n      <td>0.0</td>\n    </tr>\n    <tr>\n      <th>1</th>\n      <td>141178.0</td>\n      <td>60.0</td>\n      <td>0.0</td>\n      <td>1.0</td>\n      <td>0.0</td>\n      <td>0.0</td>\n      <td>0.0</td>\n      <td>0.0</td>\n      <td>0.0</td>\n      <td>0.0</td>\n      <td>...</td>\n      <td>0.0</td>\n      <td>1.0</td>\n      <td>0.0</td>\n      <td>0.0</td>\n      <td>0.0</td>\n      <td>1.0</td>\n      <td>0.0</td>\n      <td>0.0</td>\n      <td>0.0</td>\n      <td>0.0</td>\n    </tr>\n    <tr>\n      <th>2</th>\n      <td>141179.0</td>\n      <td>60.0</td>\n      <td>0.0</td>\n      <td>0.0</td>\n      <td>0.0</td>\n      <td>0.0</td>\n      <td>0.0</td>\n      <td>0.0</td>\n      <td>0.0</td>\n      <td>0.0</td>\n      <td>...</td>\n      <td>0.0</td>\n      <td>1.0</td>\n      <td>0.0</td>\n      <td>0.0</td>\n      <td>0.0</td>\n      <td>1.0</td>\n      <td>0.0</td>\n      <td>0.0</td>\n      <td>0.0</td>\n      <td>0.0</td>\n    </tr>\n    <tr>\n      <th>3</th>\n      <td>141194.0</td>\n      <td>73.0</td>\n      <td>0.0</td>\n      <td>1.0</td>\n      <td>0.0</td>\n      <td>0.0</td>\n      <td>0.0</td>\n      <td>0.0</td>\n      <td>0.0</td>\n      <td>0.0</td>\n      <td>...</td>\n      <td>1.0</td>\n      <td>0.0</td>\n      <td>0.0</td>\n      <td>0.0</td>\n      <td>0.0</td>\n      <td>0.0</td>\n      <td>1.0</td>\n      <td>0.0</td>\n      <td>0.0</td>\n      <td>0.0</td>\n    </tr>\n    <tr>\n      <th>4</th>\n      <td>141196.0</td>\n      <td>67.0</td>\n      <td>0.0</td>\n      <td>1.0</td>\n      <td>0.0</td>\n      <td>0.0</td>\n      <td>0.0</td>\n      <td>0.0</td>\n      <td>0.0</td>\n      <td>0.0</td>\n      <td>...</td>\n      <td>1.0</td>\n      <td>0.0</td>\n      <td>0.0</td>\n      <td>0.0</td>\n      <td>0.0</td>\n      <td>0.0</td>\n      <td>0.0</td>\n      <td>1.0</td>\n      <td>0.0</td>\n      <td>0.0</td>\n    </tr>\n  </tbody>\n</table>\n<p>5 rows × 259 columns</p>\n</div>"
     },
     "execution_count": 1,
     "metadata": {},
     "output_type": "execute_result"
    }
   ],
   "source": [
    "import pandas as pd\n",
    "\n",
    "eicu = pd.read_csv(\"eicu_dataset.csv\")\n",
    "eicu.head()"
   ],
   "metadata": {
    "collapsed": false,
    "ExecuteTime": {
     "end_time": "2024-04-14T18:53:30.349989Z",
     "start_time": "2024-04-14T18:53:28.434550Z"
    }
   },
   "id": "c38a2f29efee6497",
   "execution_count": 1
  },
  {
   "cell_type": "code",
   "outputs": [],
   "source": [
    "lab = pd.read_csv(\"data/eicu/lab.csv\")"
   ],
   "metadata": {
    "collapsed": false,
    "ExecuteTime": {
     "end_time": "2024-04-14T18:53:53.036244Z",
     "start_time": "2024-04-14T18:53:30.349471Z"
    }
   },
   "id": "a647af13557be6a0",
   "execution_count": 2
  },
  {
   "cell_type": "code",
   "outputs": [
    {
     "data": {
      "text/plain": "      labid  patientunitstayid  labresultoffset  labtypeid     labname  \\\n0  52307161             141168             2026          3  fibrinogen   \n1  50363251             141168             1133          3    PT - INR   \n2  49149139             141168             2026          1   magnesium   \n3  50363250             141168             1133          3          PT   \n4  66695374             141168             2141          7          pH   \n\n   labresult labresulttext labmeasurenamesystem labmeasurenameinterface  \\\n0      177.0           177                mg/dL                   mg/dL   \n1        2.5           2.5                ratio                     NaN   \n2        2.0           2.0                mg/dL                   mg/dL   \n3       26.6          26.6                  sec                     sec   \n4        7.2          7.20                  NaN                   Units   \n\n   labresultrevisedoffset  \n0                    2219  \n1                    1208  \n2                    2090  \n3                    1208  \n4                    2155  ",
      "text/html": "<div>\n<style scoped>\n    .dataframe tbody tr th:only-of-type {\n        vertical-align: middle;\n    }\n\n    .dataframe tbody tr th {\n        vertical-align: top;\n    }\n\n    .dataframe thead th {\n        text-align: right;\n    }\n</style>\n<table border=\"1\" class=\"dataframe\">\n  <thead>\n    <tr style=\"text-align: right;\">\n      <th></th>\n      <th>labid</th>\n      <th>patientunitstayid</th>\n      <th>labresultoffset</th>\n      <th>labtypeid</th>\n      <th>labname</th>\n      <th>labresult</th>\n      <th>labresulttext</th>\n      <th>labmeasurenamesystem</th>\n      <th>labmeasurenameinterface</th>\n      <th>labresultrevisedoffset</th>\n    </tr>\n  </thead>\n  <tbody>\n    <tr>\n      <th>0</th>\n      <td>52307161</td>\n      <td>141168</td>\n      <td>2026</td>\n      <td>3</td>\n      <td>fibrinogen</td>\n      <td>177.0</td>\n      <td>177</td>\n      <td>mg/dL</td>\n      <td>mg/dL</td>\n      <td>2219</td>\n    </tr>\n    <tr>\n      <th>1</th>\n      <td>50363251</td>\n      <td>141168</td>\n      <td>1133</td>\n      <td>3</td>\n      <td>PT - INR</td>\n      <td>2.5</td>\n      <td>2.5</td>\n      <td>ratio</td>\n      <td>NaN</td>\n      <td>1208</td>\n    </tr>\n    <tr>\n      <th>2</th>\n      <td>49149139</td>\n      <td>141168</td>\n      <td>2026</td>\n      <td>1</td>\n      <td>magnesium</td>\n      <td>2.0</td>\n      <td>2.0</td>\n      <td>mg/dL</td>\n      <td>mg/dL</td>\n      <td>2090</td>\n    </tr>\n    <tr>\n      <th>3</th>\n      <td>50363250</td>\n      <td>141168</td>\n      <td>1133</td>\n      <td>3</td>\n      <td>PT</td>\n      <td>26.6</td>\n      <td>26.6</td>\n      <td>sec</td>\n      <td>sec</td>\n      <td>1208</td>\n    </tr>\n    <tr>\n      <th>4</th>\n      <td>66695374</td>\n      <td>141168</td>\n      <td>2141</td>\n      <td>7</td>\n      <td>pH</td>\n      <td>7.2</td>\n      <td>7.20</td>\n      <td>NaN</td>\n      <td>Units</td>\n      <td>2155</td>\n    </tr>\n  </tbody>\n</table>\n</div>"
     },
     "execution_count": 3,
     "metadata": {},
     "output_type": "execute_result"
    }
   ],
   "source": [
    "lab.head()"
   ],
   "metadata": {
    "collapsed": false,
    "ExecuteTime": {
     "end_time": "2024-04-14T18:53:53.043091Z",
     "start_time": "2024-04-14T18:53:53.036990Z"
    }
   },
   "id": "59e29690dddd57f9",
   "execution_count": 3
  },
  {
   "cell_type": "code",
   "outputs": [],
   "source": [
    "# key: lab_name, value: lab_name in eicu\n",
    "lab_name_mapping = {\n",
    "    \"o2sat\": \"O2 Sat (%)\",\n",
    "    \"pao2\": \"paO2\",\n",
    "    \"paco2\": \"paCO2\",\n",
    "    \"ph\": \"pH\",\n",
    "    \"albu_lab\": \"albumin\",\n",
    "    \"bands\": \"-bands\",\n",
    "    \"bun\": \"BUN\",\n",
    "    \"hct\": \"Hct\",\n",
    "    \"inr\": \"PT - INR\",\n",
    "    \"lactate\": \"lactate\",\n",
    "    \"platelets\": \"platelets x 1000\",\n",
    "    \"wbc\": \"WBC x 1000\"\n",
    "}"
   ],
   "metadata": {
    "collapsed": false,
    "ExecuteTime": {
     "end_time": "2024-04-14T18:53:53.052903Z",
     "start_time": "2024-04-14T18:53:53.042860Z"
    }
   },
   "id": "1e14225dcbcac7c2",
   "execution_count": 4
  },
  {
   "cell_type": "code",
   "outputs": [
    {
     "name": "stdout",
     "output_type": "stream",
     "text": [
      "O2 Sat (%) True\n",
      "\n",
      "paO2 True\n",
      "\n",
      "paCO2 True\n",
      "\n",
      "pH True\n",
      "\n",
      "albumin True\n",
      "\n",
      "-bands True\n",
      "\n",
      "BUN True\n",
      "\n",
      "Hct True\n",
      "\n",
      "PT - INR True\n",
      "\n",
      "lactate True\n",
      "\n",
      "platelets x 1000 True\n",
      "\n",
      "WBC x 1000 True\n"
     ]
    }
   ],
   "source": [
    "lab_name_mapping_values = list(lab_name_mapping.values())\n",
    "unique_lab_names = lab['labname'].unique()\n",
    "for value in lab_name_mapping_values:\n",
    "    print(value, value in unique_lab_names)\n",
    "    print()"
   ],
   "metadata": {
    "collapsed": false,
    "ExecuteTime": {
     "end_time": "2024-04-14T18:53:54.214112Z",
     "start_time": "2024-04-14T18:53:53.661317Z"
    }
   },
   "id": "2370e0e67b5f82fd",
   "execution_count": 5
  },
  {
   "cell_type": "code",
   "outputs": [],
   "source": [
    "selected_lab = lab[lab['labname'].isin(lab_name_mapping_values)].copy()\n",
    "\n",
    "for value in lab_name_mapping_values:\n",
    "\n",
    "    lab_values = selected_lab[selected_lab['labname'] == value]['labresult']\n",
    "    \n",
    "    # Filter out outliers using IQR\n",
    "    Q1 = lab_values.quantile(0.25)\n",
    "    Q3 = lab_values.quantile(0.75)\n",
    "    IQR = Q3 - Q1\n",
    "\n",
    "    lower_bound = Q1 - 1.5 * IQR\n",
    "    upper_bound = Q3 + 1.5 * IQR\n",
    "    \n",
    "    lab_values_adjusted = lab_values.clip(lower_bound, upper_bound)\n",
    "    \n",
    "    mean_value = lab_values_adjusted.mean()\n",
    "    std = lab_values_adjusted.std()\n",
    "    \n",
    "    # Normalize lab values using standard normal distribution\n",
    "    lab_values_normalized = (lab_values_adjusted - mean_value) / std\n",
    "    \n",
    "    selected_lab.loc[selected_lab['labname'] == value, 'labresult'] = lab_values_normalized"
   ],
   "metadata": {
    "collapsed": false,
    "ExecuteTime": {
     "end_time": "2024-04-14T18:54:03.163556Z",
     "start_time": "2024-04-14T18:53:55.607023Z"
    }
   },
   "id": "4ee315d335f3eb95",
   "execution_count": 6
  },
  {
   "cell_type": "code",
   "outputs": [
    {
     "data": {
      "text/plain": "Index(['patientunitstayid', 'hospitalid', 'death', 'acetamin', 'biotene',\n       'compazine', 'ferrous', 'imdur', 'lidocaine', 'milk of magnesia',\n       ...\n       'sex_is_male', 'sex_is_female', '< 30', '30 - 39', '40 - 49', '50 - 59',\n       '60 - 69', '70 - 79', '80 - 89', '> 89'],\n      dtype='object', length=259)"
     },
     "execution_count": 7,
     "metadata": {},
     "output_type": "execute_result"
    }
   ],
   "source": [
    "eicu.columns"
   ],
   "metadata": {
    "collapsed": false,
    "ExecuteTime": {
     "end_time": "2024-04-14T18:54:03.167805Z",
     "start_time": "2024-04-14T18:54:03.164605Z"
    }
   },
   "id": "bea310550c6100b1",
   "execution_count": 7
  },
  {
   "cell_type": "code",
   "outputs": [],
   "source": [
    "eicu_columns = list(eicu.columns) + list(lab_name_mapping.keys())"
   ],
   "metadata": {
    "collapsed": false,
    "ExecuteTime": {
     "end_time": "2024-04-14T18:54:03.172115Z",
     "start_time": "2024-04-14T18:54:03.167998Z"
    }
   },
   "id": "bf1379f0eda47347",
   "execution_count": 8
  },
  {
   "cell_type": "code",
   "outputs": [
    {
     "data": {
      "text/plain": "              labid  patientunitstayid  labresultoffset  labtypeid  \\\n0          52307161             141168             2026          3   \n1          50363251             141168             1133          3   \n2          49149139             141168             2026          1   \n3          50363250             141168             1133          3   \n4          66695374             141168             2141          7   \n...             ...                ...              ...        ...   \n39132526  824772675            3353263               -7          3   \n39132527  826470517            3353263             1733          3   \n39132528  824772678            3353263               -7          3   \n39132529  826470516            3353263             1733          3   \n39132530  826470521            3353263             1733          3   \n\n             labname  labresult labresulttext labmeasurenamesystem  \\\n0         fibrinogen     177.00           177                mg/dL   \n1           PT - INR       2.50           2.5                ratio   \n2          magnesium       2.00           2.0                mg/dL   \n3                 PT      26.60          26.6                  sec   \n4                 pH       7.20          7.20                  NaN   \n...              ...        ...           ...                  ...   \n39132526  WBC x 1000       6.40           6.4                K/mcL   \n39132527         RBC       4.67          4.67                M/mcL   \n39132528      -monos      10.00            10                    %   \n39132529  WBC x 1000       6.60           6.6                K/mcL   \n39132530         MCH      28.00            28                   pg   \n\n         labmeasurenameinterface  labresultrevisedoffset  \n0                          mg/dL                    2219  \n1                            NaN                    1208  \n2                          mg/dL                    2090  \n3                            sec                    1208  \n4                          Units                    2155  \n...                          ...                     ...  \n39132526                    K/uL                       6  \n39132527                    M/uL                    1774  \n39132528                       %                       6  \n39132529                    K/uL                    1774  \n39132530                      pg                    1774  \n\n[39132531 rows x 10 columns]",
      "text/html": "<div>\n<style scoped>\n    .dataframe tbody tr th:only-of-type {\n        vertical-align: middle;\n    }\n\n    .dataframe tbody tr th {\n        vertical-align: top;\n    }\n\n    .dataframe thead th {\n        text-align: right;\n    }\n</style>\n<table border=\"1\" class=\"dataframe\">\n  <thead>\n    <tr style=\"text-align: right;\">\n      <th></th>\n      <th>labid</th>\n      <th>patientunitstayid</th>\n      <th>labresultoffset</th>\n      <th>labtypeid</th>\n      <th>labname</th>\n      <th>labresult</th>\n      <th>labresulttext</th>\n      <th>labmeasurenamesystem</th>\n      <th>labmeasurenameinterface</th>\n      <th>labresultrevisedoffset</th>\n    </tr>\n  </thead>\n  <tbody>\n    <tr>\n      <th>0</th>\n      <td>52307161</td>\n      <td>141168</td>\n      <td>2026</td>\n      <td>3</td>\n      <td>fibrinogen</td>\n      <td>177.00</td>\n      <td>177</td>\n      <td>mg/dL</td>\n      <td>mg/dL</td>\n      <td>2219</td>\n    </tr>\n    <tr>\n      <th>1</th>\n      <td>50363251</td>\n      <td>141168</td>\n      <td>1133</td>\n      <td>3</td>\n      <td>PT - INR</td>\n      <td>2.50</td>\n      <td>2.5</td>\n      <td>ratio</td>\n      <td>NaN</td>\n      <td>1208</td>\n    </tr>\n    <tr>\n      <th>2</th>\n      <td>49149139</td>\n      <td>141168</td>\n      <td>2026</td>\n      <td>1</td>\n      <td>magnesium</td>\n      <td>2.00</td>\n      <td>2.0</td>\n      <td>mg/dL</td>\n      <td>mg/dL</td>\n      <td>2090</td>\n    </tr>\n    <tr>\n      <th>3</th>\n      <td>50363250</td>\n      <td>141168</td>\n      <td>1133</td>\n      <td>3</td>\n      <td>PT</td>\n      <td>26.60</td>\n      <td>26.6</td>\n      <td>sec</td>\n      <td>sec</td>\n      <td>1208</td>\n    </tr>\n    <tr>\n      <th>4</th>\n      <td>66695374</td>\n      <td>141168</td>\n      <td>2141</td>\n      <td>7</td>\n      <td>pH</td>\n      <td>7.20</td>\n      <td>7.20</td>\n      <td>NaN</td>\n      <td>Units</td>\n      <td>2155</td>\n    </tr>\n    <tr>\n      <th>...</th>\n      <td>...</td>\n      <td>...</td>\n      <td>...</td>\n      <td>...</td>\n      <td>...</td>\n      <td>...</td>\n      <td>...</td>\n      <td>...</td>\n      <td>...</td>\n      <td>...</td>\n    </tr>\n    <tr>\n      <th>39132526</th>\n      <td>824772675</td>\n      <td>3353263</td>\n      <td>-7</td>\n      <td>3</td>\n      <td>WBC x 1000</td>\n      <td>6.40</td>\n      <td>6.4</td>\n      <td>K/mcL</td>\n      <td>K/uL</td>\n      <td>6</td>\n    </tr>\n    <tr>\n      <th>39132527</th>\n      <td>826470517</td>\n      <td>3353263</td>\n      <td>1733</td>\n      <td>3</td>\n      <td>RBC</td>\n      <td>4.67</td>\n      <td>4.67</td>\n      <td>M/mcL</td>\n      <td>M/uL</td>\n      <td>1774</td>\n    </tr>\n    <tr>\n      <th>39132528</th>\n      <td>824772678</td>\n      <td>3353263</td>\n      <td>-7</td>\n      <td>3</td>\n      <td>-monos</td>\n      <td>10.00</td>\n      <td>10</td>\n      <td>%</td>\n      <td>%</td>\n      <td>6</td>\n    </tr>\n    <tr>\n      <th>39132529</th>\n      <td>826470516</td>\n      <td>3353263</td>\n      <td>1733</td>\n      <td>3</td>\n      <td>WBC x 1000</td>\n      <td>6.60</td>\n      <td>6.6</td>\n      <td>K/mcL</td>\n      <td>K/uL</td>\n      <td>1774</td>\n    </tr>\n    <tr>\n      <th>39132530</th>\n      <td>826470521</td>\n      <td>3353263</td>\n      <td>1733</td>\n      <td>3</td>\n      <td>MCH</td>\n      <td>28.00</td>\n      <td>28</td>\n      <td>pg</td>\n      <td>pg</td>\n      <td>1774</td>\n    </tr>\n  </tbody>\n</table>\n<p>39132531 rows × 10 columns</p>\n</div>"
     },
     "execution_count": 9,
     "metadata": {},
     "output_type": "execute_result"
    }
   ],
   "source": [
    "lab"
   ],
   "metadata": {
    "collapsed": false,
    "ExecuteTime": {
     "end_time": "2024-04-14T18:54:03.180733Z",
     "start_time": "2024-04-14T18:54:03.172379Z"
    }
   },
   "id": "4c40b7b4d113429",
   "execution_count": 9
  },
  {
   "cell_type": "code",
   "outputs": [
    {
     "name": "stderr",
     "output_type": "stream",
     "text": [
      "  0%|          | 0/200859 [00:00<?, ?it/s]/var/folders/wd/d0j10lq906x4lfc0bphzybd80000gn/T/ipykernel_6163/757234645.py:26: FutureWarning: The behavior of DataFrame concatenation with empty or all-NA entries is deprecated. In a future version, this will no longer exclude empty or all-NA columns when determining the result dtypes. To retain the old behavior, exclude the relevant entries before the concat operation.\n",
      "  eicu_lab = pd.concat([eicu_lab, eicu_row], ignore_index=True)\n",
      "  0%|          | 10/200859 [00:00<1:20:22, 41.65it/s]\n"
     ]
    },
    {
     "data": {
      "text/plain": "   patientunitstayid  hospitalid  death  acetamin  biotene  compazine  \\\n0           141168.0        59.0    1.0       0.0      0.0        0.0   \n1           141178.0        60.0    0.0       1.0      0.0        0.0   \n2           141179.0        60.0    0.0       0.0      0.0        0.0   \n3           141194.0        73.0    0.0       1.0      0.0        0.0   \n4           141196.0        67.0    0.0       1.0      0.0        0.0   \n\n   ferrous  imdur  lidocaine  milk of magnesia  ...     paco2        ph  \\\n0      0.0    0.0        0.0               0.0  ... -0.274784 -2.192923   \n1      0.0    0.0        0.0               0.0  ...  0.000000  0.000000   \n2      0.0    0.0        0.0               0.0  ...  0.000000  0.000000   \n3      0.0    0.0        0.0               0.0  ... -1.483424 -0.620623   \n4      0.0    0.0        0.0               0.0  ...  0.217625  0.637216   \n\n   albu_lab  bands       bun       hct       inr   lactate  platelets  \\\n0  0.483001    0.0  0.019298  1.176835  1.399485  2.210935  -0.079049   \n1  1.680403    0.0 -0.872351  1.883082  0.000000  0.000000   0.583750   \n2  0.000000    0.0 -0.472018  0.746946  0.000000  0.000000   0.072448   \n3 -0.184781    0.0  0.020598 -0.809869 -0.764793 -0.534791  -0.197406   \n4 -0.392024    0.0 -0.381034  0.265879  0.000000 -0.953986   2.392245   \n\n        wbc  \n0  0.703849  \n1 -0.667376  \n2 -0.571709  \n3 -0.606150  \n4  1.112027  \n\n[5 rows x 271 columns]",
      "text/html": "<div>\n<style scoped>\n    .dataframe tbody tr th:only-of-type {\n        vertical-align: middle;\n    }\n\n    .dataframe tbody tr th {\n        vertical-align: top;\n    }\n\n    .dataframe thead th {\n        text-align: right;\n    }\n</style>\n<table border=\"1\" class=\"dataframe\">\n  <thead>\n    <tr style=\"text-align: right;\">\n      <th></th>\n      <th>patientunitstayid</th>\n      <th>hospitalid</th>\n      <th>death</th>\n      <th>acetamin</th>\n      <th>biotene</th>\n      <th>compazine</th>\n      <th>ferrous</th>\n      <th>imdur</th>\n      <th>lidocaine</th>\n      <th>milk of magnesia</th>\n      <th>...</th>\n      <th>paco2</th>\n      <th>ph</th>\n      <th>albu_lab</th>\n      <th>bands</th>\n      <th>bun</th>\n      <th>hct</th>\n      <th>inr</th>\n      <th>lactate</th>\n      <th>platelets</th>\n      <th>wbc</th>\n    </tr>\n  </thead>\n  <tbody>\n    <tr>\n      <th>0</th>\n      <td>141168.0</td>\n      <td>59.0</td>\n      <td>1.0</td>\n      <td>0.0</td>\n      <td>0.0</td>\n      <td>0.0</td>\n      <td>0.0</td>\n      <td>0.0</td>\n      <td>0.0</td>\n      <td>0.0</td>\n      <td>...</td>\n      <td>-0.274784</td>\n      <td>-2.192923</td>\n      <td>0.483001</td>\n      <td>0.0</td>\n      <td>0.019298</td>\n      <td>1.176835</td>\n      <td>1.399485</td>\n      <td>2.210935</td>\n      <td>-0.079049</td>\n      <td>0.703849</td>\n    </tr>\n    <tr>\n      <th>1</th>\n      <td>141178.0</td>\n      <td>60.0</td>\n      <td>0.0</td>\n      <td>1.0</td>\n      <td>0.0</td>\n      <td>0.0</td>\n      <td>0.0</td>\n      <td>0.0</td>\n      <td>0.0</td>\n      <td>0.0</td>\n      <td>...</td>\n      <td>0.000000</td>\n      <td>0.000000</td>\n      <td>1.680403</td>\n      <td>0.0</td>\n      <td>-0.872351</td>\n      <td>1.883082</td>\n      <td>0.000000</td>\n      <td>0.000000</td>\n      <td>0.583750</td>\n      <td>-0.667376</td>\n    </tr>\n    <tr>\n      <th>2</th>\n      <td>141179.0</td>\n      <td>60.0</td>\n      <td>0.0</td>\n      <td>0.0</td>\n      <td>0.0</td>\n      <td>0.0</td>\n      <td>0.0</td>\n      <td>0.0</td>\n      <td>0.0</td>\n      <td>0.0</td>\n      <td>...</td>\n      <td>0.000000</td>\n      <td>0.000000</td>\n      <td>0.000000</td>\n      <td>0.0</td>\n      <td>-0.472018</td>\n      <td>0.746946</td>\n      <td>0.000000</td>\n      <td>0.000000</td>\n      <td>0.072448</td>\n      <td>-0.571709</td>\n    </tr>\n    <tr>\n      <th>3</th>\n      <td>141194.0</td>\n      <td>73.0</td>\n      <td>0.0</td>\n      <td>1.0</td>\n      <td>0.0</td>\n      <td>0.0</td>\n      <td>0.0</td>\n      <td>0.0</td>\n      <td>0.0</td>\n      <td>0.0</td>\n      <td>...</td>\n      <td>-1.483424</td>\n      <td>-0.620623</td>\n      <td>-0.184781</td>\n      <td>0.0</td>\n      <td>0.020598</td>\n      <td>-0.809869</td>\n      <td>-0.764793</td>\n      <td>-0.534791</td>\n      <td>-0.197406</td>\n      <td>-0.606150</td>\n    </tr>\n    <tr>\n      <th>4</th>\n      <td>141196.0</td>\n      <td>67.0</td>\n      <td>0.0</td>\n      <td>1.0</td>\n      <td>0.0</td>\n      <td>0.0</td>\n      <td>0.0</td>\n      <td>0.0</td>\n      <td>0.0</td>\n      <td>0.0</td>\n      <td>...</td>\n      <td>0.217625</td>\n      <td>0.637216</td>\n      <td>-0.392024</td>\n      <td>0.0</td>\n      <td>-0.381034</td>\n      <td>0.265879</td>\n      <td>0.000000</td>\n      <td>-0.953986</td>\n      <td>2.392245</td>\n      <td>1.112027</td>\n    </tr>\n  </tbody>\n</table>\n<p>5 rows × 271 columns</p>\n</div>"
     },
     "execution_count": 10,
     "metadata": {},
     "output_type": "execute_result"
    }
   ],
   "source": [
    "from tqdm import tqdm\n",
    "\n",
    "eicu_lab = pd.DataFrame(columns=eicu_columns)\n",
    "\n",
    "bin_time = 12 * 60\n",
    "\n",
    "for index, row in tqdm(eicu.iterrows(), total=eicu.shape[0]):\n",
    "    \n",
    "    eicu_row = pd.DataFrame(0.0, index=[0], columns=eicu_columns)\n",
    "    \n",
    "    # copy row values to eicu_row\n",
    "    for column in eicu.columns:\n",
    "        eicu_row[column] = row[column]\n",
    "    \n",
    "    # get patient lab data\n",
    "    patient_id = row['patientunitstayid']\n",
    "    lab_patient = selected_lab[selected_lab['patientunitstayid'] == patient_id]\n",
    "    \n",
    "    for lab_name, eicu_lab_name in lab_name_mapping.items():\n",
    "        lab_value = lab_patient[lab_patient['labname'] == eicu_lab_name]['labresult']\n",
    "        \n",
    "        # average lab values\n",
    "        if lab_value.shape[0] > 0:\n",
    "            eicu_row[lab_name] = lab_value.mean()   \n",
    "        \n",
    "    eicu_lab = pd.concat([eicu_lab, eicu_row], ignore_index=True)\n",
    "\n",
    "eicu_lab.head()"
   ],
   "metadata": {
    "collapsed": false,
    "ExecuteTime": {
     "end_time": "2024-04-14T18:54:03.495420Z",
     "start_time": "2024-04-14T18:54:03.183724Z"
    }
   },
   "id": "8636485d475fb1d2",
   "execution_count": 10
  },
  {
   "cell_type": "code",
   "outputs": [],
   "source": [
    "eicu_lab.to_csv(\"eicu_drug_lab.csv\", index=False)"
   ],
   "metadata": {
    "collapsed": false
   },
   "id": "bbd06ff32aa1ba70"
  }
 ],
 "metadata": {
  "kernelspec": {
   "display_name": "Python 3",
   "language": "python",
   "name": "python3"
  },
  "language_info": {
   "codemirror_mode": {
    "name": "ipython",
    "version": 2
   },
   "file_extension": ".py",
   "mimetype": "text/x-python",
   "name": "python",
   "nbconvert_exporter": "python",
   "pygments_lexer": "ipython2",
   "version": "2.7.6"
  }
 },
 "nbformat": 4,
 "nbformat_minor": 5
}
