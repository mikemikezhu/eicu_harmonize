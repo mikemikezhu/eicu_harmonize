{
 "cells": [
  {
   "cell_type": "code",
   "execution_count": null,
   "id": "initial_id",
   "metadata": {
    "collapsed": true
   },
   "outputs": [],
   "source": [
    "import pandas as pd\n",
    "\n",
    "patient = pd.read_csv(\"data/eicu/patient.csv\")\n",
    "medication = pd.read_csv(\"data/eicu/medication.csv\")\n",
    "treatment = pd.read_csv(\"data/eicu/treatment.csv\")\n",
    "diagnosis = pd.read_csv(\"data/eicu/diagnosis.csv\")"
   ]
  },
  {
   "cell_type": "code",
   "execution_count": null,
   "outputs": [],
   "source": [
    "eicu_time_148_281 = pd.read_csv(\"eicu_time_148_281.csv\")\n",
    "eicu_time_167_420 = pd.read_csv(\"eicu_time_167_420.csv\")\n",
    "eicu_time_199_458 = pd.read_csv(\"eicu_time_199_458.csv\")\n",
    "eicu_time_252_165 = pd.read_csv(\"eicu_time_252_165.csv\")\n",
    "eicu_time_449_283 = pd.read_csv(\"eicu_time_449_283.csv\")"
   ],
   "metadata": {
    "collapsed": false
   },
   "id": "56bcca24f1c99bc8"
  },
  {
   "cell_type": "code",
   "execution_count": null,
   "outputs": [],
   "source": [
    "eicu_dataset = pd.read_csv(\"eicu_dataset.csv\")"
   ],
   "metadata": {
    "collapsed": false
   },
   "id": "93daa95149919631"
  },
  {
   "cell_type": "code",
   "execution_count": null,
   "outputs": [],
   "source": [
    "(eicu_time_199_458[(eicu_time_199_458[\"time_window\"] == 0) & (eicu_time_199_458[\"ventilator\"] == 1) & eicu_time_199_458[eicu_time_199_458['hospitalid'] == 199]]).shape[0] / eicu_time_199_458.shape[0]"
   ],
   "metadata": {
    "collapsed": false
   },
   "id": "ff1ff451cf4a256a"
  },
  {
   "cell_type": "code",
   "execution_count": null,
   "outputs": [],
   "source": [
    "eicu_dataset.head()"
   ],
   "metadata": {
    "collapsed": false
   },
   "id": "a84aa7042624dac"
  },
  {
   "cell_type": "code",
   "execution_count": null,
   "outputs": [],
   "source": [
    "eicu_dataset[eicu_dataset[\"patientunitstayid\"] == 534765.0]"
   ],
   "metadata": {
    "collapsed": false
   },
   "id": "7a84e88fef1b3e6b"
  },
  {
   "cell_type": "code",
   "execution_count": null,
   "outputs": [],
   "source": [
    "treatment.head()"
   ],
   "metadata": {
    "collapsed": false
   },
   "id": "22cc8aeeeecccd8f"
  },
  {
   "cell_type": "code",
   "execution_count": null,
   "outputs": [],
   "source": [
    "below_zero_count = (diagnosis['diagnosisoffset'] < 0).sum()\n",
    "above_zero_count = (diagnosis['diagnosisoffset'] > 0).sum()\n",
    "\n",
    "print(f\"Number of rows with drugstartoffset below 0: {below_zero_count}\")\n",
    "print(f\"Number of rows with drugstartoffset above 0: {above_zero_count}\")"
   ],
   "metadata": {
    "collapsed": false
   },
   "id": "4635033520a73e74"
  },
  {
   "cell_type": "code",
   "execution_count": null,
   "outputs": [],
   "source": [
    "medication[medication[\"patientunitstayid\"] == 534765.0]"
   ],
   "metadata": {
    "collapsed": false
   },
   "id": "8b4e391396ffa375"
  },
  {
   "cell_type": "code",
   "execution_count": null,
   "outputs": [],
   "source": [
    "treatment[treatment[\"patientunitstayid\"] == 534765.0]"
   ],
   "metadata": {
    "collapsed": false
   },
   "id": "a2f06ff8bce92e07"
  },
  {
   "cell_type": "code",
   "execution_count": null,
   "outputs": [],
   "source": [
    "diagnosis[(diagnosis[\"patientunitstayid\"] == 534765.0) & (diagnosis['diagnosisstring']).str.contains(\"sepsis\")]"
   ],
   "metadata": {
    "collapsed": false
   },
   "id": "79fc4d30af59f389"
  },
  {
   "cell_type": "code",
   "execution_count": null,
   "outputs": [],
   "source": [
    "def calculate_unique_patients_counts(ventilator, bin_hour):\n",
    "    ventilator_cp = ventilator.copy(deep=True)\n",
    "    ventilator_cp['bin'] = (ventilator['treatmentoffset'] // (bin_hour * 60)).astype(int)\n",
    "    \n",
    "    # Count unique patients within each bin\n",
    "    unique_patient_counts = ventilator_cp.drop_duplicates(subset=['patientunitstayid', 'bin']).groupby('bin').size()\n",
    "    return unique_patient_counts"
   ],
   "metadata": {
    "collapsed": false
   },
   "id": "4730f24bf731f287"
  },
  {
   "cell_type": "code",
   "execution_count": null,
   "outputs": [],
   "source": [
    "ventilator = treatment[treatment['treatmentstring'].str.contains('ventilation')]\n",
    "patient_df = patient[patient[\"hospitalid\"] == 199]\n",
    "hospital_patients = patient_df[\"patientunitstayid\"].unique()\n",
    "hospital_ventilator = ventilator[ventilator[\"patientunitstayid\"].isin(hospital_patients)]\n",
    "unique_patient_counts = calculate_unique_patients_counts(hospital_ventilator, 12)"
   ],
   "metadata": {
    "collapsed": false
   },
   "id": "38e08a707e7bdae1"
  },
  {
   "cell_type": "code",
   "execution_count": null,
   "outputs": [],
   "source": [
    "unique_patient_counts / len(patient_df)"
   ],
   "metadata": {
    "collapsed": false
   },
   "id": "593cea4594967a4e"
  },
  {
   "cell_type": "code",
   "execution_count": null,
   "outputs": [],
   "source": [
    "len(hospital_ventilator[(hospital_ventilator[\"treatmentoffset\"] > 0) & (hospital_ventilator[\"treatmentoffset\"] <= 720)]['patientunitstayid'].unique()) / len(patient_df)"
   ],
   "metadata": {
    "collapsed": false
   },
   "id": "a180b319b90c625"
  },
  {
   "cell_type": "code",
   "execution_count": null,
   "outputs": [],
   "source": [
    "import pandas as pd\n",
    "import fasttext\n",
    "import numpy as np\n",
    "from tqdm import tqdm\n",
    "import re\n",
    "\n",
    "unique_drugs = ['acetamin', 'biotene', 'compazine', 'ferrous', 'imdur', 'lidocaine', 'milk of magnesia', 'nystatin', 'prochlorperazine', 'tamsulosin',\n",
    "                'advair diskus', 'bisacodyl', 'coreg', 'flagyl', 'influenza vac', 'lipitor', 'mineral', 'omeprazole', 'promethazine', 'thiamine',\n",
    "                'albumin', 'bumetanide', 'cozaar', 'flomax', 'infuvite', 'lisinopril', 'mineral oil', 'ondansetron', 'propofol', 'ticagrelor',\n",
    "                'albuterol', 'bumex', 'decadron', 'flumazenil', 'insulin', 'lispro', 'mono-sod', 'optiray', 'pulmicort respule', 'tiotropium',\n",
    "                'allopurinol', 'buminate', 'definity', 'fluticasone-salmeterol', 'insulin detemir', 'loratadine', 'morphine', 'oxycodone', 'quetiapine', 'toradol',\n",
    "                'alprazolam', 'calcium carbonate', 'deltasone', 'folic acid', 'iohexol', 'lorazepam', 'motrin', 'pantoprazole', 'refresh p.m. op oint', 'tramadol',\n",
    "                'alteplase', 'calcium chloride', 'dexamethasone', 'furosemide', 'iopamidol', 'losartan', 'mupirocin', 'parenteral nutrition', 'reglan', 'trandate',\n",
    "                'alum hydroxide', 'calcium gluconate', 'dexmedetomidine', 'gabapentin', 'ipratropium', 'maalox', 'nafcillin', 'percocet', 'restoril', 'transde rm-scop',\n",
    "                'ambien', 'cardizem', 'dextrose', 'glargine', 'isosorbide', 'magnesium chloride', 'naloxone', 'phenergan', 'ringers solution', 'trazodone',\n",
    "                'aminocaproic acid', 'carvedilol', 'diazepam', 'glucagen', 'kayciel', 'magnesium hydroxide', 'narcan', 'phenylephrine', 'rocuronium', 'ultram',\n",
    "                'amiodarone', 'catapres', 'digoxin', 'glucagon', 'kayexalate', 'magnesium oxide', 'neostigmine', 'phytonadione', 'roxicodone', 'valium',\n",
    "                'amlodipine', 'cefazolin', 'diltiazem', 'glucose', 'keppra', 'magnesium sulf', 'neostigmine methylsulfate', 'piperacillin', 'sennosides', 'vancomycin',\n",
    "                'anticoagulant', 'cefepime', 'diphenhydramine', 'glycopyrrolate', 'ketorolac', 'magox', 'neurontin', 'plasmalyte', 'seroquel', 'vasopressin',\n",
    "                'apresoline', 'ceftriaxone', 'diprivan', 'guaifenesin', 'klonopin', 'medrol', 'nexterone', 'plavix', 'sertraline', 'ventolin',\n",
    "                'ascorbic acid', 'cephulac', 'docusate', 'haldol', 'labetalol', 'meperidine', 'nicardipine', 'pneumococcal', 'simethicone', 'vitamin',\n",
    "                'aspart', 'cetirizine', 'dopamine', 'haloperidol', 'lactated ringer', 'meropenem', 'nicoderm', 'pnu-immune-23', 'simvastatin', 'warfarin',\n",
    "                'aspirin', 'chlorhexidine', 'ecotrin', 'heparin', 'lactulose', 'merrem', 'nicotine', 'polyethylene glycol', 'sodium bicarbonate', 'xanax',\n",
    "                'atenolol', 'ciprofloxacin', 'enoxaparin', 'humulin', 'lanoxin', 'metformin', 'nitro-bid', 'potassium chloride', 'sodium chloride', 'zestril',\n",
    "                'atorvastatin', 'cisatracurium', 'ephedrine', 'hydralazine', 'lantus', 'methylprednisolone', 'nitroglycerin', 'potassium phosphate', 'sodium phosphate', 'zocor',\n",
    "                'atropine', 'citalopram', 'epinephrine', 'hydrochlorothiazide', 'levaquin', 'metoclopramide', 'nitroprusside', 'pravastatin', 'polystyrene sulfonate', 'zolpidem',\n",
    "                'atrovent', 'clindamycin', 'etomidate', 'hydrocodone', 'levemir', 'metoprolol', 'norco', 'precedex', 'spironolactone', 'zosyn',\n",
    "                'azithromycin', 'clonazepam', 'famotidine', 'hydrocortisone', 'levetiracetam', 'metronidazole', 'norepinephrine', 'prednisone', 'sublimaze',\n",
    "                'bacitracin', 'clonidine', 'fat emulsion', 'hydromorphone', 'levofloxacin', 'midazolam', 'normodyne', 'prilocaine', 'succinylcholine',\n",
    "                'bayer chewable', 'clopidogrel', 'fentanyl', 'ibuprofen', 'levothyroxine', 'midodrine', 'norvasc', 'prinivil', 'tacrolimus']\n",
    "\n",
    "\n",
    "def cosine_similarity(vec1, vec2):\n",
    "    return np.dot(vec1, vec2) / (np.linalg.norm(vec1) * np.linalg.norm(vec2))\n",
    "\n",
    "\n",
    "def calculate_similarity(model, drug1, drug2):\n",
    "    drug1_vector = model.get_word_vector(drug1)\n",
    "    drug2_vector = model.get_word_vector(drug2)\n",
    "    return cosine_similarity(drug1_vector, drug2_vector)\n",
    "\n",
    "\n",
    "def get_age_group(age):\n",
    "\n",
    "    if pd.isna(age):\n",
    "        # 60 - 69 has the most patients\n",
    "        return \"60 - 69\"\n",
    "\n",
    "    if age == \"> 89\":\n",
    "        return age\n",
    "\n",
    "    age = int(age)\n",
    "\n",
    "    if age < 30:\n",
    "        return \"< 30\"\n",
    "    elif age < 40:\n",
    "        return \"30 - 39\"\n",
    "    elif age < 50:\n",
    "        return \"40 - 49\"\n",
    "    elif age < 60:\n",
    "        return \"50 - 59\"\n",
    "    elif age < 70:\n",
    "        return \"60 - 69\"\n",
    "    elif age < 80:\n",
    "        return \"70 - 79\"\n",
    "    elif age < 90:\n",
    "        return \"80 - 89\"\n",
    "    else:\n",
    "        return \"> 89\"\n",
    "\n",
    "\n",
    "def get_bmi(weight_kg, height_cm):\n",
    "\n",
    "    if pd.isna(weight_kg) or pd.isna(height_cm) or weight_kg == 0 or height_cm == 0:\n",
    "        return \"bmi_normal\"\n",
    "\n",
    "    height_m = height_cm / 100.0\n",
    "    bmi = weight_kg / (height_m ** 2)\n",
    "\n",
    "    if bmi < 18.5:\n",
    "        return \"bmi_underweight\"\n",
    "    elif bmi < 24.9:\n",
    "        return \"bmi_normal\"\n",
    "    elif bmi < 29.9:\n",
    "        return \"bmi_overweight\"\n",
    "    else:\n",
    "        return \"bmi_obesity\"\n",
    "\n",
    "\n",
    "def get_race(race):\n",
    "\n",
    "    if pd.isna(race) or race == \"Caucasian\":\n",
    "        return \"race_caucasion\"\n",
    "    elif race == \"African American\":\n",
    "        return \"race_african\"\n",
    "    elif race == \"Hispanic\":\n",
    "        return \"race_hispanic\"\n",
    "    elif race == \"Asian\":\n",
    "        return \"race_asian\"\n",
    "    elif race == \"Native American\":\n",
    "        return \"race_native\"\n",
    "    else:\n",
    "        return \"race_caucasion\"\n",
    "\n",
    "\n",
    "def harmonize_drug(drug, unique_drugs, pretrained):\n",
    "\n",
    "    if pd.isna(drug):\n",
    "        return None\n",
    "\n",
    "    drug = drug.lower()\n",
    "\n",
    "    # Direct mapping: check whether drug names contain unique_drug\n",
    "    for unique_drug in unique_drugs:\n",
    "        if unique_drug in drug:\n",
    "            return unique_drug\n",
    "\n",
    "    # Check cosine similarity between word embeddings\n",
    "    converted = re.sub(r'[^a-zA-Z\\s]', '', drug)\n",
    "    best_similarity = float('-inf')\n",
    "    best_drug = None\n",
    "    for drug_name in converted.split():\n",
    "        for unique_drug in unique_drugs:\n",
    "            similarity = calculate_similarity(\n",
    "                pretrained, drug_name, unique_drug)\n",
    "            if similarity > best_similarity:\n",
    "                best_similarity = similarity\n",
    "                best_drug = unique_drug\n",
    "\n",
    "    return best_drug\n",
    "\n",
    "import pandas as pd\n",
    "\n",
    "patient = pd.read_csv(\"data/eicu/patient.csv\")\n",
    "medication_imputed = pd.read_csv(\"output/medication_imputed.csv\")\n",
    "diagnosis = pd.read_csv(\"data/eicu/diagnosis.csv\")\n",
    "treatment = pd.read_csv(\"data/eicu/treatment.csv\")\n",
    "patient_medication = patient.merge(medication_imputed, on='patientunitstayid', how='inner')\n",
    "# patient_medication = patient_medication[patient_medication[\"hospitalid\"].isin([167,420,199,458,252,165,148,281,449,283])]\n",
    "patient_medication = patient_medication[patient_medication[\"hospitalid\"].isin([199])]\n",
    "ventilator_treatments = treatment[treatment['treatmentstring'].str.contains('ventilation', case=False, na=False)]\n",
    "sepsis_diagnosis = diagnosis[diagnosis['diagnosisstring'].str.contains('sepsis', case=False, na=False)]\n",
    "\n",
    "eicu_time = pd.DataFrame(columns=['patientunitstayid', 'hospitalid', 'time_window', 'ventilator', 'sepsis'] + unique_drugs + ['bmi_underweight', 'bmi_normal', 'bmi_overweight', 'bmi_obesity', 'race_african', 'race_hispanic', 'race_caucasion', 'race_asian', 'race_native', 'sex_is_male', 'sex_is_female', '< 30', '30 - 39', '40 - 49', '50 - 59', '60 - 69', '70 - 79', '80 - 89', '> 89'])\n",
    "\n",
    "observation_time = 12 * 60\n",
    "bin_time = 12 * 60\n",
    "bin = observation_time // bin_time\n",
    "\n",
    "# pretrained = fasttext.load_model(\"data/pretrained/BioWordVec_PubMed_MIMICIII_d200.bin\")\n",
    "\n",
    "# unique_drug_names = patient_medication['drugname'].unique()\n",
    "# harmonized_drug_dict = {drug: harmonize_drug(drug, unique_drugs, pretrained) for drug in unique_drug_names}\n",
    "\n",
    "patient = patient[patient[\"hospitalid\"].isin([199])]\n",
    "for index, row in tqdm(patient.iterrows(), total=patient.shape[0]):\n",
    "\n",
    "    for cur_bin in range(bin):\n",
    "\n",
    "        eicu_row = pd.DataFrame(0.0, index=[0], columns=eicu_time.columns)\n",
    "\n",
    "        patientunitstayid = row['patientunitstayid']\n",
    "\n",
    "        eicu_row['patientunitstayid'] = float(patientunitstayid)\n",
    "        eicu_row['hospitalid'] = float(row['hospitalid'])\n",
    "        eicu_row['time_window'] = cur_bin\n",
    "\n",
    "        # BMI\n",
    "        bmi = get_bmi(row['admissionweight'], row['admissionheight'])\n",
    "        eicu_row[bmi] = 1.0\n",
    "\n",
    "        # Race\n",
    "        race = get_race(row['ethnicity'])\n",
    "        eicu_row[race] = 1.0\n",
    "\n",
    "        # Sex\n",
    "        sex = \"sex_is_female\" if row['gender'] == 'Female' else \"sex_is_male\"\n",
    "        eicu_row[sex] = 1.0\n",
    "\n",
    "        # Age\n",
    "        age_group = get_age_group(row['age'])\n",
    "        eicu_row[age_group] = 1.0\n",
    "\n",
    "        time_window_start = cur_bin * bin_time\n",
    "        time_window_end = (cur_bin + 1) * bin_time\n",
    "\n",
    "        # Label\n",
    "        eicu_row[\"ventilator\"] = float(len(ventilator_treatments[(ventilator_treatments[\"treatmentoffset\"] >= time_window_start) & (ventilator_treatments[\"treatmentoffset\"] < time_window_end) & (ventilator_treatments[\"patientunitstayid\"] == patientunitstayid)]) > 0)\n",
    "\n",
    "        eicu_row[\"sepsis\"] = float(len(sepsis_diagnosis[(sepsis_diagnosis[\"diagnosisoffset\"] >= time_window_start) & (sepsis_diagnosis[\"diagnosisoffset\"] < time_window_end) & (sepsis_diagnosis[\"patientunitstayid\"] == patientunitstayid)]) > 0)\n",
    "\n",
    "        # Drug\n",
    "        # time_window_drug = patient_medication[(patient_medication[\"patientunitstayid\"] == patientunitstayid) & (patient_medication[\"drugstartoffset\"] >= time_window_start) & (patient_medication[\"drugstartoffset\"] < time_window_end)]\n",
    "\n",
    "        # for drug in time_window_drug[\"drugname\"]:\n",
    "        #     \n",
    "        #     converted_drug = harmonized_drug_dict.get(drug)\n",
    "        #     if converted_drug is not None:\n",
    "        #         eicu_row[converted_drug] = 1.0\n",
    "\n",
    "        eicu_time = pd.concat([eicu_time, eicu_row], ignore_index=True)\n",
    "# \n",
    "# print(\"Export time series eicu dataset...\")\n",
    "# eicu_time.to_csv('output/eicu_time_148_281.csv', index=False)\n",
    "# eicu_time.head()\n"
   ],
   "metadata": {
    "collapsed": false
   },
   "id": "91d69ae634863e13"
  },
  {
   "cell_type": "code",
   "execution_count": null,
   "outputs": [],
   "source": [
    "ventilator_treatments[(ventilator_treatments[\"treatmentoffset\"] > 0) & (ventilator_treatments[\"treatmentoffset\"] <= 720)]['patientunitstayid'].unique()"
   ],
   "metadata": {
    "collapsed": false
   },
   "id": "5be86fa5a7be0b67"
  },
  {
   "cell_type": "code",
   "execution_count": null,
   "outputs": [],
   "source": [
    "import pandas as pd\n",
    "treatment = pd.read_csv(\"data/eicu/treatment.csv\")\n",
    "ventilator_treatments = treatment[treatment['treatmentstring'].str.contains('ventilation', case=False, na=False)]\n",
    "len(ventilator_treatments[(ventilator_treatments[\"treatmentoffset\"] >= 0) & (ventilator_treatments[\"treatmentoffset\"] < 720) & (ventilator_treatments[\"patientunitstayid\"] == 242040)])"
   ],
   "metadata": {
    "collapsed": false
   },
   "id": "9a01eac63905ab1e"
  },
  {
   "cell_type": "code",
   "execution_count": null,
   "outputs": [],
   "source": [
    "# treatment = pd.read_csv(\"data/eicu/treatment.csv\")\n",
    "# ventilator_treatments = treatment[treatment['treatmentstring'].str.contains('ventilation', case=False, na=False)]\n",
    "# len(ventilator_treatments[(ventilator_treatments[\"treatmentoffset\"] >= 0) & (ventilator_treatments[\"treatmentoffset\"] < 720) & (ventilator_treatments[\"patientunitstayid\"] == 242040)])"
   ],
   "metadata": {
    "collapsed": false
   },
   "id": "8f0a26a3fe2f6d77"
  },
  {
   "cell_type": "code",
   "execution_count": null,
   "outputs": [],
   "source": [
    "diagnosis = pd.read_csv(\"data/eicu/diagnosis.csv\")\n",
    "sepsis_diagnosis = diagnosis[diagnosis[\"diagnosisstring\"].str.contains(\"sepsis\")]\n",
    "len(sepsis_diagnosis[(sepsis_diagnosis[\"diagnosisoffset\"] >= 0) & (sepsis_diagnosis[\"diagnosisoffset\"] < 720) & (sepsis_diagnosis[\"patientunitstayid\"] == 141227)]) > 0"
   ],
   "metadata": {
    "collapsed": false
   },
   "id": "da3d360397a2ce1c"
  },
  {
   "cell_type": "code",
   "execution_count": null,
   "outputs": [],
   "source": [
    "sepsis_diagnosis[(sepsis_diagnosis[\"diagnosisoffset\"] > 0) & (sepsis_diagnosis[\"diagnosisoffset\"] <= 720)]['patientunitstayid'].unique()"
   ],
   "metadata": {
    "collapsed": false
   },
   "id": "14f775f1824baa01"
  },
  {
   "cell_type": "code",
   "execution_count": null,
   "outputs": [],
   "source": [
    "# len(eicu_time[eicu_time[\"ventilator\"] == 1.0]['patientunitstayid'].unique()) / len(eicu_time['patientunitstayid'].unique())"
   ],
   "metadata": {
    "collapsed": false
   },
   "id": "61336130f8348a79"
  },
  {
   "cell_type": "code",
   "execution_count": null,
   "outputs": [],
   "source": [
    "# eicu_time.head()"
   ],
   "metadata": {
    "collapsed": false
   },
   "id": "374e34f6a139c56c"
  },
  {
   "cell_type": "code",
   "execution_count": null,
   "outputs": [],
   "source": [
    "import pandas as pd\n",
    "\n",
    "eicu_time_148_281 = pd.read_csv(\"eicu_time_148_281.csv\")\n",
    "eicu_time_167_420 = pd.read_csv(\"eicu_time_167_420.csv\")\n",
    "eicu_time_199_458 = pd.read_csv(\"eicu_time_199_458.csv\")\n",
    "eicu_time_252_165 = pd.read_csv(\"eicu_time_252_165.csv\")\n",
    "eicu_time_449_283 = pd.read_csv(\"eicu_time_449_283.csv\")"
   ],
   "metadata": {
    "collapsed": false
   },
   "id": "b13236de438724de"
  },
  {
   "cell_type": "code",
   "execution_count": null,
   "outputs": [],
   "source": [
    "concatenated_df = pd.concat([eicu_time_148_281, eicu_time_167_420, eicu_time_199_458, eicu_time_252_165, eicu_time_449_283], ignore_index=True)\n",
    "concatenated_df.to_csv(\"eicu_time_dataset.csv\")"
   ],
   "metadata": {
    "collapsed": false
   },
   "id": "6423a94d4cb545e5"
  },
  {
   "cell_type": "code",
   "execution_count": null,
   "outputs": [],
   "source": [
    "# len(eicu_time_252_165[(eicu_time_252_165['time_window'] == 5) & (eicu_time_252_165['ventilator'] == 1) & (eicu_time_252_165['hospitalid'] == 252)]['patientunitstayid'].unique()) / len(eicu_time_252_165[ eicu_time_252_165['hospitalid'] == 252]['patientunitstayid'].unique())"
   ],
   "metadata": {
    "collapsed": false
   },
   "id": "c2accdcfe4c0a217"
  },
  {
   "cell_type": "code",
   "execution_count": null,
   "outputs": [],
   "source": [
    "# [0.39038861 0.13022842 0.08899436 0.07208543 0.05487986 0.04983684]"
   ],
   "metadata": {
    "collapsed": false
   },
   "id": "f2c6af8ab66e73c3"
  },
  {
   "cell_type": "code",
   "execution_count": null,
   "outputs": [],
   "source": [
    "eicu_time = pd.read_csv(\"eicu_time_dataset.csv\")"
   ],
   "metadata": {
    "collapsed": false
   },
   "id": "31cdc4ae48ddb71f"
  },
  {
   "cell_type": "code",
   "execution_count": null,
   "outputs": [],
   "source": [
    "filtered_df = eicu_time[eicu_time[\"patientunitstayid\"] == 534765.0]\n",
    "\n",
    "# Check which columns contain the value 1\n",
    "columns_with_1 = filtered_df.apply(lambda x: x == 1).any()\n",
    "\n",
    "# Print the columns that contain 1\n",
    "print(columns_with_1[columns_with_1].index.tolist())"
   ],
   "metadata": {
    "collapsed": false
   },
   "id": "764213b8f8a195a5"
  },
  {
   "cell_type": "code",
   "execution_count": null,
   "outputs": [],
   "source": [
    "eicu = pd.read_csv(\"eicu_dataset.csv\")"
   ],
   "metadata": {
    "collapsed": false
   },
   "id": "618bf0c5e581026f"
  },
  {
   "cell_type": "code",
   "execution_count": null,
   "outputs": [],
   "source": [
    "filtered_df = eicu[eicu[\"patientunitstayid\"] == 534765.0]\n",
    "# Check which columns contain the value 1\n",
    "columns_with_1 = filtered_df.apply(lambda x: x == 1).any()\n",
    "\n",
    "# Print the columns that contain 1\n",
    "print(columns_with_1[columns_with_1].index.tolist())"
   ],
   "metadata": {
    "collapsed": false
   },
   "id": "6ddcfdde5eb7a61"
  },
  {
   "cell_type": "code",
   "execution_count": null,
   "outputs": [],
   "source": [
    "eicu.columns"
   ],
   "metadata": {
    "collapsed": false
   },
   "id": "26ab084fb7c138fa"
  },
  {
   "cell_type": "code",
   "execution_count": null,
   "outputs": [],
   "source": [
    "eicu_time.columns"
   ],
   "metadata": {
    "collapsed": false
   },
   "id": "2583824142926fa7"
  },
  {
   "cell_type": "code",
   "execution_count": null,
   "outputs": [],
   "source": [
    "eicu_time['time_window']"
   ],
   "metadata": {
    "collapsed": false
   },
   "id": "e058080f5220e950"
  },
  {
   "cell_type": "code",
   "execution_count": null,
   "outputs": [],
   "source": [
    "eicu_time"
   ],
   "metadata": {
    "collapsed": false
   },
   "id": "a669ba5d9642c699"
  },
  {
   "cell_type": "code",
   "execution_count": null,
   "outputs": [],
   "source": [],
   "metadata": {
    "collapsed": false
   },
   "id": "f7758ff1562dba26"
  },
  {
   "cell_type": "code",
   "execution_count": null,
   "outputs": [],
   "source": [
    "eicu_time"
   ],
   "metadata": {
    "collapsed": false
   },
   "id": "d25b67104071c5ee"
  },
  {
   "cell_type": "code",
   "execution_count": null,
   "outputs": [],
   "source": [
    "drug_columns = eicu_time.columns[6:-19]\n",
    "sum_drugs_per_patient = eicu_time.groupby(['patientunitstayid', 'time_window'])[drug_columns].sum()\n",
    "(sum_drugs_per_patient.sum(axis=1).groupby('patientunitstayid').mean()).mean()\n",
    "\n",
    "# # Calculating the mean of these sums\n",
    "# approx_drugs_per_patient = sum_drugs_per_patient.mean(axis=1)\n",
    "# \n",
    "# # Print the result\n",
    "# print(approx_drugs_per_patient)"
   ],
   "metadata": {
    "collapsed": false
   },
   "id": "3201be33bbc68566"
  },
  {
   "cell_type": "code",
   "execution_count": null,
   "outputs": [],
   "source": [
    "sum_drugs_per_patient = eicu_time.groupby('patientunitstayid').sum()\n",
    "sum_drugs_per_time_window = df.groupby(['patientunitstayid', 'time_window'])[drug_columns].sum()"
   ],
   "metadata": {
    "collapsed": false
   },
   "id": "2fb69ac54365bba4"
  },
  {
   "cell_type": "code",
   "execution_count": null,
   "outputs": [],
   "source": [
    "sum_drugs_per_patient.iloc[:, 5:-19]"
   ],
   "metadata": {
    "collapsed": false
   },
   "id": "98ff2ab94ce88781"
  },
  {
   "cell_type": "code",
   "execution_count": null,
   "outputs": [],
   "source": [
    "eicu_time"
   ],
   "metadata": {
    "collapsed": false
   },
   "id": "83de30e82d277caf"
  },
  {
   "cell_type": "code",
   "execution_count": null,
   "outputs": [],
   "source": [
    "import pandas as pd\n",
    "\n",
    "patient = pd.read_csv(\"data/eicu/patient.csv\")\n",
    "medication = pd.read_csv(\"data/eicu/medication.csv\")"
   ],
   "metadata": {
    "collapsed": false
   },
   "id": "4aa9e73078399b1b"
  },
  {
   "cell_type": "code",
   "execution_count": null,
   "outputs": [],
   "source": [
    "patient.head()"
   ],
   "metadata": {
    "collapsed": false
   },
   "id": "49057d32b8c65c90"
  },
  {
   "cell_type": "code",
   "execution_count": null,
   "outputs": [],
   "source": [
    "medication.head()"
   ],
   "metadata": {
    "collapsed": false
   },
   "id": "6449dd30f7d08363"
  },
  {
   "cell_type": "code",
   "execution_count": null,
   "outputs": [],
   "source": [],
   "metadata": {
    "collapsed": false
   },
   "id": "b4d7f34dd179c92d"
  },
  {
   "cell_type": "code",
   "execution_count": null,
   "outputs": [],
   "source": [
    "medication_imputed.head()"
   ],
   "metadata": {
    "collapsed": false
   },
   "id": "af475c6aae7380bc"
  },
  {
   "cell_type": "code",
   "execution_count": null,
   "outputs": [],
   "source": [
    "import pandas as pd\n",
    "import fasttext\n",
    "import numpy as np\n",
    "import re\n",
    "\n",
    "unique_drugs = ['acetamin', 'biotene', 'compazine', 'ferrous', 'imdur', 'lidocaine', 'milk of magnesia', 'nystatin', 'prochlorperazine', 'tamsulosin',\n",
    "                'advair diskus', 'bisacodyl', 'coreg', 'flagyl', 'influenza vac', 'lipitor', 'mineral', 'omeprazole', 'promethazine', 'thiamine',\n",
    "                'albumin', 'bumetanide', 'cozaar', 'flomax', 'infuvite', 'lisinopril', 'mineral oil', 'ondansetron', 'propofol', 'ticagrelor',\n",
    "                'albuterol', 'bumex', 'decadron', 'flumazenil', 'insulin', 'lispro', 'mono-sod', 'optiray', 'pulmicort respule', 'tiotropium',\n",
    "                'allopurinol', 'buminate', 'definity', 'fluticasone-salmeterol', 'insulin detemir', 'loratadine', 'morphine', 'oxycodone', 'quetiapine', 'toradol',\n",
    "                'alprazolam', 'calcium carbonate', 'deltasone', 'folic acid', 'iohexol', 'lorazepam', 'motrin', 'pantoprazole', 'refresh p.m. op oint', 'tramadol',\n",
    "                'alteplase', 'calcium chloride', 'dexamethasone', 'furosemide', 'iopamidol', 'losartan', 'mupirocin', 'parenteral nutrition', 'reglan', 'trandate',\n",
    "                'alum hydroxide', 'calcium gluconate', 'dexmedetomidine', 'gabapentin', 'ipratropium', 'maalox', 'nafcillin', 'percocet', 'restoril', 'transde rm-scop',\n",
    "                'ambien', 'cardizem', 'dextrose', 'glargine', 'isosorbide', 'magnesium chloride', 'naloxone', 'phenergan', 'ringers solution', 'trazodone',\n",
    "                'aminocaproic acid', 'carvedilol', 'diazepam', 'glucagen', 'kayciel', 'magnesium hydroxide', 'narcan', 'phenylephrine', 'rocuronium', 'ultram',\n",
    "                'amiodarone', 'catapres', 'digoxin', 'glucagon', 'kayexalate', 'magnesium oxide', 'neostigmine', 'phytonadione', 'roxicodone', 'valium',\n",
    "                'amlodipine', 'cefazolin', 'diltiazem', 'glucose', 'keppra', 'magnesium sulf', 'neostigmine methylsulfate', 'piperacillin', 'sennosides', 'vancomycin',\n",
    "                'anticoagulant', 'cefepime', 'diphenhydramine', 'glycopyrrolate', 'ketorolac', 'magox', 'neurontin', 'plasmalyte', 'seroquel', 'vasopressin',\n",
    "                'apresoline', 'ceftriaxone', 'diprivan', 'guaifenesin', 'klonopin', 'medrol', 'nexterone', 'plavix', 'sertraline', 'ventolin',\n",
    "                'ascorbic acid', 'cephulac', 'docusate', 'haldol', 'labetalol', 'meperidine', 'nicardipine', 'pneumococcal', 'simethicone', 'vitamin',\n",
    "                'aspart', 'cetirizine', 'dopamine', 'haloperidol', 'lactated ringer', 'meropenem', 'nicoderm', 'pnu-immune-23', 'simvastatin', 'warfarin',\n",
    "                'aspirin', 'chlorhexidine', 'ecotrin', 'heparin', 'lactulose', 'merrem', 'nicotine', 'polyethylene glycol', 'sodium bicarbonate', 'xanax',\n",
    "                'atenolol', 'ciprofloxacin', 'enoxaparin', 'humulin', 'lanoxin', 'metformin', 'nitro-bid', 'potassium chloride', 'sodium chloride', 'zestril',\n",
    "                'atorvastatin', 'cisatracurium', 'ephedrine', 'hydralazine', 'lantus', 'methylprednisolone', 'nitroglycerin', 'potassium phosphate', 'sodium phosphate', 'zocor',\n",
    "                'atropine', 'citalopram', 'epinephrine', 'hydrochlorothiazide', 'levaquin', 'metoclopramide', 'nitroprusside', 'pravastatin', 'polystyrene sulfonate', 'zolpidem',\n",
    "                'atrovent', 'clindamycin', 'etomidate', 'hydrocodone', 'levemir', 'metoprolol', 'norco', 'precedex', 'spironolactone', 'zosyn',\n",
    "                'azithromycin', 'clonazepam', 'famotidine', 'hydrocortisone', 'levetiracetam', 'metronidazole', 'norepinephrine', 'prednisone', 'sublimaze',\n",
    "                'bacitracin', 'clonidine', 'fat emulsion', 'hydromorphone', 'levofloxacin', 'midazolam', 'normodyne', 'prilocaine', 'succinylcholine',\n",
    "                'bayer chewable', 'clopidogrel', 'fentanyl', 'ibuprofen', 'levothyroxine', 'midodrine', 'norvasc', 'prinivil', 'tacrolimus']\n",
    "\n",
    "\n",
    "def cosine_similarity(vec1, vec2):\n",
    "    return np.dot(vec1, vec2) / (np.linalg.norm(vec1) * np.linalg.norm(vec2))\n",
    "\n",
    "\n",
    "def calculate_similarity(model, drug1, drug2):\n",
    "    drug1_vector = model.get_word_vector(drug1)\n",
    "    drug2_vector = model.get_word_vector(drug2)\n",
    "    return cosine_similarity(drug1_vector, drug2_vector)\n",
    "\n",
    "\n",
    "def harmonize_drug(drug, unique_drugs, pretrained):\n",
    "\n",
    "    if pd.isna(drug):\n",
    "        return None\n",
    "\n",
    "    drug = drug.lower()\n",
    "\n",
    "    # Direct mapping: check whether drug names contain unique_drug\n",
    "    for unique_drug in unique_drugs:\n",
    "        if unique_drug in drug:\n",
    "            return unique_drug\n",
    "\n",
    "    # Check cosine similarity between word embeddings\n",
    "    converted = re.sub(r'[^a-zA-Z\\s]', '', drug)\n",
    "    best_similarity = float('-inf')\n",
    "    best_drug = None\n",
    "    for drug_name in converted.split():\n",
    "        for unique_drug in unique_drugs:\n",
    "            similarity = calculate_similarity(\n",
    "                pretrained, drug_name, unique_drug)\n",
    "            if similarity > best_similarity:\n",
    "                best_similarity = similarity\n",
    "                best_drug = unique_drug\n",
    "\n",
    "    return best_drug\n",
    "\n",
    "# Selecting required columns\n",
    "patient = pd.read_csv(\"data/eicu/patient.csv\")\n",
    "medication_imputed = pd.read_csv(\"output/medication_imputed.csv\")\n",
    "\n",
    "patient_medication = patient.merge(medication_imputed, on='patientunitstayid', how='inner')\n",
    "patient_medication = patient_medication[patient_medication[\"hospitalid\"].isin([199])]\n",
    "\n",
    "selected_df = patient_medication[['patientunitstayid', 'hospitalid', 'drugstartoffset', 'drugname']]\n",
    "\n",
    "# Applying the harmonize_drug function to drugname column\n",
    "pretrained = fasttext.load_model(\"data/pretrained/BioWordVec_PubMed_MIMICIII_d200.bin\")\n",
    "selected_df['drugname'] = selected_df['drugname'].apply(lambda drug: harmonize_drug(drug, unique_drugs, pretrained))\n",
    "\n",
    "# Sorting by patientunitstayid and then by drugstartoffset\n",
    "sorted_df = selected_df.sort_values(by=['patientunitstayid', 'drugstartoffset'])\n",
    "sorted_df.head()"
   ],
   "metadata": {
    "collapsed": false
   },
   "id": "3b7d0972414cc4c2"
  },
  {
   "cell_type": "code",
   "execution_count": null,
   "outputs": [],
   "source": [
    "medication_imputed.shape"
   ],
   "metadata": {
    "collapsed": false
   },
   "id": "82f5eb1461504313"
  },
  {
   "cell_type": "code",
   "execution_count": null,
   "outputs": [],
   "source": [
    "import pandas as pd\n",
    "\n",
    "eicu_time_comp565_148_281 = pd.read_csv(\"eicu_time_comp565_148_281.csv\")\n",
    "eicu_time_comp565_167_420 = pd.read_csv(\"eicu_time_comp565_167_420.csv\")\n",
    "eicu_time_comp565_199_458 = pd.read_csv(\"eicu_time_comp565_199_458.csv\")\n",
    "eicu_time_comp565_252_165 = pd.read_csv(\"eicu_time_comp565_252_165.csv\")\n",
    "eicu_time_comp565_449_283 = pd.read_csv(\"eicu_time_comp565_449_283.csv\")\n",
    "\n",
    "concatenated_df = pd.concat([eicu_time_comp565_148_281, eicu_time_comp565_167_420, eicu_time_comp565_199_458, eicu_time_comp565_252_165, eicu_time_comp565_449_283], ignore_index=True)\n",
    "filtered_df = concatenated_df.dropna(subset=['drugname'])\n",
    "filtered_df.to_csv(\"eicu_time_comp565.csv\", index=False)"
   ],
   "metadata": {
    "collapsed": false
   },
   "id": "5aac7886a086bf2a"
  },
  {
   "cell_type": "code",
   "execution_count": null,
   "outputs": [],
   "source": [
    "pd.read_csv(\"eicu_time_comp565.csv\")"
   ],
   "metadata": {
    "collapsed": false
   },
   "id": "3541dfa32aa64c92"
  },
  {
   "cell_type": "code",
   "execution_count": null,
   "outputs": [],
   "source": [
    "concatenated_df.dropna(subset=['drugname'])"
   ],
   "metadata": {
    "collapsed": false
   },
   "id": "ba6814179d3380c5"
  },
  {
   "cell_type": "code",
   "execution_count": null,
   "outputs": [],
   "source": [
    "concatenated_df[concatenated_df['patientunitstayid'] == 534589].drugname.unique()"
   ],
   "metadata": {
    "collapsed": false
   },
   "id": "6dae03f49df5187e"
  },
  {
   "cell_type": "code",
   "execution_count": null,
   "outputs": [],
   "source": [
    "concatenated_df.groupby('patientunitstayid')['drugname'].nunique()"
   ],
   "metadata": {
    "collapsed": false
   },
   "id": "6953268bf7b722cc"
  },
  {
   "cell_type": "markdown",
   "source": [
    "# COMP 565"
   ],
   "metadata": {
    "collapsed": false
   },
   "id": "9d465afa0d195e86"
  },
  {
   "cell_type": "code",
   "execution_count": 20,
   "outputs": [
    {
     "data": {
      "text/plain": "   patientunitstayid  hospitalid  drugstartoffset         drugname\n0             534765         148            -3328  sodium chloride\n1             534765         148            -3282     levofloxacin\n2             534765         148            -3199     pantoprazole\n3             534765         148            -3198         acetamin\n4             534765         148            -3198        lorazepam",
      "text/html": "<div>\n<style scoped>\n    .dataframe tbody tr th:only-of-type {\n        vertical-align: middle;\n    }\n\n    .dataframe tbody tr th {\n        vertical-align: top;\n    }\n\n    .dataframe thead th {\n        text-align: right;\n    }\n</style>\n<table border=\"1\" class=\"dataframe\">\n  <thead>\n    <tr style=\"text-align: right;\">\n      <th></th>\n      <th>patientunitstayid</th>\n      <th>hospitalid</th>\n      <th>drugstartoffset</th>\n      <th>drugname</th>\n    </tr>\n  </thead>\n  <tbody>\n    <tr>\n      <th>0</th>\n      <td>534765</td>\n      <td>148</td>\n      <td>-3328</td>\n      <td>sodium chloride</td>\n    </tr>\n    <tr>\n      <th>1</th>\n      <td>534765</td>\n      <td>148</td>\n      <td>-3282</td>\n      <td>levofloxacin</td>\n    </tr>\n    <tr>\n      <th>2</th>\n      <td>534765</td>\n      <td>148</td>\n      <td>-3199</td>\n      <td>pantoprazole</td>\n    </tr>\n    <tr>\n      <th>3</th>\n      <td>534765</td>\n      <td>148</td>\n      <td>-3198</td>\n      <td>acetamin</td>\n    </tr>\n    <tr>\n      <th>4</th>\n      <td>534765</td>\n      <td>148</td>\n      <td>-3198</td>\n      <td>lorazepam</td>\n    </tr>\n  </tbody>\n</table>\n</div>"
     },
     "execution_count": 20,
     "metadata": {},
     "output_type": "execute_result"
    }
   ],
   "source": [
    "import pandas as pd\n",
    "\n",
    "eicu_time_comp565 = pd.read_csv(\"eicu_time_comp565.csv\")\n",
    "eicu_time_comp565.head()"
   ],
   "metadata": {
    "collapsed": false,
    "ExecuteTime": {
     "end_time": "2023-11-20T18:38:33.767450Z",
     "start_time": "2023-11-20T18:38:33.488497Z"
    }
   },
   "id": "bce337998d7b9d5e"
  },
  {
   "cell_type": "code",
   "execution_count": 2,
   "outputs": [
    {
     "data": {
      "text/plain": "   patientunitstayid  hospitalid  admissionoffset         drugname\n0             534765         148            -3328  sodium chloride\n1             534765         148            -3282     levofloxacin\n2             534765         148            -3199     pantoprazole\n3             534765         148            -3198         acetamin\n4             534765         148            -3198        lorazepam",
      "text/html": "<div>\n<style scoped>\n    .dataframe tbody tr th:only-of-type {\n        vertical-align: middle;\n    }\n\n    .dataframe tbody tr th {\n        vertical-align: top;\n    }\n\n    .dataframe thead th {\n        text-align: right;\n    }\n</style>\n<table border=\"1\" class=\"dataframe\">\n  <thead>\n    <tr style=\"text-align: right;\">\n      <th></th>\n      <th>patientunitstayid</th>\n      <th>hospitalid</th>\n      <th>admissionoffset</th>\n      <th>drugname</th>\n    </tr>\n  </thead>\n  <tbody>\n    <tr>\n      <th>0</th>\n      <td>534765</td>\n      <td>148</td>\n      <td>-3328</td>\n      <td>sodium chloride</td>\n    </tr>\n    <tr>\n      <th>1</th>\n      <td>534765</td>\n      <td>148</td>\n      <td>-3282</td>\n      <td>levofloxacin</td>\n    </tr>\n    <tr>\n      <th>2</th>\n      <td>534765</td>\n      <td>148</td>\n      <td>-3199</td>\n      <td>pantoprazole</td>\n    </tr>\n    <tr>\n      <th>3</th>\n      <td>534765</td>\n      <td>148</td>\n      <td>-3198</td>\n      <td>acetamin</td>\n    </tr>\n    <tr>\n      <th>4</th>\n      <td>534765</td>\n      <td>148</td>\n      <td>-3198</td>\n      <td>lorazepam</td>\n    </tr>\n  </tbody>\n</table>\n</div>"
     },
     "execution_count": 2,
     "metadata": {},
     "output_type": "execute_result"
    }
   ],
   "source": [
    "# eicu_time_comp565 = eicu_time_comp565.rename(columns={\n",
    "#     'drugstartoffset': 'admissionoffset'\n",
    "# })\n",
    "# eicu_time_comp565.head()"
   ],
   "metadata": {
    "collapsed": false,
    "ExecuteTime": {
     "end_time": "2023-11-19T19:19:37.453710Z",
     "start_time": "2023-11-19T19:19:37.404792Z"
    }
   },
   "id": "d97f2c1df6b28d60"
  },
  {
   "cell_type": "code",
   "execution_count": 3,
   "outputs": [
    {
     "data": {
      "text/plain": "{534765: 148,\n 534851: 148,\n 535077: 148,\n 535557: 148,\n 535558: 148,\n 535576: 148,\n 535577: 148,\n 535656: 148,\n 535657: 148,\n 535690: 148,\n 535691: 148,\n 535706: 148,\n 535707: 148,\n 535810: 148,\n 535811: 148,\n 536460: 148,\n 536537: 148,\n 536718: 148,\n 536719: 148,\n 537252: 148,\n 537253: 148,\n 537305: 148,\n 537347: 148,\n 537371: 148,\n 537372: 148,\n 537491: 148,\n 537550: 148,\n 538446: 148,\n 538447: 148,\n 538721: 148,\n 538944: 148,\n 538945: 148,\n 538949: 148,\n 538950: 148,\n 539016: 148,\n 539017: 148,\n 539030: 148,\n 539031: 148,\n 539287: 148,\n 539288: 148,\n 539325: 148,\n 539326: 148,\n 539327: 148,\n 539938: 148,\n 539939: 148,\n 539976: 148,\n 540188: 148,\n 540308: 148,\n 540309: 148,\n 540379: 148,\n 540939: 148,\n 541077: 148,\n 541082: 148,\n 541546: 148,\n 541547: 148,\n 541549: 148,\n 541551: 148,\n 541581: 148,\n 541582: 148,\n 542430: 148,\n 542431: 148,\n 542538: 148,\n 542946: 148,\n 542947: 148,\n 542948: 148,\n 543281: 148,\n 543282: 148,\n 543568: 148,\n 543805: 148,\n 543806: 148,\n 544452: 148,\n 544590: 148,\n 544591: 148,\n 544635: 148,\n 544897: 148,\n 545514: 148,\n 545515: 148,\n 545517: 148,\n 545755: 148,\n 545756: 148,\n 545842: 148,\n 545843: 148,\n 545844: 148,\n 545845: 148,\n 545925: 148,\n 545926: 148,\n 545993: 148,\n 546075: 148,\n 546076: 148,\n 546160: 148,\n 546161: 148,\n 546256: 148,\n 546257: 148,\n 546676: 148,\n 546767: 148,\n 546852: 148,\n 546853: 148,\n 546903: 148,\n 546904: 148,\n 546983: 148,\n 546984: 148,\n 547559: 148,\n 548204: 148,\n 548205: 148,\n 548206: 148,\n 548207: 148,\n 548303: 148,\n 548304: 148,\n 548914: 148,\n 548915: 148,\n 549086: 148,\n 549087: 148,\n 549247: 148,\n 549426: 148,\n 549427: 148,\n 549474: 148,\n 549475: 148,\n 549628: 148,\n 549629: 148,\n 549644: 148,\n 549859: 148,\n 549860: 148,\n 550015: 148,\n 550016: 148,\n 550143: 148,\n 550167: 148,\n 550387: 148,\n 550388: 148,\n 550389: 148,\n 550390: 148,\n 550522: 148,\n 550661: 148,\n 550860: 148,\n 550861: 148,\n 551758: 148,\n 551827: 148,\n 551828: 148,\n 552003: 148,\n 552004: 148,\n 552150: 148,\n 552151: 148,\n 552425: 148,\n 552426: 148,\n 552655: 148,\n 552656: 148,\n 552742: 148,\n 552743: 148,\n 552744: 148,\n 552944: 148,\n 552945: 148,\n 553123: 148,\n 553124: 148,\n 553144: 148,\n 553553: 148,\n 553938: 148,\n 553939: 148,\n 554007: 148,\n 554008: 148,\n 554067: 148,\n 554080: 148,\n 554081: 148,\n 554082: 148,\n 554083: 148,\n 554174: 148,\n 554175: 148,\n 555430: 148,\n 555431: 148,\n 555617: 148,\n 555645: 148,\n 555646: 148,\n 555709: 148,\n 555710: 148,\n 555763: 148,\n 555844: 148,\n 555845: 148,\n 555846: 148,\n 556122: 148,\n 556366: 148,\n 556391: 148,\n 556392: 148,\n 556521: 148,\n 556522: 148,\n 556554: 148,\n 556640: 148,\n 556641: 148,\n 556844: 148,\n 556845: 148,\n 557138: 148,\n 557167: 148,\n 557168: 148,\n 557382: 148,\n 557405: 148,\n 557406: 148,\n 557414: 148,\n 557415: 148,\n 557658: 148,\n 557752: 148,\n 557753: 148,\n 558128: 148,\n 558129: 148,\n 558330: 148,\n 558564: 148,\n 558704: 148,\n 559428: 148,\n 559429: 148,\n 559802: 148,\n 559803: 148,\n 559912: 148,\n 559913: 148,\n 559956: 148,\n 561675: 148,\n 561676: 148,\n 562097: 148,\n 562265: 148,\n 562266: 148,\n 562271: 148,\n 562272: 148,\n 562471: 148,\n 562639: 148,\n 562640: 148,\n 562913: 148,\n 562967: 148,\n 562990: 148,\n 563203: 148,\n 563299: 148,\n 563300: 148,\n 563909: 148,\n 564091: 148,\n 564092: 148,\n 565072: 148,\n 565211: 148,\n 565212: 148,\n 565241: 148,\n 565415: 148,\n 565416: 148,\n 565765: 148,\n 565766: 148,\n 565767: 148,\n 565768: 148,\n 565769: 148,\n 565859: 148,\n 566035: 148,\n 566119: 148,\n 566120: 148,\n 566757: 148,\n 566758: 148,\n 567131: 148,\n 567490: 148,\n 567536: 148,\n 567537: 148,\n 567538: 148,\n 567539: 148,\n 567792: 148,\n 567833: 148,\n 567881: 148,\n 568021: 148,\n 568022: 148,\n 568055: 148,\n 568056: 148,\n 568300: 148,\n 568354: 148,\n 568681: 148,\n 568933: 148,\n 569045: 148,\n 569046: 148,\n 569047: 148,\n 569343: 148,\n 570078: 148,\n 570079: 148,\n 570205: 148,\n 570260: 148,\n 570336: 148,\n 570337: 148,\n 570437: 148,\n 570438: 148,\n 570636: 148,\n 570637: 148,\n 570890: 148,\n 570891: 148,\n 570934: 148,\n 571065: 148,\n 571286: 148,\n 571287: 148,\n 572711: 148,\n 572712: 148,\n 572842: 148,\n 572843: 148,\n 572844: 148,\n 572987: 148,\n 572988: 148,\n 573093: 148,\n 573158: 148,\n 574441: 148,\n 574445: 148,\n 574446: 148,\n 574593: 148,\n 574594: 148,\n 574838: 148,\n 574839: 148,\n 575132: 148,\n 575133: 148,\n 575307: 148,\n 575590: 148,\n 575823: 148,\n 575824: 148,\n 576025: 148,\n 576174: 148,\n 576175: 148,\n 577252: 148,\n 577364: 148,\n 577365: 148,\n 577519: 148,\n 577520: 148,\n 577687: 148,\n 577775: 148,\n 577797: 148,\n 577798: 148,\n 577865: 148,\n 577866: 148,\n 578086: 148,\n 578087: 148,\n 578284: 148,\n 579327: 148,\n 579328: 148,\n 579542: 148,\n 579543: 148,\n 579610: 148,\n 579611: 148,\n 579625: 148,\n 579626: 148,\n 579627: 148,\n 579693: 148,\n 580052: 148,\n 580053: 148,\n 580354: 148,\n 580355: 148,\n 580889: 148,\n 580890: 148,\n 581075: 148,\n 581427: 148,\n 581622: 148,\n 581991: 148,\n 582217: 148,\n 582218: 148,\n 582349: 148,\n 582916: 148,\n 582917: 148,\n 582953: 148,\n 583006: 148,\n 583007: 148,\n 583443: 148,\n 583732: 148,\n 583733: 148,\n 583776: 148,\n 583777: 148,\n 583942: 148,\n 585414: 148,\n 585415: 148,\n 585626: 148,\n 585766: 148,\n 585971: 148,\n 585972: 148,\n 586044: 148,\n 586045: 148,\n 586111: 148,\n 586172: 148,\n 586173: 148,\n 586475: 148,\n 587080: 148,\n 587081: 148,\n 587207: 148,\n 587623: 148,\n 587862: 148,\n 588314: 148,\n 588315: 148,\n 588607: 148,\n 588608: 148,\n 588932: 148,\n 588933: 148,\n 588935: 148,\n 589190: 148,\n 589191: 148,\n 589361: 148,\n 589459: 148,\n 589471: 148,\n 589472: 148,\n 589526: 148,\n 589607: 148,\n 589608: 148,\n 589742: 148,\n 590021: 148,\n 590022: 148,\n 590023: 148,\n 590024: 148,\n 590055: 148,\n 590056: 148,\n 590628: 148,\n 590629: 148,\n 591131: 148,\n 591132: 148,\n 591324: 148,\n 591606: 148,\n 591712: 148,\n 591713: 148,\n 591751: 148,\n 591752: 148,\n 591753: 148,\n 592067: 148,\n 592068: 148,\n 592069: 148,\n 592070: 148,\n 592239: 148,\n 592360: 148,\n 592361: 148,\n 592441: 148,\n 592442: 148,\n 592952: 148,\n 593033: 148,\n 593034: 148,\n 593099: 148,\n 593100: 148,\n 593165: 148,\n 593166: 148,\n 593445: 148,\n 593446: 148,\n 593451: 148,\n 593674: 148,\n 593945: 148,\n 593946: 148,\n 593947: 148,\n 594240: 148,\n 594241: 148,\n 595333: 148,\n 595334: 148,\n 595738: 148,\n 595739: 148,\n 595778: 148,\n 596272: 148,\n 596273: 148,\n 596274: 148,\n 596313: 148,\n 596464: 148,\n 596465: 148,\n 596776: 148,\n 596777: 148,\n 597365: 148,\n 597366: 148,\n 597462: 148,\n 597463: 148,\n 597740: 148,\n 597741: 148,\n 597833: 148,\n 598041: 148,\n 598042: 148,\n 598652: 148,\n 598871: 148,\n 599589: 148,\n 599590: 148,\n 599666: 148,\n 599667: 148,\n 599961: 148,\n 600095: 148,\n 600129: 148,\n 600305: 148,\n 600306: 148,\n 600976: 148,\n 601047: 148,\n 601087: 148,\n 601362: 148,\n 602166: 148,\n 603074: 148,\n 603075: 148,\n 603281: 148,\n 603287: 148,\n 603288: 148,\n 603711: 148,\n 604363: 148,\n 604364: 148,\n 604469: 148,\n 604479: 148,\n 605132: 148,\n 605335: 148,\n 605460: 148,\n 605461: 148,\n 606129: 148,\n 606130: 148,\n 606522: 148,\n 606523: 148,\n 606561: 148,\n 606562: 148,\n 607169: 148,\n 607184: 148,\n 607185: 148,\n 607240: 148,\n 607241: 148,\n 607274: 148,\n 607275: 148,\n 607639: 148,\n 607753: 148,\n 607956: 148,\n 607957: 148,\n 607988: 148,\n 607989: 148,\n 608508: 148,\n 608509: 148,\n 608991: 148,\n 609082: 148,\n 609467: 148,\n 609812: 148,\n 610122: 148,\n 611668: 148,\n 611853: 148,\n 613017: 148,\n 613062: 148,\n 613063: 148,\n 613232: 148,\n 613340: 148,\n 613342: 148,\n 613343: 148,\n 613344: 148,\n 613374: 148,\n 613384: 148,\n 613385: 148,\n 613831: 148,\n 614763: 148,\n 614764: 148,\n 615110: 148,\n 615803: 148,\n 615939: 148,\n 615940: 148,\n 616102: 148,\n 616103: 148,\n 616130: 148,\n 616784: 148,\n 616785: 148,\n 616871: 148,\n 616872: 148,\n 617978: 148,\n 617979: 148,\n 618033: 148,\n 618034: 148,\n 618460: 148,\n 618461: 148,\n 618607: 148,\n 618794: 148,\n 618812: 148,\n 618813: 148,\n 619158: 148,\n 619159: 148,\n 619160: 148,\n 619161: 148,\n 619223: 148,\n 619290: 148,\n 619291: 148,\n 619590: 148,\n 619828: 148,\n 620055: 148,\n 620056: 148,\n 620188: 148,\n 620265: 148,\n 620293: 148,\n 620294: 148,\n 620540: 148,\n 620541: 148,\n 620564: 148,\n 620565: 148,\n 620731: 148,\n 620732: 148,\n 620877: 148,\n 620878: 148,\n 620879: 148,\n 620930: 148,\n 620931: 148,\n 621759: 148,\n 621761: 148,\n 621819: 148,\n 622581: 148,\n 622777: 148,\n 622778: 148,\n 623339: 148,\n 623340: 148,\n 623359: 148,\n 623360: 148,\n 623479: 148,\n 623480: 148,\n 623618: 148,\n 623692: 148,\n 623931: 148,\n 624214: 148,\n 624803: 148,\n 624804: 148,\n 624931: 148,\n 625064: 148,\n 625065: 148,\n 625120: 148,\n 625121: 148,\n 625315: 148,\n 625686: 148,\n 625701: 148,\n 625929: 148,\n 626361: 148,\n 626362: 148,\n 626510: 148,\n 626727: 148,\n 626907: 148,\n 626940: 148,\n 626941: 148,\n 626953: 148,\n 626954: 148,\n 627045: 148,\n 627046: 148,\n 627624: 148,\n 627958: 148,\n 627985: 148,\n 627986: 148,\n 629279: 148,\n 629337: 148,\n 629338: 148,\n 629339: 148,\n 629340: 148,\n 629675: 148,\n 629676: 148,\n 629772: 148,\n 629773: 148,\n 629774: 148,\n 629775: 148,\n 630012: 148,\n 630016: 148,\n 630017: 148,\n 630018: 148,\n 630350: 148,\n 630351: 148,\n 630352: 148,\n 630353: 148,\n 630354: 148,\n 630516: 148,\n 630517: 148,\n 630829: 148,\n 631109: 148,\n 631110: 148,\n 631127: 148,\n 631445: 148,\n 632444: 148,\n 632445: 148,\n 632571: 148,\n 632572: 148,\n 632816: 148,\n 632817: 148,\n 632818: 148,\n 632918: 148,\n 632919: 148,\n 632920: 148,\n 632970: 148,\n 633707: 148,\n 633708: 148,\n 633713: 148,\n 633714: 148,\n 635280: 148,\n 635538: 148,\n 635555: 148,\n 635556: 148,\n 635650: 148,\n 635651: 148,\n 635815: 148,\n 635816: 148,\n 636756: 148,\n 636866: 148,\n 637118: 148,\n 637119: 148,\n 637254: 148,\n 637255: 148,\n 637362: 148,\n 637363: 148,\n 637659: 148,\n 637660: 148,\n 637661: 148,\n 637757: 148,\n 637771: 148,\n 637772: 148,\n 637773: 148,\n 638062: 148,\n 638063: 148,\n 638542: 148,\n 638543: 148,\n 638858: 148,\n 638875: 148,\n 639417: 148,\n 639418: 148,\n 639419: 148,\n 639499: 148,\n 639500: 148,\n 639574: 148,\n 639641: 148,\n 639642: 148,\n 640014: 148,\n 640015: 148,\n 640923: 148,\n 640924: 148,\n 641110: 148,\n 641111: 148,\n 641414: 148,\n 641415: 148,\n 641478: 148,\n 641642: 148,\n 641643: 148,\n 641729: 148,\n 641731: 148,\n 641733: 148,\n 641780: 148,\n 641781: 148,\n 641782: 148,\n 641914: 148,\n 641915: 148,\n 641916: 148,\n 642040: 148,\n 642041: 148,\n 642599: 148,\n 642600: 148,\n 643288: 148,\n 643387: 148,\n 643388: 148,\n 643403: 148,\n 643517: 148,\n 643532: 148,\n 644142: 148,\n 644143: 148,\n 644517: 148,\n 644518: 148,\n 644579: 148,\n 644580: 148,\n 644758: 148,\n 644759: 148,\n 645035: 148,\n 645266: 148,\n 645314: 148,\n 645315: 148,\n 645339: 148,\n 645340: 148,\n 645402: 148,\n 646056: 148,\n 646057: 148,\n 647072: 148,\n 647073: 148,\n 647237: 148,\n 647238: 148,\n 647520: 148,\n 648064: 148,\n 648568: 148,\n 648583: 148,\n 648584: 148,\n 648941: 148,\n 648942: 148,\n 648960: 148,\n 649200: 148,\n 649201: 148,\n 649402: 148,\n 649403: 148,\n 649500: 148,\n 649655: 148,\n 649656: 148,\n 649670: 148,\n 649671: 148,\n 649839: 148,\n 650168: 148,\n 650169: 148,\n 651138: 148,\n 651139: 148,\n 651293: 148,\n 651294: 148,\n 651313: 148,\n 651314: 148,\n 651384: 148,\n 651385: 148,\n 651562: 148,\n 651563: 148,\n 651667: 148,\n 651668: 148,\n 651785: 148,\n 651786: 148,\n 651787: 148,\n 651788: 148,\n 652012: 148,\n 652047: 148,\n 652121: 148,\n 652122: 148,\n 652311: 148,\n 652312: 148,\n 652602: 148,\n 652603: 148,\n 653309: 148,\n 653310: 148,\n 653394: 148,\n 653515: 148,\n 653516: 148,\n 653517: 148,\n 653652: 148,\n 653653: 148,\n 653694: 148,\n 653695: 148,\n 654070: 148,\n 654403: 148,\n 654999: 148,\n 655000: 148,\n 655001: 148,\n 655165: 148,\n 655175: 148,\n 655181: 148,\n 655182: 148,\n 655256: 148,\n 655257: 148,\n 655413: 148,\n 655414: 148,\n 655519: 148,\n 655520: 148,\n 655912: 148,\n 655913: 148,\n 656132: 148,\n 656190: 148,\n 656191: 148,\n 656192: 148,\n 656916: 148,\n 656917: 148,\n 656990: 148,\n 656991: 148,\n 657018: 148,\n 657346: 148,\n 657530: 148,\n 657531: 148,\n 657715: 148,\n 657716: 148,\n 657733: 148,\n 658121: 148,\n 658224: 148,\n 658225: 148,\n 658411: 148,\n 658701: 148,\n 658817: 148,\n 658818: 148,\n 659286: 148,\n 659495: 148,\n 659496: 148,\n 659497: 148,\n 659498: 148,\n 659499: 148,\n 659506: 148,\n 659512: 148,\n 659513: 148,\n 659697: 148,\n 659698: 148,\n 660124: 148,\n 660125: 148,\n 660141: 148,\n 660171: 148,\n 660178: 148,\n 660428: 148,\n 660858: 148,\n 660859: 148,\n 661083: 148,\n 661084: 148,\n 661345: 148,\n 661385: 148,\n 661393: 148,\n 661433: 148,\n 661452: 148,\n 661654: 148,\n 661671: 148,\n 661941: 148,\n 661942: 148,\n 662341: 148,\n 662342: 148,\n 662472: 148,\n 662592: 148,\n 662593: 148,\n 662610: 148,\n 662897: 148,\n 662909: 148,\n 662910: 148,\n 662911: 148,\n 663067: 148,\n 663068: 148,\n 663831: 148,\n 663832: 148,\n 664001: 148,\n 664282: 148,\n 664283: 148,\n 664474: 148,\n 664821: 148,\n 664997: 148,\n 665194: 148,\n 665195: 148,\n 665408: 148,\n 665409: 148,\n 665476: 148,\n 665477: 148,\n 665478: 148,\n 665514: 148,\n 665525: 148,\n 665526: 148,\n 665561: 148,\n 665777: 148,\n 665778: 148,\n 665867: 148,\n 666006: 148,\n 666007: 148,\n 666008: 148,\n 666009: 148,\n 666360: 148,\n 666874: 148,\n 666875: 148,\n 667472: 148,\n 667473: 148,\n 667474: 148,\n 667475: 148,\n 667492: 148,\n 667493: 148,\n 668034: 148,\n 668035: 148,\n 668223: 148,\n 668230: 148,\n 668231: 148,\n 668390: 148,\n 668391: 148,\n 668609: 148,\n 669383: 148,\n 669439: 148,\n 669728: 148,\n 670002: 148,\n 670003: 148,\n 670036: 148,\n 670268: 148,\n 670269: 148,\n 670473: 148,\n 670662: 148,\n 670663: 148,\n 670783: 148,\n 671104: 148,\n 671128: 148,\n 671146: 148,\n 671147: 148,\n 671243: 148,\n 671288: 148,\n 671289: 148,\n 671701: 148,\n 672543: 148,\n 672964: 148,\n 673112: 148,\n 673113: 148,\n 673436: 148,\n 674905: 148,\n 674965: 148,\n 675069: 148,\n 675223: 148,\n 675224: 148,\n 675419: 148,\n 676028: 148,\n 676029: 148,\n 676137: 148,\n 676143: 148,\n 676304: 148,\n 676305: 148,\n 676321: 148,\n 676454: 148,\n 676455: 148,\n 676627: 148,\n 676869: 148,\n 676997: 148,\n 676998: 148,\n 677036: 148,\n 677548: 148,\n 677549: 148,\n 677661: 148,\n 677842: 148,\n 677843: 148,\n 677897: 148,\n 678723: 148,\n 678724: 148,\n 678725: 148,\n 678891: 148,\n 678908: 148,\n 678909: 148,\n 679243: 148,\n 679397: 148,\n 679534: 148,\n 679617: 148,\n 680408: 148,\n 680853: 148,\n 680854: 148,\n 681429: 148,\n 681430: 148,\n 681460: 148,\n 681474: 148,\n 681475: 148,\n 681843: 148,\n 681902: 148,\n 681903: 148,\n 681977: 148,\n 682108: 148,\n 682280: 148,\n 682466: 148,\n 682467: 148,\n ...}"
     },
     "execution_count": 3,
     "metadata": {},
     "output_type": "execute_result"
    }
   ],
   "source": [
    "# hospitalid_map = eicu_time_comp565.set_index('patientunitstayid')['hospitalid'].to_dict()\n",
    "# hospitalid_map"
   ],
   "metadata": {
    "collapsed": false,
    "ExecuteTime": {
     "end_time": "2023-11-19T19:19:39.268575Z",
     "start_time": "2023-11-19T19:19:39.090495Z"
    }
   },
   "id": "4e38511bf4026944"
  },
  {
   "cell_type": "code",
   "execution_count": 21,
   "outputs": [],
   "source": [
    "diagnosis = pd.read_csv(\"data/eicu/diagnosis.csv\")\n",
    "treatment = pd.read_csv(\"data/eicu/treatment.csv\")\n",
    "patient = pd.read_csv(\"data/eicu/patient.csv\")\n",
    "ventilator_treatments = treatment[treatment['treatmentstring'].str.contains('ventilation', case=False, na=False)]\n",
    "ventilator_treatments = ventilator_treatments[ventilator_treatments[\"patientunitstayid\"].isin(eicu_time_comp565[\"patientunitstayid\"].unique())]\n",
    "sepsis_diagnosis = diagnosis[diagnosis['diagnosisstring'].str.contains('sepsis', case=False, na=False)]\n",
    "sepsis_diagnosis = sepsis_diagnosis[sepsis_diagnosis[\"patientunitstayid\"].isin(eicu_time_comp565[\"patientunitstayid\"].unique())]\n",
    "mortality_patient = patient[patient[\"unitdischargestatus\"] == 'Expired']\n",
    "mortality_patient = mortality_patient[mortality_patient[\"patientunitstayid\"].isin(eicu_time_comp565[\"patientunitstayid\"].unique())]"
   ],
   "metadata": {
    "collapsed": false,
    "ExecuteTime": {
     "end_time": "2023-11-20T18:38:45.879847Z",
     "start_time": "2023-11-20T18:38:38.374426Z"
    }
   },
   "id": "cc0b038dea46b8f3"
  },
  {
   "cell_type": "code",
   "execution_count": 22,
   "outputs": [],
   "source": [
    "sepsis_time = pd.DataFrame({\n",
    "    'patientunitstayid': sepsis_diagnosis['patientunitstayid'],\n",
    "    'sepsisdiagnosisoffset': sepsis_diagnosis['diagnosisoffset']\n",
    "})\n",
    "sepsis_time = sepsis_time.sort_values(by=['patientunitstayid', 'sepsisdiagnosisoffset'])\n",
    "sepsis_time.to_csv(\"sepsis_comp565.csv\", index=False)"
   ],
   "metadata": {
    "collapsed": false,
    "ExecuteTime": {
     "end_time": "2023-11-20T18:38:45.923642Z",
     "start_time": "2023-11-20T18:38:45.879247Z"
    }
   },
   "id": "1296cb4608d100d7"
  },
  {
   "cell_type": "code",
   "execution_count": 23,
   "outputs": [
    {
     "data": {
      "text/plain": "        patientunitstayid  sepsisdiagnosisoffset\n459454             534765                     85\n459456             534765                    478\n459498             534851                     17\n459499             534851                     21\n459712             535599                    -13",
      "text/html": "<div>\n<style scoped>\n    .dataframe tbody tr th:only-of-type {\n        vertical-align: middle;\n    }\n\n    .dataframe tbody tr th {\n        vertical-align: top;\n    }\n\n    .dataframe thead th {\n        text-align: right;\n    }\n</style>\n<table border=\"1\" class=\"dataframe\">\n  <thead>\n    <tr style=\"text-align: right;\">\n      <th></th>\n      <th>patientunitstayid</th>\n      <th>sepsisdiagnosisoffset</th>\n    </tr>\n  </thead>\n  <tbody>\n    <tr>\n      <th>459454</th>\n      <td>534765</td>\n      <td>85</td>\n    </tr>\n    <tr>\n      <th>459456</th>\n      <td>534765</td>\n      <td>478</td>\n    </tr>\n    <tr>\n      <th>459498</th>\n      <td>534851</td>\n      <td>17</td>\n    </tr>\n    <tr>\n      <th>459499</th>\n      <td>534851</td>\n      <td>21</td>\n    </tr>\n    <tr>\n      <th>459712</th>\n      <td>535599</td>\n      <td>-13</td>\n    </tr>\n  </tbody>\n</table>\n</div>"
     },
     "execution_count": 23,
     "metadata": {},
     "output_type": "execute_result"
    }
   ],
   "source": [
    "sepsis_time.head()"
   ],
   "metadata": {
    "collapsed": false,
    "ExecuteTime": {
     "end_time": "2023-11-20T18:38:47.479989Z",
     "start_time": "2023-11-20T18:38:47.476868Z"
    }
   },
   "id": "6912fa8c039597e6"
  },
  {
   "cell_type": "code",
   "execution_count": 24,
   "outputs": [],
   "source": [
    "ventilator_time = pd.DataFrame({\n",
    "    'patientunitstayid': ventilator_treatments['patientunitstayid'],\n",
    "    'ventilatortreatmentoffset': ventilator_treatments['treatmentoffset'],\n",
    "})\n",
    "ventilator_time = ventilator_time.sort_values(by=['patientunitstayid', 'ventilatortreatmentoffset'])\n",
    "ventilator_time.to_csv(\"ventilator_comp565.csv\", index=False)"
   ],
   "metadata": {
    "collapsed": false,
    "ExecuteTime": {
     "end_time": "2023-11-20T18:38:49.318203Z",
     "start_time": "2023-11-20T18:38:49.246057Z"
    }
   },
   "id": "48e349d9fc337bc3"
  },
  {
   "cell_type": "code",
   "execution_count": 25,
   "outputs": [
    {
     "data": {
      "text/plain": "        patientunitstayid  ventilatortreatmentoffset\n932371             534621                        121\n932376             534765                         85\n932419             534930                        588\n932430             535142                        531\n932431             535142                       1104",
      "text/html": "<div>\n<style scoped>\n    .dataframe tbody tr th:only-of-type {\n        vertical-align: middle;\n    }\n\n    .dataframe tbody tr th {\n        vertical-align: top;\n    }\n\n    .dataframe thead th {\n        text-align: right;\n    }\n</style>\n<table border=\"1\" class=\"dataframe\">\n  <thead>\n    <tr style=\"text-align: right;\">\n      <th></th>\n      <th>patientunitstayid</th>\n      <th>ventilatortreatmentoffset</th>\n    </tr>\n  </thead>\n  <tbody>\n    <tr>\n      <th>932371</th>\n      <td>534621</td>\n      <td>121</td>\n    </tr>\n    <tr>\n      <th>932376</th>\n      <td>534765</td>\n      <td>85</td>\n    </tr>\n    <tr>\n      <th>932419</th>\n      <td>534930</td>\n      <td>588</td>\n    </tr>\n    <tr>\n      <th>932430</th>\n      <td>535142</td>\n      <td>531</td>\n    </tr>\n    <tr>\n      <th>932431</th>\n      <td>535142</td>\n      <td>1104</td>\n    </tr>\n  </tbody>\n</table>\n</div>"
     },
     "execution_count": 25,
     "metadata": {},
     "output_type": "execute_result"
    }
   ],
   "source": [
    "ventilator_time.head()"
   ],
   "metadata": {
    "collapsed": false,
    "ExecuteTime": {
     "end_time": "2023-11-20T18:38:50.897029Z",
     "start_time": "2023-11-20T18:38:50.894558Z"
    }
   },
   "id": "cf6f9e7e03d6b446"
  },
  {
   "cell_type": "code",
   "execution_count": 26,
   "outputs": [],
   "source": [
    "mortality_time = pd.DataFrame({\n",
    "    'patientunitstayid': mortality_patient['patientunitstayid'],\n",
    "    'deathoffset': mortality_patient['unitdischargeoffset'],\n",
    "})\n",
    "mortality_time = mortality_time.sort_values(by=['patientunitstayid', 'deathoffset'])\n",
    "mortality_time.to_csv(\"mortality_comp565.csv\", index=False)"
   ],
   "metadata": {
    "collapsed": false,
    "ExecuteTime": {
     "end_time": "2023-11-20T18:38:52.732227Z",
     "start_time": "2023-11-20T18:38:52.724496Z"
    }
   },
   "id": "4565278dff2fc4f"
  },
  {
   "cell_type": "code",
   "execution_count": 27,
   "outputs": [
    {
     "data": {
      "text/plain": "       patientunitstayid  deathoffset\n29885             535599           67\n30008             537671        14238\n30105             538694          401\n30108             538721         7250\n30132             539163        18821",
      "text/html": "<div>\n<style scoped>\n    .dataframe tbody tr th:only-of-type {\n        vertical-align: middle;\n    }\n\n    .dataframe tbody tr th {\n        vertical-align: top;\n    }\n\n    .dataframe thead th {\n        text-align: right;\n    }\n</style>\n<table border=\"1\" class=\"dataframe\">\n  <thead>\n    <tr style=\"text-align: right;\">\n      <th></th>\n      <th>patientunitstayid</th>\n      <th>deathoffset</th>\n    </tr>\n  </thead>\n  <tbody>\n    <tr>\n      <th>29885</th>\n      <td>535599</td>\n      <td>67</td>\n    </tr>\n    <tr>\n      <th>30008</th>\n      <td>537671</td>\n      <td>14238</td>\n    </tr>\n    <tr>\n      <th>30105</th>\n      <td>538694</td>\n      <td>401</td>\n    </tr>\n    <tr>\n      <th>30108</th>\n      <td>538721</td>\n      <td>7250</td>\n    </tr>\n    <tr>\n      <th>30132</th>\n      <td>539163</td>\n      <td>18821</td>\n    </tr>\n  </tbody>\n</table>\n</div>"
     },
     "execution_count": 27,
     "metadata": {},
     "output_type": "execute_result"
    }
   ],
   "source": [
    "mortality_time.head()"
   ],
   "metadata": {
    "collapsed": false,
    "ExecuteTime": {
     "end_time": "2023-11-20T18:38:55.149065Z",
     "start_time": "2023-11-20T18:38:55.132642Z"
    }
   },
   "id": "aed979a643429fe0"
  },
  {
   "cell_type": "code",
   "execution_count": 11,
   "outputs": [],
   "source": [
    "# eicu_time_comp565 = eicu_time_comp565.merge(sepsis_time, on=['patientunitstayid', 'admissionoffset'], how='outer')\n",
    "# eicu_time_comp565 = eicu_time_comp565.merge(ventilator_time, on=['patientunitstayid', 'admissionoffset'], how='outer')\n",
    "# eicu_time_comp565 = eicu_time_comp565.merge(mortality_time, on=['patientunitstayid', 'admissionoffset'], how='outer')"
   ],
   "metadata": {
    "collapsed": false,
    "ExecuteTime": {
     "end_time": "2023-11-19T19:20:00.973553Z",
     "start_time": "2023-11-19T19:20:00.352428Z"
    }
   },
   "id": "963c9d172ce09a79"
  },
  {
   "cell_type": "code",
   "execution_count": 12,
   "outputs": [
    {
     "data": {
      "text/plain": "   patientunitstayid  hospitalid  admissionoffset         drugname  sepsis  \\\n0             534765       148.0            -3328  sodium chloride     NaN   \n1             534765       148.0            -3282     levofloxacin     NaN   \n2             534765       148.0            -3199     pantoprazole     NaN   \n3             534765       148.0            -3198         acetamin     NaN   \n4             534765       148.0            -3198        lorazepam     NaN   \n\n   ventilator  death  \n0         NaN    NaN  \n1         NaN    NaN  \n2         NaN    NaN  \n3         NaN    NaN  \n4         NaN    NaN  ",
      "text/html": "<div>\n<style scoped>\n    .dataframe tbody tr th:only-of-type {\n        vertical-align: middle;\n    }\n\n    .dataframe tbody tr th {\n        vertical-align: top;\n    }\n\n    .dataframe thead th {\n        text-align: right;\n    }\n</style>\n<table border=\"1\" class=\"dataframe\">\n  <thead>\n    <tr style=\"text-align: right;\">\n      <th></th>\n      <th>patientunitstayid</th>\n      <th>hospitalid</th>\n      <th>admissionoffset</th>\n      <th>drugname</th>\n      <th>sepsis</th>\n      <th>ventilator</th>\n      <th>death</th>\n    </tr>\n  </thead>\n  <tbody>\n    <tr>\n      <th>0</th>\n      <td>534765</td>\n      <td>148.0</td>\n      <td>-3328</td>\n      <td>sodium chloride</td>\n      <td>NaN</td>\n      <td>NaN</td>\n      <td>NaN</td>\n    </tr>\n    <tr>\n      <th>1</th>\n      <td>534765</td>\n      <td>148.0</td>\n      <td>-3282</td>\n      <td>levofloxacin</td>\n      <td>NaN</td>\n      <td>NaN</td>\n      <td>NaN</td>\n    </tr>\n    <tr>\n      <th>2</th>\n      <td>534765</td>\n      <td>148.0</td>\n      <td>-3199</td>\n      <td>pantoprazole</td>\n      <td>NaN</td>\n      <td>NaN</td>\n      <td>NaN</td>\n    </tr>\n    <tr>\n      <th>3</th>\n      <td>534765</td>\n      <td>148.0</td>\n      <td>-3198</td>\n      <td>acetamin</td>\n      <td>NaN</td>\n      <td>NaN</td>\n      <td>NaN</td>\n    </tr>\n    <tr>\n      <th>4</th>\n      <td>534765</td>\n      <td>148.0</td>\n      <td>-3198</td>\n      <td>lorazepam</td>\n      <td>NaN</td>\n      <td>NaN</td>\n      <td>NaN</td>\n    </tr>\n  </tbody>\n</table>\n</div>"
     },
     "execution_count": 12,
     "metadata": {},
     "output_type": "execute_result"
    }
   ],
   "source": [
    "# eicu_time_comp565.head()"
   ],
   "metadata": {
    "collapsed": false,
    "ExecuteTime": {
     "end_time": "2023-11-19T19:20:02.969868Z",
     "start_time": "2023-11-19T19:20:02.966639Z"
    }
   },
   "id": "98e121642e7e470b"
  },
  {
   "cell_type": "code",
   "execution_count": 13,
   "outputs": [
    {
     "data": {
      "text/plain": "   patientunitstayid  hospitalid  admissionoffset         drugname  sepsis  \\\n0             534765         148            -3328  sodium chloride     NaN   \n1             534765         148            -3282     levofloxacin     NaN   \n2             534765         148            -3199     pantoprazole     NaN   \n3             534765         148            -3198         acetamin     NaN   \n4             534765         148            -3198        lorazepam     NaN   \n\n   ventilator  death  \n0         NaN    NaN  \n1         NaN    NaN  \n2         NaN    NaN  \n3         NaN    NaN  \n4         NaN    NaN  ",
      "text/html": "<div>\n<style scoped>\n    .dataframe tbody tr th:only-of-type {\n        vertical-align: middle;\n    }\n\n    .dataframe tbody tr th {\n        vertical-align: top;\n    }\n\n    .dataframe thead th {\n        text-align: right;\n    }\n</style>\n<table border=\"1\" class=\"dataframe\">\n  <thead>\n    <tr style=\"text-align: right;\">\n      <th></th>\n      <th>patientunitstayid</th>\n      <th>hospitalid</th>\n      <th>admissionoffset</th>\n      <th>drugname</th>\n      <th>sepsis</th>\n      <th>ventilator</th>\n      <th>death</th>\n    </tr>\n  </thead>\n  <tbody>\n    <tr>\n      <th>0</th>\n      <td>534765</td>\n      <td>148</td>\n      <td>-3328</td>\n      <td>sodium chloride</td>\n      <td>NaN</td>\n      <td>NaN</td>\n      <td>NaN</td>\n    </tr>\n    <tr>\n      <th>1</th>\n      <td>534765</td>\n      <td>148</td>\n      <td>-3282</td>\n      <td>levofloxacin</td>\n      <td>NaN</td>\n      <td>NaN</td>\n      <td>NaN</td>\n    </tr>\n    <tr>\n      <th>2</th>\n      <td>534765</td>\n      <td>148</td>\n      <td>-3199</td>\n      <td>pantoprazole</td>\n      <td>NaN</td>\n      <td>NaN</td>\n      <td>NaN</td>\n    </tr>\n    <tr>\n      <th>3</th>\n      <td>534765</td>\n      <td>148</td>\n      <td>-3198</td>\n      <td>acetamin</td>\n      <td>NaN</td>\n      <td>NaN</td>\n      <td>NaN</td>\n    </tr>\n    <tr>\n      <th>4</th>\n      <td>534765</td>\n      <td>148</td>\n      <td>-3198</td>\n      <td>lorazepam</td>\n      <td>NaN</td>\n      <td>NaN</td>\n      <td>NaN</td>\n    </tr>\n  </tbody>\n</table>\n</div>"
     },
     "execution_count": 13,
     "metadata": {},
     "output_type": "execute_result"
    }
   ],
   "source": [
    "# eicu_time_comp565['hospitalid'] = eicu_time_comp565['patientunitstayid'].map(hospitalid_map)\n",
    "# eicu_time_comp565.head()"
   ],
   "metadata": {
    "collapsed": false,
    "ExecuteTime": {
     "end_time": "2023-11-19T19:20:06.264463Z",
     "start_time": "2023-11-19T19:20:06.232914Z"
    }
   },
   "id": "f764ea16da531c17"
  },
  {
   "cell_type": "code",
   "execution_count": 14,
   "outputs": [
    {
     "data": {
      "text/plain": "   patientunitstayid  hospitalid  admissionoffset         drugname  sepsis  \\\n0             534765         148            -3328  sodium chloride     NaN   \n1             534765         148            -3282     levofloxacin     NaN   \n2             534765         148            -3199     pantoprazole     NaN   \n3             534765         148            -3198         acetamin     NaN   \n4             534765         148            -3198        lorazepam     NaN   \n\n   ventilator  death  \n0         NaN    NaN  \n1         NaN    NaN  \n2         NaN    NaN  \n3         NaN    NaN  \n4         NaN    NaN  ",
      "text/html": "<div>\n<style scoped>\n    .dataframe tbody tr th:only-of-type {\n        vertical-align: middle;\n    }\n\n    .dataframe tbody tr th {\n        vertical-align: top;\n    }\n\n    .dataframe thead th {\n        text-align: right;\n    }\n</style>\n<table border=\"1\" class=\"dataframe\">\n  <thead>\n    <tr style=\"text-align: right;\">\n      <th></th>\n      <th>patientunitstayid</th>\n      <th>hospitalid</th>\n      <th>admissionoffset</th>\n      <th>drugname</th>\n      <th>sepsis</th>\n      <th>ventilator</th>\n      <th>death</th>\n    </tr>\n  </thead>\n  <tbody>\n    <tr>\n      <th>0</th>\n      <td>534765</td>\n      <td>148</td>\n      <td>-3328</td>\n      <td>sodium chloride</td>\n      <td>NaN</td>\n      <td>NaN</td>\n      <td>NaN</td>\n    </tr>\n    <tr>\n      <th>1</th>\n      <td>534765</td>\n      <td>148</td>\n      <td>-3282</td>\n      <td>levofloxacin</td>\n      <td>NaN</td>\n      <td>NaN</td>\n      <td>NaN</td>\n    </tr>\n    <tr>\n      <th>2</th>\n      <td>534765</td>\n      <td>148</td>\n      <td>-3199</td>\n      <td>pantoprazole</td>\n      <td>NaN</td>\n      <td>NaN</td>\n      <td>NaN</td>\n    </tr>\n    <tr>\n      <th>3</th>\n      <td>534765</td>\n      <td>148</td>\n      <td>-3198</td>\n      <td>acetamin</td>\n      <td>NaN</td>\n      <td>NaN</td>\n      <td>NaN</td>\n    </tr>\n    <tr>\n      <th>4</th>\n      <td>534765</td>\n      <td>148</td>\n      <td>-3198</td>\n      <td>lorazepam</td>\n      <td>NaN</td>\n      <td>NaN</td>\n      <td>NaN</td>\n    </tr>\n  </tbody>\n</table>\n</div>"
     },
     "execution_count": 14,
     "metadata": {},
     "output_type": "execute_result"
    }
   ],
   "source": [
    "# eicu_time_comp565 = eicu_time_comp565.sort_values(by=['hospitalid', 'patientunitstayid', 'admissionoffset'])\n",
    "# eicu_time_comp565.head()"
   ],
   "metadata": {
    "collapsed": false,
    "ExecuteTime": {
     "end_time": "2023-11-19T19:20:08.168129Z",
     "start_time": "2023-11-19T19:20:07.964811Z"
    }
   },
   "id": "a181f347171c93de"
  },
  {
   "cell_type": "code",
   "execution_count": 15,
   "outputs": [],
   "source": [
    "# eicu_time_comp565['sepsis'].fillna(0, inplace=True)\n",
    "# eicu_time_comp565['ventilator'].fillna(0, inplace=True)\n",
    "# eicu_time_comp565['death'].fillna(0, inplace=True)"
   ],
   "metadata": {
    "collapsed": false,
    "ExecuteTime": {
     "end_time": "2023-11-19T19:20:09.930273Z",
     "start_time": "2023-11-19T19:20:09.902342Z"
    }
   },
   "id": "c53ce78bcc614264"
  },
  {
   "cell_type": "code",
   "execution_count": 16,
   "outputs": [
    {
     "data": {
      "text/plain": "   patientunitstayid  hospitalid  admissionoffset         drugname  sepsis  \\\n0             534765         148            -3328  sodium chloride     0.0   \n1             534765         148            -3282     levofloxacin     0.0   \n2             534765         148            -3199     pantoprazole     0.0   \n3             534765         148            -3198         acetamin     0.0   \n4             534765         148            -3198        lorazepam     0.0   \n\n   ventilator  death  \n0         0.0    0.0  \n1         0.0    0.0  \n2         0.0    0.0  \n3         0.0    0.0  \n4         0.0    0.0  ",
      "text/html": "<div>\n<style scoped>\n    .dataframe tbody tr th:only-of-type {\n        vertical-align: middle;\n    }\n\n    .dataframe tbody tr th {\n        vertical-align: top;\n    }\n\n    .dataframe thead th {\n        text-align: right;\n    }\n</style>\n<table border=\"1\" class=\"dataframe\">\n  <thead>\n    <tr style=\"text-align: right;\">\n      <th></th>\n      <th>patientunitstayid</th>\n      <th>hospitalid</th>\n      <th>admissionoffset</th>\n      <th>drugname</th>\n      <th>sepsis</th>\n      <th>ventilator</th>\n      <th>death</th>\n    </tr>\n  </thead>\n  <tbody>\n    <tr>\n      <th>0</th>\n      <td>534765</td>\n      <td>148</td>\n      <td>-3328</td>\n      <td>sodium chloride</td>\n      <td>0.0</td>\n      <td>0.0</td>\n      <td>0.0</td>\n    </tr>\n    <tr>\n      <th>1</th>\n      <td>534765</td>\n      <td>148</td>\n      <td>-3282</td>\n      <td>levofloxacin</td>\n      <td>0.0</td>\n      <td>0.0</td>\n      <td>0.0</td>\n    </tr>\n    <tr>\n      <th>2</th>\n      <td>534765</td>\n      <td>148</td>\n      <td>-3199</td>\n      <td>pantoprazole</td>\n      <td>0.0</td>\n      <td>0.0</td>\n      <td>0.0</td>\n    </tr>\n    <tr>\n      <th>3</th>\n      <td>534765</td>\n      <td>148</td>\n      <td>-3198</td>\n      <td>acetamin</td>\n      <td>0.0</td>\n      <td>0.0</td>\n      <td>0.0</td>\n    </tr>\n    <tr>\n      <th>4</th>\n      <td>534765</td>\n      <td>148</td>\n      <td>-3198</td>\n      <td>lorazepam</td>\n      <td>0.0</td>\n      <td>0.0</td>\n      <td>0.0</td>\n    </tr>\n  </tbody>\n</table>\n</div>"
     },
     "execution_count": 16,
     "metadata": {},
     "output_type": "execute_result"
    }
   ],
   "source": [
    "# eicu_time_comp565.head()"
   ],
   "metadata": {
    "collapsed": false,
    "ExecuteTime": {
     "end_time": "2023-11-19T19:20:12.363911Z",
     "start_time": "2023-11-19T19:20:12.349392Z"
    }
   },
   "id": "72c97c0888126c4"
  },
  {
   "cell_type": "code",
   "execution_count": null,
   "outputs": [],
   "source": [
    "eicu_time_comp565.to_csv('output/eicu_time_comp565_2.csv', index=False)"
   ],
   "metadata": {
    "collapsed": false
   },
   "id": "d6faccd1b0780f92"
  },
  {
   "cell_type": "code",
   "execution_count": null,
   "outputs": [],
   "source": [
    "pd.read_csv(\"output/eicu_time_comp565_2.csv\")"
   ],
   "metadata": {
    "collapsed": false
   },
   "id": "5ebdf8edb8597e04"
  }
 ],
 "metadata": {
  "kernelspec": {
   "display_name": "Python 3",
   "language": "python",
   "name": "python3"
  },
  "language_info": {
   "codemirror_mode": {
    "name": "ipython",
    "version": 2
   },
   "file_extension": ".py",
   "mimetype": "text/x-python",
   "name": "python",
   "nbconvert_exporter": "python",
   "pygments_lexer": "ipython2",
   "version": "2.7.6"
  }
 },
 "nbformat": 4,
 "nbformat_minor": 5
}
