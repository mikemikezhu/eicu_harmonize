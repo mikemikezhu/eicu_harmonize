{
 "cells": [
  {
   "cell_type": "code",
   "execution_count": 1,
   "id": "4a8e5eef2073fc1a",
   "metadata": {
    "collapsed": false,
    "ExecuteTime": {
     "end_time": "2024-04-23T21:22:45.856566Z",
     "start_time": "2024-04-23T21:22:45.817034Z"
    }
   },
   "outputs": [],
   "source": [
    "import pandas as pd\n",
    "from datetime import datetime\n",
    "import fasttext\n",
    "import numpy as np\n",
    "from tqdm import tqdm\n",
    "import re\n",
    "\n",
    "unique_drugs = ['acetamin', 'biotene', 'compazine', 'ferrous', 'imdur', 'lidocaine', 'milk of magnesia', 'nystatin', 'prochlorperazine', 'tamsulosin',\n",
    "                'advair diskus', 'bisacodyl', 'coreg', 'flagyl', 'influenza vac', 'lipitor', 'mineral', 'omeprazole', 'promethazine', 'thiamine',\n",
    "                'albumin', 'bumetanide', 'cozaar', 'flomax', 'infuvite', 'lisinopril', 'mineral oil', 'ondansetron', 'propofol', 'ticagrelor',\n",
    "                'albuterol', 'bumex', 'decadron', 'flumazenil', 'insulin', 'lispro', 'mono-sod', 'optiray', 'pulmicort respule', 'tiotropium',\n",
    "                'allopurinol', 'buminate', 'definity', 'fluticasone-salmeterol', 'insulin detemir', 'loratadine', 'morphine', 'oxycodone', 'quetiapine', 'toradol',\n",
    "                'alprazolam', 'calcium carbonate', 'deltasone', 'folic acid', 'iohexol', 'lorazepam', 'motrin', 'pantoprazole', 'refresh p.m. op oint', 'tramadol',\n",
    "                'alteplase', 'calcium chloride', 'dexamethasone', 'furosemide', 'iopamidol', 'losartan', 'mupirocin', 'parenteral nutrition', 'reglan', 'trandate',\n",
    "                'alum hydroxide', 'calcium gluconate', 'dexmedetomidine', 'gabapentin', 'ipratropium', 'maalox', 'nafcillin', 'percocet', 'restoril', 'transde rm-scop',\n",
    "                'ambien', 'cardizem', 'dextrose', 'glargine', 'isosorbide', 'magnesium chloride', 'naloxone', 'phenergan', 'ringers solution', 'trazodone',\n",
    "                'aminocaproic acid', 'carvedilol', 'diazepam', 'glucagen', 'kayciel', 'magnesium hydroxide', 'narcan', 'phenylephrine', 'rocuronium', 'ultram',\n",
    "                'amiodarone', 'catapres', 'digoxin', 'glucagon', 'kayexalate', 'magnesium oxide', 'neostigmine', 'phytonadione', 'roxicodone', 'valium',\n",
    "                'amlodipine', 'cefazolin', 'diltiazem', 'glucose', 'keppra', 'magnesium sulf', 'neostigmine methylsulfate', 'piperacillin', 'sennosides', 'vancomycin',\n",
    "                'anticoagulant', 'cefepime', 'diphenhydramine', 'glycopyrrolate', 'ketorolac', 'magox', 'neurontin', 'plasmalyte', 'seroquel', 'vasopressin',\n",
    "                'apresoline', 'ceftriaxone', 'diprivan', 'guaifenesin', 'klonopin', 'medrol', 'nexterone', 'plavix', 'sertraline', 'ventolin',\n",
    "                'ascorbic acid', 'cephulac', 'docusate', 'haldol', 'labetalol', 'meperidine', 'nicardipine', 'pneumococcal', 'simethicone', 'vitamin',\n",
    "                'aspart', 'cetirizine', 'dopamine', 'haloperidol', 'lactated ringer', 'meropenem', 'nicoderm', 'pnu-immune-23', 'simvastatin', 'warfarin',\n",
    "                'aspirin', 'chlorhexidine', 'ecotrin', 'heparin', 'lactulose', 'merrem', 'nicotine', 'polyethylene glycol', 'sodium bicarbonate', 'xanax',\n",
    "                'atenolol', 'ciprofloxacin', 'enoxaparin', 'humulin', 'lanoxin', 'metformin', 'nitro-bid', 'potassium chloride', 'sodium chloride', 'zestril',\n",
    "                'atorvastatin', 'cisatracurium', 'ephedrine', 'hydralazine', 'lantus', 'methylprednisolone', 'nitroglycerin', 'potassium phosphate', 'sodium phosphate', 'zocor',\n",
    "                'atropine', 'citalopram', 'epinephrine', 'hydrochlorothiazide', 'levaquin', 'metoclopramide', 'nitroprusside', 'pravastatin', 'polystyrene sulfonate', 'zolpidem',\n",
    "                'atrovent', 'clindamycin', 'etomidate', 'hydrocodone', 'levemir', 'metoprolol', 'norco', 'precedex', 'spironolactone', 'zosyn',\n",
    "                'azithromycin', 'clonazepam', 'famotidine', 'hydrocortisone', 'levetiracetam', 'metronidazole', 'norepinephrine', 'prednisone', 'sublimaze',\n",
    "                'bacitracin', 'clonidine', 'fat emulsion', 'hydromorphone', 'levofloxacin', 'midazolam', 'normodyne', 'prilocaine', 'succinylcholine',\n",
    "                'bayer chewable', 'clopidogrel', 'fentanyl', 'ibuprofen', 'levothyroxine', 'midodrine', 'norvasc', 'prinivil', 'tacrolimus']\n",
    "\n",
    "\n",
    "def get_age_group(age):\n",
    "\n",
    "    if pd.isna(age):\n",
    "        # 60 - 69 has the most patients\n",
    "        return \"60 - 69\"\n",
    "\n",
    "    if age == \"> 89\":\n",
    "        return age\n",
    "\n",
    "    age = int(age)\n",
    "\n",
    "    if age < 30:\n",
    "        return \"< 30\"\n",
    "    elif age < 40:\n",
    "        return \"30 - 39\"\n",
    "    elif age < 50:\n",
    "        return \"40 - 49\"\n",
    "    elif age < 60:\n",
    "        return \"50 - 59\"\n",
    "    elif age < 70:\n",
    "        return \"60 - 69\"\n",
    "    elif age < 80:\n",
    "        return \"70 - 79\"\n",
    "    elif age < 90:\n",
    "        return \"80 - 89\"\n",
    "    else:\n",
    "        return \"> 89\"\n",
    "\n",
    "\n",
    "def get_race(race):\n",
    "\n",
    "    if pd.isna(race) or \"WHITE\" in race:\n",
    "        return \"race_caucasion\"\n",
    "    elif \"BLACK\" in race:\n",
    "        return \"race_african\"\n",
    "    elif \"HISPANIC\" in race:\n",
    "        return \"race_hispanic\"\n",
    "    elif \"ASIAN\" in race:\n",
    "        return \"race_asian\"\n",
    "    else:\n",
    "        return \"race_caucasion\"\n",
    "\n",
    "\n",
    "# key: lab_name, value: lab_name in eicu\n",
    "lab_name_mapping = {\n",
    "    \"o2sat\": 50817, # OXYGEN SATURATION\n",
    "    \"pao2\": 50821, # PO2\n",
    "    \"paco2\": 50818, # PCO2\n",
    "    \"ph\": 50820, # PH\n",
    "    \"albu_lab\": 50862, # ALBUMIN\n",
    "    \"bands\": 51144, # BANDS\n",
    "    \"bun\": 51006, # UREA NITROGEN\n",
    "    \"hct\": 51221, # HEMATOCRIT\n",
    "    \"inr\": 51237, # INR(PT)\n",
    "    \"lactate\": 50813, # LACTATE\n",
    "    \"platelets\": 51265, # PLATELET COUNT\n",
    "    \"wbc\": 51300 # WBC COUNT\n",
    "}\n",
    "\n",
    "\n",
    "def cosine_similarity(vec1, vec2):\n",
    "    return np.dot(vec1, vec2) / (np.linalg.norm(vec1) * np.linalg.norm(vec2))\n",
    "\n",
    "\n",
    "def calculate_similarity(model, drug1, drug2):\n",
    "    drug1_vector = model.get_word_vector(drug1)\n",
    "    drug2_vector = model.get_word_vector(drug2)\n",
    "    return cosine_similarity(drug1_vector, drug2_vector)\n",
    "\n",
    "\n",
    "def harmonize_drug(drug, unique_drugs, pretrained):\n",
    "\n",
    "    if pd.isna(drug):\n",
    "        return None\n",
    "\n",
    "    drug = drug.lower()\n",
    "\n",
    "    # Direct mapping: check whether drug names contain unique_drug\n",
    "    for unique_drug in unique_drugs:\n",
    "        if unique_drug in drug:\n",
    "            return unique_drug\n",
    "\n",
    "    # Check cosine similarity between word embeddings\n",
    "    converted = re.sub(r'[^a-zA-Z\\s]', '', drug)\n",
    "    best_similarity = float('-inf')\n",
    "    best_drug = None\n",
    "    for drug_name in converted.split():\n",
    "        for unique_drug in unique_drugs:\n",
    "            similarity = calculate_similarity(\n",
    "                pretrained, drug_name, unique_drug)\n",
    "            if similarity > best_similarity:\n",
    "                best_similarity = similarity\n",
    "                best_drug = unique_drug\n",
    "\n",
    "    return best_drug\n",
    "\n",
    "\n",
    "def has_sepsis_diagnosis(text):\n",
    "    has_sepsis = False\n",
    "    text = text.lower()\n",
    "    text = text.replace(\"\\n\", \"\")\n",
    "    pattern = r\"diagnosis:\\s*(.+?):\"\n",
    "    matches = re.findall(pattern, text, re.DOTALL)\n",
    "    for match in matches:\n",
    "        if \"sepsis\" in match or \"septic\" in match:\n",
    "            has_sepsis = True\n",
    "    return has_sepsis\n",
    "\n",
    "\n",
    "def calculate_diff_years(date1_str, date2_str):\n",
    "    date1 = datetime.strptime(date1_str, \"%Y-%m-%d %H:%M:%S\")\n",
    "    date2 = datetime.strptime(date2_str, \"%Y-%m-%d %H:%M:%S\")\n",
    "    time_difference = date1 - date2\n",
    "    return int(time_difference.days / 365.25)\n",
    "\n",
    "\n",
    "def add_time_interval(start_str, interval_min):\n",
    "    start_time = datetime.strptime(start_str, \"%Y-%m-%d %H:%M:%S\")\n",
    "    cur_time = start_time + pd.Timedelta(minutes=interval_min)\n",
    "    return cur_time.strftime(\"%Y-%m-%d %H:%M:%S\")"
   ]
  },
  {
   "cell_type": "code",
   "execution_count": 2,
   "id": "92c1cbd7d7d9a691",
   "metadata": {
    "collapsed": false,
    "ExecuteTime": {
     "end_time": "2024-04-23T21:22:45.862783Z",
     "start_time": "2024-04-23T21:22:45.857951Z"
    }
   },
   "outputs": [],
   "source": [
    "# Test has_sepsis_diagnosis\n",
    "# text = \"Mr [**Known lastname 778**] is a 79 yr. gentleman, with hx of Alzheimers dementia,\\n   HTN, CHF and AF. On [**2-5**] pt adm to osh with fever and chills . pt. noted\\n   to have a lll influenza pneumonia, and sepsis and required intubation\\n   on [**2-5**] and transferred to the micu/.sicu for further management.\\n   Pt. did have an episode of hypotension requiring pressors, but just for\\n   a short time. Pt. extubated on [**2-10**] , and respitory wise did well with\\n   sats in high 90\\ns on room air.\\n   Pt. had been on versed during his intubation and on [**2-12**] pt. noted to\\n   have decreased responsiveness with no verbal response. Drooling from\\n   left side of mouth, interm.,jerking movements. Neuro consulted- Dx\\n   with myoclonus movements which could be attributed to versed or his\\n   alzheimers.\\n   Pneumonia, viral\\n   Assessment:\\n   Gradual daily improvement with broadening of antibx [**2-14**] measured by\\n   SpO2>95% on R/A, Afebrile\\n   Action:\\n   CXR: [**2-16**] persistent LL collapse with small-mod bilateral pleural\\n   effusions\\n   Cont. on antibiotics.\\n   O2 D/C\\ned; NT suctioning prn\\n   Response:\\n   Stable on R/A\\n   Plan:\\n   Continue to monitor s&sx of infection; resent sputum Cx if possible,\\n   Cont on antibiotics, DB&C-NT sx prn, Increase activity as tolerated\\n   Altered mental status (not Delirium)\\n   Assessment:\\n   Remains Delirious improving daily as infection clearing\\n   Action:\\n   Observation only. No tx at this time. EEG was done on [**2-14**] which was\\n   neg. LP and MRI not indicated at this time\\n   Hand mitt restraints bilaterally to protect IV and NGT\\n   Safety measures-bed in low locked position, close observation, bed\\n   alarm activated\\n   Remains off all sedatives\\n   Response:\\n   More responsive today now that he is afebrile and back on broad\\n   spectrum antibx , follows commands intermittently, speech is garbled\\n   but understandable, appears closer to baseline as per wife\\n[**Initials (NamePattern4) **] [**Last Name (NamePattern4) 1042**]\\n   Plan:\\n   Continue to monitor MS, neurology consulting, continue to minimize all\\n   sedatives, safety measures, sitter recommended\\n   Atrial fibrillation (Afib)\\n   Assessment:\\n   Continues in AF with occass pvc\\n   Action:\\n   Cardiac meds adjusted to optimize rate control\\n   Lopressor, Diltiazem (started today) and Captorpril (low-dose)\\n   Electrolytes repleated today (K and neutrophos)\\n   Response:\\n   Hemodynamically stable with better rate control (HR:95-110)\\n   Plan:\\n   Continue to monitor HR, adjust meds prn-Dilt seems to be most effective\\n   at rate control\\n   Retroperitoneal bleed (RP bleed), spontaneous\\n   Assessment:\\n   Ct + for bleed. Left flank ecchymotic. No c/o pain-site unchanged\\n   Action:\\n   Heparin held; 1u pc\\ns given\\n   Response:\\n   Stable hct 31-32 Off heparin without evidence of further bleeding\\n   Plan:\\n   Monitor S&Sx of bleeding, Hct check with am labs, SC Heparin started\\n   today\\n   Demographics\\n   Attending MD:\\n   [**Location (un) 832**]\\n   Admit diagnosis:\\n   SEPSIS\\n   Code status:\\n   Full code\\n   Height:\\n   68 Inch\\n   Admission weight:\\n   67 kg\\n   Daily weight:\\n   67.5 kg\\n   Allergies/Reactions:\\n   No Known Drug Allergies\\n   Precautions: Standard\\n   PMH:\\n   CV-PMH:  CHF, Hypertension\\n   Additional history: alzteimers, dementia, Afib\\n   Surgery / Procedure and date:\\n   Latest Vital Signs and I/O\\n   Non-invasive BP:\\n   S:110\\n   D:27\\n   Temperature:\\n   98.4\\n   Arterial BP:\\n   S:125\\n   D:73\\n   Respiratory rate:\\n   25 insp/min\\n   Heart Rate:\\n   105 bpm\\n   Heart rhythm:\\n   AF (Atrial Fibrillation)\\n   O2 delivery device:\\n   None\\n   O2 saturation:\\n   95% %\\n   O2 flow:\\n   FiO2 set:\\n   50% %\\n   24h total in:\\n   1,787 mL\\n   24h total out:\\n   1,610 mL\\n   Pertinent Lab Results:\\n   Sodium:\\n   139 mEq/L\\n   [**2151-2-17**] 05:13 AM\\n   Potassium:\\n   3.5 mEq/L\\n   [**2151-2-17**] 05:13 AM\\n   Chloride:\\n   107 mEq/L\\n   [**2151-2-17**] 05:13 AM\\n   CO2:\\n   24 mEq/L\\n   [**2151-2-17**] 05:13 AM\\n   BUN:\\n   19 mg/dL\\n   [**2151-2-17**] 05:13 AM\\n   Creatinine:\\n   0.8 mg/dL\\n   [**2151-2-17**] 05:13 AM\\n   Glucose:\\n   126 mg/dL\\n   [**2151-2-17**] 05:13 AM\\n   Hematocrit:\\n   31.1 %\\n   [**2151-2-17**] 05:13 AM\\n   Finger Stick Glucose:\\n   125\\n   [**2151-2-17**] 12:00 PM\\n   Additional pertinent labs:\\n   Lines / Tubes / Drains:\\n   Indwelling Foley catheter, [**Hospital1 974**] Sump NGT R nare\\n   Valuables / Signature\\n   Patient valuables: None\\n   Clothes:  None\\n   Wallet / Money:\\n   No money / wallet\\n   Jewelry: Gold wedding [**Hospital 1044**]\\n   Transferred from: [**Hospital 44**]\\n   Transferred to: 11 [**Hospital Ward Name 89**]\\n   Date & time of Transfer: [**2151-2-17**]\\n\"\n",
    "# has_sepsis_diagnosis(text)"
   ]
  },
  {
   "cell_type": "code",
   "execution_count": 3,
   "id": "4c95c3b60a8a868d",
   "metadata": {
    "collapsed": false,
    "ExecuteTime": {
     "end_time": "2024-04-23T21:22:46.033177Z",
     "start_time": "2024-04-23T21:22:45.863127Z"
    }
   },
   "outputs": [
    {
     "data": {
      "text/plain": "   ROW_ID  SUBJECT_ID  HADM_ID            ADMITTIME            DISCHTIME  \\\n1      91          88   123010  2111-08-29 03:03:00  2111-09-03 14:24:00   \n3      93          91   121205  2177-04-23 00:08:00  2177-05-10 15:16:00   \n4      94          92   142807  2122-12-13 19:30:00  2123-03-04 13:47:00   \n5      95          93   160481  2128-03-17 17:11:00  2128-06-17 15:00:00   \n6      96          94   183686  2176-02-25 16:49:00  2176-02-29 17:45:00   \n\n             DEATHTIME ADMISSION_TYPE         ADMISSION_LOCATION  \\\n1                  NaN      EMERGENCY       EMERGENCY ROOM ADMIT   \n3  2177-05-10 15:16:00      EMERGENCY       EMERGENCY ROOM ADMIT   \n4                  NaN        NEWBORN  PHYS REFERRAL/NORMAL DELI   \n5                  NaN        NEWBORN  CLINIC REFERRAL/PREMATURE   \n6                  NaN      EMERGENCY       EMERGENCY ROOM ADMIT   \n\n    DISCHARGE_LOCATION INSURANCE LANGUAGE       RELIGION MARITAL_STATUS  \\\n1                 HOME   Private      NaN            NaN            NaN   \n3         DEAD/EXPIRED  Medicare      NaN         JEWISH        MARRIED   \n4  SHORT TERM HOSPITAL  Medicaid      NaN   UNOBTAINABLE            NaN   \n5     HOME HEALTH CARE   Private      NaN       CATHOLIC            NaN   \n6     HOME HEALTH CARE  Medicare     CANT  NOT SPECIFIED        MARRIED   \n\n                ETHNICITY            EDREGTIME            EDOUTTIME  \\\n1  BLACK/AFRICAN AMERICAN  2111-08-29 01:44:00  2111-08-29 02:28:00   \n3                   WHITE  2177-04-22 21:02:00  2177-04-23 04:03:00   \n4                   WHITE                  NaN                  NaN   \n5                   WHITE                  NaN                  NaN   \n6                   ASIAN  2176-02-25 10:35:00  2176-02-25 18:14:00   \n\n                             DIAGNOSIS  HOSPITAL_EXPIRE_FLAG  \\\n1  S/P MOTOR VEHICLE ACCIDENT-STABBING                     0   \n3                                FEVER                     1   \n4                              NEWBORN                     0   \n5                              NEWBORN                     0   \n6                               SEPSIS                     0   \n\n   HAS_IOEVENTS_DATA  HAS_CHARTEVENTS_DATA  \n1                  1                     1  \n3                  1                     1  \n4                  1                     1  \n5                  1                     1  \n6                  1                     1  ",
      "text/html": "<div>\n<style scoped>\n    .dataframe tbody tr th:only-of-type {\n        vertical-align: middle;\n    }\n\n    .dataframe tbody tr th {\n        vertical-align: top;\n    }\n\n    .dataframe thead th {\n        text-align: right;\n    }\n</style>\n<table border=\"1\" class=\"dataframe\">\n  <thead>\n    <tr style=\"text-align: right;\">\n      <th></th>\n      <th>ROW_ID</th>\n      <th>SUBJECT_ID</th>\n      <th>HADM_ID</th>\n      <th>ADMITTIME</th>\n      <th>DISCHTIME</th>\n      <th>DEATHTIME</th>\n      <th>ADMISSION_TYPE</th>\n      <th>ADMISSION_LOCATION</th>\n      <th>DISCHARGE_LOCATION</th>\n      <th>INSURANCE</th>\n      <th>LANGUAGE</th>\n      <th>RELIGION</th>\n      <th>MARITAL_STATUS</th>\n      <th>ETHNICITY</th>\n      <th>EDREGTIME</th>\n      <th>EDOUTTIME</th>\n      <th>DIAGNOSIS</th>\n      <th>HOSPITAL_EXPIRE_FLAG</th>\n      <th>HAS_IOEVENTS_DATA</th>\n      <th>HAS_CHARTEVENTS_DATA</th>\n    </tr>\n  </thead>\n  <tbody>\n    <tr>\n      <th>1</th>\n      <td>91</td>\n      <td>88</td>\n      <td>123010</td>\n      <td>2111-08-29 03:03:00</td>\n      <td>2111-09-03 14:24:00</td>\n      <td>NaN</td>\n      <td>EMERGENCY</td>\n      <td>EMERGENCY ROOM ADMIT</td>\n      <td>HOME</td>\n      <td>Private</td>\n      <td>NaN</td>\n      <td>NaN</td>\n      <td>NaN</td>\n      <td>BLACK/AFRICAN AMERICAN</td>\n      <td>2111-08-29 01:44:00</td>\n      <td>2111-08-29 02:28:00</td>\n      <td>S/P MOTOR VEHICLE ACCIDENT-STABBING</td>\n      <td>0</td>\n      <td>1</td>\n      <td>1</td>\n    </tr>\n    <tr>\n      <th>3</th>\n      <td>93</td>\n      <td>91</td>\n      <td>121205</td>\n      <td>2177-04-23 00:08:00</td>\n      <td>2177-05-10 15:16:00</td>\n      <td>2177-05-10 15:16:00</td>\n      <td>EMERGENCY</td>\n      <td>EMERGENCY ROOM ADMIT</td>\n      <td>DEAD/EXPIRED</td>\n      <td>Medicare</td>\n      <td>NaN</td>\n      <td>JEWISH</td>\n      <td>MARRIED</td>\n      <td>WHITE</td>\n      <td>2177-04-22 21:02:00</td>\n      <td>2177-04-23 04:03:00</td>\n      <td>FEVER</td>\n      <td>1</td>\n      <td>1</td>\n      <td>1</td>\n    </tr>\n    <tr>\n      <th>4</th>\n      <td>94</td>\n      <td>92</td>\n      <td>142807</td>\n      <td>2122-12-13 19:30:00</td>\n      <td>2123-03-04 13:47:00</td>\n      <td>NaN</td>\n      <td>NEWBORN</td>\n      <td>PHYS REFERRAL/NORMAL DELI</td>\n      <td>SHORT TERM HOSPITAL</td>\n      <td>Medicaid</td>\n      <td>NaN</td>\n      <td>UNOBTAINABLE</td>\n      <td>NaN</td>\n      <td>WHITE</td>\n      <td>NaN</td>\n      <td>NaN</td>\n      <td>NEWBORN</td>\n      <td>0</td>\n      <td>1</td>\n      <td>1</td>\n    </tr>\n    <tr>\n      <th>5</th>\n      <td>95</td>\n      <td>93</td>\n      <td>160481</td>\n      <td>2128-03-17 17:11:00</td>\n      <td>2128-06-17 15:00:00</td>\n      <td>NaN</td>\n      <td>NEWBORN</td>\n      <td>CLINIC REFERRAL/PREMATURE</td>\n      <td>HOME HEALTH CARE</td>\n      <td>Private</td>\n      <td>NaN</td>\n      <td>CATHOLIC</td>\n      <td>NaN</td>\n      <td>WHITE</td>\n      <td>NaN</td>\n      <td>NaN</td>\n      <td>NEWBORN</td>\n      <td>0</td>\n      <td>1</td>\n      <td>1</td>\n    </tr>\n    <tr>\n      <th>6</th>\n      <td>96</td>\n      <td>94</td>\n      <td>183686</td>\n      <td>2176-02-25 16:49:00</td>\n      <td>2176-02-29 17:45:00</td>\n      <td>NaN</td>\n      <td>EMERGENCY</td>\n      <td>EMERGENCY ROOM ADMIT</td>\n      <td>HOME HEALTH CARE</td>\n      <td>Medicare</td>\n      <td>CANT</td>\n      <td>NOT SPECIFIED</td>\n      <td>MARRIED</td>\n      <td>ASIAN</td>\n      <td>2176-02-25 10:35:00</td>\n      <td>2176-02-25 18:14:00</td>\n      <td>SEPSIS</td>\n      <td>0</td>\n      <td>1</td>\n      <td>1</td>\n    </tr>\n  </tbody>\n</table>\n</div>"
     },
     "execution_count": 3,
     "metadata": {},
     "output_type": "execute_result"
    }
   ],
   "source": [
    "# Admissions\n",
    "mimic_admissions = pd.read_csv('data/mimic/ADMISSIONS.csv')\n",
    "mimic_admissions = mimic_admissions[(mimic_admissions['ETHNICITY'] != 'OTHER') & (mimic_admissions['ETHNICITY'] != 'UNKNOWN/NOT SPECIFIED') & (mimic_admissions['ETHNICITY'] != 'UNABLE TO OBTAIN') & (mimic_admissions['ETHNICITY'] != 'PATIENT DECLINED TO ANSWER') & (mimic_admissions['ETHNICITY'] != 'MULTI RACE ETHNICITY')]\n",
    "mimic_admissions.head()"
   ]
  },
  {
   "cell_type": "code",
   "execution_count": 4,
   "id": "8c3167230712de18",
   "metadata": {
    "collapsed": false,
    "ExecuteTime": {
     "end_time": "2024-04-23T21:22:46.090543Z",
     "start_time": "2024-04-23T21:22:46.031877Z"
    }
   },
   "outputs": [
    {
     "data": {
      "text/plain": "   ROW_ID  SUBJECT_ID GENDER                  DOB                  DOD  \\\n0     612         646      M  2128-01-05 00:00:00                  NaN   \n1     613         647      M  2106-03-24 00:00:00                  NaN   \n2     614         648      M  2139-07-13 00:00:00                  NaN   \n3     615         649      M  2177-06-23 00:00:00                  NaN   \n4     616         650      M  2051-04-15 00:00:00  2111-12-28 00:00:00   \n\n  DOD_HOSP              DOD_SSN  EXPIRE_FLAG  \n0      NaN                  NaN            0  \n1      NaN                  NaN            0  \n2      NaN                  NaN            0  \n3      NaN                  NaN            0  \n4      NaN  2111-12-28 00:00:00            1  ",
      "text/html": "<div>\n<style scoped>\n    .dataframe tbody tr th:only-of-type {\n        vertical-align: middle;\n    }\n\n    .dataframe tbody tr th {\n        vertical-align: top;\n    }\n\n    .dataframe thead th {\n        text-align: right;\n    }\n</style>\n<table border=\"1\" class=\"dataframe\">\n  <thead>\n    <tr style=\"text-align: right;\">\n      <th></th>\n      <th>ROW_ID</th>\n      <th>SUBJECT_ID</th>\n      <th>GENDER</th>\n      <th>DOB</th>\n      <th>DOD</th>\n      <th>DOD_HOSP</th>\n      <th>DOD_SSN</th>\n      <th>EXPIRE_FLAG</th>\n    </tr>\n  </thead>\n  <tbody>\n    <tr>\n      <th>0</th>\n      <td>612</td>\n      <td>646</td>\n      <td>M</td>\n      <td>2128-01-05 00:00:00</td>\n      <td>NaN</td>\n      <td>NaN</td>\n      <td>NaN</td>\n      <td>0</td>\n    </tr>\n    <tr>\n      <th>1</th>\n      <td>613</td>\n      <td>647</td>\n      <td>M</td>\n      <td>2106-03-24 00:00:00</td>\n      <td>NaN</td>\n      <td>NaN</td>\n      <td>NaN</td>\n      <td>0</td>\n    </tr>\n    <tr>\n      <th>2</th>\n      <td>614</td>\n      <td>648</td>\n      <td>M</td>\n      <td>2139-07-13 00:00:00</td>\n      <td>NaN</td>\n      <td>NaN</td>\n      <td>NaN</td>\n      <td>0</td>\n    </tr>\n    <tr>\n      <th>3</th>\n      <td>615</td>\n      <td>649</td>\n      <td>M</td>\n      <td>2177-06-23 00:00:00</td>\n      <td>NaN</td>\n      <td>NaN</td>\n      <td>NaN</td>\n      <td>0</td>\n    </tr>\n    <tr>\n      <th>4</th>\n      <td>616</td>\n      <td>650</td>\n      <td>M</td>\n      <td>2051-04-15 00:00:00</td>\n      <td>2111-12-28 00:00:00</td>\n      <td>NaN</td>\n      <td>2111-12-28 00:00:00</td>\n      <td>1</td>\n    </tr>\n  </tbody>\n</table>\n</div>"
     },
     "execution_count": 4,
     "metadata": {},
     "output_type": "execute_result"
    }
   ],
   "source": [
    "# Patients\n",
    "mimic_patients = pd.read_csv('data/mimic/PATIENTS.csv')\n",
    "mimic_patients.head()"
   ]
  },
  {
   "cell_type": "code",
   "execution_count": 5,
   "id": "a5f6c27d1d98bfd4",
   "metadata": {
    "collapsed": false,
    "ExecuteTime": {
     "end_time": "2024-04-23T21:23:04.629880Z",
     "start_time": "2024-04-23T21:22:46.076923Z"
    }
   },
   "outputs": [
    {
     "data": {
      "text/plain": "     ROW_ID  SUBJECT_ID   HADM_ID  ITEMID            CHARTTIME VALUE  \\\n183     620           3  145834.0   50813  2101-10-21 01:42:00   3.3   \n185     622           3  145834.0   50818  2101-10-21 01:42:00    30   \n187     624           3  145834.0   50820  2101-10-21 01:42:00  7.29   \n188     625           3  145834.0   50821  2101-10-21 01:42:00   175   \n195     632           3  145834.0   50813  2101-10-21 02:46:00   2.6   \n\n     VALUENUM VALUEUOM      FLAG  \n183  0.726012   mmol/L  abnormal  \n185 -1.310038    mm Hg       NaN  \n187 -1.141317    units       NaN  \n188  0.734854    mm Hg       NaN  \n195  0.229795   mmol/L  abnormal  ",
      "text/html": "<div>\n<style scoped>\n    .dataframe tbody tr th:only-of-type {\n        vertical-align: middle;\n    }\n\n    .dataframe tbody tr th {\n        vertical-align: top;\n    }\n\n    .dataframe thead th {\n        text-align: right;\n    }\n</style>\n<table border=\"1\" class=\"dataframe\">\n  <thead>\n    <tr style=\"text-align: right;\">\n      <th></th>\n      <th>ROW_ID</th>\n      <th>SUBJECT_ID</th>\n      <th>HADM_ID</th>\n      <th>ITEMID</th>\n      <th>CHARTTIME</th>\n      <th>VALUE</th>\n      <th>VALUENUM</th>\n      <th>VALUEUOM</th>\n      <th>FLAG</th>\n    </tr>\n  </thead>\n  <tbody>\n    <tr>\n      <th>183</th>\n      <td>620</td>\n      <td>3</td>\n      <td>145834.0</td>\n      <td>50813</td>\n      <td>2101-10-21 01:42:00</td>\n      <td>3.3</td>\n      <td>0.726012</td>\n      <td>mmol/L</td>\n      <td>abnormal</td>\n    </tr>\n    <tr>\n      <th>185</th>\n      <td>622</td>\n      <td>3</td>\n      <td>145834.0</td>\n      <td>50818</td>\n      <td>2101-10-21 01:42:00</td>\n      <td>30</td>\n      <td>-1.310038</td>\n      <td>mm Hg</td>\n      <td>NaN</td>\n    </tr>\n    <tr>\n      <th>187</th>\n      <td>624</td>\n      <td>3</td>\n      <td>145834.0</td>\n      <td>50820</td>\n      <td>2101-10-21 01:42:00</td>\n      <td>7.29</td>\n      <td>-1.141317</td>\n      <td>units</td>\n      <td>NaN</td>\n    </tr>\n    <tr>\n      <th>188</th>\n      <td>625</td>\n      <td>3</td>\n      <td>145834.0</td>\n      <td>50821</td>\n      <td>2101-10-21 01:42:00</td>\n      <td>175</td>\n      <td>0.734854</td>\n      <td>mm Hg</td>\n      <td>NaN</td>\n    </tr>\n    <tr>\n      <th>195</th>\n      <td>632</td>\n      <td>3</td>\n      <td>145834.0</td>\n      <td>50813</td>\n      <td>2101-10-21 02:46:00</td>\n      <td>2.6</td>\n      <td>0.229795</td>\n      <td>mmol/L</td>\n      <td>abnormal</td>\n    </tr>\n  </tbody>\n</table>\n</div>"
     },
     "execution_count": 5,
     "metadata": {},
     "output_type": "execute_result"
    }
   ],
   "source": [
    "# Lab\n",
    "mimic_lab = pd.read_csv('data/mimic/LABEVENTS.csv')\n",
    "selected_mimic_lab = mimic_lab[mimic_lab['ITEMID'].isin(list(lab_name_mapping.values()))]\n",
    "# filter out selected_mimic_lab whose valuenum is null\n",
    "selected_mimic_lab = selected_mimic_lab[selected_mimic_lab['VALUENUM'].notnull()]\n",
    "\n",
    "# Filter outliers\n",
    "for mimic_lab_item in list(lab_name_mapping.values()):\n",
    "\n",
    "    lab_values = selected_mimic_lab[selected_mimic_lab['ITEMID'] == mimic_lab_item]['VALUENUM']\n",
    "    \n",
    "    # Filter out outliers using IQR\n",
    "    Q1 = lab_values.quantile(0.25)\n",
    "    Q3 = lab_values.quantile(0.75)\n",
    "    IQR = Q3 - Q1\n",
    "\n",
    "    lower_bound = Q1 - 1.5 * IQR\n",
    "    upper_bound = Q3 + 1.5 * IQR\n",
    "    \n",
    "    lab_values_adjusted = lab_values.clip(lower_bound, upper_bound)\n",
    "    \n",
    "    mean_value = lab_values_adjusted.mean()\n",
    "    std = lab_values_adjusted.std()\n",
    "    \n",
    "    # Normalize lab values using standard normal distribution\n",
    "    lab_values_normalized = (lab_values_adjusted - mean_value) / std\n",
    "    \n",
    "    selected_mimic_lab.loc[selected_mimic_lab['ITEMID'] == mimic_lab_item, 'VALUENUM'] = lab_values_normalized\n",
    "    \n",
    "selected_mimic_lab = selected_mimic_lab[selected_mimic_lab['HADM_ID'].notnull()]\n",
    "selected_mimic_lab.head()"
   ]
  },
  {
   "cell_type": "code",
   "execution_count": 6,
   "id": "68d53ca2d6b6df37",
   "metadata": {
    "collapsed": false,
    "ExecuteTime": {
     "end_time": "2024-04-23T21:23:12.400085Z",
     "start_time": "2024-04-23T21:23:04.626238Z"
    }
   },
   "outputs": [
    {
     "name": "stderr",
     "output_type": "stream",
     "text": [
      "/var/folders/wd/d0j10lq906x4lfc0bphzybd80000gn/T/ipykernel_16658/3997892949.py:2: DtypeWarning: Columns (11) have mixed types. Specify dtype option on import or set low_memory=False.\n",
      "  mimic_drug = pd.read_csv('data/mimic/PRESCRIPTIONS.csv')\n"
     ]
    },
    {
     "data": {
      "text/plain": "   ROW_ID  SUBJECT_ID  HADM_ID  ICUSTAY_ID            STARTDATE  \\\n0      59       57139   155470    276227.0  2185-12-26 00:00:00   \n1      60       57139   155470    276227.0  2185-12-26 00:00:00   \n2      61       57139   155470    276227.0  2185-12-26 00:00:00   \n3      62       57139   155470    276227.0  2185-12-27 00:00:00   \n4      63       57139   155470    276227.0  2185-12-27 00:00:00   \n\n               ENDDATE DRUG_TYPE               DRUG      DRUG_NAME_POE  \\\n0  2185-12-30 00:00:00      MAIN           Propofol           Propofol   \n1  2185-12-27 00:00:00      MAIN            Heparin            Heparin   \n2  2185-12-31 00:00:00      MAIN            Insulin            Insulin   \n3  2185-12-27 00:00:00      MAIN         Furosemide         Furosemide   \n4  2185-12-27 00:00:00      MAIN  Magnesium Sulfate  Magnesium Sulfate   \n\n         DRUG_NAME_GENERIC FORMULARY_DRUG_CD     GSN           NDC  \\\n0                 Propofol         PROP200IG  016796  6.332303e+10   \n1           Heparin Sodium            HEPA5I  006549  6.332303e+10   \n2  Insulin - Sliding Scale           INSULIN  027413  0.000000e+00   \n3               Furosemide           FURO40I  008205  5.175704e+08   \n4        Magnesium Sulfate            MAG2PM  016546  4.096729e+08   \n\n                     PROD_STRENGTH DOSE_VAL_RX DOSE_UNIT_RX FORM_VAL_DISP  \\\n0                  200mg/20mL Vial         200           mg             1   \n1        5000 Units / mL- 1mL Vial        5000         UNIT             1   \n2  Dummy Package for Sliding Scale           0         UNIT             0   \n3                    40mg/4mL Vial          20           mg           0.5   \n4           2 g / 50 mL Premix Bag           2           gm             1   \n\n  FORM_UNIT_DISP    ROUTE  \n0           VIAL  IV DRIP  \n1             mL       SC  \n2           VIAL       SC  \n3           VIAL       IV  \n4            BAG       IV  ",
      "text/html": "<div>\n<style scoped>\n    .dataframe tbody tr th:only-of-type {\n        vertical-align: middle;\n    }\n\n    .dataframe tbody tr th {\n        vertical-align: top;\n    }\n\n    .dataframe thead th {\n        text-align: right;\n    }\n</style>\n<table border=\"1\" class=\"dataframe\">\n  <thead>\n    <tr style=\"text-align: right;\">\n      <th></th>\n      <th>ROW_ID</th>\n      <th>SUBJECT_ID</th>\n      <th>HADM_ID</th>\n      <th>ICUSTAY_ID</th>\n      <th>STARTDATE</th>\n      <th>ENDDATE</th>\n      <th>DRUG_TYPE</th>\n      <th>DRUG</th>\n      <th>DRUG_NAME_POE</th>\n      <th>DRUG_NAME_GENERIC</th>\n      <th>FORMULARY_DRUG_CD</th>\n      <th>GSN</th>\n      <th>NDC</th>\n      <th>PROD_STRENGTH</th>\n      <th>DOSE_VAL_RX</th>\n      <th>DOSE_UNIT_RX</th>\n      <th>FORM_VAL_DISP</th>\n      <th>FORM_UNIT_DISP</th>\n      <th>ROUTE</th>\n    </tr>\n  </thead>\n  <tbody>\n    <tr>\n      <th>0</th>\n      <td>59</td>\n      <td>57139</td>\n      <td>155470</td>\n      <td>276227.0</td>\n      <td>2185-12-26 00:00:00</td>\n      <td>2185-12-30 00:00:00</td>\n      <td>MAIN</td>\n      <td>Propofol</td>\n      <td>Propofol</td>\n      <td>Propofol</td>\n      <td>PROP200IG</td>\n      <td>016796</td>\n      <td>6.332303e+10</td>\n      <td>200mg/20mL Vial</td>\n      <td>200</td>\n      <td>mg</td>\n      <td>1</td>\n      <td>VIAL</td>\n      <td>IV DRIP</td>\n    </tr>\n    <tr>\n      <th>1</th>\n      <td>60</td>\n      <td>57139</td>\n      <td>155470</td>\n      <td>276227.0</td>\n      <td>2185-12-26 00:00:00</td>\n      <td>2185-12-27 00:00:00</td>\n      <td>MAIN</td>\n      <td>Heparin</td>\n      <td>Heparin</td>\n      <td>Heparin Sodium</td>\n      <td>HEPA5I</td>\n      <td>006549</td>\n      <td>6.332303e+10</td>\n      <td>5000 Units / mL- 1mL Vial</td>\n      <td>5000</td>\n      <td>UNIT</td>\n      <td>1</td>\n      <td>mL</td>\n      <td>SC</td>\n    </tr>\n    <tr>\n      <th>2</th>\n      <td>61</td>\n      <td>57139</td>\n      <td>155470</td>\n      <td>276227.0</td>\n      <td>2185-12-26 00:00:00</td>\n      <td>2185-12-31 00:00:00</td>\n      <td>MAIN</td>\n      <td>Insulin</td>\n      <td>Insulin</td>\n      <td>Insulin - Sliding Scale</td>\n      <td>INSULIN</td>\n      <td>027413</td>\n      <td>0.000000e+00</td>\n      <td>Dummy Package for Sliding Scale</td>\n      <td>0</td>\n      <td>UNIT</td>\n      <td>0</td>\n      <td>VIAL</td>\n      <td>SC</td>\n    </tr>\n    <tr>\n      <th>3</th>\n      <td>62</td>\n      <td>57139</td>\n      <td>155470</td>\n      <td>276227.0</td>\n      <td>2185-12-27 00:00:00</td>\n      <td>2185-12-27 00:00:00</td>\n      <td>MAIN</td>\n      <td>Furosemide</td>\n      <td>Furosemide</td>\n      <td>Furosemide</td>\n      <td>FURO40I</td>\n      <td>008205</td>\n      <td>5.175704e+08</td>\n      <td>40mg/4mL Vial</td>\n      <td>20</td>\n      <td>mg</td>\n      <td>0.5</td>\n      <td>VIAL</td>\n      <td>IV</td>\n    </tr>\n    <tr>\n      <th>4</th>\n      <td>63</td>\n      <td>57139</td>\n      <td>155470</td>\n      <td>276227.0</td>\n      <td>2185-12-27 00:00:00</td>\n      <td>2185-12-27 00:00:00</td>\n      <td>MAIN</td>\n      <td>Magnesium Sulfate</td>\n      <td>Magnesium Sulfate</td>\n      <td>Magnesium Sulfate</td>\n      <td>MAG2PM</td>\n      <td>016546</td>\n      <td>4.096729e+08</td>\n      <td>2 g / 50 mL Premix Bag</td>\n      <td>2</td>\n      <td>gm</td>\n      <td>1</td>\n      <td>BAG</td>\n      <td>IV</td>\n    </tr>\n  </tbody>\n</table>\n</div>"
     },
     "execution_count": 6,
     "metadata": {},
     "output_type": "execute_result"
    }
   ],
   "source": [
    "# Drug\n",
    "mimic_drug = pd.read_csv('data/mimic/PRESCRIPTIONS.csv')\n",
    "mimic_drug = mimic_drug[mimic_drug['STARTDATE'].notnull()]\n",
    "mimic_drug.head()"
   ]
  },
  {
   "cell_type": "code",
   "outputs": [
    {
     "name": "stderr",
     "output_type": "stream",
     "text": [
      "/var/folders/wd/d0j10lq906x4lfc0bphzybd80000gn/T/ipykernel_16658/3466028858.py:1: DtypeWarning: Columns (13) have mixed types. Specify dtype option on import or set low_memory=False.\n",
      "  mimic_date_time_events = pd.read_csv('data/mimic/DATETIMEEVENTS.csv')\n"
     ]
    },
    {
     "data": {
      "text/plain": "   ROW_ID  SUBJECT_ID   HADM_ID  ICUSTAY_ID  ITEMID            CHARTTIME  \\\n0       1           6  107064.0    228232.0    5684  2175-05-31 08:00:00   \n1       2           6  107064.0    228232.0    5685  2175-05-31 08:00:00   \n2       3           6  107064.0    228232.0    6703  2175-05-31 08:00:00   \n3       4           6  107064.0    228232.0    6705  2175-05-31 08:00:00   \n4       5           6  107064.0    228232.0    5684  2175-05-31 12:00:00   \n\n             STORETIME   CGID                VALUE VALUEUOM  WARNING  ERROR  \\\n0  2175-05-31 12:33:00  18765  2175-05-31 00:00:00     Date      NaN    NaN   \n1  2175-05-31 12:33:00  18765  2175-05-31 00:00:00     Date      NaN    NaN   \n2  2175-05-31 12:33:00  18765  2175-05-30 00:00:00     Date      NaN    NaN   \n3  2175-05-31 12:33:00  18765  2175-05-30 00:00:00     Date      NaN    NaN   \n4  2175-05-31 12:33:00  18765  2175-05-31 00:00:00     Date      NaN    NaN   \n\n   RESULTSTATUS   STOPPED  \n0           NaN  NotStopd  \n1           NaN  NotStopd  \n2           NaN  NotStopd  \n3           NaN  NotStopd  \n4           NaN  NotStopd  ",
      "text/html": "<div>\n<style scoped>\n    .dataframe tbody tr th:only-of-type {\n        vertical-align: middle;\n    }\n\n    .dataframe tbody tr th {\n        vertical-align: top;\n    }\n\n    .dataframe thead th {\n        text-align: right;\n    }\n</style>\n<table border=\"1\" class=\"dataframe\">\n  <thead>\n    <tr style=\"text-align: right;\">\n      <th></th>\n      <th>ROW_ID</th>\n      <th>SUBJECT_ID</th>\n      <th>HADM_ID</th>\n      <th>ICUSTAY_ID</th>\n      <th>ITEMID</th>\n      <th>CHARTTIME</th>\n      <th>STORETIME</th>\n      <th>CGID</th>\n      <th>VALUE</th>\n      <th>VALUEUOM</th>\n      <th>WARNING</th>\n      <th>ERROR</th>\n      <th>RESULTSTATUS</th>\n      <th>STOPPED</th>\n    </tr>\n  </thead>\n  <tbody>\n    <tr>\n      <th>0</th>\n      <td>1</td>\n      <td>6</td>\n      <td>107064.0</td>\n      <td>228232.0</td>\n      <td>5684</td>\n      <td>2175-05-31 08:00:00</td>\n      <td>2175-05-31 12:33:00</td>\n      <td>18765</td>\n      <td>2175-05-31 00:00:00</td>\n      <td>Date</td>\n      <td>NaN</td>\n      <td>NaN</td>\n      <td>NaN</td>\n      <td>NotStopd</td>\n    </tr>\n    <tr>\n      <th>1</th>\n      <td>2</td>\n      <td>6</td>\n      <td>107064.0</td>\n      <td>228232.0</td>\n      <td>5685</td>\n      <td>2175-05-31 08:00:00</td>\n      <td>2175-05-31 12:33:00</td>\n      <td>18765</td>\n      <td>2175-05-31 00:00:00</td>\n      <td>Date</td>\n      <td>NaN</td>\n      <td>NaN</td>\n      <td>NaN</td>\n      <td>NotStopd</td>\n    </tr>\n    <tr>\n      <th>2</th>\n      <td>3</td>\n      <td>6</td>\n      <td>107064.0</td>\n      <td>228232.0</td>\n      <td>6703</td>\n      <td>2175-05-31 08:00:00</td>\n      <td>2175-05-31 12:33:00</td>\n      <td>18765</td>\n      <td>2175-05-30 00:00:00</td>\n      <td>Date</td>\n      <td>NaN</td>\n      <td>NaN</td>\n      <td>NaN</td>\n      <td>NotStopd</td>\n    </tr>\n    <tr>\n      <th>3</th>\n      <td>4</td>\n      <td>6</td>\n      <td>107064.0</td>\n      <td>228232.0</td>\n      <td>6705</td>\n      <td>2175-05-31 08:00:00</td>\n      <td>2175-05-31 12:33:00</td>\n      <td>18765</td>\n      <td>2175-05-30 00:00:00</td>\n      <td>Date</td>\n      <td>NaN</td>\n      <td>NaN</td>\n      <td>NaN</td>\n      <td>NotStopd</td>\n    </tr>\n    <tr>\n      <th>4</th>\n      <td>5</td>\n      <td>6</td>\n      <td>107064.0</td>\n      <td>228232.0</td>\n      <td>5684</td>\n      <td>2175-05-31 12:00:00</td>\n      <td>2175-05-31 12:33:00</td>\n      <td>18765</td>\n      <td>2175-05-31 00:00:00</td>\n      <td>Date</td>\n      <td>NaN</td>\n      <td>NaN</td>\n      <td>NaN</td>\n      <td>NotStopd</td>\n    </tr>\n  </tbody>\n</table>\n</div>"
     },
     "execution_count": 7,
     "metadata": {},
     "output_type": "execute_result"
    }
   ],
   "source": [
    "mimic_date_time_events = pd.read_csv('data/mimic/DATETIMEEVENTS.csv')\n",
    "mimic_date_time_events.head()"
   ],
   "metadata": {
    "collapsed": false,
    "ExecuteTime": {
     "end_time": "2024-04-23T21:23:17.211126Z",
     "start_time": "2024-04-23T21:23:12.396925Z"
    }
   },
   "id": "fd9e0a879c913d8e",
   "execution_count": 7
  },
  {
   "cell_type": "code",
   "execution_count": 8,
   "id": "d6467077f9b9126f",
   "metadata": {
    "collapsed": false,
    "ExecuteTime": {
     "end_time": "2024-04-23T21:24:53.066133Z",
     "start_time": "2024-04-23T21:23:17.289857Z"
    }
   },
   "outputs": [
    {
     "name": "stderr",
     "output_type": "stream",
     "text": [
      "Warning : `load_model` does not return WordVectorModel or SupervisedModel any more, but a `FastText` object which is very similar.\n"
     ]
    },
    {
     "data": {
      "text/plain": "{'Propofol': 'propofol',\n 'Heparin': 'heparin',\n 'Insulin': 'insulin',\n 'Furosemide': 'furosemide',\n 'Magnesium Sulfate': 'magnesium sulf',\n 'Rifaximin': 'lactulose',\n 'Lactulose': 'lactulose',\n 'Fentanyl Citrate': 'fentanyl',\n 'Albuterol 0.083% Neb Soln': 'albuterol',\n 'Potassium Chloride': 'potassium chloride',\n 'Albumin 25% (12.5g / 50mL)': 'albumin',\n 'Midodrine': 'midodrine',\n 'Albumin 5% (25g / 500mL)': 'albumin',\n 'Amoxicillin-Clavulanic Acid': 'ciprofloxacin',\n 'Heparin Flush (10 units/ml)': 'heparin',\n 'Lansoprazole Oral Disintegrating Tab': 'omeprazole',\n 'Phytonadione': 'phytonadione',\n 'Albumin, Human': 'albumin',\n 'Meropenem': 'meropenem',\n 'Ampicillin-Sulbactam': 'piperacillin',\n 'Sodium Chloride 0.9%  Flush': 'sodium chloride',\n 'Metoclopramide': 'metoclopramide',\n 'Prochlorperazine': 'prochlorperazine',\n 'Triamcinolone Acetonide 0.1% Cream': 'hydrocortisone',\n 'Famotidine': 'famotidine',\n 'Ascorbic Acid': 'ascorbic acid',\n 'Zinc Sulfate': 'neostigmine methylsulfate',\n 'Sulfameth/Trimethoprim SS': 'ciprofloxacin',\n 'Sulfameth/Trimethoprim DS': 'ciprofloxacin',\n 'HydrOXYzine': 'diphenhydramine',\n 'Ranitidine': 'famotidine',\n 'Magnesium Oxide': 'magnesium oxide',\n 'Spironolactone': 'spironolactone',\n 'AMP': 'potassium phosphate',\n 'Syringe': 'lidocaine',\n 'Iso-Osmotic Dextrose': 'dextrose',\n 'Dextrose 5%': 'dextrose',\n 'Vial': 'refresh p.m. op oint',\n 'NS (Mini Bag Plus)': 'plasmalyte',\n '0.9% Sodium Chloride': 'sodium chloride',\n '1/2 NS': 'plasmalyte',\n 'SW': 'xanax',\n 'LR': 'lactated ringer',\n '5% Dextrose': 'dextrose',\n 'Bag': 'plasmalyte',\n 'Octreotide Acetate': 'glucagon',\n 'Piperacillin-Tazobactam Na': 'piperacillin',\n 'Levofloxacin': 'levofloxacin',\n 'Pantoprazole Sodium': 'pantoprazole',\n 'Desmopressin Acetate': 'vasopressin',\n 'Influenza Virus Vaccine': 'influenza vac',\n 'Chlorhexidine Gluconate 0.12% Oral Rinse': 'chlorhexidine',\n 'Vitamin A': 'vitamin',\n 'Morphine Sulfate': 'morphine',\n 'Morphine Sulfate (Oral Soln.)': 'morphine',\n 'Simethicone': 'simethicone',\n 'D5W': 'ascorbic acid',\n 'Clobetasol Propionate 0.05% Cream': 'nystatin',\n 'Thiamine': 'thiamine',\n 'Nystatin Oral Suspension': 'nystatin',\n 'Hydrocortisone Cream 2.5%': 'hydrocortisone',\n 'Pantoprazole': 'pantoprazole',\n 'DiphenhydrAMINE': 'diphenhydramine',\n 'Neutra-Phos': 'kayexalate',\n 'Acetaminophen': 'acetamin',\n 'NS': 'plasmalyte',\n 'Chlorothiazide Sodium': 'hydrochlorothiazide',\n 'Nitroglycerin': 'nitroglycerin',\n 'Epoetin Alfa': 'enoxaparin',\n 'Aztreonam': 'meropenem',\n 'Azithromycin ': 'azithromycin',\n 'Vancomycin': 'vancomycin',\n 'MetRONIDAZOLE (FLagyl)': 'flagyl',\n 'Daptomycin': 'vancomycin',\n 'Nystatin': 'nystatin',\n 'Alteplase (Catheter Clearance)': 'alteplase',\n 'Sodium Bicarbonate': 'sodium bicarbonate',\n 'Miconazole Powder 2%': 'nystatin',\n 'Ondansetron': 'ondansetron',\n 'Lorazepam': 'lorazepam',\n 'Diltiazem': 'diltiazem',\n 'Potassium Phosphate': 'potassium phosphate',\n 'Calcium Gluconate': 'calcium gluconate',\n 'Dextrose 50%': 'dextrose',\n 'Glucagon': 'glucagon',\n 'MethylPREDNISolone Sodium Succ': 'methylprednisolone',\n 'Ciprofloxacin HCl': 'ciprofloxacin',\n 'Oseltamivir': 'influenza vac',\n 'Ipratropium Bromide Neb': 'ipratropium',\n 'Heparin Flush (5000 Units/mL)': 'heparin',\n 'Mupirocin Cream 2%': 'mupirocin',\n 'Multivitamins W/minerals': 'mineral',\n 'Citalopram Hydrobromide': 'citalopram',\n 'Multivitamins': 'vitamin',\n 'Thrombin': 'heparin',\n 'Metoprolol': 'metoprolol',\n 'Heparin Flush PICC (100 units/ml)': 'heparin',\n 'Hydromorphone': 'hydromorphone',\n 'Acetylcysteine 20%': 'acetamin',\n 'Lumigan': 'fluticasone-salmeterol',\n 'Docusate Sodium': 'docusate',\n 'Amino Acids 4.25% W/ Dextrose 5%': 'dextrose',\n 'Potassium Chl 20 mEq / 1000 mL D5 1/2 NS': 'potassium chloride',\n 'Multivitamin IV': 'vitamin',\n 'Ciprofloxacin': 'ciprofloxacin',\n 'Imipenem-Cilastatin': 'meropenem',\n 'Dorzolamide 2% Ophth. Soln.': 'docusate',\n 'HydrALAzine': 'hydralazine',\n 'Amlodipine': 'amlodipine',\n 'Latanoprost 0.005% Ophth. Soln.': 'docusate',\n 'Metoprolol Tartrate': 'metoprolol',\n 'CefePIME': 'cefepime',\n 'Norepinephrine': 'epinephrine',\n 'Midazolam': 'midazolam',\n 'Albuterol Inhaler': 'albuterol',\n 'Ipratropium Bromide MDI': 'ipratropium',\n 'Fluticasone Propionate 110mcg': 'fluticasone-salmeterol',\n 'Tiotropium Bromide': 'tiotropium',\n 'Salmeterol Xinafoate Diskus (50 mcg)': 'advair diskus',\n 'Amoxicillin': 'ciprofloxacin',\n 'Clarithromycin': 'azithromycin',\n 'Nitroglycerin Ointment  2%': 'nitroglycerin',\n 'Diltiazem Extended-Release': 'diltiazem',\n 'Enalaprilat': 'losartan',\n 'Sucralfate': 'omeprazole',\n 'Hydrochlorothiazide': 'hydrochlorothiazide',\n 'Lisinopril': 'lisinopril',\n 'Atorvastatin': 'atorvastatin',\n 'Warfarin': 'warfarin',\n 'Phenylephrine': 'phenylephrine',\n 'Heparin Sodium': 'heparin',\n 'Senna': 'bisacodyl',\n 'Docusate Sodium (Liquid)': 'docusate',\n 'Omeprazole': 'omeprazole',\n 'Aspirin': 'aspirin',\n 'PredniSONE': 'prednisone',\n 'Azithromycin': 'azithromycin',\n 'Benzonatate': 'guaifenesin',\n 'Oxymetazoline': 'clonidine',\n 'Guaifenesin': 'guaifenesin',\n 'Aluminum-Magnesium Hydrox.-Simethicone': 'simethicone',\n 'D5 1/2NS': 'vitamin',\n 'CeftriaXONE': 'ceftriaxone',\n 'HYDROmorphone (Dilaudid)': 'hydromorphone',\n 'Sterile Water': 'ringers solution',\n '0.9% Sodium Chloride (Mini Bag Plus)': 'sodium chloride',\n 'Lactated Ringers': 'lactated ringer',\n 'Soln': 'docusate',\n 'Iso-Osmotic Sodium Chloride': 'sodium chloride',\n 'Sodium Chloride 3% (Hypertonic)': 'sodium chloride',\n 'Pneumococcal Vac Polyvalent': 'pneumococcal',\n 'Meperidine': 'meperidine',\n 'Nimodipine': 'nicardipine',\n 'Acetaminophen (Liquid)': 'acetamin',\n 'Phosphorus': 'potassium phosphate',\n 'OxycoDONE (Immediate Release) ': 'oxycodone',\n 'Phenytoin Sodium Extended': 'sodium chloride',\n 'Acetaminophen IV': 'acetamin',\n 'Labetalol': 'labetalol',\n 'PFNS (Syringe)': 'lidocaine',\n 'Propranolol': 'atenolol',\n 'Potassium Chloride (Powder)': 'potassium chloride',\n 'CloniDINE': 'clonidine',\n 'Sodium Chloride': 'sodium chloride',\n 'Fludrocortisone Acetate': 'hydrocortisone',\n 'Bisacodyl': 'bisacodyl',\n 'Benzocaine 20% Spray': 'prilocaine',\n 'Quetiapine Fumarate': 'quetiapine',\n 'Fentanyl Patch': 'fentanyl',\n 'Ferrous Sulfate': 'ferrous',\n 'Dexmedetomidine': 'dexmedetomidine',\n 'Tobramycin Sulfate': 'meropenem',\n 'Polyethylene Glycol': 'polyethylene glycol',\n 'Dolasetron Mesylate': 'ondansetron',\n 'Lidocaine Jelly 2% (Urojet)': 'lidocaine',\n 'Sarna Lotion': 'nystatin',\n 'Zolpidem Tartrate': 'zolpidem',\n '0.83% Sodium Chloride': 'sodium chloride',\n 'Potassium Chl 20 mEq / 1000 mL NS': 'potassium chloride',\n 'Potassium Chl 40 mEq / 1000 mL D5 1/2 NS': 'potassium chloride',\n 'D5NS': 'polystyrene sulfonate',\n '0.45% Sodium Chloride': 'sodium chloride',\n 'Humulin-R Insulin': 'insulin',\n 'Hydrocortisone Na Succ.': 'hydrocortisone',\n 'Paroxetine HCl': 'citalopram',\n 'Calcium Carbonate': 'calcium carbonate',\n 'Vitamin D': 'vitamin',\n 'Terazosin HCl': 'tamsulosin',\n 'Oxcarbazepine': 'levetiracetam',\n 'Primidone': 'clonazepam',\n 'Diphenhydramine HCl': 'diphenhydramine',\n 'Artificial Tears Preserv. Free': 'ringers solution',\n 'Albuterol Neb Soln': 'albuterol',\n 'Bacitracin Ointment': 'bacitracin',\n 'Aluminum-Magnesium Hydroxide': 'magnesium hydroxide',\n 'Methadone HCl': 'morphine',\n 'Propofol (Generic)': 'propofol',\n 'Albuterol': 'albuterol',\n 'Insulin Human Regular': 'insulin',\n 'Hydralazine HCl': 'hydralazine',\n 'Cosyntropin': 'hydrocortisone',\n 'Artificial Tears': 'bacitracin',\n 'Lidocaine Viscous 2%': 'lidocaine',\n 'NiCARdipine IV': 'nicardipine',\n 'CefazoLIN': 'cefazolin',\n 'Phenytoin Sodium': 'sodium chloride',\n 'Fosphenytoin': 'levetiracetam',\n 'Sodium Phosphate': 'sodium phosphate',\n 'Ampicillin Sodium': 'clindamycin',\n 'Ciprofloxacin IV': 'ciprofloxacin',\n 'LeVETiracetam': 'levetiracetam',\n 'PHENYLEPHrine': 'phenylephrine',\n 'Vancomycin Intraventricular': 'vancomycin',\n 'Calcium Chloride': 'calcium chloride',\n 'Desitin': 'nystatin',\n 'Nystatin-Triamcinolone': 'nystatin',\n 'Lidocaine jel': 'lidocaine',\n 'Ceftriaxone': 'ceftriaxone',\n 'Metronidazole': 'metronidazole',\n 'Phenylephrine HCl': 'phenylephrine',\n 'Vasopressin': 'vasopressin',\n 'DopAmine': 'dopamine',\n 'Isoproterenol': 'phenylephrine',\n 'Atropine Sulfate': 'atropine',\n 'Cephalexin': 'ciprofloxacin',\n 'Folic Acid': 'folic acid',\n 'Simvastatin': 'simvastatin',\n 'Gemfibrozil': 'pravastatin',\n 'Midazolam HCl': 'midazolam',\n 'Isosorbide Mononitrate (Extended Release)': 'isosorbide',\n 'Isosorbide Mononitrate': 'isosorbide',\n 'Guaifenesin-CODEINE Phosphate': 'guaifenesin',\n 'Cepacol (Menthol)': 'simethicone',\n 'Fluticasone-Salmeterol Diskus (250/50) ': 'fluticasone-salmeterol',\n 'Fluconazole': 'meropenem',\n 'Linezolid': 'meropenem',\n 'Sulfameth/Trimethoprim Suspension': 'ciprofloxacin',\n 'DiphenhydrAMINE HCl': 'diphenhydramine',\n 'Potassium Chloride Replacement (Oncology)': 'potassium chloride',\n 'Calcium Replacement (Oncology)': 'calcium carbonate',\n 'Magnesium Sulfate Replacement (Oncology)': 'magnesium sulf',\n 'Prednisone': 'prednisone',\n 'Pentamidine Inhalation': 'diphenhydramine',\n 'NIFEdipine': 'diltiazem',\n 'Digoxin': 'digoxin',\n 'Oxycodone (Sustained Release)': 'oxycodone',\n 'Gabapentin': 'gabapentin',\n 'Lansoprazole': 'omeprazole',\n 'Oxycodone': 'oxycodone',\n 'Topiramate': 'gabapentin',\n 'Sodium Polystyrene Sulfonate': 'polystyrene sulfonate',\n 'Vancomycin HCl': 'vancomycin',\n 'Hespan': 'plasmalyte',\n 'TraMADOL (Ultram)': 'tramadol',\n 'Aspirin EC': 'aspirin',\n 'Clopidogrel Bisulfate': 'clopidogrel',\n 'Metoprolol XL': 'metoprolol',\n 'Cefepime': 'cefepime',\n 'Olanzapine (Disintegrating Tablet)': 'quetiapine',\n 'Allopurinol': 'allopurinol',\n 'Acyclovir': 'clindamycin',\n 'Mycophenolate Mofetil': 'tacrolimus',\n 'Atenolol': 'atenolol',\n 'Heparin Flush CVL  (100 units/ml)': 'heparin',\n 'Hydrocortisone': 'hydrocortisone',\n 'Cefazolin': 'cefazolin',\n 'Hydromorphone P.F.': 'hydromorphone',\n 'Bupivacaine 0.5%': 'prilocaine',\n 'Cisatracurium Besylate': 'cisatracurium',\n 'Nitroglycerin SL': 'nitroglycerin',\n 'Isosorbide Dinitrate': 'isosorbide',\n 'Nitroglycerin Oint. 2%': 'nitroglycerin',\n 'Nitroglycerin Patch': 'nitroglycerin',\n 'Betamethasone Dipro 0.05% Oint': 'hydrocortisone',\n 'Labetalol HCl': 'labetalol',\n 'Eptifibatide': 'ticagrelor',\n 'Voriconazole': 'meropenem',\n 'Clopidogrel': 'clopidogrel',\n 'Oxycodone-Acetaminophen (5mg-325mg)': 'acetamin',\n 'Maalox/Diphenhydramine/Lidocaine': 'lidocaine',\n 'HydrALAZINE HCl': 'hydralazine',\n 'Repaglinide': 'metformin',\n 'Glipizide': 'metformin',\n 'OxycoDONE-Acetaminophen Elixir': 'acetamin',\n 'Citalopram': 'citalopram',\n 'Levothyroxine Sodium': 'levothyroxine',\n 'Scopolamine Patch': 'atropine',\n 'HYDROmorphone': 'hydromorphone',\n 'Golytely': 'kayexalate',\n 'Vecuronium Bromide': 'rocuronium',\n 'Oxycodone-Acetaminophen': 'acetamin',\n 'Terbinafine 1% Cream': 'nystatin',\n 'Ibuprofen': 'ibuprofen',\n 'Ibuprofen Suspension': 'ibuprofen',\n 'Fondaparinux Sodium': 'enoxaparin',\n 'Sertraline': 'sertraline',\n 'BuPROPion': 'sertraline',\n 'Terazosin': 'tamsulosin',\n 'Lidocaine 1%': 'lidocaine',\n 'Acetaminophen-Caff-Butalbital': 'acetamin',\n 'Acyclovir Ointment 5%': 'clindamycin',\n 'Estrogens Conjugated': 'spironolactone',\n 'NS Epidural Bag ': 'plasmalyte',\n 'Filgrastim': 'enoxaparin',\n 'Drotrecogin Alfa (Xigris)': 'flagyl',\n 'Gentamicin Sulfate': 'vancomycin',\n 'Epinephrine': 'epinephrine',\n 'Milrinone': 'amiodarone',\n 'AcetaZOLAMIDE Sodium': 'sodium chloride',\n 'Lepirudin': 'heparin',\n 'CefTRIAXone': 'ceftriaxone',\n 'Ketorolac': 'ketorolac',\n 'Artificial Tear Ointment': 'nystatin',\n 'Methylene Blue 1%': 'sodium chloride',\n 'Promethazine': 'promethazine',\n 'Ranitidine (Liquid)': 'famotidine',\n 'Ursodiol': 'simethicone',\n 'Gastroview (Diatrizoate Meglumine & Sodium)': 'iopamidol',\n 'GlipiZIDE': 'metformin',\n 'Valsartan': 'losartan',\n 'Nephrocaps': 'flomax',\n 'NIFEdipine CR': 'diltiazem',\n 'Lidocaine 5% Patch': 'lidocaine',\n 'Baclofen': 'gabapentin',\n 'MoviPrep': 'simethicone',\n 'Albuterol-Ipratropium': 'albuterol',\n 'Lansoprazole Oral Suspension': 'omeprazole',\n 'Nesiritide': 'midodrine',\n 'Abciximab': 'ticagrelor',\n 'Gentamicin': 'vancomycin',\n 'Sevelamer': 'amlodipine',\n 'Propoxyphene Nap.-Apap (N-100)': 'hydrocodone',\n 'Tacrolimus': 'tacrolimus',\n 'Miconazole 2% Cream': 'nystatin',\n 'Promethazine HCl': 'promethazine',\n 'Isotonic Sodium Chloride': 'sodium chloride',\n 'Aluminum Hydroxide Suspension': 'alum hydroxide',\n 'traZODONE HCl': 'trazodone',\n 'Captopril': 'lisinopril',\n 'hydroxyzine': 'diphenhydramine',\n 'Anusol Ointment 1%': 'nystatin',\n 'Pyridoxine HCl': 'thiamine',\n 'Cyanocobalamin': 'thiamine',\n 'Ferrous Gluconate': 'ferrous',\n 'Olanzapine': 'quetiapine',\n 'Citric Acid/Sodium Citrate': 'sodium bicarbonate',\n 'Doxercalciferol': 'vitamin',\n 'Hydrocodone-Acetaminophen': 'acetamin',\n 'Soln.': 'docusate',\n 'Milk of Magnesia': 'milk of magnesia',\n 'Tucks': 'simethicone',\n 'Anusol Suppository': 'simethicone',\n 'Midodrine HCl': 'midodrine',\n 'Albumin 5% (12.5gm)': 'albumin',\n 'Papain-Urea Spray': 'pulmicort respule',\n 'Morphine Sulfate SR': 'morphine',\n 'Megestrol Acetate': 'spironolactone',\n 'Albumin 25% (12.5gm)': 'albumin',\n 'Lidocaine 5% Ointment': 'lidocaine',\n 'Papain-Urea Ointment': 'nystatin',\n 'Heparin Flush (100 units/ml)': 'heparin',\n 'Hydroxychloroquine Sulfate': 'prednisone',\n 'Gentamicin Sulf. Ophth. Soln': 'vancomycin',\n 'Erythromycin 0.5% Ophth Oint': 'clindamycin',\n 'Amiodarone': 'amiodarone',\n 'Mirtazapine': 'citalopram',\n 'Carvedilol': 'carvedilol',\n 'MethylPHENIDATE (Ritalin)': 'haloperidol',\n 'Finasteride': 'tamsulosin',\n 'Nitrofurantoin (Macrodantin)': 'ciprofloxacin',\n 'Cefpodoxime Proxetil': 'levofloxacin',\n 'DOBUTamine': 'phenylephrine',\n 'Piperacillin-Tazobactam': 'piperacillin',\n 'Normocarb': 'plasmalyte',\n 'Sodium Chloride ': 'sodium chloride',\n 'Vitamin B Complex': 'vitamin',\n 'Fish Oil (Omega 3)': 'fat emulsion',\n 'Glycopyrrolate': 'glycopyrrolate',\n 'Neostigmine': 'neostigmine',\n 'traMADOL': 'tramadol',\n 'Erythromycin': 'clindamycin',\n 'D5W (EXCEL BAG)': 'plasmalyte',\n 'Amiodarone HCl': 'amiodarone',\n 'Risperidone': 'quetiapine',\n 'Haloperidol': 'haloperidol',\n 'Lidocaine': 'lidocaine',\n 'Sotalol': 'amiodarone',\n 'Psyllium': 'simethicone',\n 'Sodium Chloride Nasal': 'sodium chloride',\n 'Metformin': 'metformin',\n 'Pioglitazone HCl': 'metformin',\n 'Dobutamine': 'phenylephrine',\n 'Phenytoin': 'levetiracetam',\n 'Calcitriol': 'vitamin',\n 'Torsemide': 'bumex',\n 'Metolazone': 'bumex',\n 'Chlorothiazide': 'hydrochlorothiazide',\n 'Emtricitabine-Tenofovir': 'pravastatin',\n 'Valganciclovir HCl': 'tacrolimus',\n 'Propranolol HCl': 'atenolol',\n 'Dexamethasone': 'dexamethasone',\n 'Albumin 5% (25 g)': 'albumin',\n 'Mesalamine': 'metronidazole',\n 'Mupirocin Nasal Ointment 2%': 'mupirocin',\n '5% Dextrose (EXCEL BAG)': 'dextrose',\n 'Fluticasone Propionate NASAL': 'fluticasone-salmeterol',\n 'Pravastatin': 'pravastatin',\n 'Ascorbic Acid (Liquid)': 'ascorbic acid',\n 'Collagenase Ointment': 'nystatin',\n 'Clonazepam': 'clonazepam',\n 'Adenosine': 'sodium phosphate',\n 'Glyburide': 'metformin',\n 'Nevirapine': 'sertraline',\n 'Bismuth Subsalicylate': 'metronidazole',\n 'Dolasetron Mesylate I.V.': 'ondansetron',\n 'ChlorproMAZINE': 'promethazine',\n 'Oxybutynin': 'tamsulosin',\n 'DOPamine': 'dopamine',\n 'Valproic Acid': 'levetiracetam',\n 'Lansoprazole Oral Solution': 'omeprazole',\n 'Clozapine': 'quetiapine',\n 'Nystatin Oral Susp.': 'nystatin',\n 'Fluticasone-Salmeterol Diskus (100/50)': 'fluticasone-salmeterol',\n 'Fleet Enema': 'simethicone',\n 'Lactulose Enema': 'lactulose',\n 'Alendronate Sodium': 'sodium chloride',\n 'NORepinephrine': 'epinephrine',\n 'Nitroprusside Sodium': 'nitroprusside',\n 'Fexofenadine': 'loratadine',\n 'Clonidine HCl': 'clonidine',\n 'traZODONE': 'trazodone',\n 'BuPROPion (Sustained Release)': 'sertraline',\n 'Losartan Potassium': 'losartan',\n 'Psyllium Wafer': 'simethicone',\n 'Ondansetron ODT': 'ondansetron',\n 'Ketoconazole 2% ': 'spironolactone',\n 'Testosterone 5mg Patch': 'neurontin',\n 'Fluoxetine': 'sertraline',\n 'Potassium Chl 40 mEq / 1000 mL NS': 'potassium chloride',\n 'MENINGOcoccal Conj Vaccine (Menactra)': 'pneumococcal',\n 'Haemophilus B Conj. Vaccine': 'pneumococcal',\n 'Niacin': 'vitamin',\n 'Metoprolol Succinate XL': 'metoprolol',\n 'Doxazosin': 'tamsulosin',\n 'Ciprofloxacin Ophth Soln': 'ciprofloxacin',\n 'Nicotine': 'nicotine',\n 'NS (Glass Bottle)': 'plasmalyte',\n 'BusPIRone': 'alprazolam',\n 'Fluoxetine HCl': 'sertraline',\n 'Diazepam': 'diazepam',\n 'Diphenoxylate-Atropine': 'atropine',\n 'Enoxaparin Sodium': 'enoxaparin',\n 'Dronabinol': 'alprazolam',\n 'Clonidine Patch 0.1 mg/24 hr': 'clonidine',\n 'Clonidine Patch 0.2 mg/24 hr': 'clonidine',\n 'Imatinib Mesylate': 'prochlorperazine',\n 'Tolterodine': 'tamsulosin',\n 'Mycophenolate Mofetil Suspension': 'tacrolimus',\n 'ValGANCIclovir': 'tacrolimus',\n 'Transplant Self Medication Program': 'tacrolimus',\n 'Cholestyramine': 'pravastatin',\n 'Niacin SR': 'vitamin',\n 'Rosuvastatin Calcium': 'atorvastatin',\n 'FoLIC Acid': 'folic acid',\n 'Mannitol': 'lactulose',\n 'Prismasate (B22 K4)': 'docusate',\n 'PlasmaLyte': 'plasmalyte',\n 'Basiliximab': 'tacrolimus',\n 'Fosphenytoin Sodium': 'sodium chloride',\n 'Naloxone HCl': 'naloxone',\n 'Pamidronate': 'methylprednisolone',\n 'Albumin 5% (12.5g / 250mL)': 'albumin',\n 'ValGANCIclovir Suspension': 'tacrolimus',\n 'Tacrolimus Suspension': 'tacrolimus',\n 'OxycoDONE Liquid': 'oxycodone',\n 'CycloSPORINE Modified (Neoral)': 'tacrolimus',\n 'Amiloride HCl': 'bumetanide',\n 'Chloraseptic Throat Spray': 'chlorhexidine',\n 'sevelamer CARBONATE': 'calcium carbonate',\n 'Ketamine': 'dexmedetomidine',\n 'Flumazenil': 'flumazenil',\n 'Oxycodone SR (OxyconTIN)': 'oxycodone',\n 'Quinapril': 'amlodipine',\n 'Alprazolam': 'alprazolam',\n 'Mannitol 20%': 'lactulose',\n 'Xopenex Neb': 'atrovent',\n 'Unasyn': 'zosyn',\n 'Niaspan': 'simvastatin',\n 'Tricor': 'zocor',\n 'Ezetimibe': 'pravastatin',\n 'DiCLOXacillin': 'cefazolin',\n 'Dicloxacillin': 'cefazolin',\n 'MetFORMIN (Glucophage)': 'metformin',\n 'Montelukast Sodium': 'cetirizine',\n 'Syringe (0.9% Sodium Chloride)': 'sodium chloride',\n 'Fluticasone-Salmeterol Diskus (500/50) ': 'fluticasone-salmeterol',\n 'D10W': 'ascorbic acid',\n 'Enalapril Maleate': 'losartan',\n 'Tamsulosin HCl': 'tamsulosin',\n 'Magnesium Citrate': 'magnesium oxide',\n 'Olanzapine (Disintergrating Tablet)': 'quetiapine',\n 'Albuterol MDI': 'albuterol',\n 'Ambisome': 'meropenem',\n 'OxycodONE (Immediate Release) ': 'oxycodone',\n 'Chlorthalidone': 'hydrochlorothiazide',\n 'Doxycycline Hyclate': 'azithromycin',\n 'Salmeterol': 'tiotropium',\n 'Sulfameth/Trimethoprim': 'ciprofloxacin',\n 'Oxycodone-Acetaminophen Elixir': 'acetamin',\n 'Carbamazepine': 'clonazepam',\n 'Donepezil': 'citalopram',\n 'Metoprolol XL (Toprol XL)': 'metoprolol',\n 'Lopinavir-Ritonavir': 'pravastatin',\n 'Pyrimethamine': 'metronidazole',\n 'SulfADIAzine': 'ciprofloxacin',\n 'Leucovorin Calcium': 'calcium carbonate',\n 'Fenofibrate': 'atorvastatin',\n 'Phenobarbital': 'diazepam',\n 'Cortisporin Otic Susp': 'lanoxin',\n 'Pregabalin': 'gabapentin',\n 'Venlafaxine XR': 'sertraline',\n 'Actonel': 'zocor',\n 'Tuberculin Protein': 'influenza vac',\n 'Levetiracetam': 'levetiracetam',\n 'Lopinavir-Ritonavir (Oral Soln)': 'docusate',\n 'Phenytoin (Suspension)': 'levetiracetam',\n 'Pioglitazone': 'metformin',\n 'Prasugrel': 'ticagrelor',\n 'Lacri-Lube Oint': 'nystatin',\n 'Syringe (IV Room)': 'valium',\n 'Cinacalcet': 'amlodipine',\n 'Amitriptyline HCl': 'sertraline',\n 'Vancomycin Enema': 'vancomycin',\n 'Vancomycin Oral Liquid': 'vancomycin',\n 'Readi-Cat 2 (Barium Sulfate 2% Suspension)': 'neostigmine methylsulfate',\n 'Miconazole Nitrate (Combo Pack)': 'nystatin',\n 'Naloxone': 'naloxone',\n 'LeVETiracetam Oral Solution': 'levetiracetam',\n 'Prazosin HCl': 'clonidine',\n 'Thiamine HCl': 'thiamine',\n 'Nicotine Polacrilex': 'nicotine',\n 'Methylprednisolone Na Succ.': 'methylprednisolone',\n 'CycloSPORINE (Sandimmune)': 'tacrolimus',\n 'Trisodium Citrate 0.4% Replacement Soln': 'docusate',\n 'Minoxidil': 'spironolactone',\n 'Loratadine': 'loratadine',\n 'Nicotine Patch': 'nicotine',\n 'Prismasate (B32 K2)': 'docusate',\n 'Citrate Dextrose 3% (ACD-A) CRRT': 'dextrose',\n 'Mannitol 20 %': 'lactulose',\n 'Acetazolamide Sodium': 'sodium chloride',\n 'Methylprednisolone Na Succ': 'methylprednisolone',\n 'Gentamicin 0.1% Cream': 'vancomycin',\n 'Clonidine TTS 3 Patch': 'clonidine',\n 'Vitamin B Complex w/C': 'vitamin',\n 'Hydroxyzine HCl': 'diphenhydramine',\n 'Heparin Flush (1000 units/mL)': 'heparin',\n 'Heparin (CRRT Machine Priming)': 'heparin',\n 'Sodium CITRATE 4%': 'sodium chloride',\n 'Oxacillin': 'vancomycin',\n 'Topiramate (Topamax)': 'gabapentin',\n 'Divalproex Sod. Sprinkles': 'quetiapine',\n 'Yellow CADD Cassette': 'bumex',\n 'Nadolol': 'atenolol',\n 'Tamoxifen Citrate': 'calcium gluconate',\n 'Hydrocortisone Oint 1%': 'hydrocortisone',\n 'Bupivacaine 0.25%': 'prilocaine',\n 'D5W (Glass Bottle)': 'klonopin',\n 'Multivitamin 12': 'vitamin',\n 'Azathioprine': 'prednisone',\n 'Protamine Sulfate': 'heparin',\n 'Carbamazepine XR': 'clonazepam',\n 'Clonidine TTS 1 Patch': 'clonidine',\n 'Fluphenazine': 'haloperidol',\n 'Polysaccharide Iron Complex': 'ferrous',\n 'Perphenazine': 'haloperidol',\n 'Hydrocortisone Cream 0.5%': 'hydrocortisone',\n 'Tamsulosin': 'tamsulosin',\n 'LaMOTrigine': 'levetiracetam',\n 'Pseudoephedrine': 'ephedrine',\n 'Brimonidine Tartrate 0.15% Ophth.': 'clonidine',\n 'Guaifenesin-Dextromethorphan': 'guaifenesin',\n 'Oxazepam': 'diazepam',\n 'Tucks Hemorrhoidal Oint 1%': 'nystatin',\n 'Hydrocortisone (Rectal) 2.5% Cream': 'hydrocortisone',\n 'Hemorrhoidal Suppository': 'simethicone',\n 'GlyBURIDE': 'metformin',\n 'Moexipril': 'amlodipine',\n 'Potassium Chl 20 mEq / 1000 mL D5NS': 'potassium chloride',\n 'Lantus': 'lantus',\n 'simvastatin or placebo': 'simvastatin',\n 'Albuterol Sulfate (Extended Release)': 'albuterol',\n 'AcetaZOLamide Sodium': 'sodium chloride',\n 'Escitalopram Oxalate': 'citalopram',\n 'Budesonide': 'tiotropium',\n 'Posaconazole Suspension': 'tacrolimus',\n 'Sertraline HCl': 'sertraline',\n 'Fluticasone-Salmeterol (100/50)': 'fluticasone-salmeterol',\n 'Travasol 4.25% W/ Dextrose 5%': 'dextrose',\n 'Hydromorphone-hp': 'hydromorphone',\n 'Hydrochloric Acid': 'ascorbic acid',\n 'Fluticasone-Salmeterol (250/50) ': 'fluticasone-salmeterol',\n 'Ipratropium Bromide': 'ipratropium',\n 'Pletal': 'prinivil',\n 'Cilostazol': 'atorvastatin',\n 'Acetylcysteine': 'acetamin',\n 'Morphine Sulfate IR': 'morphine',\n 'Amino Acids 5%-Dextrose 15%': 'dextrose',\n 'Epinephrine Inhalation': 'epinephrine',\n 'D5LR': 'definity',\n 'Clindamycin': 'clindamycin',\n 'Timolol Maleate 0.5%': 'atenolol',\n 'Phenytoin Infatab': 'levetiracetam',\n 'Ketoconazole Shampoo': 'spironolactone',\n 'Dextran 40 10%': 'polyethylene glycol',\n 'Naproxen': 'ibuprofen',\n 'Norepinephrine Bitartrate': 'epinephrine',\n 'PrednisoLONE Acetate 1% Ophth. Susp.': 'prednisone',\n 'Acetaminophen w/Codeine': 'acetamin',\n 'Gleevec': 'prinivil',\n 'Amikacin': 'piperacillin',\n 'Carbamide Peroxide 6.5%': 'ascorbic acid',\n 'Nortriptyline': 'sertraline',\n 'Ceftazidime': 'meropenem',\n 'Amino Acids 4.25%-Dextrose 5%': 'dextrose',\n 'Lidocaine 2%': 'lidocaine',\n 'Vigamox': 'levofloxacin',\n 'Calcium Carbonate (Tums)': 'calcium carbonate',\n 'Gammagard Liquid': 'piperacillin',\n 'Palivizumab': 'influenza vac',\n 'Micafungin': 'meropenem',\n 'Caspofungin': 'meropenem',\n 'Isosorbide': 'isosorbide',\n 'Dofetilide': 'amiodarone',\n 'Epidural Bag': 'lidocaine',\n 'Cyclobenzaprine HCl': 'trazodone',\n 'HYDROmorphone P.F.': 'hydromorphone',\n 'Bupivacaine 0.1%': 'prilocaine',\n 'D5W (GLASS BOTTLE)': 'klonopin',\n 'Calcium Acetate': 'calcium carbonate',\n 'Eucerin': 'nystatin',\n 'Triamterene-Hydrochlorothiazide': 'hydrochlorothiazide',\n 'Ticlopidine HCl': 'clopidogrel',\n 'Fleet Phospho-Soda': 'sodium phosphate',\n 'Phenaseptic Throat Spray': 'pulmicort respule',\n 'Neomycin-Polymyxin-Bacitracin': 'bacitracin',\n 'Heparin Dwell (1000 Units/mL)': 'heparin',\n 'Phenazopyridine': 'promethazine',\n 'Clotrimazole Cream': 'nystatin',\n 'Belladonna & Opium (16.2/30mg)': 'neurontin',\n 'Hyoscyamine': 'diphenhydramine',\n 'Cinacalcet HCl': 'amlodipine',\n 'Heparin Flush': 'heparin',\n 'Papain 2.5 % Solution': 'ringers solution',\n 'Verapamil HCl': 'diltiazem',\n 'Acetazolamide': 'bumetanide',\n 'Debrox 6.5%': 'lanoxin',\n 'Ferric Gluconate': 'ferrous',\n 'Benztropine Mesylate': 'haloperidol',\n 'Dexamethasone Ophthalmic Soln 0.1%': 'dexamethasone',\n 'Ciprofloxacin 0.3% Ophth Soln': 'ciprofloxacin',\n 'CeftAZIDime': 'meropenem',\n 'Valproate Sodium': 'levetiracetam',\n 'Morphine SR (MS Contin)': 'morphine',\n 'Duloxetine': 'sertraline',\n 'Albumin 25% (12.5 g)': 'albumin',\n 'Lamotrigine': 'levetiracetam',\n 'Cetylpyridinium Chl (Cepacol)': 'simethicone',\n 'Nystatin Cream': 'nystatin',\n 'PNEUMOcoccal Vac Polyvalent': 'pneumococcal',\n 'Loperamide HCl': 'diphenhydramine',\n 'Miconazole Nitrate Vaginal': 'nystatin',\n 'Dipyridamole-Aspirin': 'aspirin',\n 'Betamethasone Valerate 0.1% Cream': 'hydrocortisone',\n 'NS (Irrigation Bottle)': 'plasmalyte',\n 'sevelamer HYDROCHLORIDE': 'promethazine',\n 'Dronedarone': 'amiodarone',\n 'Bupivacaine 0.05%': 'prilocaine',\n 'Rosiglitazone Maleate': 'metformin',\n 'Diphenhydramine Hcl': 'diphenhydramine',\n 'Heparin Flush Port (10units/ml)': 'heparin',\n 'Fluticasone Propionate Nasal': 'fluticasone-salmeterol',\n 'Meclizine HCl': 'prochlorperazine',\n 'Doxepin HCl': 'trazodone',\n 'Heparin Flush Hickman (100 units/ml)': 'heparin',\n 'Bupropion HCl': 'sertraline',\n 'Nicardipine HCl IV': 'nicardipine',\n 'Esmolol': 'labetalol',\n 'Lidocaine 0.5%': 'lidocaine',\n 'Etomidate': 'etomidate',\n 'Succinylcholine': 'succinylcholine',\n 'Penicillin G Potassium': 'potassium chloride',\n 'Tobramycin Inhalation Soln': 'meropenem',\n 'Glipizide XL': 'metformin',\n 'Triamterene': 'hydrochlorothiazide',\n 'Dabigatran Etexilate': 'warfarin',\n 'Mexiletine': 'diltiazem',\n 'Nevanac': 'lanoxin',\n 'D5 1/4NS': 'vitamin',\n 'Clonidine TTS 2 Patch': 'clonidine',\n 'Lidocaine 1% P.F.': 'lidocaine',\n 'Nystatin-Triamcinolone Cream': 'nystatin',\n 'Lidocaine 1% P.f.': 'lidocaine',\n 'Ferrous Sulfate (Liquid)': 'ferrous',\n 'MetFORMIN XR (Glucophage XR)': 'metformin',\n 'Potassium Chl 20 mEq / 1000 mL D5LR': 'potassium chloride',\n 'Fat Emulsion 20%': 'fat emulsion',\n 'Famotidine (IV)': 'famotidine',\n 'Dextromethorphan-Guaifenesin (Sugar Free)': 'guaifenesin',\n 'Mucinex': 'albuterol',\n 'Venlafaxine': 'sertraline',\n 'AcetaZOLamide': 'bumetanide',\n 'Charcoal Aqueous (Activated)': 'ringers solution',\n 'Carbidopa-Levodopa (25-100)': 'haloperidol',\n 'Dexmedetomidine HCl': 'dexmedetomidine',\n 'Ziprasidone Hydrochloride': 'quetiapine',\n 'Propafenone HCl': 'amiodarone',\n 'NS        (Glass Bottle)': 'plasmalyte',\n 'GlipiZIDE XL': 'metformin',\n 'Methylnaltrexone': 'tramadol',\n 'Sildenafil': 'carvedilol',\n 'Loperamide': 'diphenhydramine',\n 'Divalproex Sodium': 'quetiapine',\n 'Nystatin Ointment': 'nystatin',\n 'Amantadine': 'haloperidol',\n 'Timolol Maleate 0.25%': 'atenolol',\n 'Lidocaine 1%/Epinephrine 1:100000': 'lidocaine',\n 'Ibutilide Fumarate': 'amiodarone',\n 'Tizanidine HCl': 'clonidine',\n 'HYDROmorphone-HP': 'hydromorphone',\n 'Strattera': 'prinivil',\n 'Namenda': 'prinivil',\n 'Rozerem': 'merrem',\n 'Buprenorphine-Naloxone (8mg-2mg)': 'naloxone',\n 'Aripiprazole': 'quetiapine',\n 'Docusate ': 'docusate',\n 'Thiamine Study Drug (*IND*)': 'thiamine',\n 'Oxymetazoline HCl': 'clonidine',\n 'Nicotine Lozenge': 'nicotine',\n 'Quetiapine extended-release': 'quetiapine',\n 'HydrOXYzine HCl': 'diphenhydramine',\n 'Fluocinonide 0.05% Cream': 'hydrocortisone',\n 'Bumetanide': 'bumetanide',\n 'Propranolol LA': 'atenolol',\n 'Albumin 5% (12.5 g)': 'albumin',\n 'LevoFLOXacin': 'levofloxacin',\n 'Heparin Flush CRRT (5000 Units/mL)': 'heparin',\n 'Paricalcitol': 'simvastatin',\n 'Oseltamivir Phosphate': 'sodium phosphate',\n 'Syringe (Intrathecal)': 'morphine',\n 'Methylene Blue': 'sodium chloride',\n 'Dorzolamide 2%/Timolol 0.5% Ophth.': 'atenolol',\n 'Nifedipine CR': 'diltiazem',\n 'Mesalamine DR': 'metronidazole',\n 'Felodipine': 'amlodipine',\n 'HEPARIN': 'heparin',\n 'Clotrimazole 1% Vaginal Crm': 'nystatin',\n 'Lovastatin': 'simvastatin',\n 'Pentoxifylline': 'methylprednisolone',\n 'Diovan': 'cozaar',\n 'Opium Deodorized Tinc.': 'nicotine',\n '*NF* DOMPERIDON': 'metoclopramide',\n 'Aspirin (Buffered)': 'aspirin',\n 'Carbidopa-Levodopa (10-100)': 'haloperidol',\n 'Mobic': 'neurontin',\n 'Potassium Chl 40 mEq / 1000 mL D5NS': 'potassium chloride',\n 'Nizatidine': 'omeprazole',\n 'Slow Fe': 'ferrous',\n 'Stanozolol (Bulk)': 'spironolactone',\n 'Paroxetine': 'citalopram',\n 'Moexipril HCl': 'amlodipine',\n 'Corn Starch (Bulk)': 'dextrose',\n 'Colchicine': 'allopurinol',\n 'Morphine Sulfate (Concentrated Oral Soln)': 'morphine',\n 'Lanthanum': 'calcium chloride',\n 'Potassium Bicarbonate Eff': 'sodium bicarbonate',\n 'Codeine Sulfate': 'hydrocodone',\n 'Alteplase': 'alteplase',\n 'Magnesium Sulfate (Latex Free)': 'magnesium sulf',\n 'Verapamil SR': 'diltiazem',\n 'CycloSPORINE (Neoral) MODIFIED': 'tacrolimus',\n 'Dapsone': 'allopurinol',\n 'econazole': 'nystatin',\n 'Atovaquone Suspension': 'azithromycin',\n 'Fentanyl': 'fentanyl',\n 'Droperidol': 'meperidine',\n 'sodium bicar': 'sodium chloride',\n 'Butalbital-Aspirin-Caffeine': 'aspirin',\n 'Clonidine Patch 0.3 mg/24 hr': 'clonidine',\n 'Acetylcysteine (IV)': 'acetamin',\n 'OLANZapine (Disintegrating Tablet)': 'quetiapine',\n 'Clopidogrel Desensitization': 'clopidogrel',\n 'Isoproterenol HCl': 'phenylephrine',\n 'Maalox/Lidocaine': 'lidocaine',\n 'Racepinephrine': 'epinephrine',\n 'Decitabine': 'prednisone',\n 'Aminocaproic Acid': 'aminocaproic acid',\n 'Nexium': 'zocor',\n 'Epinephrine 1:1000': 'epinephrine',\n 'Guaifenesin-Codeine Phosphate': 'guaifenesin',\n 'Sodium Chloride 0.9%': 'sodium chloride',\n 'Vitamin E': 'vitamin',\n 'Hydrocortisone Oint 0.5%': 'hydrocortisone',\n 'Albuterol ': 'albuterol',\n 'Bupivacaine 0.50%': 'prilocaine',\n 'Glycerin Supps': 'reglan',\n 'CeftazIDIME': 'meropenem',\n 'Levocarnitine': 'gabapentin',\n 'Triamcinolone Acetonide 0.1% Ointment': 'hydrocortisone',\n 'Ziprasidone HCl': 'quetiapine',\n 'Advair Diskus': 'advair diskus',\n 'Lidocaine-Prilocaine': 'lidocaine',\n 'Ziprasidone': 'quetiapine',\n 'NS Epidural Bag (0.9% NaCl)': 'sodium bicarbonate',\n 'Indomethacin': 'ibuprofen',\n 'N-Acetylcysteine Study Drug': 'promethazine',\n 'Lacosamide *NF*': 'levetiracetam',\n 'warfarin': 'warfarin',\n 'Pilocarpine 0.5%': 'atropine',\n 'Rofecoxib': 'ibuprofen',\n 'Heparin Flush Midline (100 units/ml)': 'heparin',\n 'Povidone Iodine 1/8 Strength': 'chlorhexidine',\n 'Hepatitis B Immu Glob (HepaGam B)': 'influenza vac',\n 'Nafcillin': 'nafcillin',\n 'Dextromethorphan Poly Complex': 'tramadol',\n 'Tenofovir Disoproxil (Viread)': 'prinivil',\n 'ValGANCIclovir ': 'tacrolimus',\n 'Emtricitabine Oral Solution': 'ringers solution',\n 'Sirolimus': 'tacrolimus',\n 'Rifampin': 'ciprofloxacin',\n 'Emtricitabine-Tenofovir (Truvada)': 'levemir',\n 'Raltegravir': 'pravastatin',\n 'Dornase alfa': 'tiotropium',\n 'Sumatriptan Succinate': 'loratadine',\n 'Albuterol Sulfate-Ipratropium': 'albuterol',\n 'Bisacodyl (Rectal)': 'bisacodyl',\n 'Syringe (Sterile Water)': 'ringers solution',\n 'NS Syringe (Intrapleural)': 'plasmalyte',\n 'Glyburide Prestab': 'metformin',\n '*NF* Butorphanol Tart. Nasal': 'meperidine',\n 'PHENObarbital': 'diazepam',\n 'Dexamethasone Sod Phosphate': 'dexamethasone',\n 'Solution': 'ringers solution',\n 'Mineral Oil': 'mineral',\n 'Candida Albicans': 'nystatin',\n 'Methotrexate Sodium': 'sodium chloride',\n 'Hydrocortisone Na Succinate': 'hydrocortisone',\n 'Etoposide': 'prednisone',\n 'Isoniazid': 'ciprofloxacin',\n 'Aluminum Hydroxide': 'alum hydroxide',\n 'Probenecid': 'bumetanide',\n 'Cyclobenzaprine': 'trazodone',\n 'Temazepam': 'alprazolam',\n 'Multivitamin-12': 'vitamin',\n 'AZILECT': 'prinivil',\n 'Cidofovir': 'tacrolimus',\n 'Zoledronic Acid': 'ascorbic acid',\n 'CARBOplatin': 'prednisone',\n 'PACLItaxel (TaxOL)': 'dexamethasone',\n 'rocuronium': 'rocuronium',\n 'Ethanol 70% Catheter DWELL': 'nicotine',\n 'Pemetrexed': 'ticagrelor',\n 'Amphotericin B': 'nystatin',\n 'Carbidopa-Levodopa CR (50-200)': 'haloperidol',\n 'Mirapex': 'seroquel',\n 'Methadone': 'morphine',\n 'ranolazine': 'carvedilol',\n 'guaiFENesin AC': 'guaifenesin',\n 'Ramipril': 'losartan',\n 'Cyclosporine Modified': 'tacrolimus',\n 'Caphosol': 'infuvite',\n 'Clotrimazole': 'nystatin',\n 'Pentamidine-Inhalation': 'diphenhydramine',\n 'multi': 'apresoline',\n 'Calcitonin Salmon': 'glucagon',\n 'Tocopheryl': 'polyethylene glycol',\n 'Omnipred': 'nexterone',\n 'Zymar': 'prinivil',\n 'Acular': 'methylprednisolone',\n 'Lacosamide': 'levetiracetam',\n 'NS (Syringe)': 'plasmalyte',\n 'Sodium Fluoride (Dental Gel)': 'sodium chloride',\n 'EPINEPHrine': 'epinephrine',\n 'Venlafax': 'citalopram',\n 'Albumin 5% ': 'albumin',\n 'Lubiprostone': 'tiotropium',\n 'Tetanus-DiphTox-Acellular Pertuss (Adacel)': 'pneumococcal',\n 'Potassium Acetate': 'potassium chloride',\n 'valpro': 'levetiracetam',\n 'valproic': 'levetiracetam',\n 'valp': 'levetiracetam',\n 'VALP': 'levetiracetam',\n 'bactrim': 'levaquin',\n 'Syringe (SW)': 'lidocaine',\n 'Hepatitis B Immun Globulin (HepaGam B)': 'albumin',\n 'CefTAZidime': 'meropenem',\n 'Glucophage XR': 'levemir',\n 'Foscarnet Sodium': 'sodium chloride',\n 'Hurricaine Spray': 'lidocaine',\n 'D25W': 'ascorbic acid',\n 'Glucose Tab': 'glucose',\n 'Phenazopyridine HCl': 'promethazine',\n 'Pangestyme-EC': 'kayciel',\n 'Digoxin Immune Fab': 'digoxin',\n 'Epinephrine HCl': 'epinephrine',\n 'Theophylline SR': 'diphenhydramine',\n 'Theophylline (Oral Solution)': 'ringers solution',\n 'Theophylline (Slo-bid) Capsule': 'diphenhydramine',\n 'Infliximab': 'tacrolimus',\n 'Amlodipine Besylate': 'amlodipine',\n 'Celebrex': 'zocor',\n 'Iron Polysaccharides Complex': 'ferrous',\n 'Didanosine EC': 'allopurinol',\n 'Nelfinavir Mesylate': 'metformin',\n 'Saliva Substitute': 'chlorhexidine',\n 'Viokase': 'maalox',\n 'Zonisamide': 'levetiracetam',\n 'Sod Citrate-Citric Acid': 'ascorbic acid',\n 'Femara': 'prinivil',\n 'RiTONAvir': 'pravastatin',\n 'Darunavir': 'pravastatin',\n 'Ketamine (For Intubation)': 'dexmedetomidine',\n 'Megestrol': 'spironolactone',\n 'Fleet Glycerin Suppository': 'simethicone',\n 'Argatroban': 'heparin',\n 'Desipramine HCl': 'citalopram',\n 'imdu': 'imdur',\n 'Selegiline HCl': 'haloperidol',\n 'Hydrocerin': 'lanoxin',\n 'Albuterol Sulfate': 'albuterol',\n 'Theophylline': 'diphenhydramine',\n 'Quinine Sulfate': 'neostigmine methylsulfate',\n 'Ganciclovir': 'tacrolimus',\n 'Etravirine': 'sertraline',\n 'Multiple Vitamins Liq.': 'vitamin',\n 'Analgesic Balm': 'tramadol',\n 'Pyridoxine': 'thiamine',\n 'DOCEtaxel (TaxoTERE)': 'prednisone',\n 'CISplatin': 'dexamethasone',\n 'Fluorouracil': 'prednisone',\n 'Fosaprepitant': 'ondansetron',\n 'Clobetasol Propionate 0.05% Ointment': 'hydrocortisone',\n 'LaMIVudine': 'tacrolimus',\n 'Erythromycin Lactobionate': 'clindamycin',\n 'Zegerid OTC': 'prinivil',\n 'Dakins 1/4 Strength': 'bacitracin',\n 'Letrozole': 'metformin',\n 'Chlordiazepoxide HCl': 'diazepam',\n 'Heparin (IABP)': 'heparin',\n 'Sucralfate Enema': 'omeprazole',\n 'Pindolol': 'atenolol',\n 'artifi': 'merrem',\n 'Nifedipine': 'diltiazem',\n 'Hepar': 'heparin',\n 'Methocarbamol': 'promethazine',\n '300 mcg Vial': 'fentanyl',\n 'Misoprostol': 'ketorolac',\n 'pilocarpine HCl': 'atropine',\n 'Memantine': 'gabapentin',\n 'Syringe (Chemo)': 'decadron',\n 'Tizanidine': 'clonidine',\n 'Divalproex (DELayed Release)': 'quetiapine',\n 'depak': 'clonazepam',\n 'dival': 'calcium chloride',\n 'Bupropion SR': 'sertraline',\n 'Tiagabine HCl': 'clonazepam',\n 'Carbatrol': 'lanoxin',\n 'Hydroxyurea': 'allopurinol',\n 'Qvar': 'pulmicort respule',\n 'Iodine Strong (Lugols)': 'potassium chloride',\n 'Cetuximab': 'ticagrelor',\n 'Ayr Saline Gel': 'ringers solution',\n 'Nicoderm CQ': 'nicoderm',\n 'Arimidex': 'prednisone',\n '*NF* Cefotetan': 'piperacillin',\n 'Methylprednisolone': 'methylprednisolone',\n 'Dantrolene Sodium': 'sodium chloride',\n 'Dopamine Hcl': 'dopamine',\n 'Sodium Acetate': 'sodium chloride',\n 'PrevACID 24Hr': 'zocor',\n 'Calcium ': 'calcium carbonate',\n 'Prilosec': 'zocor',\n 'Procainamide HCl': 'amiodarone',\n 'Procainamide SR': 'amiodarone',\n 'Atacand': 'cozaar',\n 'Imipramine HCl': 'citalopram',\n 'Fosamprenavir': 'pravastatin',\n 'Ritonavir': 'pravastatin',\n 'Chlorhexidine Gluconate': 'chlorhexidine',\n 'Raloxifene': 'simvastatin',\n 'Amoxicillin Oral Susp.': 'ciprofloxacin',\n 'NS Epidural Bag': 'plasmalyte',\n 'Phenytoin ': 'levetiracetam',\n 'Dexamethasone Oral Soln (0.1mg/1mL)': 'dexamethasone',\n 'Potassium Chl 40 mEq / 1000 mL D5W': 'potassium chloride',\n 'Irbesartan': 'losartan',\n 'Bupropion': 'sertraline',\n 'Stavudine': 'metformin',\n 'Meningococcal Vaccine': 'pneumococcal',\n 'Pseudoephedrine HCl': 'ephedrine',\n ...}"
     },
     "execution_count": 8,
     "metadata": {},
     "output_type": "execute_result"
    }
   ],
   "source": [
    "# Drug harmonization\n",
    "unique_drug_names = mimic_drug['DRUG'].unique()\n",
    "\n",
    "pretrained = fasttext.load_model(\"data/pretrained/BioWordVec_PubMed_MIMICIII_d200.bin\")\n",
    "\n",
    "harmonized_drug_dict = {drug: harmonize_drug(drug, unique_drugs, pretrained) for drug in unique_drug_names}\n",
    "harmonized_drug_dict"
   ]
  },
  {
   "cell_type": "code",
   "execution_count": 9,
   "id": "9e05e3a84c4b32d1",
   "metadata": {
    "collapsed": false,
    "ExecuteTime": {
     "end_time": "2024-04-23T21:24:54.126858Z",
     "start_time": "2024-04-23T21:24:53.080880Z"
    }
   },
   "outputs": [
    {
     "data": {
      "text/plain": "    ROW_ID  SUBJECT_ID  HADM_ID  ICUSTAY_ID            STARTTIME  \\\n3        4       30354   120396         NaN  2154-12-24 12:06:00   \n56      57       18082   181163    267692.0  2156-02-24 11:38:00   \n73      74       18082   181163    267692.0  2156-02-27 14:45:00   \n74      75       18082   181163    267692.0  2156-02-27 14:45:00   \n75      76       18082   181163    267692.0  2156-02-27 14:45:00   \n\n                ENDTIME  ITEMID   VALUE VALUEUOM LOCATION  ...  \\\n3   2154-12-26 17:00:00  225792  3174.0      min      NaN  ...   \n56  2156-02-27 14:00:00  225792  4462.0      min      NaN  ...   \n73  2156-02-29 06:58:00  225794  2413.0     hour      NaN  ...   \n74  2156-02-29 06:57:00  225794  2412.0     hour      NaN  ...   \n75  2156-02-29 07:00:00  225794  2415.0     hour      NaN  ...   \n\n   ORDERCATEGORYNAME SECONDARYORDERCATEGORYNAME  ORDERCATEGORYDESCRIPTION  \\\n3        Ventilation                        NaN                      Task   \n56       Ventilation                        NaN                      Task   \n73       Ventilation                        NaN                      Task   \n74       Ventilation                        NaN                      Task   \n75       Ventilation                        NaN                      Task   \n\n    ISOPENBAG  CONTINUEINNEXTDEPT CANCELREASON  STATUSDESCRIPTION  \\\n3           1                   0            0    FinishedRunning   \n56          1                   0            0            Stopped   \n73          1                   0            2          Rewritten   \n74          0                   0            0          Rewritten   \n75          1                   0            0    FinishedRunning   \n\n   COMMENTS_EDITEDBY  COMMENTS_CANCELEDBY        COMMENTS_DATE  \n3                NaN                  NaN                  NaN  \n56               NaN                  NaN                  NaN  \n73                RN                  NaN  2156-02-29 12:59:00  \n74               NaN                  NaN                  NaN  \n75               NaN                  NaN                  NaN  \n\n[5 rows x 25 columns]",
      "text/html": "<div>\n<style scoped>\n    .dataframe tbody tr th:only-of-type {\n        vertical-align: middle;\n    }\n\n    .dataframe tbody tr th {\n        vertical-align: top;\n    }\n\n    .dataframe thead th {\n        text-align: right;\n    }\n</style>\n<table border=\"1\" class=\"dataframe\">\n  <thead>\n    <tr style=\"text-align: right;\">\n      <th></th>\n      <th>ROW_ID</th>\n      <th>SUBJECT_ID</th>\n      <th>HADM_ID</th>\n      <th>ICUSTAY_ID</th>\n      <th>STARTTIME</th>\n      <th>ENDTIME</th>\n      <th>ITEMID</th>\n      <th>VALUE</th>\n      <th>VALUEUOM</th>\n      <th>LOCATION</th>\n      <th>...</th>\n      <th>ORDERCATEGORYNAME</th>\n      <th>SECONDARYORDERCATEGORYNAME</th>\n      <th>ORDERCATEGORYDESCRIPTION</th>\n      <th>ISOPENBAG</th>\n      <th>CONTINUEINNEXTDEPT</th>\n      <th>CANCELREASON</th>\n      <th>STATUSDESCRIPTION</th>\n      <th>COMMENTS_EDITEDBY</th>\n      <th>COMMENTS_CANCELEDBY</th>\n      <th>COMMENTS_DATE</th>\n    </tr>\n  </thead>\n  <tbody>\n    <tr>\n      <th>3</th>\n      <td>4</td>\n      <td>30354</td>\n      <td>120396</td>\n      <td>NaN</td>\n      <td>2154-12-24 12:06:00</td>\n      <td>2154-12-26 17:00:00</td>\n      <td>225792</td>\n      <td>3174.0</td>\n      <td>min</td>\n      <td>NaN</td>\n      <td>...</td>\n      <td>Ventilation</td>\n      <td>NaN</td>\n      <td>Task</td>\n      <td>1</td>\n      <td>0</td>\n      <td>0</td>\n      <td>FinishedRunning</td>\n      <td>NaN</td>\n      <td>NaN</td>\n      <td>NaN</td>\n    </tr>\n    <tr>\n      <th>56</th>\n      <td>57</td>\n      <td>18082</td>\n      <td>181163</td>\n      <td>267692.0</td>\n      <td>2156-02-24 11:38:00</td>\n      <td>2156-02-27 14:00:00</td>\n      <td>225792</td>\n      <td>4462.0</td>\n      <td>min</td>\n      <td>NaN</td>\n      <td>...</td>\n      <td>Ventilation</td>\n      <td>NaN</td>\n      <td>Task</td>\n      <td>1</td>\n      <td>0</td>\n      <td>0</td>\n      <td>Stopped</td>\n      <td>NaN</td>\n      <td>NaN</td>\n      <td>NaN</td>\n    </tr>\n    <tr>\n      <th>73</th>\n      <td>74</td>\n      <td>18082</td>\n      <td>181163</td>\n      <td>267692.0</td>\n      <td>2156-02-27 14:45:00</td>\n      <td>2156-02-29 06:58:00</td>\n      <td>225794</td>\n      <td>2413.0</td>\n      <td>hour</td>\n      <td>NaN</td>\n      <td>...</td>\n      <td>Ventilation</td>\n      <td>NaN</td>\n      <td>Task</td>\n      <td>1</td>\n      <td>0</td>\n      <td>2</td>\n      <td>Rewritten</td>\n      <td>RN</td>\n      <td>NaN</td>\n      <td>2156-02-29 12:59:00</td>\n    </tr>\n    <tr>\n      <th>74</th>\n      <td>75</td>\n      <td>18082</td>\n      <td>181163</td>\n      <td>267692.0</td>\n      <td>2156-02-27 14:45:00</td>\n      <td>2156-02-29 06:57:00</td>\n      <td>225794</td>\n      <td>2412.0</td>\n      <td>hour</td>\n      <td>NaN</td>\n      <td>...</td>\n      <td>Ventilation</td>\n      <td>NaN</td>\n      <td>Task</td>\n      <td>0</td>\n      <td>0</td>\n      <td>0</td>\n      <td>Rewritten</td>\n      <td>NaN</td>\n      <td>NaN</td>\n      <td>NaN</td>\n    </tr>\n    <tr>\n      <th>75</th>\n      <td>76</td>\n      <td>18082</td>\n      <td>181163</td>\n      <td>267692.0</td>\n      <td>2156-02-27 14:45:00</td>\n      <td>2156-02-29 07:00:00</td>\n      <td>225794</td>\n      <td>2415.0</td>\n      <td>hour</td>\n      <td>NaN</td>\n      <td>...</td>\n      <td>Ventilation</td>\n      <td>NaN</td>\n      <td>Task</td>\n      <td>1</td>\n      <td>0</td>\n      <td>0</td>\n      <td>FinishedRunning</td>\n      <td>NaN</td>\n      <td>NaN</td>\n      <td>NaN</td>\n    </tr>\n  </tbody>\n</table>\n<p>5 rows × 25 columns</p>\n</div>"
     },
     "execution_count": 9,
     "metadata": {},
     "output_type": "execute_result"
    }
   ],
   "source": [
    "# Ventilator\n",
    "mimic_procedure = pd.read_csv('data/mimic/PROCEDUREEVENTS_MV.csv')\n",
    "mimic_ventilator = mimic_procedure[mimic_procedure['ORDERCATEGORYNAME'].str.contains('Ventilation') | mimic_procedure['ORDERCATEGORYNAME'].str.contains('ventilation')]\n",
    "mimic_ventilator.head()"
   ]
  },
  {
   "cell_type": "code",
   "execution_count": 10,
   "id": "ec5357699be97fcb",
   "metadata": {
    "collapsed": false,
    "ExecuteTime": {
     "end_time": "2024-04-23T21:25:50.916341Z",
     "start_time": "2024-04-23T21:24:54.151286Z"
    }
   },
   "outputs": [
    {
     "name": "stderr",
     "output_type": "stream",
     "text": [
      "/var/folders/wd/d0j10lq906x4lfc0bphzybd80000gn/T/ipykernel_16658/3677205641.py:2: DtypeWarning: Columns (4,5) have mixed types. Specify dtype option on import or set low_memory=False.\n",
      "  mimic_note = pd.read_csv('data/mimic/NOTEEVENTS.csv')\n"
     ]
    },
    {
     "data": {
      "text/plain": "        ROW_ID  SUBJECT_ID   HADM_ID   CHARTDATE            CHARTTIME  \\\n308754  316295       29076  193948.0  2151-02-06  2151-02-06 17:59:00   \n309613  315973       16605  109285.0  2138-03-18  2138-03-18 15:13:00   \n310653  317277       29076  193948.0  2151-02-17  2151-02-15 14:42:00   \n312527  315650       29070  115071.0  2145-03-13  2145-03-13 09:20:00   \n317801  322681       31137  119561.0  2120-04-16  2120-04-16 13:45:00   \n\n                  STORETIME   CATEGORY              DESCRIPTION     CGID  \\\n308754  2151-02-06 17:59:53  Nutrition  Clinical Nutrition Note  20157.0   \n309613  2138-03-18 15:13:15  Nutrition  Clinical Nutrition Note  14511.0   \n310653  2151-02-17 14:42:02    Nursing    Nursing Transfer Note  14607.0   \n312527  2145-03-13 09:20:50  Nutrition  Clinical Nutrition Note  18357.0   \n317801  2120-04-16 13:45:46  Nutrition  Clinical Nutrition Note  18357.0   \n\n        ISERROR                                               TEXT  \n308754      NaN  Subjective\\n   Intubated.\\n   Objective\\n   He...  \n309613      NaN  Subjective\\n   Unable to speak w/ pt\\n   Objec...  \n310653      NaN  Mr [**Known lastname 778**] is a 79 yr. gentle...  \n312527      NaN  Subjective\\n   Patient intubated\\n   Objective...  \n317801      NaN  Subjective\\n   Patient intubated\\n   Objective...  ",
      "text/html": "<div>\n<style scoped>\n    .dataframe tbody tr th:only-of-type {\n        vertical-align: middle;\n    }\n\n    .dataframe tbody tr th {\n        vertical-align: top;\n    }\n\n    .dataframe thead th {\n        text-align: right;\n    }\n</style>\n<table border=\"1\" class=\"dataframe\">\n  <thead>\n    <tr style=\"text-align: right;\">\n      <th></th>\n      <th>ROW_ID</th>\n      <th>SUBJECT_ID</th>\n      <th>HADM_ID</th>\n      <th>CHARTDATE</th>\n      <th>CHARTTIME</th>\n      <th>STORETIME</th>\n      <th>CATEGORY</th>\n      <th>DESCRIPTION</th>\n      <th>CGID</th>\n      <th>ISERROR</th>\n      <th>TEXT</th>\n    </tr>\n  </thead>\n  <tbody>\n    <tr>\n      <th>308754</th>\n      <td>316295</td>\n      <td>29076</td>\n      <td>193948.0</td>\n      <td>2151-02-06</td>\n      <td>2151-02-06 17:59:00</td>\n      <td>2151-02-06 17:59:53</td>\n      <td>Nutrition</td>\n      <td>Clinical Nutrition Note</td>\n      <td>20157.0</td>\n      <td>NaN</td>\n      <td>Subjective\\n   Intubated.\\n   Objective\\n   He...</td>\n    </tr>\n    <tr>\n      <th>309613</th>\n      <td>315973</td>\n      <td>16605</td>\n      <td>109285.0</td>\n      <td>2138-03-18</td>\n      <td>2138-03-18 15:13:00</td>\n      <td>2138-03-18 15:13:15</td>\n      <td>Nutrition</td>\n      <td>Clinical Nutrition Note</td>\n      <td>14511.0</td>\n      <td>NaN</td>\n      <td>Subjective\\n   Unable to speak w/ pt\\n   Objec...</td>\n    </tr>\n    <tr>\n      <th>310653</th>\n      <td>317277</td>\n      <td>29076</td>\n      <td>193948.0</td>\n      <td>2151-02-17</td>\n      <td>2151-02-15 14:42:00</td>\n      <td>2151-02-17 14:42:02</td>\n      <td>Nursing</td>\n      <td>Nursing Transfer Note</td>\n      <td>14607.0</td>\n      <td>NaN</td>\n      <td>Mr [**Known lastname 778**] is a 79 yr. gentle...</td>\n    </tr>\n    <tr>\n      <th>312527</th>\n      <td>315650</td>\n      <td>29070</td>\n      <td>115071.0</td>\n      <td>2145-03-13</td>\n      <td>2145-03-13 09:20:00</td>\n      <td>2145-03-13 09:20:50</td>\n      <td>Nutrition</td>\n      <td>Clinical Nutrition Note</td>\n      <td>18357.0</td>\n      <td>NaN</td>\n      <td>Subjective\\n   Patient intubated\\n   Objective...</td>\n    </tr>\n    <tr>\n      <th>317801</th>\n      <td>322681</td>\n      <td>31137</td>\n      <td>119561.0</td>\n      <td>2120-04-16</td>\n      <td>2120-04-16 13:45:00</td>\n      <td>2120-04-16 13:45:46</td>\n      <td>Nutrition</td>\n      <td>Clinical Nutrition Note</td>\n      <td>18357.0</td>\n      <td>NaN</td>\n      <td>Subjective\\n   Patient intubated\\n   Objective...</td>\n    </tr>\n  </tbody>\n</table>\n</div>"
     },
     "execution_count": 10,
     "metadata": {},
     "output_type": "execute_result"
    }
   ],
   "source": [
    "# Sepsis\n",
    "mimic_note = pd.read_csv('data/mimic/NOTEEVENTS.csv')\n",
    "mimic_note = mimic_note[mimic_note['CHARTTIME'].notnull()]\n",
    "mimic_sepsis = mimic_note[(mimic_note['TEXT'].str.contains('Sepsis') | mimic_note['TEXT'].str.contains('sepsis')) & (mimic_note['TEXT'].str.contains('Diagnosis:') | mimic_note['TEXT'].str.contains('diagnosis:'))]\n",
    "mimic_sepsis = mimic_sepsis[mimic_sepsis['TEXT'].apply(has_sepsis_diagnosis)]\n",
    "mimic_sepsis.head()"
   ]
  },
  {
   "cell_type": "code",
   "execution_count": 11,
   "id": "9c25941f",
   "metadata": {
    "ExecuteTime": {
     "end_time": "2024-04-23T21:25:51.269904Z",
     "start_time": "2024-04-23T21:25:50.911482Z"
    }
   },
   "outputs": [
    {
     "data": {
      "text/plain": "14757"
     },
     "execution_count": 11,
     "metadata": {},
     "output_type": "execute_result"
    }
   ],
   "source": [
    "# Select patients whose have all records\n",
    "admission_patient = mimic_admissions['SUBJECT_ID'].unique()\n",
    "lab_patient = selected_mimic_lab['SUBJECT_ID'].unique()\n",
    "drug_patient = mimic_drug['SUBJECT_ID'].unique()\n",
    "procedure_patient = mimic_procedure['SUBJECT_ID'].unique()\n",
    "note_patient = mimic_note['SUBJECT_ID'].unique()\n",
    "record_patients = mimic_patients['SUBJECT_ID'].unique()\n",
    "selected_patients = list(set(admission_patient) & set(lab_patient) & set(drug_patient) & set(procedure_patient) & set(note_patient) & set(record_patients))\n",
    "len(selected_patients)"
   ]
  },
  {
   "cell_type": "code",
   "execution_count": 12,
   "id": "a8a07085e4e2b1a2",
   "metadata": {
    "collapsed": false,
    "ExecuteTime": {
     "end_time": "2024-04-23T21:25:54.513662Z",
     "start_time": "2024-04-23T21:25:51.027929Z"
    }
   },
   "outputs": [
    {
     "data": {
      "text/plain": "Empty DataFrame\nColumns: [Unnamed: 0, patientunitstayid, hospitalid, time_window, death, ventilator, sepsis, acetamin, biotene, compazine, ferrous, imdur, lidocaine, milk of magnesia, nystatin, prochlorperazine, tamsulosin, advair diskus, bisacodyl, coreg, flagyl, influenza vac, lipitor, mineral, omeprazole, promethazine, thiamine, albumin, bumetanide, cozaar, flomax, infuvite, lisinopril, mineral oil, ondansetron, propofol, ticagrelor, albuterol, bumex, decadron, flumazenil, insulin, lispro, mono-sod, optiray, pulmicort respule, tiotropium, allopurinol, buminate, definity, fluticasone-salmeterol, insulin detemir, loratadine, morphine, oxycodone, quetiapine, toradol, alprazolam, calcium carbonate, deltasone, folic acid, iohexol, lorazepam, motrin, pantoprazole, refresh p.m. op oint, tramadol, alteplase, calcium chloride, dexamethasone, furosemide, iopamidol, losartan, mupirocin, parenteral nutrition, reglan, trandate, alum hydroxide, calcium gluconate, dexmedetomidine, gabapentin, ipratropium, maalox, nafcillin, percocet, restoril, transde rm-scop, ambien, cardizem, dextrose, glargine, isosorbide, magnesium chloride, naloxone, phenergan, ringers solution, trazodone, aminocaproic acid, carvedilol, diazepam, ...]\nIndex: []\n\n[0 rows x 275 columns]",
      "text/html": "<div>\n<style scoped>\n    .dataframe tbody tr th:only-of-type {\n        vertical-align: middle;\n    }\n\n    .dataframe tbody tr th {\n        vertical-align: top;\n    }\n\n    .dataframe thead th {\n        text-align: right;\n    }\n</style>\n<table border=\"1\" class=\"dataframe\">\n  <thead>\n    <tr style=\"text-align: right;\">\n      <th></th>\n      <th>Unnamed: 0</th>\n      <th>patientunitstayid</th>\n      <th>hospitalid</th>\n      <th>time_window</th>\n      <th>death</th>\n      <th>ventilator</th>\n      <th>sepsis</th>\n      <th>acetamin</th>\n      <th>biotene</th>\n      <th>compazine</th>\n      <th>...</th>\n      <th>paco2</th>\n      <th>ph</th>\n      <th>albu_lab</th>\n      <th>bands</th>\n      <th>bun</th>\n      <th>hct</th>\n      <th>inr</th>\n      <th>lactate</th>\n      <th>platelets</th>\n      <th>wbc</th>\n    </tr>\n  </thead>\n  <tbody>\n  </tbody>\n</table>\n<p>0 rows × 275 columns</p>\n</div>"
     },
     "execution_count": 12,
     "metadata": {},
     "output_type": "execute_result"
    }
   ],
   "source": [
    "# MIMIC columns should align with eICU columns\n",
    "eicu_lab_data = pd.read_csv('eicu_lab_time.csv')\n",
    "eicu_columns = eicu_lab_data.columns\n",
    "mimic_data = pd.DataFrame(columns=eicu_columns)\n",
    "mimic_data.head()"
   ]
  },
  {
   "cell_type": "code",
   "execution_count": 13,
   "id": "1aff409634442bec",
   "metadata": {
    "collapsed": false,
    "ExecuteTime": {
     "end_time": "2024-04-23T21:26:15.231301Z",
     "start_time": "2024-04-23T21:25:54.591886Z"
    }
   },
   "outputs": [
    {
     "name": "stderr",
     "output_type": "stream",
     "text": [
      "0it [00:00, ?it/s]"
     ]
    },
    {
     "name": "stdout",
     "output_type": "stream",
     "text": [
      "o2sat -2.011229170350855\n",
      "ph -0.2626177828862214\n",
      "bun 0.33317499710149584\n",
      "hct 0.523772844325519\n",
      "inr -0.6109362737236036\n",
      "lactate -0.9753015942216253\n",
      "platelets 0.061154442944891425\n"
     ]
    },
    {
     "name": "stderr",
     "output_type": "stream",
     "text": [
      "/var/folders/wd/d0j10lq906x4lfc0bphzybd80000gn/T/ipykernel_16658/825704685.py:85: FutureWarning: The behavior of DataFrame concatenation with empty or all-NA entries is deprecated. In a future version, this will no longer exclude empty or all-NA columns when determining the result dtypes. To retain the old behavior, exclude the relevant entries before the concat operation.\n",
      "  mimic_data = pd.concat([mimic_data, mimic_row], ignore_index=True)\n"
     ]
    },
    {
     "name": "stdout",
     "output_type": "stream",
     "text": [
      "bun -0.20759364279485332\n",
      "hct 0.9968310757165556\n",
      "inr -0.6109362737236036\n",
      "platelets -0.12142734637716653\n",
      "bun -0.2616705067844882\n",
      "hct 0.23993790549089694\n",
      "inr -0.7896797123125125\n",
      "platelets -0.014921302605966058\n"
     ]
    },
    {
     "name": "stderr",
     "output_type": "stream",
     "text": [
      "1it [00:04,  4.32s/it]"
     ]
    },
    {
     "name": "stdout",
     "output_type": "stream",
     "text": [
      "bun -0.8024391466808374\n",
      "hct 1.1292873805060464\n",
      "platelets 0.2741665304872924\n",
      "bun -0.8024391466808374\n",
      "hct 0.2588602347465387\n",
      "inr -0.4321928351346943\n",
      "platelets -0.6387424161229974\n",
      "bun -0.7303366613613242\n",
      "bun -0.6402085547119327\n",
      "hct -0.6210280756407893\n",
      "inr -0.7896797123125125\n",
      "platelets -0.7604636090043694\n",
      "bun -0.6402085547119327\n",
      "bun -0.5861316907222978\n",
      "hct -1.1413921301709296\n",
      "inr -0.968423150901422\n",
      "platelets -0.7224257362289406\n",
      "hct 0.14532625921268963\n"
     ]
    },
    {
     "name": "stderr",
     "output_type": "stream",
     "text": [
      "2it [00:07,  3.48s/it]"
     ]
    },
    {
     "name": "stdout",
     "output_type": "stream",
     "text": [
      "bun -0.5320548267326628\n",
      "hct -0.4601882769678372\n",
      "inr -1.1471665894903311\n",
      "platelets -0.45616062680093944\n",
      "pao2 -1.0189698150960345\n",
      "paco2 -0.014362409349576376\n",
      "ph 0.741610131171472\n",
      "bun 0.4954055890704006\n",
      "hct 0.4859281858142368\n",
      "platelets -0.2811864120339672\n",
      "pao2 -1.2019775242341522\n",
      "paco2 -0.12233536315353602\n",
      "ph 0.741610131171472\n",
      "albu_lab 1.3499119113229818\n",
      "bun 0.4413287250807657\n",
      "hct 0.8832971001827066\n",
      "inr -0.07470595795687601\n",
      "platelets -0.4029076049153392\n",
      "bun 0.33317499710149584\n",
      "hct 0.5616175028368025\n",
      "inr -0.7896797123125125\n",
      "platelets -0.38008488125008194\n",
      "bun 0.38725186109113074\n",
      "hct 0.8265301124157827\n",
      "platelets -0.2811864120339672\n"
     ]
    },
    {
     "name": "stderr",
     "output_type": "stream",
     "text": [
      "3it [00:10,  3.23s/it]"
     ]
    },
    {
     "name": "stdout",
     "output_type": "stream",
     "text": [
      "bun 0.5494824530600355\n",
      "hct 0.637306819859368\n",
      "platelets -0.37247730669499624\n",
      "albu_lab 0.6892075807632114\n",
      "bun -1.1809771946082819\n",
      "hct -0.006052374832442253\n",
      "platelets 0.3312233396504355\n",
      "bun -1.072823466629012\n"
     ]
    },
    {
     "name": "stderr",
     "output_type": "stream",
     "text": [
      "4it [00:13,  3.20s/it]"
     ]
    },
    {
     "name": "stdout",
     "output_type": "stream",
     "text": [
      "bun -0.7483622826912025\n",
      "hct 0.8832971001827066\n",
      "platelets 2.4727555769070735\n",
      "bun -0.20759364279485332\n",
      "hct 0.7508407953932171\n",
      "platelets 2.4727555769070735\n",
      "pao2 -0.5614505422507404\n",
      "paco2 2.307056097435556\n",
      "ph -2.1873879514968024\n",
      "albu_lab 0.6892075807632114\n",
      "bun 0.06279067715332126\n",
      "hct 0.9211417586939901\n",
      "inr -0.6109362737236036\n",
      "lactate -1.152521720234457\n",
      "platelets 2.4727555769070735\n",
      "pao2 -0.7978354998874757\n",
      "paco2 2.1181034282786264\n",
      "ph 0.1767319295140153\n",
      "albu_lab -0.2357784820204674\n",
      "bun 0.1709444051325911\n",
      "hct 0.1831709177239731\n",
      "inr -0.6109362737236036\n",
      "platelets 2.4727555769070735\n"
     ]
    },
    {
     "name": "stderr",
     "output_type": "stream",
     "text": [
      "5it [00:17,  3.45s/it]"
     ]
    },
    {
     "name": "stdout",
     "output_type": "stream",
     "text": [
      "pao2 -0.9427166029551521\n",
      "paco2 2.253069620533576\n",
      "ph 0.616081641914252\n",
      "bun -0.0994399148155835\n",
      "hct 0.16424858846833135\n",
      "lactate -0.8335254934113596\n",
      "platelets 2.4727555769070735\n",
      "albu_lab -0.36791934813242155\n",
      "bun 0.7117130450289403\n",
      "hct -0.5547999232460445\n",
      "inr 0.6402677963987605\n",
      "platelets -0.22032581559328127\n",
      "bun 0.38725186109113074\n",
      "hct -0.6872562280355347\n",
      "inr 0.8190112349876699\n",
      "platelets -0.2811864120339672\n",
      "pao2 0.4145905731525539\n",
      "paco2 -0.4462542245654149\n",
      "ph 1.3692525774575277\n",
      "bun 0.522444021065218\n",
      "hct -0.5453387586182237\n",
      "inr 1.087126392871034\n",
      "lactate 0.6905675902989956\n",
      "platelets -0.21652202831573839\n"
     ]
    },
    {
     "name": "stderr",
     "output_type": "stream",
     "text": [
      "5it [00:20,  4.10s/it]"
     ]
    },
    {
     "name": "stdout",
     "output_type": "stream",
     "text": [
      "pao2 0.4806766903413186\n",
      "paco2 -0.5182361937680547\n",
      "ph 1.9132093642387735\n",
      "albu_lab -0.8964828125802378\n",
      "bun 0.4413287250807657\n",
      "hct -0.7818678743137419\n",
      "inr 0.6402677963987605\n",
      "lactate -0.4790852413856956\n",
      "platelets -0.16707279370768102\n"
     ]
    },
    {
     "name": "stderr",
     "output_type": "stream",
     "text": [
      "\n"
     ]
    }
   ],
   "source": [
    "observation_time = (72 + 12) * 60 # 72 hours (observation) + 12 hours (pre-observation)\n",
    "bin_time = 12 * 60\n",
    "bin = observation_time // bin_time\n",
    "\n",
    "for index, patient in tqdm(enumerate(selected_patients)):\n",
    "    \n",
    "    for cur_bin in range(bin):\n",
    "        \n",
    "        mimic_row = pd.DataFrame(0.0, index=[0], columns=eicu_columns)\n",
    "        \n",
    "        # Patient id\n",
    "        mimic_row['patientunitstayid'] = patient\n",
    "        \n",
    "        # Hospital id\n",
    "        mimic_row['hospitalid'] = -1.0 # MIMIC hospitals were set to -1.0\n",
    "        \n",
    "        # Time window: Start from -1 to 5\n",
    "        observation_bin = cur_bin - 1\n",
    "        mimic_row['time_window'] = observation_bin\n",
    "        \n",
    "        # Admission: If there are multiple admissions, choose the one with the most recent admission\n",
    "        admission_data = mimic_admissions[mimic_admissions['SUBJECT_ID'] == patient]\n",
    "        admission_data = admission_data.sort_values(by='ADMITTIME', ascending=False).head(1)\n",
    "        hadm_id = admission_data['HADM_ID'].values[0]\n",
    "        admit_time = admission_data['ADMITTIME'].values[0]\n",
    "        \n",
    "        # Observing start: admit_time + cur_bin * bin_time\n",
    "        start_time = add_time_interval(admit_time, cur_bin * bin_time)\n",
    "        end_time = add_time_interval(admit_time, (cur_bin + 1) * bin_time)\n",
    "        \n",
    "        # Age\n",
    "        patient_data = mimic_patients[mimic_patients['SUBJECT_ID'] == patient]\n",
    "        dob = patient_data['DOB'].values[0]\n",
    "        age = calculate_diff_years(admit_time, dob) # Admission time - date of birth\n",
    "        age_group = get_age_group(age)\n",
    "        mimic_row[age_group] = 1.0\n",
    "        \n",
    "        # Sex\n",
    "        sex_value = patient_data['GENDER'].values[0]\n",
    "        sex = \"sex_is_female\" if sex_value == 'F' else \"sex_is_male\"\n",
    "        mimic_row[sex] = 1.0\n",
    "        \n",
    "        # Race\n",
    "        race_value = admission_data['ETHNICITY'].values[0]\n",
    "        race = get_race(race_value)\n",
    "        mimic_row[race] = 1.0\n",
    "        \n",
    "        # BMI: BMI needs CHARTEVENTS table that we don't have it. So we will use normal BMI\n",
    "        mimic_row[\"bmi_normal\"] = 1.0\n",
    "        \n",
    "        # Death\n",
    "        selected_death = admission_data[(admission_data['HOSPITAL_EXPIRE_FLAG'] == 1.0) & (admission_data['DEATHTIME'] >= start_time) & (admission_data['DEATHTIME'] < end_time)]\n",
    "        patient_death = 1.0 if selected_death.shape[0] > 0 else 0.0\n",
    "        mimic_row['death'] = patient_death\n",
    "        \n",
    "        # Ventilator\n",
    "        selected_ventilator = mimic_ventilator[(mimic_ventilator['SUBJECT_ID'] == patient) & (mimic_ventilator['HADM_ID'] == hadm_id) & (mimic_ventilator['STARTTIME'] >= start_time) & (mimic_ventilator['STARTTIME'] < end_time)]\n",
    "        patient_ventilator = 1.0 if selected_ventilator.shape[0] > 0 else 0.0\n",
    "        mimic_row['ventilator'] = patient_ventilator\n",
    "        \n",
    "        # Sepsis\n",
    "        selected_sepsis = mimic_sepsis[(mimic_sepsis['SUBJECT_ID'] == patient) & (mimic_sepsis['HADM_ID'] == hadm_id)  & (mimic_sepsis['CHARTTIME'] >= start_time) & (mimic_sepsis['CHARTTIME'] < end_time)]\n",
    "        patient_sepsis = 1.0 if selected_sepsis.shape[0] > 0 else 0.0\n",
    "        mimic_row['sepsis'] = patient_sepsis\n",
    "    \n",
    "        # Drug\n",
    "        # Because MIMIC-III doesn't provide the exact start time of medications, and only provides approximate dates. We will check whether the medication was prescribed during the observation window (prescribed start time <= observation window end time and prescribed end time >= observation window start time).\n",
    "        drugs = mimic_drug[(mimic_drug['SUBJECT_ID'] == patient) & (mimic_drug['HADM_ID'] == hadm_id) & (mimic_drug['STARTDATE'] <= end_time) & (mimic_drug['ENDDATE'] >= add_time_interval(start_time, -24*60))]['DRUG'].to_list()\n",
    "        for drug in drugs:\n",
    "            converted_drug = harmonized_drug_dict.get(drug)\n",
    "            if converted_drug is not None:\n",
    "                mimic_row[converted_drug] = 1.0\n",
    "    \n",
    "        # Lab\n",
    "        mimic_lab_patient = selected_mimic_lab[(selected_mimic_lab['SUBJECT_ID'] == patient) & (selected_mimic_lab['HADM_ID'] == hadm_id) & (selected_mimic_lab['CHARTTIME'] >= start_time) & (selected_mimic_lab['CHARTTIME'] < end_time)]\n",
    "    \n",
    "        for lab_name, mimic_lab_item in lab_name_mapping.items():\n",
    "            lab_value = mimic_lab_patient[mimic_lab_patient['ITEMID'] == mimic_lab_item]['VALUENUM'].values\n",
    "            \n",
    "            # average lab values\n",
    "            if lab_value.shape[0] > 0:\n",
    "                print(lab_name, lab_value.mean())\n",
    "                mimic_row[lab_name] = lab_value.mean()\n",
    "    \n",
    "        mimic_data = pd.concat([mimic_data, mimic_row], ignore_index=True)\n",
    "\n",
    "mimic_data.to_csv('mimic_lab_time.csv', index=False)"
   ]
  }
 ],
 "metadata": {
  "kernelspec": {
   "display_name": "Python 3 (ipykernel)",
   "language": "python",
   "name": "python3"
  },
  "language_info": {
   "codemirror_mode": {
    "name": "ipython",
    "version": 3
   },
   "file_extension": ".py",
   "mimetype": "text/x-python",
   "name": "python",
   "nbconvert_exporter": "python",
   "pygments_lexer": "ipython3",
   "version": "3.9.13"
  }
 },
 "nbformat": 4,
 "nbformat_minor": 5
}
